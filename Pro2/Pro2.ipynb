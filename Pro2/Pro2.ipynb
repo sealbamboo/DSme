{
 "cells": [
  {
   "cell_type": "markdown",
   "metadata": {},
   "source": [
    "<img src=\"http://imgur.com/1ZcRyrc.png\" style=\"float: left; margin: 15px; height: 80px\">\n",
    "\n",
    "# Project 2 (Saad Abbas)\n",
    "\n",
    "### Exploratory Data Analysis (EDA)\n",
    "\n",
    "---\n",
    "\n",
    "Your hometown mayor just created a new data analysis team to give policy advice, and the administration recruited _you_ via LinkedIn to join it. Unfortunately, due to budget constraints, for now the \"team\" is just you...\n",
    "\n",
    "The mayor wants to start a new initiative to move the needle on one of two separate issues: high school education outcomes, or drug abuse in the community.\n",
    "\n",
    "Also unfortunately, that is the entirety of what you've been told. And the mayor just went on a lobbyist-funded fact-finding trip in the Bahamas. In the meantime, you got your hands on two national datasets: one on SAT scores by state, and one on drug use by age. Start exploring these to look for useful patterns and possible hypotheses!\n",
    "\n",
    "---\n",
    "\n",
    "This project is focused on exploratory data analysis, aka \"EDA\". EDA is an essential part of the data science analysis pipeline. Failure to perform EDA before modeling is almost guaranteed to lead to bad models and faulty conclusions. What you do in this project are good practices for all projects going forward, especially those after this bootcamp!\n",
    "\n",
    "This lab includes a variety of plotting problems. Much of the plotting code will be left up to you to find either in the lecture notes, or if not there, online. There are massive amounts of code snippets either in documentation or sites like [Stack Overflow](https://stackoverflow.com/search?q=%5Bpython%5D+seaborn) that have almost certainly done what you are trying to do.\n",
    "\n",
    "**Get used to googling for code!** You will use it every single day as a data scientist, especially for visualization and plotting.\n",
    "\n",
    "#### Package imports"
   ]
  },
  {
   "cell_type": "code",
   "execution_count": 1,
   "metadata": {},
   "outputs": [],
   "source": [
    "import numpy as np\n",
    "import scipy.stats as stats\n",
    "import csv\n",
    "import pandas as pd\n",
    "import matplotlib.pyplot as plt\n",
    "import seaborn as sns\n",
    "from pprint import pprint\n",
    "\n",
    "sns.set_style('darkgrid')\n",
    "\n",
    "# this line tells jupyter notebook to put the plots in the notebook rather than saving them to file.\n",
    "%matplotlib inline"
   ]
  },
  {
   "cell_type": "markdown",
   "metadata": {},
   "source": [
    "<img src=\"http://imgur.com/l5NasQj.png\" style=\"float: left; margin: 25px 15px 0px 0px; height: 25px\">\n",
    "\n",
    "## 1. Load the `sat_scores.csv` dataset and describe it\n",
    "\n",
    "---\n",
    "\n",
    "You should replace the placeholder path to the `sat_scores.csv` dataset below with your specific path to the file.\n",
    "\n",
    "### 1.1 Load the file with the `csv` module and put it in a Python dictionary\n",
    "\n",
    "The dictionary format for data will be the column names as key, and the data under each column as the values.\n",
    "\n",
    "Toy example:\n",
    "```python\n",
    "data = {\n",
    "    'column1':[0,1,2,3],\n",
    "    'column2':['a','b','c','d']\n",
    "    }\n",
    "```"
   ]
  },
  {
   "cell_type": "markdown",
   "metadata": {},
   "source": [
    "### *Answer*:\n",
    "*The csv will be read in a dictionary using two steps:*\n",
    ">1. *Create an empty dictionary using csv header by reading the csv as a list of lists and using the first list item values as the keys and empty dictionary for each key.*\n",
    ">2. *Read the csv as a dictionary using csv.DictReader() and iterate over the output, appending each value to the corresponding key in our created doctionary.*"
   ]
  },
  {
   "cell_type": "code",
   "execution_count": 2,
   "metadata": {},
   "outputs": [],
   "source": [
    "# Creating the empty dictionary using CSV header values as keys:\n",
    "with open('./datasets/sat_scores.csv') as f:\n",
    "    sat_dict = {x:[] for x in list(csv.reader(f))[0]}\n",
    "    \n",
    "# Append the corresponding values to the matching keys in dictionary    \n",
    "with open('./datasets/sat_scores.csv') as f:\n",
    "    for d in map(dict, csv.DictReader(f)):        \n",
    "        for key, value in d.items():\n",
    "            sat_dict[key].append(value)"
   ]
  },
  {
   "cell_type": "code",
   "execution_count": 3,
   "metadata": {},
   "outputs": [
    {
     "data": {
      "text/plain": [
       "['510', '513', '515', '505', '516', '499', '499', '506', '500', '501']"
      ]
     },
     "execution_count": 3,
     "metadata": {},
     "output_type": "execute_result"
    }
   ],
   "source": [
    "# Check Outputs\n",
    "sat_dict['Math'][:10]"
   ]
  },
  {
   "cell_type": "markdown",
   "metadata": {},
   "source": [
    "### 1.2 Make a pandas DataFrame object with the SAT dictionary, and another with the pandas `.read_csv()` function\n",
    "\n",
    "Compare the DataFrames using the `.dtypes` attribute in the DataFrame objects. What is the difference between loading from file and inputting this dictionary (if any)?"
   ]
  },
  {
   "cell_type": "code",
   "execution_count": 4,
   "metadata": {},
   "outputs": [],
   "source": [
    "# Dataframe using dictionary\n",
    "sat_df= pd.DataFrame(sat_dict)"
   ]
  },
  {
   "cell_type": "code",
   "execution_count": 5,
   "metadata": {},
   "outputs": [
    {
     "name": "stdout",
     "output_type": "stream",
     "text": [
      "<class 'pandas.core.frame.DataFrame'>\n",
      "RangeIndex: 52 entries, 0 to 51\n",
      "Data columns (total 4 columns):\n",
      "State     52 non-null object\n",
      "Rate      52 non-null object\n",
      "Verbal    52 non-null object\n",
      "Math      52 non-null object\n",
      "dtypes: object(4)\n",
      "memory usage: 1.7+ KB\n"
     ]
    }
   ],
   "source": [
    "sat_df.info()"
   ]
  },
  {
   "cell_type": "code",
   "execution_count": 6,
   "metadata": {},
   "outputs": [],
   "source": [
    "# Dataframe using Pandas\n",
    "sat_df = pd.read_csv('./datasets/sat_scores.csv')"
   ]
  },
  {
   "cell_type": "code",
   "execution_count": 7,
   "metadata": {},
   "outputs": [
    {
     "name": "stdout",
     "output_type": "stream",
     "text": [
      "<class 'pandas.core.frame.DataFrame'>\n",
      "RangeIndex: 52 entries, 0 to 51\n",
      "Data columns (total 4 columns):\n",
      "State     52 non-null object\n",
      "Rate      52 non-null int64\n",
      "Verbal    52 non-null int64\n",
      "Math      52 non-null int64\n",
      "dtypes: int64(3), object(1)\n",
      "memory usage: 1.7+ KB\n"
     ]
    }
   ],
   "source": [
    "sat_df.info()"
   ]
  },
  {
   "cell_type": "markdown",
   "metadata": {},
   "source": [
    "If you did not convert the string column values to float in your dictionary, the columns in the DataFrame are of type `object` (which are string values, essentially). "
   ]
  },
  {
   "cell_type": "markdown",
   "metadata": {},
   "source": [
    "### *Answer*:\n",
    "*Using Dictionary, we have to manually check and convert all numeric values to the appropriate numeric data types.\n",
    "However, Pandas automatically converts the columns to the appropriate data types when loading into the dataframe.*"
   ]
  },
  {
   "cell_type": "markdown",
   "metadata": {},
   "source": [
    "### 1.3 Look at the first ten rows of the DataFrame: what does our data describe?\n",
    "\n",
    "From now on, use the DataFrame loaded from the file using the `.read_csv()` function.\n",
    "\n",
    "Use the `.head(num)` built-in DataFrame function, where `num` is the number of rows to print out.\n",
    "\n",
    "You are not given a \"codebook\" with this data, so you will have to make some (very minor) inference."
   ]
  },
  {
   "cell_type": "code",
   "execution_count": 8,
   "metadata": {},
   "outputs": [
    {
     "data": {
      "text/html": [
       "<div>\n",
       "<style scoped>\n",
       "    .dataframe tbody tr th:only-of-type {\n",
       "        vertical-align: middle;\n",
       "    }\n",
       "\n",
       "    .dataframe tbody tr th {\n",
       "        vertical-align: top;\n",
       "    }\n",
       "\n",
       "    .dataframe thead th {\n",
       "        text-align: right;\n",
       "    }\n",
       "</style>\n",
       "<table border=\"1\" class=\"dataframe\">\n",
       "  <thead>\n",
       "    <tr style=\"text-align: right;\">\n",
       "      <th></th>\n",
       "      <th>State</th>\n",
       "      <th>Rate</th>\n",
       "      <th>Verbal</th>\n",
       "      <th>Math</th>\n",
       "    </tr>\n",
       "  </thead>\n",
       "  <tbody>\n",
       "    <tr>\n",
       "      <th>0</th>\n",
       "      <td>CT</td>\n",
       "      <td>82</td>\n",
       "      <td>509</td>\n",
       "      <td>510</td>\n",
       "    </tr>\n",
       "    <tr>\n",
       "      <th>1</th>\n",
       "      <td>NJ</td>\n",
       "      <td>81</td>\n",
       "      <td>499</td>\n",
       "      <td>513</td>\n",
       "    </tr>\n",
       "    <tr>\n",
       "      <th>2</th>\n",
       "      <td>MA</td>\n",
       "      <td>79</td>\n",
       "      <td>511</td>\n",
       "      <td>515</td>\n",
       "    </tr>\n",
       "    <tr>\n",
       "      <th>3</th>\n",
       "      <td>NY</td>\n",
       "      <td>77</td>\n",
       "      <td>495</td>\n",
       "      <td>505</td>\n",
       "    </tr>\n",
       "    <tr>\n",
       "      <th>4</th>\n",
       "      <td>NH</td>\n",
       "      <td>72</td>\n",
       "      <td>520</td>\n",
       "      <td>516</td>\n",
       "    </tr>\n",
       "  </tbody>\n",
       "</table>\n",
       "</div>"
      ],
      "text/plain": [
       "  State  Rate  Verbal  Math\n",
       "0    CT    82     509   510\n",
       "1    NJ    81     499   513\n",
       "2    MA    79     511   515\n",
       "3    NY    77     495   505\n",
       "4    NH    72     520   516"
      ]
     },
     "execution_count": 8,
     "metadata": {},
     "output_type": "execute_result"
    }
   ],
   "source": [
    "sat_df.head()"
   ]
  },
  {
   "cell_type": "markdown",
   "metadata": {},
   "source": [
    "<img src=\"http://imgur.com/l5NasQj.png\" style=\"float: left; margin: 25px 15px 0px 0px; height: 25px\">\n",
    "\n",
    "## 2. Create a \"data dictionary\" based on the data\n",
    "\n",
    "---\n",
    "\n",
    "A data dictionary is an object that describes your data. This should contain the name of each variable (column), the type of the variable, your description of what the variable is, and the shape (rows and columns) of the entire dataset."
   ]
  },
  {
   "cell_type": "code",
   "execution_count": 9,
   "metadata": {},
   "outputs": [],
   "source": [
    "# Creating the Data Dictionary\n",
    "sat_datadict = {\n",
    "    'Size': '4 columns, 52 rows',\n",
    "    'Data Description': 'This data contains the average Scholastic Assessment Test (SAT) scores for each of the 50 states in the US for each of the Math, Rate and Verbal tests.',\n",
    "    'Columns': {\n",
    "        'State': {\n",
    "            'Description': 'This column consists of the US States',\n",
    "            'Missing Values': 0,\n",
    "            'Variable Type': 'String'\n",
    "        },\n",
    "        'Rate': {\n",
    "            'Description': 'This column depicts the average score for SAT Writing score for each state',\n",
    "            'Missing Values': 0,\n",
    "            'Variable Type': 'Integer'\n",
    "        },\n",
    "        'Verbal': {\n",
    "            'Description': 'This column depicts the average score for SAT Reading score for each state',\n",
    "            'Missing Values': 0,\n",
    "            'Variable Type': 'String'\n",
    "        },\n",
    "        'Math': {\n",
    "            'Description': 'This column depicts the average score for SAT Math score for each state',\n",
    "            'Missing Values': 0,\n",
    "            'Variable Type': 'String'\n",
    "        }\n",
    "    }\n",
    "}"
   ]
  },
  {
   "cell_type": "code",
   "execution_count": 10,
   "metadata": {},
   "outputs": [
    {
     "name": "stdout",
     "output_type": "stream",
     "text": [
      "{'Columns': {'Math': {'Description': 'This column depicts the average score '\n",
      "                                     'for SAT Math score for each state',\n",
      "                      'Missing Values': 0,\n",
      "                      'Variable Type': 'String'},\n",
      "             'Rate': {'Description': 'This column depicts the average score '\n",
      "                                     'for SAT Writing score for each state',\n",
      "                      'Missing Values': 0,\n",
      "                      'Variable Type': 'Integer'},\n",
      "             'State': {'Description': 'This column consists of the US States',\n",
      "                       'Missing Values': 0,\n",
      "                       'Variable Type': 'String'},\n",
      "             'Verbal': {'Description': 'This column depicts the average score '\n",
      "                                       'for SAT Reading score for each state',\n",
      "                        'Missing Values': 0,\n",
      "                        'Variable Type': 'String'}},\n",
      " 'Data Description': 'This data contains the average Scholastic Assessment '\n",
      "                     'Test (SAT) scores for each of the 50 states in the US '\n",
      "                     'for each of the Math, Rate and Verbal tests.',\n",
      " 'Size': '4 columns, 52 rows'}\n"
     ]
    }
   ],
   "source": [
    "pprint(sat_datadict)"
   ]
  },
  {
   "cell_type": "markdown",
   "metadata": {},
   "source": [
    "<img src=\"http://imgur.com/l5NasQj.png\" style=\"float: left; margin: 25px 15px 0px 0px; height: 25px\">\n",
    "\n",
    "## 3. Plot the data using seaborn\n",
    "\n",
    "---\n",
    "\n",
    "### 3.1 Using seaborn's `distplot`, plot the distributions for each of `Rate`, `Math`, and `Verbal`\n",
    "\n",
    "Set the keyword argument `kde=False`. This way you can actually see the counts within bins. You can adjust the number of bins to your liking. \n",
    "\n",
    "[Please read over the `distplot` documentation to learn about the arguments and fine-tune your chart if you want.](https://stanford.edu/~mwaskom/software/seaborn/generated/seaborn.distplot.html#seaborn.distplot)"
   ]
  },
  {
   "cell_type": "code",
   "execution_count": 11,
   "metadata": {},
   "outputs": [
    {
     "data": {
      "image/png": "[encoded data removed]",
      "text/plain": [
       "<Figure size 1080x288 with 3 Axes>"
      ]
     },
     "metadata": {
      "needs_background": "light"
     },
     "output_type": "display_data"
    }
   ],
   "source": [
    "# Create figure and axes for the graphs\n",
    "fig, axes = plt.subplots(1,3, figsize=(15,4))\n",
    "\n",
    "# Plot the graphs on separate axes\n",
    "sns.distplot(np.array(sat_df['Rate']), kde=False, ax=axes[0], bins=15);\n",
    "sns.distplot(np.array(sat_df['Math']), kde=False, ax=axes[1], bins=15);\n",
    "sns.distplot(np.array(sat_df['Verbal']), kde=False, ax=axes[2], bins=15);\n",
    "\n",
    "# Create titles for overall plot and each subplot\n",
    "fig.suptitle('DISTRIBUTIONS OF SCORES ACROSS ALL STATES', fontsize=16)\n",
    "axes[0].set_title('Distriution of Rate Scores', y=-0.16, fontsize=13, style='italic')\n",
    "axes[1].set_title('Distriution of Math Scores', y=-0.16, fontsize=13, style='italic')\n",
    "axes[2].set_title('Distriution of Verbal Scores', y=-0.16, fontsize=13, style='italic');"
   ]
  },
  {
   "cell_type": "markdown",
   "metadata": {},
   "source": [
    "### *Chart Analysis:*\n",
    "*From the above charts, we can see that Rate, Math and Verbal have a bimodal distribution.*"
   ]
  },
  {
   "cell_type": "markdown",
   "metadata": {},
   "source": [
    "### 3.2 Using seaborn's `pairplot`, show the joint distributions for each of `Rate`, `Math`, and `Verbal`\n",
    "\n",
    "Explain what the visualization tells you about your data.\n",
    "\n",
    "[Please read over the `pairplot` documentation to fine-tune your chart.](https://stanford.edu/~mwaskom/software/seaborn/generated/seaborn.pairplot.html#seaborn.pairplot)"
   ]
  },
  {
   "cell_type": "code",
   "execution_count": 12,
   "metadata": {},
   "outputs": [
    {
     "data": {
      "image/png": "[encoded data removed]",
      "text/plain": [
       "<Figure size 540x540 with 12 Axes>"
      ]
     },
     "metadata": {
      "needs_background": "light"
     },
     "output_type": "display_data"
    }
   ],
   "source": [
    "# Create pairplot for all columns\n",
    "sns.pairplot(sat_df);"
   ]
  },
  {
   "cell_type": "markdown",
   "metadata": {},
   "source": [
    "### *Chart Analysis:*\n",
    "*The pair plots show the following behaviours:*\n",
    "1. *Verbal and Rate seem to have a negative correlation.*\n",
    "2. *Math and Rate also seem to have a negative correlation.*\n",
    "3. *Math and Verbal seem have a very strong positive correlation.*\n",
    "\n",
    "*We can investigate this further by calculating the correlations between the different columns.*"
   ]
  },
  {
   "cell_type": "code",
   "execution_count": 13,
   "metadata": {},
   "outputs": [
    {
     "data": {
      "image/png": "[encoded data removed]",
      "text/plain": [
       "<Figure size 432x288 with 2 Axes>"
      ]
     },
     "metadata": {
      "needs_background": "light"
     },
     "output_type": "display_data"
    }
   ],
   "source": [
    "sns.heatmap(sat_df.corr(), annot=True);"
   ]
  },
  {
   "cell_type": "markdown",
   "metadata": {},
   "source": [
    "### *Chart Analysis:*\n",
    "*The above heatmap shows us that Math and Verbal have a high negative correlation with Rate, and that Verbal is very highly correlated with Math.*"
   ]
  },
  {
   "cell_type": "markdown",
   "metadata": {},
   "source": [
    "<img src=\"http://imgur.com/l5NasQj.png\" style=\"float: left; margin: 25px 15px 0px 0px; height: 25px\">\n",
    "\n",
    "## 4. Plot the data using built-in pandas functions.\n",
    "\n",
    "---\n",
    "\n",
    "Pandas is very powerful and contains a variety of nice, built-in plotting functions for your data. Read the documentation here to understand the capabilities:\n",
    "\n",
    "http://pandas.pydata.org/pandas-docs/stable/visualization.html\n",
    "\n",
    "### 4.1 Plot a stacked histogram with `Verbal` and `Math` using pandas"
   ]
  },
  {
   "cell_type": "code",
   "execution_count": 14,
   "metadata": {},
   "outputs": [
    {
     "data": {
      "image/png": "[encoded data removed]",
      "text/plain": [
       "<Figure size 720x360 with 1 Axes>"
      ]
     },
     "metadata": {
      "needs_background": "light"
     },
     "output_type": "display_data"
    }
   ],
   "source": [
    "# Create stackked histogram for Verbal and Math scores\n",
    "sat_df[['Verbal','Math']].plot.hist(bins=20, stacked=True, figsize=(10,5));"
   ]
  },
  {
   "cell_type": "markdown",
   "metadata": {},
   "source": [
    "### 4.2 Plot `Verbal` and `Math` on the same chart using boxplots\n",
    "\n",
    "What are the benefits of using a boxplot as compared to a scatterplot or a histogram?\n",
    "\n",
    "What's wrong with plotting a box-plot of `Rate` on the same chart as `Math` and `Verbal`?"
   ]
  },
  {
   "cell_type": "markdown",
   "metadata": {},
   "source": [
    "### *Answer:*\n",
    "*A boxplot will provide us with a quick overview of the total range, the median, IQR and any outliers in the data. Even though histograms and scatterplots show the range, they do not provide us with the statistical values.*"
   ]
  },
  {
   "cell_type": "code",
   "execution_count": 15,
   "metadata": {},
   "outputs": [
    {
     "data": {
      "image/png": "[encoded data removed]",
      "text/plain": [
       "<Figure size 720x360 with 1 Axes>"
      ]
     },
     "metadata": {
      "needs_background": "light"
     },
     "output_type": "display_data"
    }
   ],
   "source": [
    "# Create boxplot for SAT scores\n",
    "fig, ax = plt.subplots(1,1, figsize=(10,5))\n",
    "sns.boxplot(data=sat_df, orient='h', ax=ax, notch=True);"
   ]
  },
  {
   "cell_type": "markdown",
   "metadata": {},
   "source": [
    "### *Answer:*\n",
    "*Since the scale of Rate is very different than those of Verbal and Math, the boxplot has squeezed the different boxes of each column to the extreme ends of the plot. This makes it difficult to judge the relative spread of each column properly as the differences in median, 25th quartile and 75th quartile are not as clear.*"
   ]
  },
  {
   "cell_type": "markdown",
   "metadata": {},
   "source": [
    "<img src=\"http://imgur.com/xDpSobf.png\" style=\"float: left; margin: 25px 15px 0px 0px; height: 25px\">\n",
    "\n",
    "### 4.3 Plot `Verbal`, `Math`, and `Rate` appropriately on the same boxplot chart\n",
    "\n",
    "Think about how you might change the variables so that they would make sense on the same chart. Explain your rationale for the choices on the chart. You should strive to make the chart as intuitive as possible. \n"
   ]
  },
  {
   "cell_type": "markdown",
   "metadata": {},
   "source": [
    "### *Answer:*\n",
    "*We can view the comparative spread of each column by normalizing the data. This will bring the mean of each column to 0, and the standard deviation to 1.*\n",
    "\n",
    "*An additional benefit of this approach is that it allows us visualize the median of each distribution in relation to its mean.*"
   ]
  },
  {
   "cell_type": "code",
   "execution_count": 16,
   "metadata": {},
   "outputs": [
    {
     "data": {
      "image/png": "[encoded data removed]",
      "text/plain": [
       "<Figure size 432x288 with 1 Axes>"
      ]
     },
     "metadata": {
      "needs_background": "light"
     },
     "output_type": "display_data"
    }
   ],
   "source": [
    "# Create temporary dataframe of normlized data\n",
    "temp_df = sat_df[['Verbal','Math','Rate']].copy()\n",
    "temp_df = (temp_df - temp_df.mean()) / temp_df.std()\n",
    "\n",
    "# Create normalized boxplot\n",
    "sns.boxplot(data=temp_df, orient='h', notch=True)\n",
    "plt.axvline(x=0, color='orange', linestyle='--', linewidth=1);"
   ]
  },
  {
   "cell_type": "markdown",
   "metadata": {},
   "source": [
    "### *Chart Analysis*\n",
    "*From the chart above, we can see that Math has a larger proportional spread than Verbal and Rate.*\n",
    "\n",
    "*We can also see that the median vales of each column are below the means, however the difference is significantly less than 1 standard deviation.*"
   ]
  },
  {
   "cell_type": "markdown",
   "metadata": {},
   "source": [
    "<img src=\"http://imgur.com/l5NasQj.png\" style=\"float: left; margin: 25px 15px 0px 0px; height: 25px\">\n",
    "\n",
    "## 5. Create and examine subsets of the data\n",
    "\n",
    "---\n",
    "\n",
    "For these questions you will practice **masking** in pandas. Masking uses conditional statements to select portions of your DataFrame (through boolean operations under the hood.)\n",
    "\n",
    "Remember the distinction between DataFrame indexing functions in pandas:\n",
    "\n",
    "    .iloc[row, col] : row and column are specified by index, which are integers\n",
    "    .loc[row, col]  : row and column are specified by string \"labels\" (boolean arrays are allowed; useful for rows)\n",
    "    \n",
    "For detailed reference and tutorial make sure to read over the pandas documentation:\n",
    "\n",
    "http://pandas.pydata.org/pandas-docs/stable/indexing.html\n",
    "\n",
    "\n",
    "\n",
    "### 5.1 Find the list of states that have `Verbal` scores greater than the average of `Verbal` scores across states\n",
    "\n",
    "How many states are above the mean? What does this tell you about the distribution of `Verbal` scores?\n",
    "\n",
    "\n"
   ]
  },
  {
   "cell_type": "code",
   "execution_count": 17,
   "metadata": {},
   "outputs": [
    {
     "name": "stdout",
     "output_type": "stream",
     "text": [
      "There are 24 states which have a Verbal score above the average Verbal score\n"
     ]
    }
   ],
   "source": [
    "# Calculate count of states above the average SAT score\n",
    "states_above_verbal_mean = sat_df.loc[sat_df['Verbal']>sat_df['Verbal'].mean()]['State'].count()\n",
    "print('There are {} states which have a Verbal score above the average Verbal score'.format(states_above_verbal_mean))"
   ]
  },
  {
   "cell_type": "markdown",
   "metadata": {},
   "source": [
    "### 5.2 Find the list of states that have `Verbal` scores greater than the median of `Verbal` scores across states\n",
    "\n",
    "How does this compare to the list of states greater than the mean of `Verbal` scores? Why?"
   ]
  },
  {
   "cell_type": "code",
   "execution_count": 18,
   "metadata": {},
   "outputs": [
    {
     "name": "stdout",
     "output_type": "stream",
     "text": [
      "There are 26 states which have a Verbal score above the median Verbal score\n"
     ]
    }
   ],
   "source": [
    "# Calculate count of states above the median SAT score\n",
    "states_above_verbal_mean = sat_df.loc[sat_df['Verbal']>sat_df['Verbal'].median()]['State'].count()\n",
    "print('There are {} states which have a Verbal score above the median Verbal score'.format(states_above_verbal_mean))"
   ]
  },
  {
   "cell_type": "markdown",
   "metadata": {},
   "source": [
    "\n",
    "### *Answer:*\n",
    "*There are more states above median than there are above the mean which shows that the median for the Verbal is lower than the mean. There is a higher frequency of a lower than average score for the verbal test.*"
   ]
  },
  {
   "cell_type": "markdown",
   "metadata": {},
   "source": [
    "### 5.3 Create a column that is the difference between the `Verbal` and `Math` scores\n",
    "\n",
    "Specifically, this should be `Verbal - Math`."
   ]
  },
  {
   "cell_type": "code",
   "execution_count": 19,
   "metadata": {},
   "outputs": [
    {
     "data": {
      "text/html": [
       "<div>\n",
       "<style scoped>\n",
       "    .dataframe tbody tr th:only-of-type {\n",
       "        vertical-align: middle;\n",
       "    }\n",
       "\n",
       "    .dataframe tbody tr th {\n",
       "        vertical-align: top;\n",
       "    }\n",
       "\n",
       "    .dataframe thead th {\n",
       "        text-align: right;\n",
       "    }\n",
       "</style>\n",
       "<table border=\"1\" class=\"dataframe\">\n",
       "  <thead>\n",
       "    <tr style=\"text-align: right;\">\n",
       "      <th></th>\n",
       "      <th>State</th>\n",
       "      <th>Rate</th>\n",
       "      <th>Verbal</th>\n",
       "      <th>Math</th>\n",
       "      <th>Verbal - Math</th>\n",
       "    </tr>\n",
       "  </thead>\n",
       "  <tbody>\n",
       "    <tr>\n",
       "      <th>0</th>\n",
       "      <td>CT</td>\n",
       "      <td>82</td>\n",
       "      <td>509</td>\n",
       "      <td>510</td>\n",
       "      <td>-1</td>\n",
       "    </tr>\n",
       "    <tr>\n",
       "      <th>1</th>\n",
       "      <td>NJ</td>\n",
       "      <td>81</td>\n",
       "      <td>499</td>\n",
       "      <td>513</td>\n",
       "      <td>-14</td>\n",
       "    </tr>\n",
       "    <tr>\n",
       "      <th>2</th>\n",
       "      <td>MA</td>\n",
       "      <td>79</td>\n",
       "      <td>511</td>\n",
       "      <td>515</td>\n",
       "      <td>-4</td>\n",
       "    </tr>\n",
       "    <tr>\n",
       "      <th>3</th>\n",
       "      <td>NY</td>\n",
       "      <td>77</td>\n",
       "      <td>495</td>\n",
       "      <td>505</td>\n",
       "      <td>-10</td>\n",
       "    </tr>\n",
       "    <tr>\n",
       "      <th>4</th>\n",
       "      <td>NH</td>\n",
       "      <td>72</td>\n",
       "      <td>520</td>\n",
       "      <td>516</td>\n",
       "      <td>4</td>\n",
       "    </tr>\n",
       "  </tbody>\n",
       "</table>\n",
       "</div>"
      ],
      "text/plain": [
       "  State  Rate  Verbal  Math  Verbal - Math\n",
       "0    CT    82     509   510             -1\n",
       "1    NJ    81     499   513            -14\n",
       "2    MA    79     511   515             -4\n",
       "3    NY    77     495   505            -10\n",
       "4    NH    72     520   516              4"
      ]
     },
     "execution_count": 19,
     "metadata": {},
     "output_type": "execute_result"
    }
   ],
   "source": [
    "sat_df['Verbal - Math'] = sat_df['Verbal'] - sat_df['Math']\n",
    "sat_df.head()"
   ]
  },
  {
   "cell_type": "markdown",
   "metadata": {},
   "source": [
    "### 5.4 Create two new DataFrames showing states with the greatest difference between scores\n",
    "\n",
    "1. Your first DataFrame should be the 10 states with the greatest gap between `Verbal` and `Math` scores where `Verbal` is greater than `Math`. It should be sorted appropriately to show the ranking of states.\n",
    "2. Your second DataFrame will be the inverse: states with the greatest gap between `Verbal` and `Math` such that `Math` is greater than `Verbal`. Again, this should be sorted appropriately to show rank.\n",
    "3. Print the header of both variables, only showing the top 3 states in each."
   ]
  },
  {
   "cell_type": "code",
   "execution_count": 20,
   "metadata": {},
   "outputs": [],
   "source": [
    "# Top ten states having higher Verbal than Math scores\n",
    "verbal_greater_than_math = sat_df.sort_values('Verbal - Math', ascending=False).head(10)\n",
    "\n",
    "# Top ten states having higher Math than Verbal scores\n",
    "verbal_less_than_math = sat_df.sort_values('Verbal - Math', ascending=True).head(10)"
   ]
  },
  {
   "cell_type": "code",
   "execution_count": 21,
   "metadata": {},
   "outputs": [
    {
     "data": {
      "text/html": [
       "<div>\n",
       "<style scoped>\n",
       "    .dataframe tbody tr th:only-of-type {\n",
       "        vertical-align: middle;\n",
       "    }\n",
       "\n",
       "    .dataframe tbody tr th {\n",
       "        vertical-align: top;\n",
       "    }\n",
       "\n",
       "    .dataframe thead th {\n",
       "        text-align: right;\n",
       "    }\n",
       "</style>\n",
       "<table border=\"1\" class=\"dataframe\">\n",
       "  <thead>\n",
       "    <tr style=\"text-align: right;\">\n",
       "      <th></th>\n",
       "      <th>State</th>\n",
       "      <th>Rate</th>\n",
       "      <th>Verbal</th>\n",
       "      <th>Math</th>\n",
       "      <th>Verbal - Math</th>\n",
       "    </tr>\n",
       "  </thead>\n",
       "  <tbody>\n",
       "    <tr>\n",
       "      <th>27</th>\n",
       "      <td>OH</td>\n",
       "      <td>26</td>\n",
       "      <td>534</td>\n",
       "      <td>439</td>\n",
       "      <td>95</td>\n",
       "    </tr>\n",
       "    <tr>\n",
       "      <th>50</th>\n",
       "      <td>MS</td>\n",
       "      <td>4</td>\n",
       "      <td>566</td>\n",
       "      <td>551</td>\n",
       "      <td>15</td>\n",
       "    </tr>\n",
       "    <tr>\n",
       "      <th>29</th>\n",
       "      <td>WV</td>\n",
       "      <td>18</td>\n",
       "      <td>527</td>\n",
       "      <td>512</td>\n",
       "      <td>15</td>\n",
       "    </tr>\n",
       "  </tbody>\n",
       "</table>\n",
       "</div>"
      ],
      "text/plain": [
       "   State  Rate  Verbal  Math  Verbal - Math\n",
       "27    OH    26     534   439             95\n",
       "50    MS     4     566   551             15\n",
       "29    WV    18     527   512             15"
      ]
     },
     "execution_count": 21,
     "metadata": {},
     "output_type": "execute_result"
    }
   ],
   "source": [
    "verbal_greater_than_math.head(3)"
   ]
  },
  {
   "cell_type": "markdown",
   "metadata": {},
   "source": [
    "*OH, MS and WV have the highest difference in Verbal to Math scores.*"
   ]
  },
  {
   "cell_type": "code",
   "execution_count": 22,
   "metadata": {},
   "outputs": [
    {
     "data": {
      "text/html": [
       "<div>\n",
       "<style scoped>\n",
       "    .dataframe tbody tr th:only-of-type {\n",
       "        vertical-align: middle;\n",
       "    }\n",
       "\n",
       "    .dataframe tbody tr th {\n",
       "        vertical-align: top;\n",
       "    }\n",
       "\n",
       "    .dataframe thead th {\n",
       "        text-align: right;\n",
       "    }\n",
       "</style>\n",
       "<table border=\"1\" class=\"dataframe\">\n",
       "  <thead>\n",
       "    <tr style=\"text-align: right;\">\n",
       "      <th></th>\n",
       "      <th>State</th>\n",
       "      <th>Rate</th>\n",
       "      <th>Verbal</th>\n",
       "      <th>Math</th>\n",
       "      <th>Verbal - Math</th>\n",
       "    </tr>\n",
       "  </thead>\n",
       "  <tbody>\n",
       "    <tr>\n",
       "      <th>21</th>\n",
       "      <td>HI</td>\n",
       "      <td>52</td>\n",
       "      <td>485</td>\n",
       "      <td>515</td>\n",
       "      <td>-30</td>\n",
       "    </tr>\n",
       "    <tr>\n",
       "      <th>23</th>\n",
       "      <td>CA</td>\n",
       "      <td>51</td>\n",
       "      <td>498</td>\n",
       "      <td>517</td>\n",
       "      <td>-19</td>\n",
       "    </tr>\n",
       "    <tr>\n",
       "      <th>1</th>\n",
       "      <td>NJ</td>\n",
       "      <td>81</td>\n",
       "      <td>499</td>\n",
       "      <td>513</td>\n",
       "      <td>-14</td>\n",
       "    </tr>\n",
       "  </tbody>\n",
       "</table>\n",
       "</div>"
      ],
      "text/plain": [
       "   State  Rate  Verbal  Math  Verbal - Math\n",
       "21    HI    52     485   515            -30\n",
       "23    CA    51     498   517            -19\n",
       "1     NJ    81     499   513            -14"
      ]
     },
     "execution_count": 22,
     "metadata": {},
     "output_type": "execute_result"
    }
   ],
   "source": [
    "verbal_less_than_math.head(3)"
   ]
  },
  {
   "cell_type": "markdown",
   "metadata": {},
   "source": [
    "*HI, CA and NJ have the highest difference in Math to Verbal scores.*"
   ]
  },
  {
   "cell_type": "markdown",
   "metadata": {},
   "source": [
    "## 6. Examine summary statistics\n",
    "\n",
    "---\n",
    "\n",
    "Checking the summary statistics for data is an essential step in the EDA process!\n",
    "\n",
    "<img src=\"http://imgur.com/l5NasQj.png\" style=\"float: left; margin: 25px 15px 0px 0px; height: 25px\">\n",
    "\n",
    "### 6.1 Create the correlation matrix of your variables (excluding `State`).\n",
    "\n",
    "What does the correlation matrix tell you?\n"
   ]
  },
  {
   "cell_type": "code",
   "execution_count": 23,
   "metadata": {},
   "outputs": [
    {
     "data": {
      "text/html": [
       "<div>\n",
       "<style scoped>\n",
       "    .dataframe tbody tr th:only-of-type {\n",
       "        vertical-align: middle;\n",
       "    }\n",
       "\n",
       "    .dataframe tbody tr th {\n",
       "        vertical-align: top;\n",
       "    }\n",
       "\n",
       "    .dataframe thead th {\n",
       "        text-align: right;\n",
       "    }\n",
       "</style>\n",
       "<table border=\"1\" class=\"dataframe\">\n",
       "  <thead>\n",
       "    <tr style=\"text-align: right;\">\n",
       "      <th></th>\n",
       "      <th>Rate</th>\n",
       "      <th>Verbal</th>\n",
       "      <th>Math</th>\n",
       "      <th>Verbal - Math</th>\n",
       "    </tr>\n",
       "  </thead>\n",
       "  <tbody>\n",
       "    <tr>\n",
       "      <th>Rate</th>\n",
       "      <td>1.000000</td>\n",
       "      <td>-0.886432</td>\n",
       "      <td>-0.773746</td>\n",
       "      <td>-0.101412</td>\n",
       "    </tr>\n",
       "    <tr>\n",
       "      <th>Verbal</th>\n",
       "      <td>-0.886432</td>\n",
       "      <td>1.000000</td>\n",
       "      <td>0.899871</td>\n",
       "      <td>0.052600</td>\n",
       "    </tr>\n",
       "    <tr>\n",
       "      <th>Math</th>\n",
       "      <td>-0.773746</td>\n",
       "      <td>0.899871</td>\n",
       "      <td>1.000000</td>\n",
       "      <td>-0.388219</td>\n",
       "    </tr>\n",
       "    <tr>\n",
       "      <th>Verbal - Math</th>\n",
       "      <td>-0.101412</td>\n",
       "      <td>0.052600</td>\n",
       "      <td>-0.388219</td>\n",
       "      <td>1.000000</td>\n",
       "    </tr>\n",
       "  </tbody>\n",
       "</table>\n",
       "</div>"
      ],
      "text/plain": [
       "                   Rate    Verbal      Math  Verbal - Math\n",
       "Rate           1.000000 -0.886432 -0.773746      -0.101412\n",
       "Verbal        -0.886432  1.000000  0.899871       0.052600\n",
       "Math          -0.773746  0.899871  1.000000      -0.388219\n",
       "Verbal - Math -0.101412  0.052600 -0.388219       1.000000"
      ]
     },
     "execution_count": 23,
     "metadata": {},
     "output_type": "execute_result"
    }
   ],
   "source": [
    "sat_df.corr()"
   ]
  },
  {
   "cell_type": "markdown",
   "metadata": {},
   "source": [
    "### *Answer:*\n",
    "*The correlation matrix show the following behaviours:*\n",
    "1. *Verbal and Rate have a strong negative correlation.*\n",
    "2. *Math and Rate also have a negative correlation.*\n",
    "3. *Math and Verbal have a strong positive correlation.*\n",
    "4. *The Math/Verbal difference is not correlated to any of the other scores*"
   ]
  },
  {
   "cell_type": "markdown",
   "metadata": {},
   "source": [
    "<img src=\"http://imgur.com/l5NasQj.png\" style=\"float: left; margin: 25px 15px 0px 0px; height: 25px\">\n",
    "\n",
    "### 6.2 Use pandas'  `.describe()` built-in function on your DataFrame\n",
    "\n",
    "Write up what each of the rows returned by the function indicate."
   ]
  },
  {
   "cell_type": "code",
   "execution_count": 24,
   "metadata": {},
   "outputs": [
    {
     "data": {
      "text/html": [
       "<div>\n",
       "<style scoped>\n",
       "    .dataframe tbody tr th:only-of-type {\n",
       "        vertical-align: middle;\n",
       "    }\n",
       "\n",
       "    .dataframe tbody tr th {\n",
       "        vertical-align: top;\n",
       "    }\n",
       "\n",
       "    .dataframe thead th {\n",
       "        text-align: right;\n",
       "    }\n",
       "</style>\n",
       "<table border=\"1\" class=\"dataframe\">\n",
       "  <thead>\n",
       "    <tr style=\"text-align: right;\">\n",
       "      <th></th>\n",
       "      <th>count</th>\n",
       "      <th>mean</th>\n",
       "      <th>std</th>\n",
       "      <th>min</th>\n",
       "      <th>25%</th>\n",
       "      <th>50%</th>\n",
       "      <th>75%</th>\n",
       "      <th>max</th>\n",
       "    </tr>\n",
       "  </thead>\n",
       "  <tbody>\n",
       "    <tr>\n",
       "      <th>Rate</th>\n",
       "      <td>52.0</td>\n",
       "      <td>37.153846</td>\n",
       "      <td>27.301788</td>\n",
       "      <td>4.0</td>\n",
       "      <td>9.0</td>\n",
       "      <td>33.5</td>\n",
       "      <td>63.50</td>\n",
       "      <td>82.0</td>\n",
       "    </tr>\n",
       "    <tr>\n",
       "      <th>Verbal</th>\n",
       "      <td>52.0</td>\n",
       "      <td>532.019231</td>\n",
       "      <td>33.236225</td>\n",
       "      <td>482.0</td>\n",
       "      <td>501.0</td>\n",
       "      <td>526.5</td>\n",
       "      <td>562.00</td>\n",
       "      <td>593.0</td>\n",
       "    </tr>\n",
       "    <tr>\n",
       "      <th>Math</th>\n",
       "      <td>52.0</td>\n",
       "      <td>531.500000</td>\n",
       "      <td>36.014975</td>\n",
       "      <td>439.0</td>\n",
       "      <td>504.0</td>\n",
       "      <td>521.0</td>\n",
       "      <td>555.75</td>\n",
       "      <td>603.0</td>\n",
       "    </tr>\n",
       "    <tr>\n",
       "      <th>Verbal - Math</th>\n",
       "      <td>52.0</td>\n",
       "      <td>0.519231</td>\n",
       "      <td>15.729939</td>\n",
       "      <td>-30.0</td>\n",
       "      <td>-6.0</td>\n",
       "      <td>0.0</td>\n",
       "      <td>4.25</td>\n",
       "      <td>95.0</td>\n",
       "    </tr>\n",
       "  </tbody>\n",
       "</table>\n",
       "</div>"
      ],
      "text/plain": [
       "               count        mean        std    min    25%    50%     75%  \\\n",
       "Rate            52.0   37.153846  27.301788    4.0    9.0   33.5   63.50   \n",
       "Verbal          52.0  532.019231  33.236225  482.0  501.0  526.5  562.00   \n",
       "Math            52.0  531.500000  36.014975  439.0  504.0  521.0  555.75   \n",
       "Verbal - Math   52.0    0.519231  15.729939  -30.0   -6.0    0.0    4.25   \n",
       "\n",
       "                 max  \n",
       "Rate            82.0  \n",
       "Verbal         593.0  \n",
       "Math           603.0  \n",
       "Verbal - Math   95.0  "
      ]
     },
     "execution_count": 24,
     "metadata": {},
     "output_type": "execute_result"
    }
   ],
   "source": [
    "sat_df.describe().T"
   ]
  },
  {
   "cell_type": "markdown",
   "metadata": {},
   "source": [
    "### *Answer:*\n",
    ">1. *count: Gives the count of values in each column*\n",
    ">2. *mean: Gives the average of each column*\n",
    ">3. *std: Gives the standard deviation of each column*\n",
    ">4. *min: Gives the minimum value in each column*\n",
    ">5. *25%: Gives the value of the 25th percentile (first quartile) of that column*\n",
    ">6. *50%: Gives the median of the column*\n",
    ">7. *75%: Gives the value of the 75th percentile (third quartile) of that column*\n",
    "\n",
    "*For each column we can see the min-max range of the data, the average, and also compare the median to the average value.*"
   ]
  },
  {
   "cell_type": "markdown",
   "metadata": {},
   "source": [
    "<img src=\"http://imgur.com/xDpSobf.png\" style=\"float: left; margin: 25px 15px 0px 0px; height: 25px\">\n",
    "\n",
    "### 6.3 Assign and print the _covariance_ matrix for the dataset\n",
    "\n",
    "1. Describe how the covariance matrix is different from the correlation matrix.\n",
    "2. What is the process to convert the covariance into the correlation?\n",
    "3. Why is the correlation matrix preferred to the covariance matrix for examining relationships in your data?"
   ]
  },
  {
   "cell_type": "code",
   "execution_count": 25,
   "metadata": {},
   "outputs": [
    {
     "data": {
      "text/html": [
       "<div>\n",
       "<style scoped>\n",
       "    .dataframe tbody tr th:only-of-type {\n",
       "        vertical-align: middle;\n",
       "    }\n",
       "\n",
       "    .dataframe tbody tr th {\n",
       "        vertical-align: top;\n",
       "    }\n",
       "\n",
       "    .dataframe thead th {\n",
       "        text-align: right;\n",
       "    }\n",
       "</style>\n",
       "<table border=\"1\" class=\"dataframe\">\n",
       "  <thead>\n",
       "    <tr style=\"text-align: right;\">\n",
       "      <th></th>\n",
       "      <th>Rate</th>\n",
       "      <th>Verbal</th>\n",
       "      <th>Math</th>\n",
       "      <th>Verbal - Math</th>\n",
       "    </tr>\n",
       "  </thead>\n",
       "  <tbody>\n",
       "    <tr>\n",
       "      <th>Rate</th>\n",
       "      <td>745.387632</td>\n",
       "      <td>-804.355958</td>\n",
       "      <td>-760.803922</td>\n",
       "      <td>-43.552036</td>\n",
       "    </tr>\n",
       "    <tr>\n",
       "      <th>Verbal</th>\n",
       "      <td>-804.355958</td>\n",
       "      <td>1104.646682</td>\n",
       "      <td>1077.147059</td>\n",
       "      <td>27.499623</td>\n",
       "    </tr>\n",
       "    <tr>\n",
       "      <th>Math</th>\n",
       "      <td>-760.803922</td>\n",
       "      <td>1077.147059</td>\n",
       "      <td>1297.078431</td>\n",
       "      <td>-219.931373</td>\n",
       "    </tr>\n",
       "    <tr>\n",
       "      <th>Verbal - Math</th>\n",
       "      <td>-43.552036</td>\n",
       "      <td>27.499623</td>\n",
       "      <td>-219.931373</td>\n",
       "      <td>247.430995</td>\n",
       "    </tr>\n",
       "  </tbody>\n",
       "</table>\n",
       "</div>"
      ],
      "text/plain": [
       "                     Rate       Verbal         Math  Verbal - Math\n",
       "Rate           745.387632  -804.355958  -760.803922     -43.552036\n",
       "Verbal        -804.355958  1104.646682  1077.147059      27.499623\n",
       "Math          -760.803922  1077.147059  1297.078431    -219.931373\n",
       "Verbal - Math  -43.552036    27.499623  -219.931373     247.430995"
      ]
     },
     "execution_count": 25,
     "metadata": {},
     "output_type": "execute_result"
    }
   ],
   "source": [
    "sat_cov = sat_df.cov()\n",
    "sat_cov"
   ]
  },
  {
   "cell_type": "markdown",
   "metadata": {},
   "source": [
    "### *Answer:*\n",
    ">1. *Covariance is the magnitude and direction of the relationship between two variables. Correlation also depicts the same relationship, however it is standardized by dividing it by the Standard Deviations of both samples.*\n",
    ">\n",
    ">2. *The correlation is preferred to the covariance because it has a normalized scale. This means that all relationships are measured between -1 and 1. This way we can compare the relative correlations to judge which features are more highly related than others. This is not possible to do with covariance, since covariance of each set of features has a different scale and cannot be compared.*\n",
    ">\n",
    ">3. *Convariance can be converted to correlation by the below formula:*\n",
    ">\n",
    "$$\\frac{Cov(A,B)}{StDev(A) StDev(B)}$$ "
   ]
  },
  {
   "cell_type": "markdown",
   "metadata": {},
   "source": [
    "<img src=\"http://imgur.com/l5NasQj.png\" style=\"float: left; margin: 25px 15px 0px 0px; height: 25px\">\n",
    "\n",
    "## 7. Performing EDA on \"drug use by age\" data.\n",
    "\n",
    "---\n",
    "\n",
    "You will now switch datasets to one with many more variables. This section of the project is more open-ended - use the techniques you practiced above!\n",
    "\n",
    "We'll work with the \"drug-use-by-age.csv\" data, sourced from and described here: https://github.com/fivethirtyeight/data/tree/master/drug-use-by-age.\n",
    "\n",
    "### 7.1\n",
    "\n",
    "Load the data using pandas. Does this data require cleaning? Are variables missing? How will this affect your approach to EDA on the data?"
   ]
  },
  {
   "cell_type": "code",
   "execution_count": 26,
   "metadata": {},
   "outputs": [],
   "source": [
    "drug_df = pd.read_csv('./datasets/drug-use-by-age.csv')"
   ]
  },
  {
   "cell_type": "markdown",
   "metadata": {},
   "source": [
    "### 7.2 Do a high-level, initial overview of the data\n",
    "\n",
    "Get a feel for what this dataset is all about.\n",
    "\n",
    "Use whichever techniques you'd like, including those from the SAT dataset EDA. The final response to this question should be a written description of what you infer about the dataset.\n",
    "\n",
    "Some things to consider doing:\n",
    "\n",
    "- Look for relationships between variables and subsets of those variables' values\n",
    "- Derive new features from the ones available to help your analysis\n",
    "- Visualize everything!"
   ]
  },
  {
   "cell_type": "code",
   "execution_count": 27,
   "metadata": {},
   "outputs": [
    {
     "name": "stdout",
     "output_type": "stream",
     "text": [
      "<class 'pandas.core.frame.DataFrame'>\n",
      "RangeIndex: 17 entries, 0 to 16\n",
      "Data columns (total 28 columns):\n",
      "age                        17 non-null object\n",
      "n                          17 non-null int64\n",
      "alcohol-use                17 non-null float64\n",
      "alcohol-frequency          17 non-null float64\n",
      "marijuana-use              17 non-null float64\n",
      "marijuana-frequency        17 non-null float64\n",
      "cocaine-use                17 non-null float64\n",
      "cocaine-frequency          17 non-null object\n",
      "crack-use                  17 non-null float64\n",
      "crack-frequency            17 non-null object\n",
      "heroin-use                 17 non-null float64\n",
      "heroin-frequency           17 non-null object\n",
      "hallucinogen-use           17 non-null float64\n",
      "hallucinogen-frequency     17 non-null float64\n",
      "inhalant-use               17 non-null float64\n",
      "inhalant-frequency         17 non-null object\n",
      "pain-releiver-use          17 non-null float64\n",
      "pain-releiver-frequency    17 non-null float64\n",
      "oxycontin-use              17 non-null float64\n",
      "oxycontin-frequency        17 non-null object\n",
      "tranquilizer-use           17 non-null float64\n",
      "tranquilizer-frequency     17 non-null float64\n",
      "stimulant-use              17 non-null float64\n",
      "stimulant-frequency        17 non-null float64\n",
      "meth-use                   17 non-null float64\n",
      "meth-frequency             17 non-null object\n",
      "sedative-use               17 non-null float64\n",
      "sedative-frequency         17 non-null float64\n",
      "dtypes: float64(20), int64(1), object(7)\n",
      "memory usage: 3.8+ KB\n"
     ]
    }
   ],
   "source": [
    "drug_df.info()"
   ]
  },
  {
   "cell_type": "code",
   "execution_count": 28,
   "metadata": {},
   "outputs": [
    {
     "data": {
      "text/html": [
       "<div>\n",
       "<style scoped>\n",
       "    .dataframe tbody tr th:only-of-type {\n",
       "        vertical-align: middle;\n",
       "    }\n",
       "\n",
       "    .dataframe tbody tr th {\n",
       "        vertical-align: top;\n",
       "    }\n",
       "\n",
       "    .dataframe thead th {\n",
       "        text-align: right;\n",
       "    }\n",
       "</style>\n",
       "<table border=\"1\" class=\"dataframe\">\n",
       "  <thead>\n",
       "    <tr style=\"text-align: right;\">\n",
       "      <th></th>\n",
       "      <th>age</th>\n",
       "      <th>n</th>\n",
       "      <th>alcohol-use</th>\n",
       "      <th>alcohol-frequency</th>\n",
       "      <th>marijuana-use</th>\n",
       "      <th>marijuana-frequency</th>\n",
       "      <th>cocaine-use</th>\n",
       "      <th>cocaine-frequency</th>\n",
       "      <th>crack-use</th>\n",
       "      <th>crack-frequency</th>\n",
       "      <th>...</th>\n",
       "      <th>oxycontin-use</th>\n",
       "      <th>oxycontin-frequency</th>\n",
       "      <th>tranquilizer-use</th>\n",
       "      <th>tranquilizer-frequency</th>\n",
       "      <th>stimulant-use</th>\n",
       "      <th>stimulant-frequency</th>\n",
       "      <th>meth-use</th>\n",
       "      <th>meth-frequency</th>\n",
       "      <th>sedative-use</th>\n",
       "      <th>sedative-frequency</th>\n",
       "    </tr>\n",
       "  </thead>\n",
       "  <tbody>\n",
       "    <tr>\n",
       "      <th>0</th>\n",
       "      <td>12</td>\n",
       "      <td>2798</td>\n",
       "      <td>3.9</td>\n",
       "      <td>3.0</td>\n",
       "      <td>1.1</td>\n",
       "      <td>4.0</td>\n",
       "      <td>0.1</td>\n",
       "      <td>5.0</td>\n",
       "      <td>0.0</td>\n",
       "      <td>-</td>\n",
       "      <td>...</td>\n",
       "      <td>0.1</td>\n",
       "      <td>24.5</td>\n",
       "      <td>0.2</td>\n",
       "      <td>52.0</td>\n",
       "      <td>0.2</td>\n",
       "      <td>2.0</td>\n",
       "      <td>0.0</td>\n",
       "      <td>-</td>\n",
       "      <td>0.2</td>\n",
       "      <td>13.0</td>\n",
       "    </tr>\n",
       "    <tr>\n",
       "      <th>1</th>\n",
       "      <td>13</td>\n",
       "      <td>2757</td>\n",
       "      <td>8.5</td>\n",
       "      <td>6.0</td>\n",
       "      <td>3.4</td>\n",
       "      <td>15.0</td>\n",
       "      <td>0.1</td>\n",
       "      <td>1.0</td>\n",
       "      <td>0.0</td>\n",
       "      <td>3.0</td>\n",
       "      <td>...</td>\n",
       "      <td>0.1</td>\n",
       "      <td>41.0</td>\n",
       "      <td>0.3</td>\n",
       "      <td>25.5</td>\n",
       "      <td>0.3</td>\n",
       "      <td>4.0</td>\n",
       "      <td>0.1</td>\n",
       "      <td>5.0</td>\n",
       "      <td>0.1</td>\n",
       "      <td>19.0</td>\n",
       "    </tr>\n",
       "    <tr>\n",
       "      <th>2</th>\n",
       "      <td>14</td>\n",
       "      <td>2792</td>\n",
       "      <td>18.1</td>\n",
       "      <td>5.0</td>\n",
       "      <td>8.7</td>\n",
       "      <td>24.0</td>\n",
       "      <td>0.1</td>\n",
       "      <td>5.5</td>\n",
       "      <td>0.0</td>\n",
       "      <td>-</td>\n",
       "      <td>...</td>\n",
       "      <td>0.4</td>\n",
       "      <td>4.5</td>\n",
       "      <td>0.9</td>\n",
       "      <td>5.0</td>\n",
       "      <td>0.8</td>\n",
       "      <td>12.0</td>\n",
       "      <td>0.1</td>\n",
       "      <td>24.0</td>\n",
       "      <td>0.2</td>\n",
       "      <td>16.5</td>\n",
       "    </tr>\n",
       "    <tr>\n",
       "      <th>3</th>\n",
       "      <td>15</td>\n",
       "      <td>2956</td>\n",
       "      <td>29.2</td>\n",
       "      <td>6.0</td>\n",
       "      <td>14.5</td>\n",
       "      <td>25.0</td>\n",
       "      <td>0.5</td>\n",
       "      <td>4.0</td>\n",
       "      <td>0.1</td>\n",
       "      <td>9.5</td>\n",
       "      <td>...</td>\n",
       "      <td>0.8</td>\n",
       "      <td>3.0</td>\n",
       "      <td>2.0</td>\n",
       "      <td>4.5</td>\n",
       "      <td>1.5</td>\n",
       "      <td>6.0</td>\n",
       "      <td>0.3</td>\n",
       "      <td>10.5</td>\n",
       "      <td>0.4</td>\n",
       "      <td>30.0</td>\n",
       "    </tr>\n",
       "    <tr>\n",
       "      <th>4</th>\n",
       "      <td>16</td>\n",
       "      <td>3058</td>\n",
       "      <td>40.1</td>\n",
       "      <td>10.0</td>\n",
       "      <td>22.5</td>\n",
       "      <td>30.0</td>\n",
       "      <td>1.0</td>\n",
       "      <td>7.0</td>\n",
       "      <td>0.0</td>\n",
       "      <td>1.0</td>\n",
       "      <td>...</td>\n",
       "      <td>1.1</td>\n",
       "      <td>4.0</td>\n",
       "      <td>2.4</td>\n",
       "      <td>11.0</td>\n",
       "      <td>1.8</td>\n",
       "      <td>9.5</td>\n",
       "      <td>0.3</td>\n",
       "      <td>36.0</td>\n",
       "      <td>0.2</td>\n",
       "      <td>3.0</td>\n",
       "    </tr>\n",
       "  </tbody>\n",
       "</table>\n",
       "<p>5 rows × 28 columns</p>\n",
       "</div>"
      ],
      "text/plain": [
       "  age     n  alcohol-use  alcohol-frequency  marijuana-use  \\\n",
       "0  12  2798          3.9                3.0            1.1   \n",
       "1  13  2757          8.5                6.0            3.4   \n",
       "2  14  2792         18.1                5.0            8.7   \n",
       "3  15  2956         29.2                6.0           14.5   \n",
       "4  16  3058         40.1               10.0           22.5   \n",
       "\n",
       "   marijuana-frequency  cocaine-use cocaine-frequency  crack-use  \\\n",
       "0                  4.0          0.1               5.0        0.0   \n",
       "1                 15.0          0.1               1.0        0.0   \n",
       "2                 24.0          0.1               5.5        0.0   \n",
       "3                 25.0          0.5               4.0        0.1   \n",
       "4                 30.0          1.0               7.0        0.0   \n",
       "\n",
       "  crack-frequency        ...          oxycontin-use oxycontin-frequency  \\\n",
       "0               -        ...                    0.1                24.5   \n",
       "1             3.0        ...                    0.1                41.0   \n",
       "2               -        ...                    0.4                 4.5   \n",
       "3             9.5        ...                    0.8                 3.0   \n",
       "4             1.0        ...                    1.1                 4.0   \n",
       "\n",
       "   tranquilizer-use  tranquilizer-frequency  stimulant-use  \\\n",
       "0               0.2                    52.0            0.2   \n",
       "1               0.3                    25.5            0.3   \n",
       "2               0.9                     5.0            0.8   \n",
       "3               2.0                     4.5            1.5   \n",
       "4               2.4                    11.0            1.8   \n",
       "\n",
       "  stimulant-frequency  meth-use  meth-frequency  sedative-use  \\\n",
       "0                 2.0       0.0               -           0.2   \n",
       "1                 4.0       0.1             5.0           0.1   \n",
       "2                12.0       0.1            24.0           0.2   \n",
       "3                 6.0       0.3            10.5           0.4   \n",
       "4                 9.5       0.3            36.0           0.2   \n",
       "\n",
       "  sedative-frequency  \n",
       "0               13.0  \n",
       "1               19.0  \n",
       "2               16.5  \n",
       "3               30.0  \n",
       "4                3.0  \n",
       "\n",
       "[5 rows x 28 columns]"
      ]
     },
     "execution_count": 28,
     "metadata": {},
     "output_type": "execute_result"
    }
   ],
   "source": [
    "drug_df.head()"
   ]
  },
  {
   "cell_type": "markdown",
   "metadata": {},
   "source": [
    "### *Solution Notes:*\n",
    "*From the data definitions we have found on website https://github.com/fivethirtyeight/data/tree/master/drug-use-by-age, the 'use' column is the percentage of people who used that substance in the last 12 months. Similarly, the 'frequency' column is the median number of times a single user used that substance in the past 12 months.*\n",
    "\n",
    "*Since column 'n' is not defined in the data definition, we will assume that it is the sample size of that age group used for this dataset.*\n",
    "\n",
    "*We will rename these columns for better clarity.*"
   ]
  },
  {
   "cell_type": "code",
   "execution_count": 29,
   "metadata": {},
   "outputs": [],
   "source": [
    "old_col_names = list(drug_df.columns)"
   ]
  },
  {
   "cell_type": "code",
   "execution_count": 30,
   "metadata": {},
   "outputs": [],
   "source": [
    "new_col_names = []\n",
    "for colname in old_col_names:\n",
    "    if colname=='age':\n",
    "        new_col_names.append('sample_age')    \n",
    "    elif colname=='n':\n",
    "        new_col_names.append('sample_size')\n",
    "    else:\n",
    "        if '-use' in colname:\n",
    "            new_col_names.append(colname.replace('-use', '_%users'))\n",
    "        else:\n",
    "            new_col_names.append(colname.replace('-frequency', '_median_use'))"
   ]
  },
  {
   "cell_type": "code",
   "execution_count": 31,
   "metadata": {},
   "outputs": [],
   "source": [
    "drug_df.columns = new_col_names"
   ]
  },
  {
   "cell_type": "code",
   "execution_count": 32,
   "metadata": {},
   "outputs": [
    {
     "data": {
      "text/html": [
       "<div>\n",
       "<style scoped>\n",
       "    .dataframe tbody tr th:only-of-type {\n",
       "        vertical-align: middle;\n",
       "    }\n",
       "\n",
       "    .dataframe tbody tr th {\n",
       "        vertical-align: top;\n",
       "    }\n",
       "\n",
       "    .dataframe thead th {\n",
       "        text-align: right;\n",
       "    }\n",
       "</style>\n",
       "<table border=\"1\" class=\"dataframe\">\n",
       "  <thead>\n",
       "    <tr style=\"text-align: right;\">\n",
       "      <th></th>\n",
       "      <th>sample_age</th>\n",
       "      <th>sample_size</th>\n",
       "      <th>alcohol_%users</th>\n",
       "      <th>alcohol_median_use</th>\n",
       "      <th>marijuana_%users</th>\n",
       "      <th>marijuana_median_use</th>\n",
       "      <th>cocaine_%users</th>\n",
       "      <th>cocaine_median_use</th>\n",
       "      <th>crack_%users</th>\n",
       "      <th>crack_median_use</th>\n",
       "      <th>...</th>\n",
       "      <th>oxycontin_%users</th>\n",
       "      <th>oxycontin_median_use</th>\n",
       "      <th>tranquilizer_%users</th>\n",
       "      <th>tranquilizer_median_use</th>\n",
       "      <th>stimulant_%users</th>\n",
       "      <th>stimulant_median_use</th>\n",
       "      <th>meth_%users</th>\n",
       "      <th>meth_median_use</th>\n",
       "      <th>sedative_%users</th>\n",
       "      <th>sedative_median_use</th>\n",
       "    </tr>\n",
       "  </thead>\n",
       "  <tbody>\n",
       "    <tr>\n",
       "      <th>0</th>\n",
       "      <td>12</td>\n",
       "      <td>2798</td>\n",
       "      <td>3.9</td>\n",
       "      <td>3.0</td>\n",
       "      <td>1.1</td>\n",
       "      <td>4.0</td>\n",
       "      <td>0.1</td>\n",
       "      <td>5.0</td>\n",
       "      <td>0.0</td>\n",
       "      <td>-</td>\n",
       "      <td>...</td>\n",
       "      <td>0.1</td>\n",
       "      <td>24.5</td>\n",
       "      <td>0.2</td>\n",
       "      <td>52.0</td>\n",
       "      <td>0.2</td>\n",
       "      <td>2.0</td>\n",
       "      <td>0.0</td>\n",
       "      <td>-</td>\n",
       "      <td>0.2</td>\n",
       "      <td>13.0</td>\n",
       "    </tr>\n",
       "    <tr>\n",
       "      <th>1</th>\n",
       "      <td>13</td>\n",
       "      <td>2757</td>\n",
       "      <td>8.5</td>\n",
       "      <td>6.0</td>\n",
       "      <td>3.4</td>\n",
       "      <td>15.0</td>\n",
       "      <td>0.1</td>\n",
       "      <td>1.0</td>\n",
       "      <td>0.0</td>\n",
       "      <td>3.0</td>\n",
       "      <td>...</td>\n",
       "      <td>0.1</td>\n",
       "      <td>41.0</td>\n",
       "      <td>0.3</td>\n",
       "      <td>25.5</td>\n",
       "      <td>0.3</td>\n",
       "      <td>4.0</td>\n",
       "      <td>0.1</td>\n",
       "      <td>5.0</td>\n",
       "      <td>0.1</td>\n",
       "      <td>19.0</td>\n",
       "    </tr>\n",
       "    <tr>\n",
       "      <th>2</th>\n",
       "      <td>14</td>\n",
       "      <td>2792</td>\n",
       "      <td>18.1</td>\n",
       "      <td>5.0</td>\n",
       "      <td>8.7</td>\n",
       "      <td>24.0</td>\n",
       "      <td>0.1</td>\n",
       "      <td>5.5</td>\n",
       "      <td>0.0</td>\n",
       "      <td>-</td>\n",
       "      <td>...</td>\n",
       "      <td>0.4</td>\n",
       "      <td>4.5</td>\n",
       "      <td>0.9</td>\n",
       "      <td>5.0</td>\n",
       "      <td>0.8</td>\n",
       "      <td>12.0</td>\n",
       "      <td>0.1</td>\n",
       "      <td>24.0</td>\n",
       "      <td>0.2</td>\n",
       "      <td>16.5</td>\n",
       "    </tr>\n",
       "    <tr>\n",
       "      <th>3</th>\n",
       "      <td>15</td>\n",
       "      <td>2956</td>\n",
       "      <td>29.2</td>\n",
       "      <td>6.0</td>\n",
       "      <td>14.5</td>\n",
       "      <td>25.0</td>\n",
       "      <td>0.5</td>\n",
       "      <td>4.0</td>\n",
       "      <td>0.1</td>\n",
       "      <td>9.5</td>\n",
       "      <td>...</td>\n",
       "      <td>0.8</td>\n",
       "      <td>3.0</td>\n",
       "      <td>2.0</td>\n",
       "      <td>4.5</td>\n",
       "      <td>1.5</td>\n",
       "      <td>6.0</td>\n",
       "      <td>0.3</td>\n",
       "      <td>10.5</td>\n",
       "      <td>0.4</td>\n",
       "      <td>30.0</td>\n",
       "    </tr>\n",
       "    <tr>\n",
       "      <th>4</th>\n",
       "      <td>16</td>\n",
       "      <td>3058</td>\n",
       "      <td>40.1</td>\n",
       "      <td>10.0</td>\n",
       "      <td>22.5</td>\n",
       "      <td>30.0</td>\n",
       "      <td>1.0</td>\n",
       "      <td>7.0</td>\n",
       "      <td>0.0</td>\n",
       "      <td>1.0</td>\n",
       "      <td>...</td>\n",
       "      <td>1.1</td>\n",
       "      <td>4.0</td>\n",
       "      <td>2.4</td>\n",
       "      <td>11.0</td>\n",
       "      <td>1.8</td>\n",
       "      <td>9.5</td>\n",
       "      <td>0.3</td>\n",
       "      <td>36.0</td>\n",
       "      <td>0.2</td>\n",
       "      <td>3.0</td>\n",
       "    </tr>\n",
       "  </tbody>\n",
       "</table>\n",
       "<p>5 rows × 28 columns</p>\n",
       "</div>"
      ],
      "text/plain": [
       "  sample_age  sample_size  alcohol_%users  alcohol_median_use  \\\n",
       "0         12         2798             3.9                 3.0   \n",
       "1         13         2757             8.5                 6.0   \n",
       "2         14         2792            18.1                 5.0   \n",
       "3         15         2956            29.2                 6.0   \n",
       "4         16         3058            40.1                10.0   \n",
       "\n",
       "   marijuana_%users  marijuana_median_use  cocaine_%users cocaine_median_use  \\\n",
       "0               1.1                   4.0             0.1                5.0   \n",
       "1               3.4                  15.0             0.1                1.0   \n",
       "2               8.7                  24.0             0.1                5.5   \n",
       "3              14.5                  25.0             0.5                4.0   \n",
       "4              22.5                  30.0             1.0                7.0   \n",
       "\n",
       "   crack_%users crack_median_use         ...          oxycontin_%users  \\\n",
       "0           0.0                -         ...                       0.1   \n",
       "1           0.0              3.0         ...                       0.1   \n",
       "2           0.0                -         ...                       0.4   \n",
       "3           0.1              9.5         ...                       0.8   \n",
       "4           0.0              1.0         ...                       1.1   \n",
       "\n",
       "  oxycontin_median_use  tranquilizer_%users  tranquilizer_median_use  \\\n",
       "0                 24.5                  0.2                     52.0   \n",
       "1                 41.0                  0.3                     25.5   \n",
       "2                  4.5                  0.9                      5.0   \n",
       "3                  3.0                  2.0                      4.5   \n",
       "4                  4.0                  2.4                     11.0   \n",
       "\n",
       "   stimulant_%users stimulant_median_use  meth_%users  meth_median_use  \\\n",
       "0               0.2                  2.0          0.0                -   \n",
       "1               0.3                  4.0          0.1              5.0   \n",
       "2               0.8                 12.0          0.1             24.0   \n",
       "3               1.5                  6.0          0.3             10.5   \n",
       "4               1.8                  9.5          0.3             36.0   \n",
       "\n",
       "   sedative_%users sedative_median_use  \n",
       "0              0.2                13.0  \n",
       "1              0.1                19.0  \n",
       "2              0.2                16.5  \n",
       "3              0.4                30.0  \n",
       "4              0.2                 3.0  \n",
       "\n",
       "[5 rows x 28 columns]"
      ]
     },
     "execution_count": 32,
     "metadata": {},
     "output_type": "execute_result"
    }
   ],
   "source": [
    "drug_df.head()"
   ]
  },
  {
   "cell_type": "markdown",
   "metadata": {},
   "source": [
    "### *Solution Notes:*\n",
    "*Column sample_age is an object which needs to converted to integer type. There are two reasons it is appearing as an object:*\n",
    ">1. *Some values are entered as a range. For these we will take the average of that range for our dataframe.*\n",
    ">2. *One value is mentioning 65+. We will remove the '+' for our dataframe.*"
   ]
  },
  {
   "cell_type": "code",
   "execution_count": 33,
   "metadata": {},
   "outputs": [],
   "source": [
    "def sample_age_to_number(val):\n",
    "    if '-' in val:\n",
    "        new_valrange = val.split('-')\n",
    "        new_val = (int(new_valrange[0]) + int(new_valrange[1])) / 2\n",
    "    elif '+' in val:\n",
    "        new_val = val.replace('+', '')\n",
    "    else:\n",
    "        new_val = val\n",
    "    return int(new_val)"
   ]
  },
  {
   "cell_type": "code",
   "execution_count": 34,
   "metadata": {},
   "outputs": [],
   "source": [
    "drug_df['sample_age'] = drug_df['sample_age'].copy().map(sample_age_to_number)"
   ]
  },
  {
   "cell_type": "markdown",
   "metadata": {},
   "source": [
    "### *Solution Notes:*\n",
    "*Some columns should be float type, however they are appearing as objects due to unwanted characters which represent missing values. We will replace all missing value occurences with **np.nan** and convert all columns to numeric to be able to run statistic tests.*\n",
    "\n",
    "*However, since each row represents a particular age group, we will not drop any rows or columns from the dataset.*"
   ]
  },
  {
   "cell_type": "code",
   "execution_count": 35,
   "metadata": {},
   "outputs": [],
   "source": [
    "# Convert all columns to float replacing '-' to np.Nan\n",
    "drug_df_num = drug_df.applymap(lambda x: 0 if x=='-' else float(x))"
   ]
  },
  {
   "cell_type": "code",
   "execution_count": 36,
   "metadata": {},
   "outputs": [],
   "source": [
    "# Convert 'sample_age back to integer type'\n",
    "drug_df_num['sample_age'] = drug_df_num['sample_age'].astype('int')"
   ]
  },
  {
   "cell_type": "code",
   "execution_count": 37,
   "metadata": {},
   "outputs": [
    {
     "data": {
      "text/html": [
       "<div>\n",
       "<style scoped>\n",
       "    .dataframe tbody tr th:only-of-type {\n",
       "        vertical-align: middle;\n",
       "    }\n",
       "\n",
       "    .dataframe tbody tr th {\n",
       "        vertical-align: top;\n",
       "    }\n",
       "\n",
       "    .dataframe thead th {\n",
       "        text-align: right;\n",
       "    }\n",
       "</style>\n",
       "<table border=\"1\" class=\"dataframe\">\n",
       "  <thead>\n",
       "    <tr style=\"text-align: right;\">\n",
       "      <th></th>\n",
       "      <th>count</th>\n",
       "      <th>mean</th>\n",
       "      <th>std</th>\n",
       "      <th>min</th>\n",
       "      <th>25%</th>\n",
       "      <th>50%</th>\n",
       "      <th>75%</th>\n",
       "      <th>max</th>\n",
       "    </tr>\n",
       "  </thead>\n",
       "  <tbody>\n",
       "    <tr>\n",
       "      <th>sample_age</th>\n",
       "      <td>17.0</td>\n",
       "      <td>25.529412</td>\n",
       "      <td>15.362770</td>\n",
       "      <td>12.0</td>\n",
       "      <td>16.0</td>\n",
       "      <td>20.0</td>\n",
       "      <td>27.0</td>\n",
       "      <td>65.0</td>\n",
       "    </tr>\n",
       "    <tr>\n",
       "      <th>sample_size</th>\n",
       "      <td>17.0</td>\n",
       "      <td>3251.058824</td>\n",
       "      <td>1297.890426</td>\n",
       "      <td>2223.0</td>\n",
       "      <td>2469.0</td>\n",
       "      <td>2798.0</td>\n",
       "      <td>3058.0</td>\n",
       "      <td>7391.0</td>\n",
       "    </tr>\n",
       "    <tr>\n",
       "      <th>alcohol_%users</th>\n",
       "      <td>17.0</td>\n",
       "      <td>55.429412</td>\n",
       "      <td>26.878866</td>\n",
       "      <td>3.9</td>\n",
       "      <td>40.1</td>\n",
       "      <td>64.6</td>\n",
       "      <td>77.5</td>\n",
       "      <td>84.2</td>\n",
       "    </tr>\n",
       "    <tr>\n",
       "      <th>alcohol_median_use</th>\n",
       "      <td>17.0</td>\n",
       "      <td>33.352941</td>\n",
       "      <td>21.318833</td>\n",
       "      <td>3.0</td>\n",
       "      <td>10.0</td>\n",
       "      <td>48.0</td>\n",
       "      <td>52.0</td>\n",
       "      <td>52.0</td>\n",
       "    </tr>\n",
       "    <tr>\n",
       "      <th>marijuana_%users</th>\n",
       "      <td>17.0</td>\n",
       "      <td>18.923529</td>\n",
       "      <td>11.959752</td>\n",
       "      <td>1.1</td>\n",
       "      <td>8.7</td>\n",
       "      <td>20.8</td>\n",
       "      <td>28.4</td>\n",
       "      <td>34.0</td>\n",
       "    </tr>\n",
       "    <tr>\n",
       "      <th>marijuana_median_use</th>\n",
       "      <td>17.0</td>\n",
       "      <td>42.941176</td>\n",
       "      <td>18.362566</td>\n",
       "      <td>4.0</td>\n",
       "      <td>30.0</td>\n",
       "      <td>52.0</td>\n",
       "      <td>52.0</td>\n",
       "      <td>72.0</td>\n",
       "    </tr>\n",
       "    <tr>\n",
       "      <th>cocaine_%users</th>\n",
       "      <td>17.0</td>\n",
       "      <td>2.176471</td>\n",
       "      <td>1.816772</td>\n",
       "      <td>0.0</td>\n",
       "      <td>0.5</td>\n",
       "      <td>2.0</td>\n",
       "      <td>4.0</td>\n",
       "      <td>4.9</td>\n",
       "    </tr>\n",
       "    <tr>\n",
       "      <th>cocaine_median_use</th>\n",
       "      <td>17.0</td>\n",
       "      <td>7.411765</td>\n",
       "      <td>8.014119</td>\n",
       "      <td>0.0</td>\n",
       "      <td>5.0</td>\n",
       "      <td>5.0</td>\n",
       "      <td>7.0</td>\n",
       "      <td>36.0</td>\n",
       "    </tr>\n",
       "    <tr>\n",
       "      <th>crack_%users</th>\n",
       "      <td>17.0</td>\n",
       "      <td>0.294118</td>\n",
       "      <td>0.235772</td>\n",
       "      <td>0.0</td>\n",
       "      <td>0.0</td>\n",
       "      <td>0.4</td>\n",
       "      <td>0.5</td>\n",
       "      <td>0.6</td>\n",
       "    </tr>\n",
       "    <tr>\n",
       "      <th>crack_median_use</th>\n",
       "      <td>17.0</td>\n",
       "      <td>12.382353</td>\n",
       "      <td>17.361532</td>\n",
       "      <td>0.0</td>\n",
       "      <td>2.0</td>\n",
       "      <td>6.0</td>\n",
       "      <td>15.0</td>\n",
       "      <td>62.0</td>\n",
       "    </tr>\n",
       "    <tr>\n",
       "      <th>heroin_%users</th>\n",
       "      <td>17.0</td>\n",
       "      <td>0.352941</td>\n",
       "      <td>0.333762</td>\n",
       "      <td>0.0</td>\n",
       "      <td>0.1</td>\n",
       "      <td>0.2</td>\n",
       "      <td>0.6</td>\n",
       "      <td>1.1</td>\n",
       "    </tr>\n",
       "    <tr>\n",
       "      <th>heroin_median_use</th>\n",
       "      <td>17.0</td>\n",
       "      <td>68.970588</td>\n",
       "      <td>70.153285</td>\n",
       "      <td>0.0</td>\n",
       "      <td>35.5</td>\n",
       "      <td>50.0</td>\n",
       "      <td>66.5</td>\n",
       "      <td>280.0</td>\n",
       "    </tr>\n",
       "    <tr>\n",
       "      <th>hallucinogen_%users</th>\n",
       "      <td>17.0</td>\n",
       "      <td>3.394118</td>\n",
       "      <td>2.792506</td>\n",
       "      <td>0.1</td>\n",
       "      <td>0.6</td>\n",
       "      <td>3.2</td>\n",
       "      <td>5.2</td>\n",
       "      <td>8.6</td>\n",
       "    </tr>\n",
       "    <tr>\n",
       "      <th>hallucinogen_median_use</th>\n",
       "      <td>17.0</td>\n",
       "      <td>8.411765</td>\n",
       "      <td>15.000245</td>\n",
       "      <td>2.0</td>\n",
       "      <td>3.0</td>\n",
       "      <td>3.0</td>\n",
       "      <td>4.0</td>\n",
       "      <td>52.0</td>\n",
       "    </tr>\n",
       "    <tr>\n",
       "      <th>inhalant_%users</th>\n",
       "      <td>17.0</td>\n",
       "      <td>1.388235</td>\n",
       "      <td>0.927283</td>\n",
       "      <td>0.0</td>\n",
       "      <td>0.6</td>\n",
       "      <td>1.4</td>\n",
       "      <td>2.0</td>\n",
       "      <td>3.0</td>\n",
       "    </tr>\n",
       "    <tr>\n",
       "      <th>inhalant_median_use</th>\n",
       "      <td>17.0</td>\n",
       "      <td>5.794118</td>\n",
       "      <td>4.937291</td>\n",
       "      <td>0.0</td>\n",
       "      <td>3.0</td>\n",
       "      <td>4.0</td>\n",
       "      <td>5.5</td>\n",
       "      <td>19.0</td>\n",
       "    </tr>\n",
       "    <tr>\n",
       "      <th>pain-releiver_%users</th>\n",
       "      <td>17.0</td>\n",
       "      <td>6.270588</td>\n",
       "      <td>3.166379</td>\n",
       "      <td>0.6</td>\n",
       "      <td>3.9</td>\n",
       "      <td>6.2</td>\n",
       "      <td>9.0</td>\n",
       "      <td>10.0</td>\n",
       "    </tr>\n",
       "    <tr>\n",
       "      <th>pain-releiver_median_use</th>\n",
       "      <td>17.0</td>\n",
       "      <td>14.705882</td>\n",
       "      <td>6.935098</td>\n",
       "      <td>7.0</td>\n",
       "      <td>12.0</td>\n",
       "      <td>12.0</td>\n",
       "      <td>15.0</td>\n",
       "      <td>36.0</td>\n",
       "    </tr>\n",
       "    <tr>\n",
       "      <th>oxycontin_%users</th>\n",
       "      <td>17.0</td>\n",
       "      <td>0.935294</td>\n",
       "      <td>0.608216</td>\n",
       "      <td>0.0</td>\n",
       "      <td>0.4</td>\n",
       "      <td>1.1</td>\n",
       "      <td>1.4</td>\n",
       "      <td>1.7</td>\n",
       "    </tr>\n",
       "    <tr>\n",
       "      <th>oxycontin_median_use</th>\n",
       "      <td>17.0</td>\n",
       "      <td>13.941176</td>\n",
       "      <td>12.902134</td>\n",
       "      <td>0.0</td>\n",
       "      <td>5.0</td>\n",
       "      <td>12.0</td>\n",
       "      <td>17.5</td>\n",
       "      <td>46.0</td>\n",
       "    </tr>\n",
       "    <tr>\n",
       "      <th>tranquilizer_%users</th>\n",
       "      <td>17.0</td>\n",
       "      <td>2.805882</td>\n",
       "      <td>1.753379</td>\n",
       "      <td>0.2</td>\n",
       "      <td>1.4</td>\n",
       "      <td>3.5</td>\n",
       "      <td>4.2</td>\n",
       "      <td>5.4</td>\n",
       "    </tr>\n",
       "    <tr>\n",
       "      <th>tranquilizer_median_use</th>\n",
       "      <td>17.0</td>\n",
       "      <td>11.735294</td>\n",
       "      <td>11.485205</td>\n",
       "      <td>4.5</td>\n",
       "      <td>6.0</td>\n",
       "      <td>10.0</td>\n",
       "      <td>11.0</td>\n",
       "      <td>52.0</td>\n",
       "    </tr>\n",
       "    <tr>\n",
       "      <th>stimulant_%users</th>\n",
       "      <td>17.0</td>\n",
       "      <td>1.917647</td>\n",
       "      <td>1.407673</td>\n",
       "      <td>0.0</td>\n",
       "      <td>0.6</td>\n",
       "      <td>1.8</td>\n",
       "      <td>3.0</td>\n",
       "      <td>4.1</td>\n",
       "    </tr>\n",
       "    <tr>\n",
       "      <th>stimulant_median_use</th>\n",
       "      <td>17.0</td>\n",
       "      <td>31.147059</td>\n",
       "      <td>85.973790</td>\n",
       "      <td>2.0</td>\n",
       "      <td>7.0</td>\n",
       "      <td>10.0</td>\n",
       "      <td>12.0</td>\n",
       "      <td>364.0</td>\n",
       "    </tr>\n",
       "    <tr>\n",
       "      <th>meth_%users</th>\n",
       "      <td>17.0</td>\n",
       "      <td>0.382353</td>\n",
       "      <td>0.262762</td>\n",
       "      <td>0.0</td>\n",
       "      <td>0.2</td>\n",
       "      <td>0.4</td>\n",
       "      <td>0.6</td>\n",
       "      <td>0.9</td>\n",
       "    </tr>\n",
       "    <tr>\n",
       "      <th>meth_median_use</th>\n",
       "      <td>17.0</td>\n",
       "      <td>31.735294</td>\n",
       "      <td>32.206423</td>\n",
       "      <td>0.0</td>\n",
       "      <td>10.5</td>\n",
       "      <td>24.0</td>\n",
       "      <td>46.0</td>\n",
       "      <td>105.0</td>\n",
       "    </tr>\n",
       "    <tr>\n",
       "      <th>sedative_%users</th>\n",
       "      <td>17.0</td>\n",
       "      <td>0.282353</td>\n",
       "      <td>0.138000</td>\n",
       "      <td>0.0</td>\n",
       "      <td>0.2</td>\n",
       "      <td>0.3</td>\n",
       "      <td>0.4</td>\n",
       "      <td>0.5</td>\n",
       "    </tr>\n",
       "    <tr>\n",
       "      <th>sedative_median_use</th>\n",
       "      <td>17.0</td>\n",
       "      <td>19.382353</td>\n",
       "      <td>24.833527</td>\n",
       "      <td>3.0</td>\n",
       "      <td>6.5</td>\n",
       "      <td>10.0</td>\n",
       "      <td>17.5</td>\n",
       "      <td>104.0</td>\n",
       "    </tr>\n",
       "  </tbody>\n",
       "</table>\n",
       "</div>"
      ],
      "text/plain": [
       "                          count         mean          std     min     25%  \\\n",
       "sample_age                 17.0    25.529412    15.362770    12.0    16.0   \n",
       "sample_size                17.0  3251.058824  1297.890426  2223.0  2469.0   \n",
       "alcohol_%users             17.0    55.429412    26.878866     3.9    40.1   \n",
       "alcohol_median_use         17.0    33.352941    21.318833     3.0    10.0   \n",
       "marijuana_%users           17.0    18.923529    11.959752     1.1     8.7   \n",
       "marijuana_median_use       17.0    42.941176    18.362566     4.0    30.0   \n",
       "cocaine_%users             17.0     2.176471     1.816772     0.0     0.5   \n",
       "cocaine_median_use         17.0     7.411765     8.014119     0.0     5.0   \n",
       "crack_%users               17.0     0.294118     0.235772     0.0     0.0   \n",
       "crack_median_use           17.0    12.382353    17.361532     0.0     2.0   \n",
       "heroin_%users              17.0     0.352941     0.333762     0.0     0.1   \n",
       "heroin_median_use          17.0    68.970588    70.153285     0.0    35.5   \n",
       "hallucinogen_%users        17.0     3.394118     2.792506     0.1     0.6   \n",
       "hallucinogen_median_use    17.0     8.411765    15.000245     2.0     3.0   \n",
       "inhalant_%users            17.0     1.388235     0.927283     0.0     0.6   \n",
       "inhalant_median_use        17.0     5.794118     4.937291     0.0     3.0   \n",
       "pain-releiver_%users       17.0     6.270588     3.166379     0.6     3.9   \n",
       "pain-releiver_median_use   17.0    14.705882     6.935098     7.0    12.0   \n",
       "oxycontin_%users           17.0     0.935294     0.608216     0.0     0.4   \n",
       "oxycontin_median_use       17.0    13.941176    12.902134     0.0     5.0   \n",
       "tranquilizer_%users        17.0     2.805882     1.753379     0.2     1.4   \n",
       "tranquilizer_median_use    17.0    11.735294    11.485205     4.5     6.0   \n",
       "stimulant_%users           17.0     1.917647     1.407673     0.0     0.6   \n",
       "stimulant_median_use       17.0    31.147059    85.973790     2.0     7.0   \n",
       "meth_%users                17.0     0.382353     0.262762     0.0     0.2   \n",
       "meth_median_use            17.0    31.735294    32.206423     0.0    10.5   \n",
       "sedative_%users            17.0     0.282353     0.138000     0.0     0.2   \n",
       "sedative_median_use        17.0    19.382353    24.833527     3.0     6.5   \n",
       "\n",
       "                             50%     75%     max  \n",
       "sample_age                  20.0    27.0    65.0  \n",
       "sample_size               2798.0  3058.0  7391.0  \n",
       "alcohol_%users              64.6    77.5    84.2  \n",
       "alcohol_median_use          48.0    52.0    52.0  \n",
       "marijuana_%users            20.8    28.4    34.0  \n",
       "marijuana_median_use        52.0    52.0    72.0  \n",
       "cocaine_%users               2.0     4.0     4.9  \n",
       "cocaine_median_use           5.0     7.0    36.0  \n",
       "crack_%users                 0.4     0.5     0.6  \n",
       "crack_median_use             6.0    15.0    62.0  \n",
       "heroin_%users                0.2     0.6     1.1  \n",
       "heroin_median_use           50.0    66.5   280.0  \n",
       "hallucinogen_%users          3.2     5.2     8.6  \n",
       "hallucinogen_median_use      3.0     4.0    52.0  \n",
       "inhalant_%users              1.4     2.0     3.0  \n",
       "inhalant_median_use          4.0     5.5    19.0  \n",
       "pain-releiver_%users         6.2     9.0    10.0  \n",
       "pain-releiver_median_use    12.0    15.0    36.0  \n",
       "oxycontin_%users             1.1     1.4     1.7  \n",
       "oxycontin_median_use        12.0    17.5    46.0  \n",
       "tranquilizer_%users          3.5     4.2     5.4  \n",
       "tranquilizer_median_use     10.0    11.0    52.0  \n",
       "stimulant_%users             1.8     3.0     4.1  \n",
       "stimulant_median_use        10.0    12.0   364.0  \n",
       "meth_%users                  0.4     0.6     0.9  \n",
       "meth_median_use             24.0    46.0   105.0  \n",
       "sedative_%users              0.3     0.4     0.5  \n",
       "sedative_median_use         10.0    17.5   104.0  "
      ]
     },
     "execution_count": 37,
     "metadata": {},
     "output_type": "execute_result"
    }
   ],
   "source": [
    "drug_df_num.describe().T"
   ]
  },
  {
   "cell_type": "markdown",
   "metadata": {},
   "source": [
    "### *Solution Notes:*\n",
    "*In order to make logical sense of the data, we will split the dataset into two parts:*\n",
    ">1. *Data of % use of a substance by age*\n",
    ">2. *Data of median use of a substance by an individual by age*"
   ]
  },
  {
   "cell_type": "code",
   "execution_count": 38,
   "metadata": {},
   "outputs": [],
   "source": [
    "# Create list of column name to separate the dataframes\n",
    "percent_use_cols = ['sample_age','sample_size']\n",
    "median_use_cols = ['sample_age','sample_size']\n",
    "for colname in drug_df_num.columns:\n",
    "    if '_%users' in colname:\n",
    "        percent_use_cols.append(colname)\n",
    "    if '_median_use' in colname:\n",
    "        median_use_cols.append(colname)"
   ]
  },
  {
   "cell_type": "code",
   "execution_count": 39,
   "metadata": {},
   "outputs": [],
   "source": [
    "# Create the separate %use and median_use dataframes\n",
    "drug_percent_use = drug_df_num[percent_use_cols].copy()\n",
    "drug_median_use = drug_df_num[median_use_cols].copy()"
   ]
  },
  {
   "cell_type": "code",
   "execution_count": 40,
   "metadata": {},
   "outputs": [
    {
     "data": {
      "text/html": [
       "<div>\n",
       "<style scoped>\n",
       "    .dataframe tbody tr th:only-of-type {\n",
       "        vertical-align: middle;\n",
       "    }\n",
       "\n",
       "    .dataframe tbody tr th {\n",
       "        vertical-align: top;\n",
       "    }\n",
       "\n",
       "    .dataframe thead th {\n",
       "        text-align: right;\n",
       "    }\n",
       "</style>\n",
       "<table border=\"1\" class=\"dataframe\">\n",
       "  <thead>\n",
       "    <tr style=\"text-align: right;\">\n",
       "      <th></th>\n",
       "      <th>sample_age</th>\n",
       "      <th>sample_size</th>\n",
       "      <th>alcohol_%users</th>\n",
       "      <th>marijuana_%users</th>\n",
       "      <th>cocaine_%users</th>\n",
       "      <th>crack_%users</th>\n",
       "      <th>heroin_%users</th>\n",
       "      <th>hallucinogen_%users</th>\n",
       "      <th>inhalant_%users</th>\n",
       "      <th>pain-releiver_%users</th>\n",
       "      <th>oxycontin_%users</th>\n",
       "      <th>tranquilizer_%users</th>\n",
       "      <th>stimulant_%users</th>\n",
       "      <th>meth_%users</th>\n",
       "      <th>sedative_%users</th>\n",
       "    </tr>\n",
       "  </thead>\n",
       "  <tbody>\n",
       "    <tr>\n",
       "      <th>0</th>\n",
       "      <td>12</td>\n",
       "      <td>2798.0</td>\n",
       "      <td>3.9</td>\n",
       "      <td>1.1</td>\n",
       "      <td>0.1</td>\n",
       "      <td>0.0</td>\n",
       "      <td>0.1</td>\n",
       "      <td>0.2</td>\n",
       "      <td>1.6</td>\n",
       "      <td>2.0</td>\n",
       "      <td>0.1</td>\n",
       "      <td>0.2</td>\n",
       "      <td>0.2</td>\n",
       "      <td>0.0</td>\n",
       "      <td>0.2</td>\n",
       "    </tr>\n",
       "    <tr>\n",
       "      <th>1</th>\n",
       "      <td>13</td>\n",
       "      <td>2757.0</td>\n",
       "      <td>8.5</td>\n",
       "      <td>3.4</td>\n",
       "      <td>0.1</td>\n",
       "      <td>0.0</td>\n",
       "      <td>0.0</td>\n",
       "      <td>0.6</td>\n",
       "      <td>2.5</td>\n",
       "      <td>2.4</td>\n",
       "      <td>0.1</td>\n",
       "      <td>0.3</td>\n",
       "      <td>0.3</td>\n",
       "      <td>0.1</td>\n",
       "      <td>0.1</td>\n",
       "    </tr>\n",
       "    <tr>\n",
       "      <th>2</th>\n",
       "      <td>14</td>\n",
       "      <td>2792.0</td>\n",
       "      <td>18.1</td>\n",
       "      <td>8.7</td>\n",
       "      <td>0.1</td>\n",
       "      <td>0.0</td>\n",
       "      <td>0.1</td>\n",
       "      <td>1.6</td>\n",
       "      <td>2.6</td>\n",
       "      <td>3.9</td>\n",
       "      <td>0.4</td>\n",
       "      <td>0.9</td>\n",
       "      <td>0.8</td>\n",
       "      <td>0.1</td>\n",
       "      <td>0.2</td>\n",
       "    </tr>\n",
       "  </tbody>\n",
       "</table>\n",
       "</div>"
      ],
      "text/plain": [
       "   sample_age  sample_size  alcohol_%users  marijuana_%users  cocaine_%users  \\\n",
       "0          12       2798.0             3.9               1.1             0.1   \n",
       "1          13       2757.0             8.5               3.4             0.1   \n",
       "2          14       2792.0            18.1               8.7             0.1   \n",
       "\n",
       "   crack_%users  heroin_%users  hallucinogen_%users  inhalant_%users  \\\n",
       "0           0.0            0.1                  0.2              1.6   \n",
       "1           0.0            0.0                  0.6              2.5   \n",
       "2           0.0            0.1                  1.6              2.6   \n",
       "\n",
       "   pain-releiver_%users  oxycontin_%users  tranquilizer_%users  \\\n",
       "0                   2.0               0.1                  0.2   \n",
       "1                   2.4               0.1                  0.3   \n",
       "2                   3.9               0.4                  0.9   \n",
       "\n",
       "   stimulant_%users  meth_%users  sedative_%users  \n",
       "0               0.2          0.0              0.2  \n",
       "1               0.3          0.1              0.1  \n",
       "2               0.8          0.1              0.2  "
      ]
     },
     "execution_count": 40,
     "metadata": {},
     "output_type": "execute_result"
    }
   ],
   "source": [
    "drug_percent_use.head(3)"
   ]
  },
  {
   "cell_type": "code",
   "execution_count": 41,
   "metadata": {},
   "outputs": [
    {
     "data": {
      "text/html": [
       "<div>\n",
       "<style scoped>\n",
       "    .dataframe tbody tr th:only-of-type {\n",
       "        vertical-align: middle;\n",
       "    }\n",
       "\n",
       "    .dataframe tbody tr th {\n",
       "        vertical-align: top;\n",
       "    }\n",
       "\n",
       "    .dataframe thead th {\n",
       "        text-align: right;\n",
       "    }\n",
       "</style>\n",
       "<table border=\"1\" class=\"dataframe\">\n",
       "  <thead>\n",
       "    <tr style=\"text-align: right;\">\n",
       "      <th></th>\n",
       "      <th>sample_age</th>\n",
       "      <th>sample_size</th>\n",
       "      <th>alcohol_median_use</th>\n",
       "      <th>marijuana_median_use</th>\n",
       "      <th>cocaine_median_use</th>\n",
       "      <th>crack_median_use</th>\n",
       "      <th>heroin_median_use</th>\n",
       "      <th>hallucinogen_median_use</th>\n",
       "      <th>inhalant_median_use</th>\n",
       "      <th>pain-releiver_median_use</th>\n",
       "      <th>oxycontin_median_use</th>\n",
       "      <th>tranquilizer_median_use</th>\n",
       "      <th>stimulant_median_use</th>\n",
       "      <th>meth_median_use</th>\n",
       "      <th>sedative_median_use</th>\n",
       "    </tr>\n",
       "  </thead>\n",
       "  <tbody>\n",
       "    <tr>\n",
       "      <th>0</th>\n",
       "      <td>12</td>\n",
       "      <td>2798.0</td>\n",
       "      <td>3.0</td>\n",
       "      <td>4.0</td>\n",
       "      <td>5.0</td>\n",
       "      <td>0.0</td>\n",
       "      <td>35.5</td>\n",
       "      <td>52.0</td>\n",
       "      <td>19.0</td>\n",
       "      <td>36.0</td>\n",
       "      <td>24.5</td>\n",
       "      <td>52.0</td>\n",
       "      <td>2.0</td>\n",
       "      <td>0.0</td>\n",
       "      <td>13.0</td>\n",
       "    </tr>\n",
       "    <tr>\n",
       "      <th>1</th>\n",
       "      <td>13</td>\n",
       "      <td>2757.0</td>\n",
       "      <td>6.0</td>\n",
       "      <td>15.0</td>\n",
       "      <td>1.0</td>\n",
       "      <td>3.0</td>\n",
       "      <td>0.0</td>\n",
       "      <td>6.0</td>\n",
       "      <td>12.0</td>\n",
       "      <td>14.0</td>\n",
       "      <td>41.0</td>\n",
       "      <td>25.5</td>\n",
       "      <td>4.0</td>\n",
       "      <td>5.0</td>\n",
       "      <td>19.0</td>\n",
       "    </tr>\n",
       "    <tr>\n",
       "      <th>2</th>\n",
       "      <td>14</td>\n",
       "      <td>2792.0</td>\n",
       "      <td>5.0</td>\n",
       "      <td>24.0</td>\n",
       "      <td>5.5</td>\n",
       "      <td>0.0</td>\n",
       "      <td>2.0</td>\n",
       "      <td>3.0</td>\n",
       "      <td>5.0</td>\n",
       "      <td>12.0</td>\n",
       "      <td>4.5</td>\n",
       "      <td>5.0</td>\n",
       "      <td>12.0</td>\n",
       "      <td>24.0</td>\n",
       "      <td>16.5</td>\n",
       "    </tr>\n",
       "  </tbody>\n",
       "</table>\n",
       "</div>"
      ],
      "text/plain": [
       "   sample_age  sample_size  alcohol_median_use  marijuana_median_use  \\\n",
       "0          12       2798.0                 3.0                   4.0   \n",
       "1          13       2757.0                 6.0                  15.0   \n",
       "2          14       2792.0                 5.0                  24.0   \n",
       "\n",
       "   cocaine_median_use  crack_median_use  heroin_median_use  \\\n",
       "0                 5.0               0.0               35.5   \n",
       "1                 1.0               3.0                0.0   \n",
       "2                 5.5               0.0                2.0   \n",
       "\n",
       "   hallucinogen_median_use  inhalant_median_use  pain-releiver_median_use  \\\n",
       "0                     52.0                 19.0                      36.0   \n",
       "1                      6.0                 12.0                      14.0   \n",
       "2                      3.0                  5.0                      12.0   \n",
       "\n",
       "   oxycontin_median_use  tranquilizer_median_use  stimulant_median_use  \\\n",
       "0                  24.5                     52.0                   2.0   \n",
       "1                  41.0                     25.5                   4.0   \n",
       "2                   4.5                      5.0                  12.0   \n",
       "\n",
       "   meth_median_use  sedative_median_use  \n",
       "0              0.0                 13.0  \n",
       "1              5.0                 19.0  \n",
       "2             24.0                 16.5  "
      ]
     },
     "execution_count": 41,
     "metadata": {},
     "output_type": "execute_result"
    }
   ],
   "source": [
    "drug_median_use.head(3)"
   ]
  },
  {
   "cell_type": "markdown",
   "metadata": {},
   "source": [
    "### *Solution Notes:*\n",
    "*We will try to understand the data by making bar plots of substance use by age separately for each dataframe.*"
   ]
  },
  {
   "cell_type": "markdown",
   "metadata": {},
   "source": [
    "#### _Visualization 1: Percent of use by population:_"
   ]
  },
  {
   "cell_type": "code",
   "execution_count": 44,
   "metadata": {},
   "outputs": [
    {
     "data": {
      "image/png": "[encoded data removed]",
      "text/plain": [
       "<Figure size 1224x1008 with 16 Axes>"
      ]
     },
     "metadata": {
      "needs_background": "light"
     },
     "output_type": "display_data"
    }
   ],
   "source": [
    "# Create subplots\n",
    "fix, ax = plt.subplots(4,4, figsize=(17,14))\n",
    "plt.subplots_adjust(hspace=0.2)\n",
    "\n",
    "# Create a list of drugs to iterate over the subplots\n",
    "drug_name = list(drug_percent_use.columns)[2:]\n",
    "\n",
    "# Loop for creating subplots for each drug\n",
    "plot_count = 0\n",
    "for i in range(4):\n",
    "    for j in range(4):\n",
    "        if plot_count < 13:\n",
    "            sns.barplot(x=drug_percent_use['sample_age'], y=drug_percent_use[drug_name[plot_count]],\n",
    "                        orient='v', ax=ax[i][j], color='c')\n",
    "        plot_count += 1        "
   ]
  },
  {
   "cell_type": "markdown",
   "metadata": {},
   "source": [
    "### *Chart Analysis:*\n",
    "*We can see the following observations:*\n",
    ">1. *Inhalant users decrease in the population with increasing age.*\n",
    ">2. *Percentage of sedative users in the population peaks during teenage years and then again around the age of 30.*\n",
    ">3. *All other substance uses have a normal distribution, however the age group where it has maximum use by percentage of population varies slightly for each substance.*"
   ]
  },
  {
   "cell_type": "code",
   "execution_count": 45,
   "metadata": {},
   "outputs": [
    {
     "data": {
      "image/png": "[encoded data removed]",
      "text/plain": [
       "<Figure size 1224x1008 with 16 Axes>"
      ]
     },
     "metadata": {
      "needs_background": "light"
     },
     "output_type": "display_data"
    }
   ],
   "source": [
    "# Create subplots\n",
    "fix, ax = plt.subplots(4,4, figsize=(17,14))\n",
    "plt.subplots_adjust(hspace=0.2)\n",
    "\n",
    "# Create a list of drugs to iterate over the subplots\n",
    "drug_name = list(drug_median_use.columns)[2:]\n",
    "\n",
    "# Loop for creating subplots for each drug\n",
    "plot_count = 0\n",
    "for i in range(4):\n",
    "    for j in range(4):\n",
    "        if plot_count < 13:\n",
    "            sns.barplot(x=drug_median_use['sample_age'], y=drug_median_use[drug_name[plot_count]],\n",
    "                        orient='v', ax=ax[i][j], color='C2')\n",
    "        plot_count += 1"
   ]
  },
  {
   "cell_type": "markdown",
   "metadata": {},
   "source": [
    "### *Chart Analysis:*\n",
    "*We can see the following observations:*\n",
    ">1. *Frequency of alcohol and marijuana consumption rises sharply around the teenage years, then maintains a steady high value with increasing age.*\n",
    ">2. *Cocaine, crack, sedative, inhalant and stimulant stays lows throughout increases age and sharply increases at a high age.*\n",
    ">3. *Meth and herion use increases sharply around 19-20 and 40-50 years of age.*"
   ]
  },
  {
   "cell_type": "markdown",
   "metadata": {},
   "source": [
    "### *Correlation Check*\n",
    "*For correlation, we will only check if any drug use or drug intake median is correlated by age group. This is because correlating one drug use by another does not give any meaningful insights, since they are all related to different age groups.*"
   ]
  },
  {
   "cell_type": "code",
   "execution_count": 46,
   "metadata": {},
   "outputs": [],
   "source": [
    "percent_corr = drug_percent_use.corr()['sample_age'].sort_values()\n",
    "median_corr = drug_median_use.corr()['sample_age'].sort_values()"
   ]
  },
  {
   "cell_type": "code",
   "execution_count": 47,
   "metadata": {},
   "outputs": [
    {
     "data": {
      "text/plain": [
       "inhalant_%users        -0.799781\n",
       "pain-releiver_%users   -0.443828\n",
       "hallucinogen_%users    -0.419643\n",
       "stimulant_%users       -0.411138\n",
       "oxycontin_%users       -0.393424\n",
       "Name: sample_age, dtype: float64"
      ]
     },
     "execution_count": 47,
     "metadata": {},
     "output_type": "execute_result"
    }
   ],
   "source": [
    "percent_corr.head()"
   ]
  },
  {
   "cell_type": "code",
   "execution_count": 48,
   "metadata": {},
   "outputs": [
    {
     "data": {
      "text/plain": [
       "cocaine_%users   -0.192552\n",
       "crack_%users      0.144131\n",
       "sample_size       0.293039\n",
       "alcohol_%users    0.361413\n",
       "sample_age        1.000000\n",
       "Name: sample_age, dtype: float64"
      ]
     },
     "execution_count": 48,
     "metadata": {},
     "output_type": "execute_result"
    }
   ],
   "source": [
    "percent_corr.tail()"
   ]
  },
  {
   "cell_type": "code",
   "execution_count": 49,
   "metadata": {},
   "outputs": [
    {
     "data": {
      "text/plain": [
       "tranquilizer_median_use   -0.311577\n",
       "oxycontin_median_use      -0.210308\n",
       "inhalant_median_use       -0.054093\n",
       "meth_median_use            0.101356\n",
       "hallucinogen_median_use    0.143281\n",
       "Name: sample_age, dtype: float64"
      ]
     },
     "execution_count": 49,
     "metadata": {},
     "output_type": "execute_result"
    }
   ],
   "source": [
    "median_corr.head()"
   ]
  },
  {
   "cell_type": "code",
   "execution_count": 50,
   "metadata": {},
   "outputs": [
    {
     "data": {
      "text/plain": [
       "cocaine_median_use      0.495858\n",
       "crack_median_use        0.539318\n",
       "alcohol_median_use      0.636576\n",
       "stimulant_median_use    0.704981\n",
       "sample_age              1.000000\n",
       "Name: sample_age, dtype: float64"
      ]
     },
     "execution_count": 50,
     "metadata": {},
     "output_type": "execute_result"
    }
   ],
   "source": [
    "median_corr.tail()"
   ]
  },
  {
   "cell_type": "markdown",
   "metadata": {},
   "source": [
    "### *Solution Notes:*\n",
    "\n",
    "***Using a correlation value of 0.6 as a cutoff for significant correlation:***\n",
    "1. *The percentage of population using inhalant decreases with increasing age.*\n",
    "2. *The median use of alcohol and stimulant increases with increasing age for the users of those substances.*"
   ]
  },
  {
   "cell_type": "markdown",
   "metadata": {},
   "source": [
    "### 7.3 Create a testable hypothesis about this data\n",
    "\n",
    "Requirements for the question:\n",
    "\n",
    "1. Write a specific question you would like to answer with the data (that can be accomplished with EDA).\n",
    "2. Write a description of the \"deliverables\": what will you report after testing/examining your hypothesis?\n",
    "3. Use EDA techniques of your choice, numeric and/or visual, to look into your question.\n",
    "4. Write up your report on what you have found regarding the hypothesis about the data you came up with.\n",
    "\n",
    "\n",
    "Your hypothesis could be on:\n",
    "\n",
    "- Difference of group means\n",
    "- Correlations between variables\n",
    "- Anything else you think is interesting, testable, and meaningful!\n",
    "\n",
    "**Important notes:**\n",
    "\n",
    "You should be only doing EDA _relevant to your question_ here. It is easy to go down rabbit holes trying to look at every facet of your data, and so we want you to get in the practice of specifying a hypothesis you are interested in first and scoping your work to specifically answer that question.\n",
    "\n",
    "Some of you may want to jump ahead to \"modeling\" data to answer your question. This is a topic addressed in the next project and **you should not do this for this project.** We specifically want you to not do modeling to emphasize the importance of performing EDA _before_ you jump to statistical analysis."
   ]
  },
  {
   "cell_type": "markdown",
   "metadata": {
    "collapsed": true
   },
   "source": [
    "** Question and deliverables**\n",
    "\n",
    "### *Question:*\n",
    "*The question we will try to answer is whether the average of percent users by total population are the same for crack and herion.*\n",
    "\n",
    "*This can be written as below:*\n",
    ">***H0:***:$\\bar{x}_{crack} =  \\bar{x}_{herion}$\n",
    ">\n",
    ">*(The average percent use by population of crack is the same as that for heroin.)*\n",
    "\n",
    ">***H1:***:$\\bar{x}_{crack} <>  \\bar{x}_{heroin}$\n",
    ">\n",
    ">*(The average percent use by population of crack is different than that of heroin.)*\n",
    "\n",
    "### *Deliverables*\n",
    "*The deliverables from this question will be the following:*\n",
    ">1. *The calculated t-statistic*\n",
    ">2. *The calculated p-value*\n",
    ">3. *Final conclusion for rejecting or failing to reject the null hypothesis*"
   ]
  },
  {
   "cell_type": "markdown",
   "metadata": {},
   "source": [
    "### *Exploratory Data Analysis:*\n",
    "*We will visualize the % users of crack and heroin to see how the distribution differs:*"
   ]
  },
  {
   "cell_type": "code",
   "execution_count": 54,
   "metadata": {},
   "outputs": [
    {
     "data": {
      "image/png": "[encoded data removed]",
      "text/plain": [
       "<Figure size 864x288 with 1 Axes>"
      ]
     },
     "metadata": {
      "needs_background": "light"
     },
     "output_type": "display_data"
    }
   ],
   "source": [
    "fig, ax = plt.subplots(1,1, figsize=(12,4))\n",
    "ax = plt.hist(drug_percent_use['heroin_%users'], color='C3', alpha=0.3, bins=7, label = 'heroin users')\n",
    "ax = plt.hist(drug_percent_use['crack_%users'], color='C0', alpha=0.3, bins=7, label = 'crack users')\n",
    "plt.axvline(x=drug_percent_use['crack_%users'].mean(), color='C0', linestyle='--', label='mean crack user %')\n",
    "plt.axvline(x=drug_percent_use['heroin_%users'].mean(), color='C3', linestyle='--', label='mean heroin user %')\n",
    "fig.suptitle('Distribution Graph for Crack and Heroin % Users in Overall Sample', fontsize=18)\n",
    "plt.legend();"
   ]
  },
  {
   "cell_type": "code",
   "execution_count": 55,
   "metadata": {},
   "outputs": [
    {
     "data": {
      "text/plain": [
       "0.7507903240416459"
      ]
     },
     "execution_count": 55,
     "metadata": {},
     "output_type": "execute_result"
    }
   ],
   "source": [
    "np.corrcoef(drug_percent_use['crack_%users'], drug_percent_use['heroin_%users'])[0][1]"
   ]
  },
  {
   "cell_type": "markdown",
   "metadata": {},
   "source": [
    "*Looking at the above graph we can see that higher occurences of both crack and heroin appear in similar percentage groups (0-0.2% and 0.4-0.6% respectively). Also, the means of both distributions are quite close.*\n",
    "\n",
    "*Moreover, heroin use and crack use appear to have moderately high positive correlation.*"
   ]
  },
  {
   "cell_type": "markdown",
   "metadata": {},
   "source": [
    "### *Hypothesis Testing:*"
   ]
  },
  {
   "cell_type": "code",
   "execution_count": 56,
   "metadata": {},
   "outputs": [
    {
     "name": "stdout",
     "output_type": "stream",
     "text": [
      "t-statistic = -0.5935214599909907\n",
      "p-value = 0.5570045817367291\n"
     ]
    }
   ],
   "source": [
    "tstat, pval = stats.ttest_ind(drug_percent_use['crack_%users'], drug_percent_use['heroin_%users'])\n",
    "print(\"t-statistic =\", tstat)\n",
    "print(\"p-value =\", pval)"
   ]
  },
  {
   "cell_type": "markdown",
   "metadata": {},
   "source": [
    "**Report**\n",
    "\n",
    "\n",
    "\n",
    "..."
   ]
  },
  {
   "cell_type": "markdown",
   "metadata": {},
   "source": [
    "## HYPOTHESIS TEST REPORT\n",
    "\n",
    "### 1.0 Hypothesis To Be Tested\n",
    "\n",
    "This report presents the results of the hyposthesis that the average of percent users by total population are the same for crack and heroin.\n",
    "\n",
    "The mathematical notation for the null hypothesis and alternate hypothesis for this can be presented as below:\n",
    ">***H0:***:$\\bar{x}_{crack} =  \\bar{x}_{herion}$\n",
    ">\n",
    ">*(The average percent use by population of crack is the same as that for heroin.)*\n",
    "\n",
    ">***H1:***:$\\bar{x}_{crack} <>  \\bar{x}_{heroin}$\n",
    ">\n",
    ">*(The average percent use by population of crack is different than that of heroin.)*\n",
    "\n",
    "\n",
    "### 2.0 Sample Details\n",
    "\n",
    "The samples for crack and herion usage have a size of 17 observations. Each observation is a percent usage by sample population within a certain age (total 17 age groups, hence 17 observations). The average of each observation column will give us the average percentage use of each drug over all age groups.\n",
    "\n",
    "The purpose of this test is to identify whether there is any significant difference in the overall users of crack and heroin by percent population over all age groups.\n",
    "\n",
    "### 3.0 Methodology & Assumptions\n",
    "\n",
    "Due to the small sample size, we will conduct a Student's T-test to indentify the statistical significance in the difference of means of the two groups. This will be considered a **two-tailed** test as the difference in the group means may be either negative or positive.\n",
    "\n",
    "Since we do not know the population parameters for drug use of these two products, we will assume the variance of both populations to be statistically similar.\n",
    "\n",
    "### 4.0 Calculation Results\n",
    "\n",
    "The results calculated by the T-test are as follows:\n",
    "1. T-statistic: -0.5935\n",
    "2. P-value: 0.557\n",
    "\n",
    "### 5.0 Conclusion\n",
    "\n",
    "**Using an alpha of 0.05 (95% Confidence Interval)**, we fail to reject the null hypothesis since the p-value is greater than our selected alpha."
   ]
  },
  {
   "cell_type": "markdown",
   "metadata": {},
   "source": [
    "<img src=\"http://imgur.com/xDpSobf.png\" style=\"float: left; margin: 25px 15px 0px 0px; height: 25px\">\n",
    "\n",
    "## 8. Introduction to dealing with outliers\n",
    "\n",
    "---\n",
    "\n",
    "Outliers are an interesting problem in statistics, in that there is not an agreed upon best way to define them. Subjectivity in selecting and analyzing data is a problem that will recur throughout the course.\n",
    "\n",
    "1. Pull out the rate variable from the sat dataset.\n",
    "2. Are there outliers in the dataset? Define, in words, how you _numerically define outliers._\n",
    "3. Print out the outliers in the dataset.\n",
    "4. Remove the outliers from the dataset.\n",
    "5. Compare the mean, median, and standard deviation of the \"cleaned\" data without outliers to the original. What is different about them and why?"
   ]
  },
  {
   "cell_type": "code",
   "execution_count": 57,
   "metadata": {},
   "outputs": [],
   "source": [
    "sat_rate = sat_df['Rate'].copy()"
   ]
  },
  {
   "cell_type": "code",
   "execution_count": 58,
   "metadata": {},
   "outputs": [],
   "source": [
    "# Calculating the upper and lower boundaries (1.5 times IQR from the 25th and 75th percentile)\n",
    "sat_rate_q1 = np.percentile(sat_rate, 25)\n",
    "sat_rate_q3 = np.percentile(sat_rate, 75)\n",
    "sat_rate_iqr = sat_rate_q3 - sat_rate_q1\n",
    "sat_rate_upper_range = sat_rate_q3+(sat_rate_iqr*1.5)\n",
    "sat_rate_lower_range = sat_rate_q1-(sat_rate_iqr*1.5)"
   ]
  },
  {
   "cell_type": "code",
   "execution_count": 59,
   "metadata": {},
   "outputs": [
    {
     "data": {
      "text/plain": [
       "Series([], Name: Rate, dtype: int64)"
      ]
     },
     "execution_count": 59,
     "metadata": {},
     "output_type": "execute_result"
    }
   ],
   "source": [
    "# Print all values outside of the upper or lower ranges\n",
    "sat_rate[(sat_rate > sat_rate_upper_range) | (sat_rate < sat_rate_lower_range)]"
   ]
  },
  {
   "cell_type": "markdown",
   "metadata": {},
   "source": [
    "*Outliers are calculated as either above q3 + 1.5 times the IQR, or q1 - 1.5 times the IQR.*\n",
    "\n",
    "*As per the calculations, there are no outliers in the Rate columns.*"
   ]
  },
  {
   "cell_type": "markdown",
   "metadata": {},
   "source": [
    "<img src=\"http://imgur.com/GCAf1UX.png\" style=\"float: left; margin: 25px 15px 0px 0px; height: 25px\">\n",
    "\n",
    "### 9. Percentile scoring and spearman rank correlation\n",
    "\n",
    "---\n",
    "\n",
    "### 9.1 Calculate the spearman correlation of sat `Verbal` and `Math`\n",
    "\n",
    "1. How does the spearman correlation compare to the pearson correlation? \n",
    "2. Describe clearly in words the process of calculating the spearman rank correlation.\n",
    "  - Hint: the word \"rank\" is in the name of the process for a reason!\n"
   ]
  },
  {
   "cell_type": "code",
   "execution_count": 60,
   "metadata": {},
   "outputs": [
    {
     "data": {
      "text/plain": [
       "SpearmanrResult(correlation=0.9052048847940284, pvalue=3.235231959777518e-20)"
      ]
     },
     "execution_count": 60,
     "metadata": {},
     "output_type": "execute_result"
    }
   ],
   "source": [
    "stats.spearmanr(sat_df['Verbal'], sat_df['Math'])"
   ]
  },
  {
   "cell_type": "markdown",
   "metadata": {},
   "source": [
    "### Answer:\n",
    "***Pearson***\n",
    "\n",
    "*The Pearson correlation is a measure of the magnitude and direction of the **linear** relationship between two variables. It assumes that the population is normally distributed, however it is significantly affected by outliers since it uses deviation-from-mean as a factor for computation. Pearson's can be utilized for ratio or interval data.*\n",
    "\n",
    "***Spearman***\n",
    "\n",
    "*The Spearman correlation is a measure of the magnitude and direction of the **monotonic** relationship between two variables (e.g. whether 'y' continually increases or continually decreases with increasing 'x', regardless of linearity). This is computed using the difference in rank of the sorted variable sets (as compared to the absolute value of observations used by Pearson). This method reduces the bias of outlier effects on the correlation calculation. In addition to ratio and interval data, Spearman's rho can also be used for ordinal data (assuming the data can be ranked), and does not require the population to be normally distributed.*"
   ]
  },
  {
   "cell_type": "markdown",
   "metadata": {},
   "source": [
    "### 9.2 Percentile scoring\n",
    "\n",
    "Look up percentile scoring of data. In other words, the conversion of numeric data to their equivalent percentile scores.\n",
    "\n",
    "http://docs.scipy.org/doc/numpy-dev/reference/generated/numpy.percentile.html\n",
    "\n",
    "http://docs.scipy.org/doc/scipy/reference/generated/scipy.stats.percentileofscore.html\n",
    "\n",
    "1. Convert `Rate` to percentiles in the sat scores as a new column.\n",
    "2. Show the percentile of California in `Rate`.\n",
    "3. How is percentile related to the spearman rank correlation?"
   ]
  },
  {
   "cell_type": "code",
   "execution_count": 61,
   "metadata": {},
   "outputs": [],
   "source": [
    "# Add percentile column for Rate\n",
    "sat_df['RatePercentile'] = [stats.percentileofscore(sat_df['Rate'].sort_values().tolist(), x) for x in sat_df['Rate']]"
   ]
  },
  {
   "cell_type": "code",
   "execution_count": 62,
   "metadata": {},
   "outputs": [
    {
     "data": {
      "text/html": [
       "<div>\n",
       "<style scoped>\n",
       "    .dataframe tbody tr th:only-of-type {\n",
       "        vertical-align: middle;\n",
       "    }\n",
       "\n",
       "    .dataframe tbody tr th {\n",
       "        vertical-align: top;\n",
       "    }\n",
       "\n",
       "    .dataframe thead th {\n",
       "        text-align: right;\n",
       "    }\n",
       "</style>\n",
       "<table border=\"1\" class=\"dataframe\">\n",
       "  <thead>\n",
       "    <tr style=\"text-align: right;\">\n",
       "      <th></th>\n",
       "      <th>State</th>\n",
       "      <th>Rate</th>\n",
       "      <th>Verbal</th>\n",
       "      <th>Math</th>\n",
       "      <th>Verbal - Math</th>\n",
       "      <th>RatePercentile</th>\n",
       "    </tr>\n",
       "  </thead>\n",
       "  <tbody>\n",
       "    <tr>\n",
       "      <th>23</th>\n",
       "      <td>CA</td>\n",
       "      <td>51</td>\n",
       "      <td>498</td>\n",
       "      <td>517</td>\n",
       "      <td>-19</td>\n",
       "      <td>56.730769</td>\n",
       "    </tr>\n",
       "  </tbody>\n",
       "</table>\n",
       "</div>"
      ],
      "text/plain": [
       "   State  Rate  Verbal  Math  Verbal - Math  RatePercentile\n",
       "23    CA    51     498   517            -19       56.730769"
      ]
     },
     "execution_count": 62,
     "metadata": {},
     "output_type": "execute_result"
    }
   ],
   "source": [
    "# Check row entry for California\n",
    "sat_df[sat_df['State']=='CA']"
   ]
  },
  {
   "cell_type": "markdown",
   "metadata": {},
   "source": [
    "*California has 56.730769 percentile of Rate score.*"
   ]
  },
  {
   "cell_type": "markdown",
   "metadata": {},
   "source": [
    "*Spearman's correlation uses the **sorted rank** for the values the observation sets, which can also be denoted by their respective percentiles. A demonstration is as follows:*"
   ]
  },
  {
   "cell_type": "code",
   "execution_count": 63,
   "metadata": {},
   "outputs": [
    {
     "data": {
      "text/plain": [
       "SpearmanrResult(correlation=-0.8332941751758289, pvalue=1.8007540456756275e-14)"
      ]
     },
     "execution_count": 63,
     "metadata": {},
     "output_type": "execute_result"
    }
   ],
   "source": [
    "# Spearman's correlation between Rate and Verbal\n",
    "stats.spearmanr(sat_df['Rate'], sat_df['Verbal'])"
   ]
  },
  {
   "cell_type": "code",
   "execution_count": 64,
   "metadata": {},
   "outputs": [
    {
     "data": {
      "text/plain": [
       "(-0.8332941751758289, 1.800754045675635e-14)"
      ]
     },
     "execution_count": 64,
     "metadata": {},
     "output_type": "execute_result"
    }
   ],
   "source": [
    "# New list of percentiles of Verbal column\n",
    "verbal_percentiles = [stats.percentileofscore(sat_df['Verbal'].sort_values().tolist(), x) for x in sat_df['Verbal']]\n",
    "\n",
    "# Pearson's correlation of Rate and Verbal percentile arrays\n",
    "stats.pearsonr(sat_df['RatePercentile'], verbal_percentiles)"
   ]
  },
  {
   "cell_type": "markdown",
   "metadata": {},
   "source": [
    "*From the above, we can see that the Spearman's correlation of two arrays is simply the **Pearson's Correlation of the percentiles** for those arrays.*"
   ]
  },
  {
   "cell_type": "markdown",
   "metadata": {},
   "source": [
    "### 9.3 Percentiles and outliers\n",
    "\n",
    "1. Why might percentile scoring be useful for dealing with outliers?\n",
    "2. Plot the distribution of a variable of your choice from the drug use dataset.\n",
    "3. Plot the same variable but percentile scored.\n",
    "4. Describe the effect, visually, of coverting raw scores to percentile."
   ]
  },
  {
   "cell_type": "markdown",
   "metadata": {},
   "source": [
    "*Since outliers are situated far away from the main cluster of obsevations, they have a tendency to skew the aggregates of the sample, for example outliers may affect the mean or the Pearson's correlation since it looks for aggregation over **all available observations** in a sample distribution. In contrast, percentile scoring works on the **number of observations** below a certain amount of total observations in a sorted sample, giving a clearer picture of the distribution of the sample.*\n",
    "\n",
    "*Below are two line plots showing the distributions of the original data of heroin use compared to their percentile values.*"
   ]
  },
  {
   "cell_type": "code",
   "execution_count": 100,
   "metadata": {},
   "outputs": [
    {
     "data": {
      "image/png": "[encoded data removed]",
      "text/plain": [
       "<Figure size 864x360 with 1 Axes>"
      ]
     },
     "metadata": {
      "needs_background": "light"
     },
     "output_type": "display_data"
    }
   ],
   "source": [
    "# Create subplot\n",
    "fig, ax = plt.subplots(1,1, figsize=(12,5))\n",
    "\n",
    "# Calculate Percentiles for the heroin median use\n",
    "heroin_percentiles = [stats.percentileofscore(drug_median_use['heroin_median_use'].sort_values().tolist(), x)\n",
    "                      for x in drug_median_use['heroin_median_use']]\n",
    "\n",
    "# Calculate median and 1.5*IQR boundaries for the original data\n",
    "heroin_median = drug_median_use['heroin_median_use'].median()\n",
    "heroin_25 = np.percentile(drug_median_use['heroin_median_use'], 25) \n",
    "heroin_75 = np.percentile(drug_median_use['heroin_median_use'], 75) \n",
    "heroin_upper_bound = heroin_75 + 1.5*(heroin_75-heroin_25)\n",
    "heroin_lower_bound = heroin_25 - 1.5*(heroin_75-heroin_25)\n",
    "\n",
    "# Create line plots for original and percentile data\n",
    "sns.lineplot(y=drug_median_use['heroin_median_use'], x=drug_median_use['sample_age'], ax=ax, lw=2, label='herion use');\n",
    "sns.lineplot(y=heroin_percentiles, x=drug_median_use['sample_age'], lw=2, label='heroin use (percentile)')\n",
    "\n",
    "# Plot median lines and 1.5*IQR boundaries for original data\n",
    "plt.axhline(heroin_upper_bound, color='C2', ls='-.', lw=1, alpha=1, label='1.5*IQR of heroin use')\n",
    "plt.axhline(heroin_median, color='C3', ls='--', lw=1.2, alpha=1, label='Median of heroin use')\n",
    "plt.axhline(heroin_lower_bound, color='C2', ls='-.', lw=1, alpha=1)\n",
    "plt.legend()\n",
    "\n",
    "# Plot Title\n",
    "plt.suptitle('Line Plots of Heroin Use vs. Percentile Heroin Use', fontsize=14);"
   ]
  },
  {
   "cell_type": "markdown",
   "metadata": {},
   "source": [
    "### ***Chart Analysis***\n",
    "\n",
    "*In the above plot, we can observe how the original data points extend beyond the 1.5xIQR range of the median value, resulting in outliers. However, the percentile values are within the 0 and 100 range, removing the outlier effects.*"
   ]
  }
 ],
 "metadata": {
  "kernelspec": {
   "display_name": "Python 3",
   "language": "python",
   "name": "python3"
  },
  "language_info": {
   "codemirror_mode": {
    "name": "ipython",
    "version": 3
   },
   "file_extension": ".py",
   "mimetype": "text/x-python",
   "name": "python",
   "nbconvert_exporter": "python",
   "pygments_lexer": "ipython3",
   "version": "3.7.1"
  },
  "latex_envs": {
   "LaTeX_envs_menu_present": true,
   "autoclose": false,
   "autocomplete": true,
   "bibliofile": "biblio.bib",
   "cite_by": "apalike",
   "current_citInitial": 1,
   "eqLabelWithNumbers": true,
   "eqNumInitial": 1,
   "hotkeys": {
    "equation": "Ctrl-E",
    "itemize": "Ctrl-I"
   },
   "labels_anchors": false,
   "latex_user_defs": false,
   "report_style_numbering": false,
   "user_envs_cfg": false
  },
  "varInspector": {
   "cols": {
    "lenName": 16,
    "lenType": 16,
    "lenVar": 40
   },
   "kernels_config": {
    "python": {
     "delete_cmd_postfix": "",
     "delete_cmd_prefix": "del ",
     "library": "var_list.py",
     "varRefreshCmd": "print(var_dic_list())"
    },
    "r": {
     "delete_cmd_postfix": ") ",
     "delete_cmd_prefix": "rm(",
     "library": "var_list.r",
     "varRefreshCmd": "cat(var_dic_list()) "
    }
   },
   "types_to_exclude": [
    "module",
    "function",
    "builtin_function_or_method",
    "instance",
    "_Feature"
   ],
   "window_display": false
  }
 },
 "nbformat": 4,
 "nbformat_minor": 1
}
