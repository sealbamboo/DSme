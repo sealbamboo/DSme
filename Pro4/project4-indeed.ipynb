{
 "cells": [
  {
   "cell_type": "code",
   "execution_count": 4,
   "metadata": {
    "ExecuteTime": {
     "end_time": "2019-05-06T12:12:04.471969Z",
     "start_time": "2019-05-06T12:12:02.191480Z"
    }
   },
   "outputs": [],
   "source": [
    "from selenium import webdriver\n",
    "from selenium.webdriver.common.keys import Keys\n",
    "from time import sleep \n",
    "\n",
    "browser = webdriver.Chrome('./chromedriver73')"
   ]
  },
  {
   "cell_type": "code",
   "execution_count": 5,
   "metadata": {
    "ExecuteTime": {
     "end_time": "2019-05-06T12:12:08.038918Z",
     "start_time": "2019-05-06T12:12:07.127441Z"
    }
   },
   "outputs": [],
   "source": [
    "# Navigate to target website\n",
    "website = 'https://au.indeed.com/'\n",
    "\n",
    "# Controlled Website\n",
    "browser.get(website)\n",
    "\n",
    "# Set Keyword\n",
    "keyword = 'Data analytics'\n",
    "list_keywords = ['Data analytics','Data Science','business analytics','bussiness intelligent']\n",
    "keywhere = 'Australia'\n",
    "\n",
    "# Jobs per pages\n",
    "jpp = 20\n",
    "\n",
    "# Jobs in totals\n",
    "total = 0"
   ]
  },
  {
   "cell_type": "code",
   "execution_count": 6,
   "metadata": {
    "ExecuteTime": {
     "end_time": "2019-05-06T08:22:45.966677Z",
     "start_time": "2019-05-06T08:22:33.868668Z"
    }
   },
   "outputs": [],
   "source": [
    "# Start Searching\n",
    "searchBar = browser.find_element_by_id(\"text-input-what\")\n",
    "searchBar.send_keys(keyword)\n",
    "\n",
    "# searchWhere = browser.find_element_by_id(\"text-input-where\")\n",
    "# # browser.execute_script(\"arguments[0].value = ''\", searchWhere)\n",
    "# searchWhere.setAttribute(\"value\", keywhere)\n",
    "# # searchWhere.send_keys(keywhere)\n",
    "searchBar.send_keys(Keys.ENTER)\n",
    "sleep(10)"
   ]
  },
  {
   "cell_type": "code",
   "execution_count": 11,
   "metadata": {
    "ExecuteTime": {
     "end_time": "2019-05-06T08:26:42.002269Z",
     "start_time": "2019-05-06T08:26:41.930610Z"
    }
   },
   "outputs": [
    {
     "name": "stdout",
     "output_type": "stream",
     "text": [
      "Total found:  Page 1 of 1,598 jobs\n"
     ]
    }
   ],
   "source": [
    "# Assign the totals job\n",
    "total = browser.find_element_by_css_selector('div#searchCount').text\n",
    "print(\"Total found: \", total)\n",
    "total = int(total.replace('Page 1 of ','').strip('jobs').replace(',',''))\n",
    "list_urls = []\n",
    "# print(browser.find_element_by_css_selector('article h1 a').get_attribute(\"href\"))"
   ]
  },
  {
   "cell_type": "code",
   "execution_count": null,
   "metadata": {},
   "outputs": [],
   "source": [
    "# Save links\n",
    "run_range = round(total/jpp)\n",
    "skip_first = True\n",
    "# main_window = browser.current_window_handle\n",
    "\n",
    "for index in range(200,run_range):\n",
    "    \n",
    "    sleep(5)\n",
    "    \n",
    "#     try:\n",
    "       \n",
    "    \n",
    "    print(\"current [Index]: \", index)\n",
    "    # Query all url accordingly to href    \n",
    "    print(browser.find_element_by_css_selector('article h1 a').get_attribute(\"href\"))\n",
    "    query_links = browser.find_elements_by_css_selector('article h1 a')\n",
    "    # Push to list\n",
    "    print(\"Query length: \", len(query_links))\n",
    "\n",
    "    if skip_first:\n",
    "        print(\"Skip First !!!! \")\n",
    "        navigate_url = website + 'Data-analytics-jobs?page=' + str(index)\n",
    "        browser.get(navigate_url)\n",
    "                   \n",
    "        skip_first = False\n",
    "    else:\n",
    "        # Save the window opener (current window, do not mistaken with tab... not the same)\n",
    "#         browser.switch_to_window(main_window)\n",
    "        for value in query_links:\n",
    "            list_urls.append(value.get_attribute(\"href\"))\n",
    "\n",
    "    print(\"Updated list: \",len(list_urls))\n",
    "\n",
    "\n",
    "    # This url when start\n",
    "    a_href_contain = '//a[contains(@href, \"/Data-analytics-jobs?page=' + str(index+1) + '\")]'\n",
    "    \n",
    "    # After stop by seek.com.au server,\n",
    "    # Start with this\n",
    "#     a_href_contain = '//a[contains(@href, \"/Data-analytics-jobs?page=' + str(index+2) + '\")]'\n",
    "    print(\"Next href: \", a_href_contain)\n",
    "#     pagination = browser.find_element_by_xpath('//a[contains(@href,\"/Data-analytics-jobs?page=2\")')\n",
    "    pagination = browser.find_element_by_xpath(a_href_contain)\n",
    "    pagination.click()\n",
    "\n",
    "#     except:\n",
    "#         pass\n"
   ]
  }
 ],
 "metadata": {
  "kernelspec": {
   "display_name": "Python 3",
   "language": "python",
   "name": "python3"
  },
  "language_info": {
   "codemirror_mode": {
    "name": "ipython",
    "version": 3
   },
   "file_extension": ".py",
   "mimetype": "text/x-python",
   "name": "python",
   "nbconvert_exporter": "python",
   "pygments_lexer": "ipython3",
   "version": "3.6.5"
  },
  "toc": {
   "base_numbering": 1,
   "nav_menu": {},
   "number_sections": true,
   "sideBar": true,
   "skip_h1_title": false,
   "title_cell": "Table of Contents",
   "title_sidebar": "Contents",
   "toc_cell": false,
   "toc_position": {},
   "toc_section_display": true,
   "toc_window_display": false
  }
 },
 "nbformat": 4,
 "nbformat_minor": 2
}
