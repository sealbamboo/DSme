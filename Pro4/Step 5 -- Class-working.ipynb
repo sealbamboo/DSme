{
 "cells": [
  {
   "cell_type": "code",
   "execution_count": 1,
   "metadata": {
    "ExecuteTime": {
     "end_time": "2019-05-17T07:55:54.655095Z",
     "start_time": "2019-05-17T07:55:54.649265Z"
    }
   },
   "outputs": [],
   "source": [
    "# Indusries\n",
    "# Job Categories\n",
    "# Locations ==> Suburb (optional)\n",
    "# Job Title ==> Do (10) categories (cleaning) ==> Count Vectorizer\n",
    "# Work Type\n",
    "# Dates <== missing\n",
    "# Job Description\n",
    "\n",
    "# =============================================\n",
    "#### Dummies\n",
    "# =============================================\n",
    "# ==> Industries\n",
    "# ==> Location\n",
    "# ==> Job Title\n",
    "\n",
    "# =============================================\n",
    "#### CountVectorizer\n",
    "# =============================================\n",
    "# ==> Job Title ==> Experiences columns (Senior, Junior, Entry-level)\n",
    "\n",
    "\n",
    "# Step 1. Do Linear Regression"
   ]
  },
  {
   "cell_type": "code",
   "execution_count": 2,
   "metadata": {
    "ExecuteTime": {
     "end_time": "2019-05-17T07:55:54.671111Z",
     "start_time": "2019-05-17T07:55:54.659570Z"
    }
   },
   "outputs": [],
   "source": [
    "####\n",
    "# Step 0: graph salary distribution (neg, pos skew)\n",
    "# ==> EDA:\n",
    "#     Contract DS (140 - 200k)\n",
    "#     Contract DA (45 - 60k)\n",
    "#     Contract (25%) | Fulltime (75%)\n",
    "#     Industries (20-30) ==> to (10-15)\n",
    "#     Job Titles ==> (DS [Junior, Senior/Manager, just DS], \n",
    "#                     DA [Junior, Senior/Manager, just DA]\n",
    "#                     DE [Junior, Senior/Manager, just DE])\n",
    "#                 ==> to (12-15)\n",
    "#     Categories (200) ==> to (20)\n",
    "\n",
    "# Step 1: Regression Problems\n",
    "# ==> issues: \n",
    "#     not good model\n",
    "# ==> treat as classification problem\n"
   ]
  },
  {
   "cell_type": "code",
   "execution_count": 3,
   "metadata": {
    "ExecuteTime": {
     "end_time": "2019-05-17T07:55:55.189907Z",
     "start_time": "2019-05-17T07:55:54.675453Z"
    }
   },
   "outputs": [],
   "source": [
    "import pandas as pd\n",
    "import numpy as np\n",
    "import re\n",
    "\n",
    "# Folder\n",
    "target_file = './training/training_next_16052019.csv'"
   ]
  },
  {
   "cell_type": "code",
   "execution_count": 4,
   "metadata": {
    "ExecuteTime": {
     "end_time": "2019-05-17T07:55:55.300656Z",
     "start_time": "2019-05-17T07:55:55.193344Z"
    }
   },
   "outputs": [
    {
     "data": {
      "text/html": [
       "<div>\n",
       "<style scoped>\n",
       "    .dataframe tbody tr th:only-of-type {\n",
       "        vertical-align: middle;\n",
       "    }\n",
       "\n",
       "    .dataframe tbody tr th {\n",
       "        vertical-align: top;\n",
       "    }\n",
       "\n",
       "    .dataframe thead th {\n",
       "        text-align: right;\n",
       "    }\n",
       "</style>\n",
       "<table border=\"1\" class=\"dataframe\">\n",
       "  <thead>\n",
       "    <tr style=\"text-align: right;\">\n",
       "      <th></th>\n",
       "      <th>content</th>\n",
       "      <th>industries</th>\n",
       "      <th>location</th>\n",
       "      <th>title</th>\n",
       "      <th>type_empl</th>\n",
       "      <th>url</th>\n",
       "      <th>wage</th>\n",
       "    </tr>\n",
       "  </thead>\n",
       "  <tbody>\n",
       "    <tr>\n",
       "      <th>0</th>\n",
       "      <td>Over the last 2 years this business has been s...</td>\n",
       "      <td>Information &amp; Communication Technology</td>\n",
       "      <td>Brisbane, CBD &amp; Inner Suburbs</td>\n",
       "      <td>Data Scientist Job in Brisbane - SEEK</td>\n",
       "      <td>Full Time</td>\n",
       "      <td>https://www.seek.com.au/job/38892320?type=stan...</td>\n",
       "      <td>87575</td>\n",
       "    </tr>\n",
       "    <tr>\n",
       "      <th>1</th>\n",
       "      <td>The Data Architect is responsible for enterpri...</td>\n",
       "      <td>Information &amp; Communication Technology</td>\n",
       "      <td>Brisbane, CBD &amp; Inner Suburbs</td>\n",
       "      <td>Data Architect Job in Brisbane - SEEK</td>\n",
       "      <td>Full Time</td>\n",
       "      <td>https://www.seek.com.au/job/39015289?type=stan...</td>\n",
       "      <td>114181</td>\n",
       "    </tr>\n",
       "    <tr>\n",
       "      <th>2</th>\n",
       "      <td>About AFSA The Australian Financial Security A...</td>\n",
       "      <td>Information &amp; Communication Technology</td>\n",
       "      <td>Brisbane, CBD &amp; Inner Suburbs</td>\n",
       "      <td>Applications Developer Enterprise Data Warehou...</td>\n",
       "      <td>Full Time</td>\n",
       "      <td>https://www.seek.com.au/job/38935314?type=stan...</td>\n",
       "      <td>87747</td>\n",
       "    </tr>\n",
       "    <tr>\n",
       "      <th>3</th>\n",
       "      <td>The Data Engineer (Cloud/Data Lake) will play ...</td>\n",
       "      <td>Information &amp; Communication Technology</td>\n",
       "      <td>Brisbane, CBD &amp; Inner Suburbs</td>\n",
       "      <td>Data Engineer - Cloud / Data Lake Job in Brisb...</td>\n",
       "      <td>Full Time</td>\n",
       "      <td>https://www.seek.com.au/job/39015517?type=stan...</td>\n",
       "      <td>114181</td>\n",
       "    </tr>\n",
       "    <tr>\n",
       "      <th>4</th>\n",
       "      <td>About AFSA The Australian Financial Security A...</td>\n",
       "      <td>Information &amp; Communication Technology</td>\n",
       "      <td>Brisbane, CBD &amp; Inner Suburbs</td>\n",
       "      <td>Applications Developer Enterprise Data Warehou...</td>\n",
       "      <td>Full Time</td>\n",
       "      <td>https://www.seek.com.au/job/38935330?type=stan...</td>\n",
       "      <td>87747</td>\n",
       "    </tr>\n",
       "  </tbody>\n",
       "</table>\n",
       "</div>"
      ],
      "text/plain": [
       "                                             content  \\\n",
       "0  Over the last 2 years this business has been s...   \n",
       "1  The Data Architect is responsible for enterpri...   \n",
       "2  About AFSA The Australian Financial Security A...   \n",
       "3  The Data Engineer (Cloud/Data Lake) will play ...   \n",
       "4  About AFSA The Australian Financial Security A...   \n",
       "\n",
       "                               industries                       location  \\\n",
       "0  Information & Communication Technology  Brisbane, CBD & Inner Suburbs   \n",
       "1  Information & Communication Technology  Brisbane, CBD & Inner Suburbs   \n",
       "2  Information & Communication Technology  Brisbane, CBD & Inner Suburbs   \n",
       "3  Information & Communication Technology  Brisbane, CBD & Inner Suburbs   \n",
       "4  Information & Communication Technology  Brisbane, CBD & Inner Suburbs   \n",
       "\n",
       "                                               title  type_empl  \\\n",
       "0              Data Scientist Job in Brisbane - SEEK  Full Time   \n",
       "1              Data Architect Job in Brisbane - SEEK  Full Time   \n",
       "2  Applications Developer Enterprise Data Warehou...  Full Time   \n",
       "3  Data Engineer - Cloud / Data Lake Job in Brisb...  Full Time   \n",
       "4  Applications Developer Enterprise Data Warehou...  Full Time   \n",
       "\n",
       "                                                 url    wage  \n",
       "0  https://www.seek.com.au/job/38892320?type=stan...   87575  \n",
       "1  https://www.seek.com.au/job/39015289?type=stan...  114181  \n",
       "2  https://www.seek.com.au/job/38935314?type=stan...   87747  \n",
       "3  https://www.seek.com.au/job/39015517?type=stan...  114181  \n",
       "4  https://www.seek.com.au/job/38935330?type=stan...   87747  "
      ]
     },
     "execution_count": 4,
     "metadata": {},
     "output_type": "execute_result"
    }
   ],
   "source": [
    "frame = pd.read_csv(target_file, sep='|')\n",
    "frame.head()"
   ]
  },
  {
   "cell_type": "code",
   "execution_count": 5,
   "metadata": {
    "ExecuteTime": {
     "end_time": "2019-05-17T07:55:55.313279Z",
     "start_time": "2019-05-17T07:55:55.303839Z"
    }
   },
   "outputs": [],
   "source": [
    "# Split Suburb out of content\n",
    "def get_main_location(regex, sample):\n",
    "#     print(\"In:\", sample)\n",
    "    result = re.search(regex, str(sample))\n",
    "\n",
    "    if result:\n",
    "#         print(result[0])\n",
    "        result = result[0]\n",
    "        result = result.replace(\",\",\"\").lstrip().rstrip()\n",
    "        return result\n",
    "    elif len(str(sample)) > 3:\n",
    "        return str(sample)\n",
    "    return ''\n",
    "\n",
    "# \n",
    "def get_suburb(regex, sample):\n",
    "    result = re.sub(regex,\"\",str(sample))\n",
    "    \n",
    "    return result"
   ]
  },
  {
   "cell_type": "code",
   "execution_count": 6,
   "metadata": {
    "ExecuteTime": {
     "end_time": "2019-05-17T07:55:55.340467Z",
     "start_time": "2019-05-17T07:55:55.317586Z"
    }
   },
   "outputs": [
    {
     "data": {
      "text/plain": [
       "Sydney, CBD, Inner West & Eastern Suburbs      511\n",
       "Melbourne, CBD & Inner Suburbs                 200\n",
       "Sydney                                          87\n",
       "Brisbane, CBD & Inner Suburbs                   79\n",
       "Sydney, North Shore & Northern Beaches          73\n",
       "Sydney, Parramatta & Western Suburbs            72\n",
       "Melbourne                                       40\n",
       "Melbourne, Bayside & South Eastern Suburbs      38\n",
       "Sydney, Ryde & Macquarie Park                   30\n",
       "Brisbane                                        26\n",
       "Melbourne, Western Suburbs                      22\n",
       "Melbourne, Eastern Suburbs                      19\n",
       "Sydney, South West & M5 Corridor                14\n",
       "Melbourne, Northern Suburbs                     10\n",
       "Sydney, Southern Suburbs & Sutherland Shire     10\n",
       "Sydney, North West & Hills District              9\n",
       "Brisbane, Northern Suburbs                       7\n",
       "Brisbane, Southern Suburbs & Logan               5\n",
       "Brisbane, Bayside & Eastern Suburbs              5\n",
       "Brisbane, Western Suburbs & Ipswich              4\n",
       "Name: location, dtype: int64"
      ]
     },
     "execution_count": 6,
     "metadata": {},
     "output_type": "execute_result"
    }
   ],
   "source": [
    "frame['location'].value_counts()"
   ]
  },
  {
   "cell_type": "code",
   "execution_count": 7,
   "metadata": {
    "ExecuteTime": {
     "end_time": "2019-05-17T07:55:55.373810Z",
     "start_time": "2019-05-17T07:55:55.343619Z"
    }
   },
   "outputs": [],
   "source": [
    "frame['suburb'] = frame['location'].map(lambda row: get_suburb(r\"(^[A-Za-z]+, )\",row))\n",
    "frame['location'] = frame['location'].map(lambda row: get_main_location(r\"(^[A-Za-z]+, )\",row))"
   ]
  },
  {
   "cell_type": "code",
   "execution_count": 8,
   "metadata": {
    "ExecuteTime": {
     "end_time": "2019-05-17T07:55:55.396236Z",
     "start_time": "2019-05-17T07:55:55.376772Z"
    }
   },
   "outputs": [
    {
     "data": {
      "text/plain": [
       "Sydney       806\n",
       "Melbourne    329\n",
       "Brisbane     126\n",
       "Name: location, dtype: int64"
      ]
     },
     "execution_count": 8,
     "metadata": {},
     "output_type": "execute_result"
    }
   ],
   "source": [
    "frame['location'].value_counts()"
   ]
  },
  {
   "cell_type": "code",
   "execution_count": 9,
   "metadata": {
    "ExecuteTime": {
     "end_time": "2019-05-17T07:55:55.428732Z",
     "start_time": "2019-05-17T07:55:55.398924Z"
    },
    "scrolled": true
   },
   "outputs": [
    {
     "data": {
      "text/plain": [
       "Data Analyst                                                            15\n",
       "Business Analyst                                                        14\n",
       "Senior Business Analyst                                                 13\n",
       "Test Analyst                                                             8\n",
       "Financial Analyst                                                        8\n",
       "Data Scientist                                                           7\n",
       "Postdoctoral Research Fellow                                             7\n",
       "Senior Data Scientist                                                    6\n",
       "Campaign Analyst                                                         5\n",
       "Senior Commercial Analyst                                                5\n",
       "Campaign Project Officer                                                 5\n",
       "Commercial Analyst                                                       5\n",
       "Finance Analyst                                                          4\n",
       "Manager Project Delivery                                                 4\n",
       "Senior Researcher and Team Leader, Information Security and Privacy      4\n",
       "Software Engineer                                                        4\n",
       "Big Data Engineer                                                        4\n",
       "Software Engineer (NodeJS, React, AWS)                                   4\n",
       "Java Developer                                                           4\n",
       "Lecturer/Senior Lecturer in Cyber Security - Cryptography/Automation     4\n",
       "Data Engineer                                                            4\n",
       "PROJECT COORDINATOR - ACADEMIC INTEGRITY                                 4\n",
       "DevOps Engineer - AWS                                                    4\n",
       "Technical Business Analyst                                               4\n",
       "Senior Product Manager | Mortgages                                       4\n",
       "Senior Advisor Human Resources                                           4\n",
       "LECTURER/SENIOR LECTURER/ASSOCIATE PROFESSOR IN GENERAL PRACTICE         3\n",
       "Research Assistant                                                       3\n",
       "Sr APJ Marketing Analytics Manager                                       3\n",
       "Systems Analyst                                                          3\n",
       "                                                                        ..\n",
       "Legal Technology/Ediscovery Consultant (5-10+years)                      1\n",
       "Analyst, Campaign Analytics                                              1\n",
       "Conference Producer-Product Development                                  1\n",
       "Master Data Specialist                                                   1\n",
       "Management Accountant - FMCG (Chinese Speaking)                          1\n",
       "Production Supervisor                                                    1\n",
       "Performance Manager                                                      1\n",
       "Marketing Optimisation Analyst                                           1\n",
       "Risk Co-ordinator                                                        1\n",
       "Financial Accountant                                                     1\n",
       "Talend ETL Developer                                                     1\n",
       "eDiscovery Specialist                                                    1\n",
       "SEO Account Manager                                                      1\n",
       "MDM Informatica Solution Architect                                       1\n",
       "Associate Project Manager                                                1\n",
       "BI Reporting and Analytics Developer                                     1\n",
       "Head of Insights & Analytics - Digital Media                             1\n",
       "Java Developer - Support Engineer                                        1\n",
       "Aspiring Big Data Engineer                                               1\n",
       "Senior Recruiter (7 month fixed term contract)                           1\n",
       "HCM Reporting Analyst                                                    1\n",
       "Qlikview Developer                                                       1\n",
       "Business Analyst - Oracle Upgrade                                        1\n",
       "Inside Sales Specialist                                                  1\n",
       "Complaints Reporting & Insights Consultant                               1\n",
       "Junior Data Engineer - Azure - Spark - Scala                             1\n",
       "Assistant Analyst - Superannuation                                       1\n",
       "Senior Data Modeller / Architect                                         1\n",
       "Senior Software Engineer                                                 1\n",
       "Commercial Finance Analyst                                               1\n",
       "Name: title, Length: 940, dtype: int64"
      ]
     },
     "execution_count": 9,
     "metadata": {},
     "output_type": "execute_result"
    }
   ],
   "source": [
    "frame['title'] = frame['title'].map(lambda row: row[:(row.find(\"Job\")-1)])\n",
    "frame['title'].value_counts()"
   ]
  },
  {
   "cell_type": "code",
   "execution_count": 12,
   "metadata": {
    "ExecuteTime": {
     "end_time": "2019-05-17T08:08:27.840458Z",
     "start_time": "2019-05-17T08:08:27.834038Z"
    },
    "scrolled": true
   },
   "outputs": [],
   "source": [
    "fields = ['Data Analyst','Data Science','Data Scientist']\n",
    "experiences = ['Senior','Sr','Jr','Junior','Manager','Supervisor','Lead']\n",
    "developers = ['Engineer']"
   ]
  },
  {
   "cell_type": "code",
   "execution_count": 17,
   "metadata": {
    "ExecuteTime": {
     "end_time": "2019-05-17T08:10:21.905251Z",
     "start_time": "2019-05-17T08:10:21.877995Z"
    }
   },
   "outputs": [
    {
     "data": {
      "text/plain": [
       "                                                                         867\n",
       "Business Analyst                                                          16\n",
       "Data Scientist                                                             8\n",
       "Analyst                                                                    5\n",
       "Commercial Analyst                                                         5\n",
       "Advisor Human Resources                                                    4\n",
       "Data Analyst                                                               4\n",
       "Lecturer/ Lecturer in Cyber Security - Cryptography/Automation             4\n",
       "Researcher and Team Leader, Information Security and Privacy               4\n",
       "Product Manager | Mortgages                                                4\n",
       "Project Delivery                                                           4\n",
       "Product Manager                                                            3\n",
       "APJ Marketing Analytics Manager                                            3\n",
       "Financial Analyst                                                          3\n",
       "Partnership  - Life Insurance                                              3\n",
       "Python Developer - Financial Markets                                       3\n",
       "National Account  - Coles                                                  3\n",
       "Full Stack Developer (.net, C#)                                            3\n",
       "Project                                                                    3\n",
       "Financial Accountant | Fintech / Botany                                    3\n",
       "Account Manager                                                            3\n",
       "Software Engineer (Full Stack Developer)                                   2\n",
       "Test Analyst                                                               2\n",
       "CRM Communications Support Officer                                         2\n",
       "IT Audit  + Data Analytics                                                 2\n",
       "Lecturer /  Lecturer - Immersive Analytics                                 2\n",
       "Lecturers /  Lecturers in Machine Learning and AI                          2\n",
       "Lecturer /  Lecturer - IT for Energy                                       2\n",
       "Academic Programs                                                          2\n",
       "Research Administrative Officer                                            2\n",
       "                                                                        ... \n",
       "Quant Researcher - Data Scientist                                          1\n",
       "Business Development  - Data & Analytics/ Digital / AI / DevOps            1\n",
       "Digital Content                                                            1\n",
       "C++ Developer                                                              1\n",
       "Research Executive - Quantitative                                          1\n",
       "Digital Campaign  x 2 Positions | Melbourne CBD | Contract                 1\n",
       "Administration Officer | NSW Government                                    1\n",
       "1x  AWS DevOps                                                             1\n",
       "Graduate Account                                                           1\n",
       "DevOps /  System Administrator / Infrastructure Support Engineer           1\n",
       "Business Development  - Data Analytics - Financial Services/Insurance      1\n",
       "Actuarial Analyst Life Insurance - 12-month Contract                       1\n",
       "Analytics Consultant / Pre Sales Consultant                                1\n",
       "Associate Project                                                          1\n",
       "Management Accountant                                                      1\n",
       "Pricing  | Lending                                                         1\n",
       "Brand  - Skincare                                                          1\n",
       "Associate/ Data and BI Consultant                                          1\n",
       "Actuarial Analyst - Accident & Health                                      1\n",
       "Program  Data Analytics                                                    1\n",
       "Policy Adviser                                                             1\n",
       "Digital Performance                                                        1\n",
       "IT Business Development                                                    1\n",
       "User Experience Designer, Digital                                          1\n",
       "Marketing  - Cards Loyalty                                                 1\n",
       "Warehouse and Distribution                                                 1\n",
       "Web Analyst - Big Data Analytics                                           1\n",
       "SEO Account Manager                                                        1\n",
       "Financial Analyst | Financial Services                                     1\n",
       "Wintel and Azure Engineer                                                  1\n",
       "Name: experience, Length: 285, dtype: int64"
      ]
     },
     "execution_count": 17,
     "metadata": {},
     "output_type": "execute_result"
    }
   ],
   "source": [
    "def get_exp(title):\n",
    "    for exp in experiences:\n",
    "        if exp in title:\n",
    "            title = title.replace(exp,\"\")\n",
    "            return title.lstrip().rstrip()\n",
    "    return ''\n",
    "    \n",
    "frame['experience'] = frame['title'].map(get_exp)\n",
    "frame['experience'].value_counts()"
   ]
  },
  {
   "cell_type": "code",
   "execution_count": null,
   "metadata": {},
   "outputs": [],
   "source": []
  }
 ],
 "metadata": {
  "kernelspec": {
   "display_name": "Python 3",
   "language": "python",
   "name": "python3"
  },
  "language_info": {
   "codemirror_mode": {
    "name": "ipython",
    "version": 3
   },
   "file_extension": ".py",
   "mimetype": "text/x-python",
   "name": "python",
   "nbconvert_exporter": "python",
   "pygments_lexer": "ipython3",
   "version": "3.6.8"
  }
 },
 "nbformat": 4,
 "nbformat_minor": 2
}
