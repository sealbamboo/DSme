{
 "cells": [
  {
   "cell_type": "code",
   "execution_count": null,
   "metadata": {},
   "outputs": [],
   "source": [
    "# Indusries\n",
    "# Job Categories\n",
    "# Locations ==> Suburb (optional)\n",
    "# Job Title ==> Do (10) categories (cleaning) ==> Count Vectorizer\n",
    "# Work Type\n",
    "# Dates <== missing\n",
    "# Job Description\n",
    "\n",
    "# =============================================\n",
    "#### Dummies\n",
    "# =============================================\n",
    "# ==> Industries\n",
    "# ==> Location\n",
    "# ==> Job Title\n",
    "\n",
    "# =============================================\n",
    "#### CountVectorizer\n",
    "# =============================================\n",
    "# ==> Job Title ==> Experiences columns (Senior, Junior, Entry-level)\n",
    "\n",
    "\n",
    "# Step 1. Do Linear Regression"
   ]
  },
  {
   "cell_type": "code",
   "execution_count": null,
   "metadata": {},
   "outputs": [],
   "source": [
    "####\n",
    "# Step 0: graph salary distribution (neg, pos skew)\n",
    "# ==> EDA:\n",
    "#     Contract DS (140 - 200k)\n",
    "#     Contract DA (45 - 60k)\n",
    "#     Contract (25%) | Fulltime (75%)\n",
    "#     Industries (20-30) ==> to (10-15)\n",
    "#     Job Titles ==> (DS [Junior, Senior/Manager, just DS], \n",
    "#                     DA [Junior, Senior/Manager, just DA]\n",
    "#                     DE [Junior, Senior/Manager, just DE])\n",
    "#                 ==> to (12-15)\n",
    "#     Categories (200) ==> to (20)\n",
    "\n",
    "# Step 1: Regression Problems\n",
    "# ==> issues: \n",
    "#     not good model\n",
    "# ==> treat as classification problem\n"
   ]
  },
  {
   "cell_type": "code",
   "execution_count": null,
   "metadata": {},
   "outputs": [],
   "source": []
  },
  {
   "cell_type": "code",
   "execution_count": null,
   "metadata": {},
   "outputs": [],
   "source": []
  },
  {
   "cell_type": "code",
   "execution_count": null,
   "metadata": {},
   "outputs": [],
   "source": []
  },
  {
   "cell_type": "code",
   "execution_count": null,
   "metadata": {},
   "outputs": [],
   "source": []
  },
  {
   "cell_type": "code",
   "execution_count": null,
   "metadata": {},
   "outputs": [],
   "source": []
  }
 ],
 "metadata": {
  "kernelspec": {
   "display_name": "Python 3",
   "language": "python",
   "name": "python3"
  },
  "language_info": {
   "codemirror_mode": {
    "name": "ipython",
    "version": 3
   },
   "file_extension": ".py",
   "mimetype": "text/x-python",
   "name": "python",
   "nbconvert_exporter": "python",
   "pygments_lexer": "ipython3",
   "version": "3.6.8"
  }
 },
 "nbformat": 4,
 "nbformat_minor": 2
}
