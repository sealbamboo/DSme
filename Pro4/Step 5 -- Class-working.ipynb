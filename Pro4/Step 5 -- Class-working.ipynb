{
 "cells": [
  {
   "cell_type": "code",
   "execution_count": null,
   "metadata": {},
   "outputs": [],
   "source": [
    "# Indusries\n",
    "# Job Categories\n",
    "# Locations ==> Suburb (optional)\n",
    "# Job Title ==> Do (10) categories (cleaning) ==> Count Vectorizer\n",
    "# Work Type\n",
    "# Dates <== missing\n",
    "# Job Description\n",
    "\n",
    "# =============================================\n",
    "#### Dummies\n",
    "# =============================================\n",
    "# ==> Industries\n",
    "# ==> Location\n",
    "# ==> Job Title\n",
    "\n",
    "# =============================================\n",
    "#### CountVectorizer\n",
    "# =============================================\n",
    "# ==> Job Title ==> Experiences columns (Senior, Junior, Entry-level)\n",
    "\n",
    "\n",
    "# Step 1. Do Linear Regression"
   ]
  },
  {
   "cell_type": "code",
   "execution_count": null,
   "metadata": {},
   "outputs": [],
   "source": [
    "####\n",
    "# Step 0: graph salary distribution (neg, pos skew)\n",
    "# ==> EDA:\n",
    "#     Contract DS (140 - 200k)\n",
    "#     Contract DA (45 - 60k)\n",
    "#     Contract (25%) | Fulltime (75%)\n",
    "#     Industries (20-30) ==> to (10-15)\n",
    "#     Job Titles ==> (DS [Junior, Senior/Manager, just DS], \n",
    "#                     DA [Junior, Senior/Manager, just DA]\n",
    "#                     DE [Junior, Senior/Manager, just DE])\n",
    "#                 ==> to (12-15)\n",
    "#     Categories (200) ==> to (20)\n",
    "\n",
    "# Step 1: Regression Problems\n",
    "# ==> issues: \n",
    "#     not good model\n",
    "# ==> treat as classification problem\n"
   ]
  },
  {
   "cell_type": "code",
   "execution_count": 2,
   "metadata": {
    "ExecuteTime": {
     "end_time": "2019-05-17T05:55:37.358018Z",
     "start_time": "2019-05-17T05:55:36.267475Z"
    }
   },
   "outputs": [],
   "source": [
    "import pandas as pd\n",
    "import numpy as np\n",
    "\n",
    "# Folder\n",
    "target_file = './training/training_May-16-2019.csv'"
   ]
  },
  {
   "cell_type": "code",
   "execution_count": 4,
   "metadata": {
    "ExecuteTime": {
     "end_time": "2019-05-17T05:55:45.156850Z",
     "start_time": "2019-05-17T05:55:44.715105Z"
    }
   },
   "outputs": [
    {
     "data": {
      "text/html": [
       "<div>\n",
       "<style scoped>\n",
       "    .dataframe tbody tr th:only-of-type {\n",
       "        vertical-align: middle;\n",
       "    }\n",
       "\n",
       "    .dataframe tbody tr th {\n",
       "        vertical-align: top;\n",
       "    }\n",
       "\n",
       "    .dataframe thead th {\n",
       "        text-align: right;\n",
       "    }\n",
       "</style>\n",
       "<table border=\"1\" class=\"dataframe\">\n",
       "  <thead>\n",
       "    <tr style=\"text-align: right;\">\n",
       "      <th></th>\n",
       "      <th>content</th>\n",
       "      <th>industries</th>\n",
       "      <th>location</th>\n",
       "      <th>title</th>\n",
       "      <th>type_empl</th>\n",
       "      <th>url</th>\n",
       "      <th>wage</th>\n",
       "    </tr>\n",
       "  </thead>\n",
       "  <tbody>\n",
       "    <tr>\n",
       "      <th>0</th>\n",
       "      <td>Queensland Audit Office Investing in analytics...</td>\n",
       "      <td>Information &amp; Communication Technology</td>\n",
       "      <td>Brisbane, CBD &amp; Inner Suburbs</td>\n",
       "      <td>Analyst - Audit Analytics Job in Brisbane - SEEK</td>\n",
       "      <td>Full Time</td>\n",
       "      <td>https://www.seek.com.au/job/38867796?type=prom...</td>\n",
       "      <td>NaN</td>\n",
       "    </tr>\n",
       "    <tr>\n",
       "      <th>1</th>\n",
       "      <td>Our client has a significant track record of d...</td>\n",
       "      <td>Information &amp; Communication Technology</td>\n",
       "      <td>Brisbane, CBD &amp; Inner Suburbs</td>\n",
       "      <td>Data Scientist - Analytics and AI Job in Brisb...</td>\n",
       "      <td>Full Time</td>\n",
       "      <td>https://www.seek.com.au/job/38999685?type=stan...</td>\n",
       "      <td>NaN</td>\n",
       "    </tr>\n",
       "    <tr>\n",
       "      <th>2</th>\n",
       "      <td>Working for this market leader within the Fina...</td>\n",
       "      <td>Information &amp; Communication Technology</td>\n",
       "      <td>Brisbane, CBD &amp; Inner Suburbs</td>\n",
       "      <td>Head of Data Analytics &amp; Performance Job in Br...</td>\n",
       "      <td>Full Time</td>\n",
       "      <td>https://www.seek.com.au/job/38986499?type=stan...</td>\n",
       "      <td>NaN</td>\n",
       "    </tr>\n",
       "    <tr>\n",
       "      <th>3</th>\n",
       "      <td>Full-Time | Permanent | Brisbane CBD About RAC...</td>\n",
       "      <td>Sales</td>\n",
       "      <td>Brisbane, CBD &amp; Inner Suburbs</td>\n",
       "      <td>Senior Data Analytics Consultant Job in Brisba...</td>\n",
       "      <td>Full Time</td>\n",
       "      <td>https://www.seek.com.au/job/38985472?type=stan...</td>\n",
       "      <td>NaN</td>\n",
       "    </tr>\n",
       "    <tr>\n",
       "      <th>4</th>\n",
       "      <td>Queensland Audit Office Investing in analytics...</td>\n",
       "      <td>Science &amp; Technology</td>\n",
       "      <td>Brisbane, CBD &amp; Inner Suburbs</td>\n",
       "      <td>Analyst - Audit Analytics Job in Brisbane - SEEK</td>\n",
       "      <td>Full Time</td>\n",
       "      <td>https://www.seek.com.au/job/39008519?type=stan...</td>\n",
       "      <td>NaN</td>\n",
       "    </tr>\n",
       "  </tbody>\n",
       "</table>\n",
       "</div>"
      ],
      "text/plain": [
       "                                             content  \\\n",
       "0  Queensland Audit Office Investing in analytics...   \n",
       "1  Our client has a significant track record of d...   \n",
       "2  Working for this market leader within the Fina...   \n",
       "3  Full-Time | Permanent | Brisbane CBD About RAC...   \n",
       "4  Queensland Audit Office Investing in analytics...   \n",
       "\n",
       "                               industries                       location  \\\n",
       "0  Information & Communication Technology  Brisbane, CBD & Inner Suburbs   \n",
       "1  Information & Communication Technology  Brisbane, CBD & Inner Suburbs   \n",
       "2  Information & Communication Technology  Brisbane, CBD & Inner Suburbs   \n",
       "3                                   Sales  Brisbane, CBD & Inner Suburbs   \n",
       "4                    Science & Technology  Brisbane, CBD & Inner Suburbs   \n",
       "\n",
       "                                               title  type_empl  \\\n",
       "0   Analyst - Audit Analytics Job in Brisbane - SEEK  Full Time   \n",
       "1  Data Scientist - Analytics and AI Job in Brisb...  Full Time   \n",
       "2  Head of Data Analytics & Performance Job in Br...  Full Time   \n",
       "3  Senior Data Analytics Consultant Job in Brisba...  Full Time   \n",
       "4   Analyst - Audit Analytics Job in Brisbane - SEEK  Full Time   \n",
       "\n",
       "                                                 url wage  \n",
       "0  https://www.seek.com.au/job/38867796?type=prom...  NaN  \n",
       "1  https://www.seek.com.au/job/38999685?type=stan...  NaN  \n",
       "2  https://www.seek.com.au/job/38986499?type=stan...  NaN  \n",
       "3  https://www.seek.com.au/job/38985472?type=stan...  NaN  \n",
       "4  https://www.seek.com.au/job/39008519?type=stan...  NaN  "
      ]
     },
     "execution_count": 4,
     "metadata": {},
     "output_type": "execute_result"
    }
   ],
   "source": [
    "frame = pd.read_csv(target_file, sep='|')\n",
    "frame.head()"
   ]
  },
  {
   "cell_type": "code",
   "execution_count": 7,
   "metadata": {
    "ExecuteTime": {
     "end_time": "2019-05-17T05:58:38.738883Z",
     "start_time": "2019-05-17T05:58:38.721656Z"
    }
   },
   "outputs": [
    {
     "data": {
      "text/plain": [
       "Sydney, CBD, Inner West & Eastern Suburbs      1786\n",
       "Melbourne, CBD & Inner Suburbs                 1120\n",
       "Brisbane, CBD & Inner Suburbs                   456\n",
       "Sydney                                          372\n",
       "Sydney, North Shore & Northern Beaches          283\n",
       "Sydney, Parramatta & Western Suburbs            266\n",
       "Melbourne                                       260\n",
       "Sydney, Ryde & Macquarie Park                   166\n",
       "Brisbane                                        158\n",
       "Melbourne, Bayside & South Eastern Suburbs      148\n",
       "Melbourne, Eastern Suburbs                      146\n",
       "Melbourne, Northern Suburbs                      84\n",
       "Melbourne, Western Suburbs                       70\n",
       "Sydney, North West & Hills District              49\n",
       "Sydney, Southern Suburbs & Sutherland Shire      41\n",
       "Sydney, South West & M5 Corridor                 34\n",
       "Brisbane, Southern Suburbs & Logan               33\n",
       "Brisbane, Northern Suburbs                       21\n",
       "Brisbane, Western Suburbs & Ipswich              13\n",
       "Brisbane, Bayside & Eastern Suburbs              12\n",
       "Name: location, dtype: int64"
      ]
     },
     "execution_count": 7,
     "metadata": {},
     "output_type": "execute_result"
    }
   ],
   "source": [
    "frame['location'].value_counts()"
   ]
  },
  {
   "cell_type": "code",
   "execution_count": null,
   "metadata": {},
   "outputs": [],
   "source": []
  },
  {
   "cell_type": "code",
   "execution_count": null,
   "metadata": {},
   "outputs": [],
   "source": []
  }
 ],
 "metadata": {
  "kernelspec": {
   "display_name": "Python 3",
   "language": "python",
   "name": "python3"
  },
  "language_info": {
   "codemirror_mode": {
    "name": "ipython",
    "version": 3
   },
   "file_extension": ".py",
   "mimetype": "text/x-python",
   "name": "python",
   "nbconvert_exporter": "python",
   "pygments_lexer": "ipython3",
   "version": "3.6.8"
  }
 },
 "nbformat": 4,
 "nbformat_minor": 2
}
