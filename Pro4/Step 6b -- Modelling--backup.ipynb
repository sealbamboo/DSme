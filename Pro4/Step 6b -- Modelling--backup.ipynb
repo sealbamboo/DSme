{
 "cells": [
  {
   "cell_type": "code",
   "execution_count": 1,
   "metadata": {
    "ExecuteTime": {
     "end_time": "2019-05-23T22:58:39.638988Z",
     "start_time": "2019-05-23T22:58:36.530272Z"
    }
   },
   "outputs": [
    {
     "name": "stdout",
     "output_type": "stream",
     "text": [
      "Requirement already satisfied: wordcloud in /home/shayne/Anaconda3/envs/caps_env/lib/python3.6/site-packages (1.5.0)\r\n",
      "Requirement already satisfied: pillow in /home/shayne/Anaconda3/envs/caps_env/lib/python3.6/site-packages (from wordcloud) (5.4.1)\r\n",
      "Requirement already satisfied: numpy>=1.6.1 in /home/shayne/Anaconda3/envs/caps_env/lib/python3.6/site-packages (from wordcloud) (1.16.2)\r\n"
     ]
    }
   ],
   "source": [
    "!pip install wordcloud"
   ]
  },
  {
   "cell_type": "code",
   "execution_count": 2,
   "metadata": {
    "ExecuteTime": {
     "end_time": "2019-05-23T22:58:41.475224Z",
     "start_time": "2019-05-23T22:58:39.645712Z"
    }
   },
   "outputs": [],
   "source": [
    "import numpy as np\n",
    "import pandas as pd\n",
    "import seaborn as sns\n",
    "import matplotlib.pyplot as plt\n",
    "\n",
    "from sklearn.linear_model import LinearRegression, LogisticRegression\n",
    "from sklearn.svm import SVC, LinearSVC\n",
    "from sklearn.model_selection import train_test_split, cross_val_score\n",
    "from sklearn.metrics import mean_squared_error, r2_score\n",
    "from sklearn.preprocessing import StandardScaler\n",
    "\n",
    "from sklearn.tree import DecisionTreeClassifier\n",
    "from sklearn.ensemble import RandomForestClassifier, ExtraTreesClassifier, BaggingClassifier\n",
    "\n",
    "from sklearn.cluster import KMeans, k_means\n",
    "from scipy.cluster.hierarchy import dendrogram, linkage, cophenet, fcluster\n",
    "\n",
    "from wordcloud import WordCloud\n",
    "\n",
    "# Folder\n",
    "folder = './training/Final/'\n",
    "\n",
    "file =  folder + 'dataset.csv'\n",
    "\n",
    "%matplotlib inline"
   ]
  },
  {
   "cell_type": "code",
   "execution_count": 3,
   "metadata": {
    "ExecuteTime": {
     "end_time": "2019-05-23T22:58:41.610422Z",
     "start_time": "2019-05-23T22:58:41.481307Z"
    },
    "scrolled": true
   },
   "outputs": [
    {
     "data": {
      "text/html": [
       "<div>\n",
       "<style scoped>\n",
       "    .dataframe tbody tr th:only-of-type {\n",
       "        vertical-align: middle;\n",
       "    }\n",
       "\n",
       "    .dataframe tbody tr th {\n",
       "        vertical-align: top;\n",
       "    }\n",
       "\n",
       "    .dataframe thead th {\n",
       "        text-align: right;\n",
       "    }\n",
       "</style>\n",
       "<table border=\"1\" class=\"dataframe\">\n",
       "  <thead>\n",
       "    <tr style=\"text-align: right;\">\n",
       "      <th></th>\n",
       "      <th>content</th>\n",
       "      <th>industries</th>\n",
       "      <th>location</th>\n",
       "      <th>title</th>\n",
       "      <th>type_empl</th>\n",
       "      <th>url</th>\n",
       "      <th>wage</th>\n",
       "      <th>suburb</th>\n",
       "      <th>experiences</th>\n",
       "      <th>title_left_over</th>\n",
       "    </tr>\n",
       "  </thead>\n",
       "  <tbody>\n",
       "    <tr>\n",
       "      <th>0</th>\n",
       "      <td>Queensland Audit Office Investing in analytics...</td>\n",
       "      <td>Information &amp; Communication Technology</td>\n",
       "      <td>Brisbane</td>\n",
       "      <td>DA</td>\n",
       "      <td>Permanent</td>\n",
       "      <td>https://www.seek.com.au/job/38867796?type=prom...</td>\n",
       "      <td>115000.0</td>\n",
       "      <td>CBD &amp; Inner Suburbs</td>\n",
       "      <td>General</td>\n",
       "      <td>Analyst - Audit Analytics</td>\n",
       "    </tr>\n",
       "    <tr>\n",
       "      <th>1</th>\n",
       "      <td>Working for this market leader within the Fina...</td>\n",
       "      <td>Information &amp; Communication Technology</td>\n",
       "      <td>Brisbane</td>\n",
       "      <td>DA</td>\n",
       "      <td>Permanent</td>\n",
       "      <td>https://www.seek.com.au/job/38986499?type=stan...</td>\n",
       "      <td>115000.0</td>\n",
       "      <td>CBD &amp; Inner Suburbs</td>\n",
       "      <td>General</td>\n",
       "      <td>Head of Data Analytics &amp; Performance</td>\n",
       "    </tr>\n",
       "    <tr>\n",
       "      <th>2</th>\n",
       "      <td>Queensland Audit Office Investing in analytics...</td>\n",
       "      <td>Information &amp; Communication Technology</td>\n",
       "      <td>Brisbane</td>\n",
       "      <td>DA</td>\n",
       "      <td>Permanent</td>\n",
       "      <td>https://www.seek.com.au/job/39008462?type=stan...</td>\n",
       "      <td>115000.0</td>\n",
       "      <td>CBD &amp; Inner Suburbs</td>\n",
       "      <td>General</td>\n",
       "      <td>Analyst - Audit Analytics</td>\n",
       "    </tr>\n",
       "    <tr>\n",
       "      <th>3</th>\n",
       "      <td>New Data Analyst opportunity with a well-known...</td>\n",
       "      <td>Information &amp; Communication Technology</td>\n",
       "      <td>Brisbane</td>\n",
       "      <td>DA</td>\n",
       "      <td>Contract</td>\n",
       "      <td>https://www.seek.com.au/job/38942920?type=stan...</td>\n",
       "      <td>115000.0</td>\n",
       "      <td>CBD &amp; Inner Suburbs</td>\n",
       "      <td>General</td>\n",
       "      <td>Data Analyst</td>\n",
       "    </tr>\n",
       "    <tr>\n",
       "      <th>4</th>\n",
       "      <td>Information Technology Services The Division o...</td>\n",
       "      <td>Information &amp; Communication Technology</td>\n",
       "      <td>Brisbane</td>\n",
       "      <td>SDA</td>\n",
       "      <td>Permanent</td>\n",
       "      <td>https://www.seek.com.au/job/39005084?type=stan...</td>\n",
       "      <td>144000.0</td>\n",
       "      <td>Brisbane</td>\n",
       "      <td>Senior</td>\n",
       "      <td>Senior Business Analyst / Data Modeller</td>\n",
       "    </tr>\n",
       "  </tbody>\n",
       "</table>\n",
       "</div>"
      ],
      "text/plain": [
       "                                             content  \\\n",
       "0  Queensland Audit Office Investing in analytics...   \n",
       "1  Working for this market leader within the Fina...   \n",
       "2  Queensland Audit Office Investing in analytics...   \n",
       "3  New Data Analyst opportunity with a well-known...   \n",
       "4  Information Technology Services The Division o...   \n",
       "\n",
       "                               industries  location title  type_empl  \\\n",
       "0  Information & Communication Technology  Brisbane    DA  Permanent   \n",
       "1  Information & Communication Technology  Brisbane    DA  Permanent   \n",
       "2  Information & Communication Technology  Brisbane    DA  Permanent   \n",
       "3  Information & Communication Technology  Brisbane    DA   Contract   \n",
       "4  Information & Communication Technology  Brisbane   SDA  Permanent   \n",
       "\n",
       "                                                 url      wage  \\\n",
       "0  https://www.seek.com.au/job/38867796?type=prom...  115000.0   \n",
       "1  https://www.seek.com.au/job/38986499?type=stan...  115000.0   \n",
       "2  https://www.seek.com.au/job/39008462?type=stan...  115000.0   \n",
       "3  https://www.seek.com.au/job/38942920?type=stan...  115000.0   \n",
       "4  https://www.seek.com.au/job/39005084?type=stan...  144000.0   \n",
       "\n",
       "                suburb experiences                          title_left_over  \n",
       "0  CBD & Inner Suburbs     General                Analyst - Audit Analytics  \n",
       "1  CBD & Inner Suburbs     General     Head of Data Analytics & Performance  \n",
       "2  CBD & Inner Suburbs     General                Analyst - Audit Analytics  \n",
       "3  CBD & Inner Suburbs     General                            Data Analyst   \n",
       "4             Brisbane      Senior  Senior Business Analyst / Data Modeller  "
      ]
     },
     "execution_count": 3,
     "metadata": {},
     "output_type": "execute_result"
    }
   ],
   "source": [
    "frame = pd.read_csv(file, sep='|')\n",
    "frame.head()"
   ]
  },
  {
   "cell_type": "code",
   "execution_count": 4,
   "metadata": {
    "ExecuteTime": {
     "end_time": "2019-05-23T22:58:41.637811Z",
     "start_time": "2019-05-23T22:58:41.615062Z"
    }
   },
   "outputs": [
    {
     "name": "stdout",
     "output_type": "stream",
     "text": [
      "<class 'pandas.core.frame.DataFrame'>\n",
      "RangeIndex: 1569 entries, 0 to 1568\n",
      "Data columns (total 10 columns):\n",
      "content            1569 non-null object\n",
      "industries         1569 non-null object\n",
      "location           1569 non-null object\n",
      "title              1569 non-null object\n",
      "type_empl          1569 non-null object\n",
      "url                1569 non-null object\n",
      "wage               1569 non-null float64\n",
      "suburb             1569 non-null object\n",
      "experiences        1569 non-null object\n",
      "title_left_over    1569 non-null object\n",
      "dtypes: float64(1), object(9)\n",
      "memory usage: 122.7+ KB\n"
     ]
    }
   ],
   "source": [
    "frame.info()"
   ]
  },
  {
   "cell_type": "code",
   "execution_count": 5,
   "metadata": {
    "ExecuteTime": {
     "end_time": "2019-05-23T22:58:41.661363Z",
     "start_time": "2019-05-23T22:58:41.641123Z"
    }
   },
   "outputs": [
    {
     "name": "stdout",
     "output_type": "stream",
     "text": [
      "<class 'pandas.core.frame.DataFrame'>\n",
      "RangeIndex: 1569 entries, 0 to 1568\n",
      "Data columns (total 5 columns):\n",
      "industries    1569 non-null object\n",
      "location      1569 non-null object\n",
      "title         1569 non-null object\n",
      "type_empl     1569 non-null object\n",
      "wage          1569 non-null float64\n",
      "dtypes: float64(1), object(4)\n",
      "memory usage: 61.4+ KB\n"
     ]
    }
   ],
   "source": [
    "frame.drop(columns=['content','experiences','title_left_over','url','suburb'] ,axis=1, inplace=True)\n",
    "frame.info()"
   ]
  },
  {
   "cell_type": "code",
   "execution_count": 6,
   "metadata": {
    "ExecuteTime": {
     "end_time": "2019-05-23T22:58:41.678058Z",
     "start_time": "2019-05-23T22:58:41.665102Z"
    }
   },
   "outputs": [
    {
     "data": {
      "text/plain": [
       "Information & Communication Technology    900\n",
       "Banking & Financial Services              133\n",
       "Accounting                                124\n",
       "Marketing & Communications                106\n",
       "Science & Technology                       72\n",
       "Government & Defence                       59\n",
       "Manufacturing, Transport & Logistics       53\n",
       "Consulting & Strategy                      49\n",
       "Sales                                      43\n",
       "Insurance & Superannuation                 30\n",
       "Name: industries, dtype: int64"
      ]
     },
     "execution_count": 6,
     "metadata": {},
     "output_type": "execute_result"
    }
   ],
   "source": [
    "frame['industries'].value_counts()"
   ]
  },
  {
   "cell_type": "code",
   "execution_count": 7,
   "metadata": {
    "ExecuteTime": {
     "end_time": "2019-05-23T22:58:41.744193Z",
     "start_time": "2019-05-23T22:58:41.681614Z"
    },
    "scrolled": true
   },
   "outputs": [
    {
     "data": {
      "text/html": [
       "<div>\n",
       "<style scoped>\n",
       "    .dataframe tbody tr th:only-of-type {\n",
       "        vertical-align: middle;\n",
       "    }\n",
       "\n",
       "    .dataframe tbody tr th {\n",
       "        vertical-align: top;\n",
       "    }\n",
       "\n",
       "    .dataframe thead th {\n",
       "        text-align: right;\n",
       "    }\n",
       "</style>\n",
       "<table border=\"1\" class=\"dataframe\">\n",
       "  <thead>\n",
       "    <tr style=\"text-align: right;\">\n",
       "      <th></th>\n",
       "      <th>industries</th>\n",
       "      <th>location</th>\n",
       "      <th>title</th>\n",
       "      <th>type_empl</th>\n",
       "      <th>wage</th>\n",
       "    </tr>\n",
       "  </thead>\n",
       "  <tbody>\n",
       "    <tr>\n",
       "      <th>0</th>\n",
       "      <td>Information &amp; Communication Technology</td>\n",
       "      <td>Brisbane</td>\n",
       "      <td>DA</td>\n",
       "      <td>Permanent</td>\n",
       "      <td>115000.0</td>\n",
       "    </tr>\n",
       "    <tr>\n",
       "      <th>1</th>\n",
       "      <td>Information &amp; Communication Technology</td>\n",
       "      <td>Brisbane</td>\n",
       "      <td>DA</td>\n",
       "      <td>Permanent</td>\n",
       "      <td>115000.0</td>\n",
       "    </tr>\n",
       "    <tr>\n",
       "      <th>2</th>\n",
       "      <td>Information &amp; Communication Technology</td>\n",
       "      <td>Brisbane</td>\n",
       "      <td>DA</td>\n",
       "      <td>Permanent</td>\n",
       "      <td>115000.0</td>\n",
       "    </tr>\n",
       "    <tr>\n",
       "      <th>3</th>\n",
       "      <td>Information &amp; Communication Technology</td>\n",
       "      <td>Brisbane</td>\n",
       "      <td>DA</td>\n",
       "      <td>Contract</td>\n",
       "      <td>115000.0</td>\n",
       "    </tr>\n",
       "    <tr>\n",
       "      <th>4</th>\n",
       "      <td>Information &amp; Communication Technology</td>\n",
       "      <td>Brisbane</td>\n",
       "      <td>SDA</td>\n",
       "      <td>Permanent</td>\n",
       "      <td>144000.0</td>\n",
       "    </tr>\n",
       "    <tr>\n",
       "      <th>5</th>\n",
       "      <td>Information &amp; Communication Technology</td>\n",
       "      <td>Brisbane</td>\n",
       "      <td>DA</td>\n",
       "      <td>Contract</td>\n",
       "      <td>115000.0</td>\n",
       "    </tr>\n",
       "    <tr>\n",
       "      <th>6</th>\n",
       "      <td>Information &amp; Communication Technology</td>\n",
       "      <td>Brisbane</td>\n",
       "      <td>DA</td>\n",
       "      <td>Permanent</td>\n",
       "      <td>115000.0</td>\n",
       "    </tr>\n",
       "    <tr>\n",
       "      <th>7</th>\n",
       "      <td>Information &amp; Communication Technology</td>\n",
       "      <td>Brisbane</td>\n",
       "      <td>DA</td>\n",
       "      <td>Contract</td>\n",
       "      <td>115000.0</td>\n",
       "    </tr>\n",
       "    <tr>\n",
       "      <th>8</th>\n",
       "      <td>Information &amp; Communication Technology</td>\n",
       "      <td>Brisbane</td>\n",
       "      <td>DA</td>\n",
       "      <td>Permanent</td>\n",
       "      <td>115000.0</td>\n",
       "    </tr>\n",
       "    <tr>\n",
       "      <th>9</th>\n",
       "      <td>Information &amp; Communication Technology</td>\n",
       "      <td>Brisbane</td>\n",
       "      <td>DA</td>\n",
       "      <td>Contract</td>\n",
       "      <td>115000.0</td>\n",
       "    </tr>\n",
       "    <tr>\n",
       "      <th>10</th>\n",
       "      <td>Information &amp; Communication Technology</td>\n",
       "      <td>Brisbane</td>\n",
       "      <td>DA</td>\n",
       "      <td>Permanent</td>\n",
       "      <td>115000.0</td>\n",
       "    </tr>\n",
       "    <tr>\n",
       "      <th>11</th>\n",
       "      <td>Information &amp; Communication Technology</td>\n",
       "      <td>Brisbane</td>\n",
       "      <td>DA</td>\n",
       "      <td>Contract</td>\n",
       "      <td>115000.0</td>\n",
       "    </tr>\n",
       "    <tr>\n",
       "      <th>12</th>\n",
       "      <td>Information &amp; Communication Technology</td>\n",
       "      <td>Brisbane</td>\n",
       "      <td>DA</td>\n",
       "      <td>Contract</td>\n",
       "      <td>115000.0</td>\n",
       "    </tr>\n",
       "    <tr>\n",
       "      <th>13</th>\n",
       "      <td>Information &amp; Communication Technology</td>\n",
       "      <td>Brisbane</td>\n",
       "      <td>DA</td>\n",
       "      <td>Contract</td>\n",
       "      <td>115000.0</td>\n",
       "    </tr>\n",
       "    <tr>\n",
       "      <th>14</th>\n",
       "      <td>Information &amp; Communication Technology</td>\n",
       "      <td>Brisbane</td>\n",
       "      <td>SDA</td>\n",
       "      <td>Permanent</td>\n",
       "      <td>144000.0</td>\n",
       "    </tr>\n",
       "    <tr>\n",
       "      <th>15</th>\n",
       "      <td>Information &amp; Communication Technology</td>\n",
       "      <td>Brisbane</td>\n",
       "      <td>DA</td>\n",
       "      <td>Contract</td>\n",
       "      <td>115000.0</td>\n",
       "    </tr>\n",
       "    <tr>\n",
       "      <th>16</th>\n",
       "      <td>Information &amp; Communication Technology</td>\n",
       "      <td>Brisbane</td>\n",
       "      <td>DA</td>\n",
       "      <td>Contract</td>\n",
       "      <td>115000.0</td>\n",
       "    </tr>\n",
       "    <tr>\n",
       "      <th>17</th>\n",
       "      <td>Information &amp; Communication Technology</td>\n",
       "      <td>Brisbane</td>\n",
       "      <td>DA</td>\n",
       "      <td>Permanent</td>\n",
       "      <td>115000.0</td>\n",
       "    </tr>\n",
       "    <tr>\n",
       "      <th>18</th>\n",
       "      <td>Information &amp; Communication Technology</td>\n",
       "      <td>Brisbane</td>\n",
       "      <td>DA</td>\n",
       "      <td>Contract</td>\n",
       "      <td>115000.0</td>\n",
       "    </tr>\n",
       "    <tr>\n",
       "      <th>19</th>\n",
       "      <td>Information &amp; Communication Technology</td>\n",
       "      <td>Brisbane</td>\n",
       "      <td>DA</td>\n",
       "      <td>Permanent</td>\n",
       "      <td>115000.0</td>\n",
       "    </tr>\n",
       "    <tr>\n",
       "      <th>20</th>\n",
       "      <td>Information &amp; Communication Technology</td>\n",
       "      <td>Brisbane</td>\n",
       "      <td>DA</td>\n",
       "      <td>Permanent</td>\n",
       "      <td>115000.0</td>\n",
       "    </tr>\n",
       "    <tr>\n",
       "      <th>21</th>\n",
       "      <td>Information &amp; Communication Technology</td>\n",
       "      <td>Brisbane</td>\n",
       "      <td>DA</td>\n",
       "      <td>Permanent</td>\n",
       "      <td>115000.0</td>\n",
       "    </tr>\n",
       "    <tr>\n",
       "      <th>22</th>\n",
       "      <td>Information &amp; Communication Technology</td>\n",
       "      <td>Brisbane</td>\n",
       "      <td>DA</td>\n",
       "      <td>Permanent</td>\n",
       "      <td>115000.0</td>\n",
       "    </tr>\n",
       "    <tr>\n",
       "      <th>23</th>\n",
       "      <td>Information &amp; Communication Technology</td>\n",
       "      <td>Brisbane</td>\n",
       "      <td>DA</td>\n",
       "      <td>Contract</td>\n",
       "      <td>115000.0</td>\n",
       "    </tr>\n",
       "    <tr>\n",
       "      <th>24</th>\n",
       "      <td>Information &amp; Communication Technology</td>\n",
       "      <td>Brisbane</td>\n",
       "      <td>SDA</td>\n",
       "      <td>Contract</td>\n",
       "      <td>144000.0</td>\n",
       "    </tr>\n",
       "    <tr>\n",
       "      <th>25</th>\n",
       "      <td>Information &amp; Communication Technology</td>\n",
       "      <td>Brisbane</td>\n",
       "      <td>DA</td>\n",
       "      <td>Contract</td>\n",
       "      <td>115000.0</td>\n",
       "    </tr>\n",
       "    <tr>\n",
       "      <th>26</th>\n",
       "      <td>Information &amp; Communication Technology</td>\n",
       "      <td>Brisbane</td>\n",
       "      <td>DA</td>\n",
       "      <td>Permanent</td>\n",
       "      <td>115000.0</td>\n",
       "    </tr>\n",
       "    <tr>\n",
       "      <th>27</th>\n",
       "      <td>Information &amp; Communication Technology</td>\n",
       "      <td>Brisbane</td>\n",
       "      <td>DA</td>\n",
       "      <td>Contract</td>\n",
       "      <td>115000.0</td>\n",
       "    </tr>\n",
       "    <tr>\n",
       "      <th>28</th>\n",
       "      <td>Information &amp; Communication Technology</td>\n",
       "      <td>Brisbane</td>\n",
       "      <td>DA</td>\n",
       "      <td>Contract</td>\n",
       "      <td>115000.0</td>\n",
       "    </tr>\n",
       "    <tr>\n",
       "      <th>29</th>\n",
       "      <td>Information &amp; Communication Technology</td>\n",
       "      <td>Brisbane</td>\n",
       "      <td>DA</td>\n",
       "      <td>Contract</td>\n",
       "      <td>115000.0</td>\n",
       "    </tr>\n",
       "    <tr>\n",
       "      <th>...</th>\n",
       "      <td>...</td>\n",
       "      <td>...</td>\n",
       "      <td>...</td>\n",
       "      <td>...</td>\n",
       "      <td>...</td>\n",
       "    </tr>\n",
       "    <tr>\n",
       "      <th>1539</th>\n",
       "      <td>Insurance &amp; Superannuation</td>\n",
       "      <td>Brisbane</td>\n",
       "      <td>SDA</td>\n",
       "      <td>Permanent</td>\n",
       "      <td>144000.0</td>\n",
       "    </tr>\n",
       "    <tr>\n",
       "      <th>1540</th>\n",
       "      <td>Insurance &amp; Superannuation</td>\n",
       "      <td>Melbourne</td>\n",
       "      <td>DA</td>\n",
       "      <td>Permanent</td>\n",
       "      <td>115000.0</td>\n",
       "    </tr>\n",
       "    <tr>\n",
       "      <th>1541</th>\n",
       "      <td>Insurance &amp; Superannuation</td>\n",
       "      <td>Melbourne</td>\n",
       "      <td>DA</td>\n",
       "      <td>Contract</td>\n",
       "      <td>115000.0</td>\n",
       "    </tr>\n",
       "    <tr>\n",
       "      <th>1542</th>\n",
       "      <td>Insurance &amp; Superannuation</td>\n",
       "      <td>Sydney</td>\n",
       "      <td>DA</td>\n",
       "      <td>Permanent</td>\n",
       "      <td>115000.0</td>\n",
       "    </tr>\n",
       "    <tr>\n",
       "      <th>1543</th>\n",
       "      <td>Insurance &amp; Superannuation</td>\n",
       "      <td>Sydney</td>\n",
       "      <td>DA</td>\n",
       "      <td>Permanent</td>\n",
       "      <td>115000.0</td>\n",
       "    </tr>\n",
       "    <tr>\n",
       "      <th>1544</th>\n",
       "      <td>Insurance &amp; Superannuation</td>\n",
       "      <td>Sydney</td>\n",
       "      <td>DA</td>\n",
       "      <td>Permanent</td>\n",
       "      <td>115000.0</td>\n",
       "    </tr>\n",
       "    <tr>\n",
       "      <th>1545</th>\n",
       "      <td>Insurance &amp; Superannuation</td>\n",
       "      <td>Sydney</td>\n",
       "      <td>DA</td>\n",
       "      <td>Permanent</td>\n",
       "      <td>115000.0</td>\n",
       "    </tr>\n",
       "    <tr>\n",
       "      <th>1546</th>\n",
       "      <td>Insurance &amp; Superannuation</td>\n",
       "      <td>Sydney</td>\n",
       "      <td>DA</td>\n",
       "      <td>Permanent</td>\n",
       "      <td>115000.0</td>\n",
       "    </tr>\n",
       "    <tr>\n",
       "      <th>1547</th>\n",
       "      <td>Insurance &amp; Superannuation</td>\n",
       "      <td>Sydney</td>\n",
       "      <td>DA</td>\n",
       "      <td>Permanent</td>\n",
       "      <td>115000.0</td>\n",
       "    </tr>\n",
       "    <tr>\n",
       "      <th>1548</th>\n",
       "      <td>Insurance &amp; Superannuation</td>\n",
       "      <td>Sydney</td>\n",
       "      <td>DA</td>\n",
       "      <td>Permanent</td>\n",
       "      <td>115000.0</td>\n",
       "    </tr>\n",
       "    <tr>\n",
       "      <th>1549</th>\n",
       "      <td>Insurance &amp; Superannuation</td>\n",
       "      <td>Sydney</td>\n",
       "      <td>SDA</td>\n",
       "      <td>Permanent</td>\n",
       "      <td>144000.0</td>\n",
       "    </tr>\n",
       "    <tr>\n",
       "      <th>1550</th>\n",
       "      <td>Insurance &amp; Superannuation</td>\n",
       "      <td>Sydney</td>\n",
       "      <td>DA</td>\n",
       "      <td>Permanent</td>\n",
       "      <td>115000.0</td>\n",
       "    </tr>\n",
       "    <tr>\n",
       "      <th>1551</th>\n",
       "      <td>Insurance &amp; Superannuation</td>\n",
       "      <td>Sydney</td>\n",
       "      <td>DA</td>\n",
       "      <td>Permanent</td>\n",
       "      <td>115000.0</td>\n",
       "    </tr>\n",
       "    <tr>\n",
       "      <th>1552</th>\n",
       "      <td>Insurance &amp; Superannuation</td>\n",
       "      <td>Sydney</td>\n",
       "      <td>SDA</td>\n",
       "      <td>Permanent</td>\n",
       "      <td>144000.0</td>\n",
       "    </tr>\n",
       "    <tr>\n",
       "      <th>1553</th>\n",
       "      <td>Insurance &amp; Superannuation</td>\n",
       "      <td>Sydney</td>\n",
       "      <td>SDA</td>\n",
       "      <td>Permanent</td>\n",
       "      <td>144000.0</td>\n",
       "    </tr>\n",
       "    <tr>\n",
       "      <th>1554</th>\n",
       "      <td>Insurance &amp; Superannuation</td>\n",
       "      <td>Sydney</td>\n",
       "      <td>DA</td>\n",
       "      <td>Contract</td>\n",
       "      <td>115000.0</td>\n",
       "    </tr>\n",
       "    <tr>\n",
       "      <th>1555</th>\n",
       "      <td>Insurance &amp; Superannuation</td>\n",
       "      <td>Sydney</td>\n",
       "      <td>DA</td>\n",
       "      <td>Permanent</td>\n",
       "      <td>115000.0</td>\n",
       "    </tr>\n",
       "    <tr>\n",
       "      <th>1556</th>\n",
       "      <td>Insurance &amp; Superannuation</td>\n",
       "      <td>Sydney</td>\n",
       "      <td>DA</td>\n",
       "      <td>Permanent</td>\n",
       "      <td>115000.0</td>\n",
       "    </tr>\n",
       "    <tr>\n",
       "      <th>1557</th>\n",
       "      <td>Insurance &amp; Superannuation</td>\n",
       "      <td>Sydney</td>\n",
       "      <td>DA</td>\n",
       "      <td>Permanent</td>\n",
       "      <td>115000.0</td>\n",
       "    </tr>\n",
       "    <tr>\n",
       "      <th>1558</th>\n",
       "      <td>Insurance &amp; Superannuation</td>\n",
       "      <td>Melbourne</td>\n",
       "      <td>DS</td>\n",
       "      <td>Permanent</td>\n",
       "      <td>110000.0</td>\n",
       "    </tr>\n",
       "    <tr>\n",
       "      <th>1559</th>\n",
       "      <td>Insurance &amp; Superannuation</td>\n",
       "      <td>Sydney</td>\n",
       "      <td>DS</td>\n",
       "      <td>Permanent</td>\n",
       "      <td>110000.0</td>\n",
       "    </tr>\n",
       "    <tr>\n",
       "      <th>1560</th>\n",
       "      <td>Insurance &amp; Superannuation</td>\n",
       "      <td>Sydney</td>\n",
       "      <td>DS</td>\n",
       "      <td>Contract</td>\n",
       "      <td>110000.0</td>\n",
       "    </tr>\n",
       "    <tr>\n",
       "      <th>1561</th>\n",
       "      <td>Insurance &amp; Superannuation</td>\n",
       "      <td>Sydney</td>\n",
       "      <td>DS</td>\n",
       "      <td>Permanent</td>\n",
       "      <td>110000.0</td>\n",
       "    </tr>\n",
       "    <tr>\n",
       "      <th>1562</th>\n",
       "      <td>Insurance &amp; Superannuation</td>\n",
       "      <td>Brisbane</td>\n",
       "      <td>DA</td>\n",
       "      <td>Contract</td>\n",
       "      <td>182000.0</td>\n",
       "    </tr>\n",
       "    <tr>\n",
       "      <th>1563</th>\n",
       "      <td>Insurance &amp; Superannuation</td>\n",
       "      <td>Sydney</td>\n",
       "      <td>DA</td>\n",
       "      <td>Contract</td>\n",
       "      <td>120450.0</td>\n",
       "    </tr>\n",
       "    <tr>\n",
       "      <th>1564</th>\n",
       "      <td>Insurance &amp; Superannuation</td>\n",
       "      <td>Sydney</td>\n",
       "      <td>DA</td>\n",
       "      <td>Permanent</td>\n",
       "      <td>112500.0</td>\n",
       "    </tr>\n",
       "    <tr>\n",
       "      <th>1565</th>\n",
       "      <td>Insurance &amp; Superannuation</td>\n",
       "      <td>Sydney</td>\n",
       "      <td>DA</td>\n",
       "      <td>Permanent</td>\n",
       "      <td>107500.0</td>\n",
       "    </tr>\n",
       "    <tr>\n",
       "      <th>1566</th>\n",
       "      <td>Insurance &amp; Superannuation</td>\n",
       "      <td>Sydney</td>\n",
       "      <td>SDA</td>\n",
       "      <td>Permanent</td>\n",
       "      <td>114999.0</td>\n",
       "    </tr>\n",
       "    <tr>\n",
       "      <th>1567</th>\n",
       "      <td>Insurance &amp; Superannuation</td>\n",
       "      <td>Sydney</td>\n",
       "      <td>SDA</td>\n",
       "      <td>Permanent</td>\n",
       "      <td>115000.0</td>\n",
       "    </tr>\n",
       "    <tr>\n",
       "      <th>1568</th>\n",
       "      <td>Insurance &amp; Superannuation</td>\n",
       "      <td>Sydney</td>\n",
       "      <td>SDA</td>\n",
       "      <td>Permanent</td>\n",
       "      <td>104999.0</td>\n",
       "    </tr>\n",
       "  </tbody>\n",
       "</table>\n",
       "<p>1569 rows × 5 columns</p>\n",
       "</div>"
      ],
      "text/plain": [
       "                                  industries   location title  type_empl  \\\n",
       "0     Information & Communication Technology   Brisbane    DA  Permanent   \n",
       "1     Information & Communication Technology   Brisbane    DA  Permanent   \n",
       "2     Information & Communication Technology   Brisbane    DA  Permanent   \n",
       "3     Information & Communication Technology   Brisbane    DA   Contract   \n",
       "4     Information & Communication Technology   Brisbane   SDA  Permanent   \n",
       "5     Information & Communication Technology   Brisbane    DA   Contract   \n",
       "6     Information & Communication Technology   Brisbane    DA  Permanent   \n",
       "7     Information & Communication Technology   Brisbane    DA   Contract   \n",
       "8     Information & Communication Technology   Brisbane    DA  Permanent   \n",
       "9     Information & Communication Technology   Brisbane    DA   Contract   \n",
       "10    Information & Communication Technology   Brisbane    DA  Permanent   \n",
       "11    Information & Communication Technology   Brisbane    DA   Contract   \n",
       "12    Information & Communication Technology   Brisbane    DA   Contract   \n",
       "13    Information & Communication Technology   Brisbane    DA   Contract   \n",
       "14    Information & Communication Technology   Brisbane   SDA  Permanent   \n",
       "15    Information & Communication Technology   Brisbane    DA   Contract   \n",
       "16    Information & Communication Technology   Brisbane    DA   Contract   \n",
       "17    Information & Communication Technology   Brisbane    DA  Permanent   \n",
       "18    Information & Communication Technology   Brisbane    DA   Contract   \n",
       "19    Information & Communication Technology   Brisbane    DA  Permanent   \n",
       "20    Information & Communication Technology   Brisbane    DA  Permanent   \n",
       "21    Information & Communication Technology   Brisbane    DA  Permanent   \n",
       "22    Information & Communication Technology   Brisbane    DA  Permanent   \n",
       "23    Information & Communication Technology   Brisbane    DA   Contract   \n",
       "24    Information & Communication Technology   Brisbane   SDA   Contract   \n",
       "25    Information & Communication Technology   Brisbane    DA   Contract   \n",
       "26    Information & Communication Technology   Brisbane    DA  Permanent   \n",
       "27    Information & Communication Technology   Brisbane    DA   Contract   \n",
       "28    Information & Communication Technology   Brisbane    DA   Contract   \n",
       "29    Information & Communication Technology   Brisbane    DA   Contract   \n",
       "...                                      ...        ...   ...        ...   \n",
       "1539              Insurance & Superannuation   Brisbane   SDA  Permanent   \n",
       "1540              Insurance & Superannuation  Melbourne    DA  Permanent   \n",
       "1541              Insurance & Superannuation  Melbourne    DA   Contract   \n",
       "1542              Insurance & Superannuation     Sydney    DA  Permanent   \n",
       "1543              Insurance & Superannuation     Sydney    DA  Permanent   \n",
       "1544              Insurance & Superannuation     Sydney    DA  Permanent   \n",
       "1545              Insurance & Superannuation     Sydney    DA  Permanent   \n",
       "1546              Insurance & Superannuation     Sydney    DA  Permanent   \n",
       "1547              Insurance & Superannuation     Sydney    DA  Permanent   \n",
       "1548              Insurance & Superannuation     Sydney    DA  Permanent   \n",
       "1549              Insurance & Superannuation     Sydney   SDA  Permanent   \n",
       "1550              Insurance & Superannuation     Sydney    DA  Permanent   \n",
       "1551              Insurance & Superannuation     Sydney    DA  Permanent   \n",
       "1552              Insurance & Superannuation     Sydney   SDA  Permanent   \n",
       "1553              Insurance & Superannuation     Sydney   SDA  Permanent   \n",
       "1554              Insurance & Superannuation     Sydney    DA   Contract   \n",
       "1555              Insurance & Superannuation     Sydney    DA  Permanent   \n",
       "1556              Insurance & Superannuation     Sydney    DA  Permanent   \n",
       "1557              Insurance & Superannuation     Sydney    DA  Permanent   \n",
       "1558              Insurance & Superannuation  Melbourne    DS  Permanent   \n",
       "1559              Insurance & Superannuation     Sydney    DS  Permanent   \n",
       "1560              Insurance & Superannuation     Sydney    DS   Contract   \n",
       "1561              Insurance & Superannuation     Sydney    DS  Permanent   \n",
       "1562              Insurance & Superannuation   Brisbane    DA   Contract   \n",
       "1563              Insurance & Superannuation     Sydney    DA   Contract   \n",
       "1564              Insurance & Superannuation     Sydney    DA  Permanent   \n",
       "1565              Insurance & Superannuation     Sydney    DA  Permanent   \n",
       "1566              Insurance & Superannuation     Sydney   SDA  Permanent   \n",
       "1567              Insurance & Superannuation     Sydney   SDA  Permanent   \n",
       "1568              Insurance & Superannuation     Sydney   SDA  Permanent   \n",
       "\n",
       "          wage  \n",
       "0     115000.0  \n",
       "1     115000.0  \n",
       "2     115000.0  \n",
       "3     115000.0  \n",
       "4     144000.0  \n",
       "5     115000.0  \n",
       "6     115000.0  \n",
       "7     115000.0  \n",
       "8     115000.0  \n",
       "9     115000.0  \n",
       "10    115000.0  \n",
       "11    115000.0  \n",
       "12    115000.0  \n",
       "13    115000.0  \n",
       "14    144000.0  \n",
       "15    115000.0  \n",
       "16    115000.0  \n",
       "17    115000.0  \n",
       "18    115000.0  \n",
       "19    115000.0  \n",
       "20    115000.0  \n",
       "21    115000.0  \n",
       "22    115000.0  \n",
       "23    115000.0  \n",
       "24    144000.0  \n",
       "25    115000.0  \n",
       "26    115000.0  \n",
       "27    115000.0  \n",
       "28    115000.0  \n",
       "29    115000.0  \n",
       "...        ...  \n",
       "1539  144000.0  \n",
       "1540  115000.0  \n",
       "1541  115000.0  \n",
       "1542  115000.0  \n",
       "1543  115000.0  \n",
       "1544  115000.0  \n",
       "1545  115000.0  \n",
       "1546  115000.0  \n",
       "1547  115000.0  \n",
       "1548  115000.0  \n",
       "1549  144000.0  \n",
       "1550  115000.0  \n",
       "1551  115000.0  \n",
       "1552  144000.0  \n",
       "1553  144000.0  \n",
       "1554  115000.0  \n",
       "1555  115000.0  \n",
       "1556  115000.0  \n",
       "1557  115000.0  \n",
       "1558  110000.0  \n",
       "1559  110000.0  \n",
       "1560  110000.0  \n",
       "1561  110000.0  \n",
       "1562  182000.0  \n",
       "1563  120450.0  \n",
       "1564  112500.0  \n",
       "1565  107500.0  \n",
       "1566  114999.0  \n",
       "1567  115000.0  \n",
       "1568  104999.0  \n",
       "\n",
       "[1569 rows x 5 columns]"
      ]
     },
     "execution_count": 7,
     "metadata": {},
     "output_type": "execute_result"
    }
   ],
   "source": [
    "frame"
   ]
  },
  {
   "cell_type": "code",
   "execution_count": 8,
   "metadata": {
    "ExecuteTime": {
     "end_time": "2019-05-23T22:58:41.751378Z",
     "start_time": "2019-05-23T22:58:41.748472Z"
    }
   },
   "outputs": [],
   "source": [
    "# frame = frame[frame['wage'] > 10000]\n",
    "# frame.info()"
   ]
  },
  {
   "cell_type": "code",
   "execution_count": 9,
   "metadata": {
    "ExecuteTime": {
     "end_time": "2019-05-23T22:58:42.458075Z",
     "start_time": "2019-05-23T22:58:41.755017Z"
    }
   },
   "outputs": [
    {
     "data": {
      "text/plain": [
       "Text(0.5, 0.98, 'Distributions of content over the year')"
      ]
     },
     "execution_count": 9,
     "metadata": {},
     "output_type": "execute_result"
    },
    {
     "data": {
      "image/png": "[encoded data removed]",
      "text/plain": [
       "<Figure size 1440x720 with 1 Axes>"
      ]
     },
     "metadata": {
      "needs_background": "light"
     },
     "output_type": "display_data"
    }
   ],
   "source": [
    "fig, ax = plt.subplots(1,1, figsize=(20,10))\n",
    "sns.set(style=\"whitegrid\", color_codes=True, font_scale=1.2)\n",
    "# sns.countplot(x='year', data=df_datetime, orient='h')\n",
    "sns.countplot(x='location',hue='title', data=frame, orient='h')\n",
    "fig.suptitle('Distributions of content over the year')\n",
    "# sns.barplot(x='title',y='wage',data=frame)"
   ]
  },
  {
   "cell_type": "code",
   "execution_count": 10,
   "metadata": {
    "ExecuteTime": {
     "end_time": "2019-05-23T22:58:43.142960Z",
     "start_time": "2019-05-23T22:58:42.461648Z"
    }
   },
   "outputs": [
    {
     "data": {
      "text/plain": [
       "Text(0.5, 0.98, 'Length of text for each title')"
      ]
     },
     "execution_count": 10,
     "metadata": {},
     "output_type": "execute_result"
    },
    {
     "data": {
      "image/png": "[encoded data removed]",
      "text/plain": [
       "<Figure size 1440x1080 with 1 Axes>"
      ]
     },
     "metadata": {},
     "output_type": "display_data"
    }
   ],
   "source": [
    "fig, ax = plt.subplots(1,1, figsize=(20,15))\n",
    "sns.scatterplot(x='title' , y='wage', data=frame)\n",
    "fig.suptitle('Length of text for each title')"
   ]
  },
  {
   "cell_type": "code",
   "execution_count": 11,
   "metadata": {
    "ExecuteTime": {
     "end_time": "2019-05-23T22:58:43.477362Z",
     "start_time": "2019-05-23T22:58:43.146384Z"
    }
   },
   "outputs": [
    {
     "data": {
      "text/plain": [
       "<matplotlib.axes._subplots.AxesSubplot at 0x7efee99c3c18>"
      ]
     },
     "execution_count": 11,
     "metadata": {},
     "output_type": "execute_result"
    },
    {
     "data": {
      "image/png": "[encoded data removed]",
      "text/plain": [
       "<Figure size 432x288 with 1 Axes>"
      ]
     },
     "metadata": {},
     "output_type": "display_data"
    }
   ],
   "source": [
    "sns.countplot(x='type_empl',data=frame)"
   ]
  },
  {
   "cell_type": "code",
   "execution_count": 12,
   "metadata": {
    "ExecuteTime": {
     "end_time": "2019-05-23T22:58:43.513952Z",
     "start_time": "2019-05-23T22:58:43.481284Z"
    }
   },
   "outputs": [
    {
     "data": {
      "text/plain": [
       "64.308476736775"
      ]
     },
     "execution_count": 12,
     "metadata": {},
     "output_type": "execute_result"
    }
   ],
   "source": [
    "frame['type_empl'].value_counts(normalize=True).max()*100"
   ]
  },
  {
   "cell_type": "code",
   "execution_count": 13,
   "metadata": {
    "ExecuteTime": {
     "end_time": "2019-05-23T22:58:43.579047Z",
     "start_time": "2019-05-23T22:58:43.523984Z"
    }
   },
   "outputs": [],
   "source": [
    "y = frame['wage'].values\n",
    "df_dummies = frame.copy()\n",
    "df_dummies.drop(labels=['wage'],axis=1,inplace=True)\n",
    "X = pd.get_dummies(df_dummies, prefix=df_dummies.columns, columns=df_dummies.columns)"
   ]
  },
  {
   "cell_type": "code",
   "execution_count": 14,
   "metadata": {
    "ExecuteTime": {
     "end_time": "2019-05-23T22:58:43.619717Z",
     "start_time": "2019-05-23T22:58:43.582278Z"
    },
    "scrolled": true
   },
   "outputs": [
    {
     "name": "stdout",
     "output_type": "stream",
     "text": [
      "<class 'pandas.core.frame.DataFrame'>\n",
      "Int64Index: 3138 entries, 0 to 1568\n",
      "Data columns (total 22 columns):\n",
      "industries_Accounting                                1569 non-null float64\n",
      "industries_Banking & Financial Services              1569 non-null float64\n",
      "industries_Consulting & Strategy                     1569 non-null float64\n",
      "industries_Government & Defence                      1569 non-null float64\n",
      "industries_Information & Communication Technology    1569 non-null float64\n",
      "industries_Insurance & Superannuation                1569 non-null float64\n",
      "industries_Manufacturing, Transport & Logistics      1569 non-null float64\n",
      "industries_Marketing & Communications                1569 non-null float64\n",
      "industries_Sales                                     1569 non-null float64\n",
      "industries_Science & Technology                      1569 non-null float64\n",
      "location_Brisbane                                    1569 non-null float64\n",
      "location_Melbourne                                   1569 non-null float64\n",
      "location_Sydney                                      1569 non-null float64\n",
      "title_DA                                             1569 non-null float64\n",
      "title_DS                                             1569 non-null float64\n",
      "title_JDA                                            1569 non-null float64\n",
      "title_JDS                                            1569 non-null float64\n",
      "title_SDA                                            1569 non-null float64\n",
      "title_SDS                                            1569 non-null float64\n",
      "type_empl_Contract                                   1569 non-null float64\n",
      "type_empl_Permanent                                  1569 non-null float64\n",
      "wage                                                 1569 non-null float64\n",
      "dtypes: float64(22)\n",
      "memory usage: 563.9 KB\n"
     ]
    },
    {
     "name": "stderr",
     "output_type": "stream",
     "text": [
      "/home/shayne/Anaconda3/envs/caps_env/lib/python3.6/site-packages/ipykernel_launcher.py:2: FutureWarning: Sorting because non-concatenation axis is not aligned. A future version\n",
      "of pandas will change to not sort by default.\n",
      "\n",
      "To accept the future behavior, pass 'sort=False'.\n",
      "\n",
      "To retain the current behavior and silence the warning, pass 'sort=True'.\n",
      "\n",
      "  \n"
     ]
    }
   ],
   "source": [
    "y_temp = pd.DataFrame(y,columns=['wage'])\n",
    "df_temp = pd.concat([X,y_temp])\n",
    "df_temp.info()"
   ]
  },
  {
   "cell_type": "code",
   "execution_count": 15,
   "metadata": {
    "ExecuteTime": {
     "end_time": "2019-05-23T22:58:43.639440Z",
     "start_time": "2019-05-23T22:58:43.625219Z"
    }
   },
   "outputs": [
    {
     "data": {
      "text/plain": [
       "((1176, 21), (393, 21))"
      ]
     },
     "execution_count": 15,
     "metadata": {},
     "output_type": "execute_result"
    }
   ],
   "source": [
    "X_train, X_test, y_train, y_test = train_test_split(X, y, test_size=0.25 )\n",
    "X_train.shape, X_test.shape"
   ]
  },
  {
   "cell_type": "markdown",
   "metadata": {},
   "source": [
    "## 1. Linear"
   ]
  },
  {
   "cell_type": "code",
   "execution_count": 16,
   "metadata": {
    "ExecuteTime": {
     "end_time": "2019-05-23T22:58:43.672754Z",
     "start_time": "2019-05-23T22:58:43.644507Z"
    }
   },
   "outputs": [
    {
     "name": "stdout",
     "output_type": "stream",
     "text": [
      "formula: y = -4.588228721275322e+16x + 6.199938208174792e+17\n"
     ]
    }
   ],
   "source": [
    "lm = LinearRegression()\n",
    "lm_model = lm.fit(X_train,y_train)\n",
    "m = lm_model.coef_[0]\n",
    "b = lm_model.intercept_\n",
    "\n",
    "print(\"formula: y = {}x + {}\".format(m,b))"
   ]
  },
  {
   "cell_type": "code",
   "execution_count": 17,
   "metadata": {
    "ExecuteTime": {
     "end_time": "2019-05-23T22:58:43.697767Z",
     "start_time": "2019-05-23T22:58:43.677117Z"
    }
   },
   "outputs": [
    {
     "name": "stdout",
     "output_type": "stream",
     "text": [
      "Our score:  0.12315400851001868\n",
      "Variance score:  0.12315400851001868\n",
      "Mean square error:  1119784067.2239187\n"
     ]
    }
   ],
   "source": [
    "y_pred = lm_model.predict(X_test)\n",
    "print(\"Our score: \", lm_model.score(X_test, y_test))\n",
    "print(\"Variance score: \", r2_score(y_test, y_pred))\n",
    "print(\"Mean square error: \",mean_squared_error(y_test, y_pred))"
   ]
  },
  {
   "cell_type": "code",
   "execution_count": 18,
   "metadata": {
    "ExecuteTime": {
     "end_time": "2019-05-23T22:58:43.709668Z",
     "start_time": "2019-05-23T22:58:43.702200Z"
    }
   },
   "outputs": [
    {
     "data": {
      "text/plain": [
       "((393,), (393,))"
      ]
     },
     "execution_count": 18,
     "metadata": {},
     "output_type": "execute_result"
    }
   ],
   "source": [
    "y_test.shape, y_pred.shape"
   ]
  },
  {
   "cell_type": "code",
   "execution_count": 19,
   "metadata": {
    "ExecuteTime": {
     "end_time": "2019-05-23T22:58:43.729003Z",
     "start_time": "2019-05-23T22:58:43.713690Z"
    }
   },
   "outputs": [
    {
     "name": "stderr",
     "output_type": "stream",
     "text": [
      "/home/shayne/Anaconda3/envs/caps_env/lib/python3.6/site-packages/sklearn/utils/validation.py:595: DataConversionWarning: Data with input dtype uint8 was converted to float64 by StandardScaler.\n",
      "  warnings.warn(msg, DataConversionWarning)\n",
      "/home/shayne/Anaconda3/envs/caps_env/lib/python3.6/site-packages/sklearn/utils/validation.py:595: DataConversionWarning: Data with input dtype uint8 was converted to float64 by StandardScaler.\n",
      "  warnings.warn(msg, DataConversionWarning)\n"
     ]
    }
   ],
   "source": [
    "ss = StandardScaler()\n",
    "Xs = ss.fit_transform(X.values)"
   ]
  },
  {
   "cell_type": "code",
   "execution_count": 20,
   "metadata": {
    "ExecuteTime": {
     "end_time": "2019-05-23T22:58:43.744749Z",
     "start_time": "2019-05-23T22:58:43.734024Z"
    }
   },
   "outputs": [
    {
     "data": {
      "text/plain": [
       "((1176, 21), (393, 21))"
      ]
     },
     "execution_count": 20,
     "metadata": {},
     "output_type": "execute_result"
    }
   ],
   "source": [
    "X_train, X_test, y_train, y_test = train_test_split(Xs, y, test_size=0.25 )\n",
    "X_train.shape, X_test.shape"
   ]
  },
  {
   "cell_type": "code",
   "execution_count": 21,
   "metadata": {
    "ExecuteTime": {
     "end_time": "2019-05-23T22:58:43.786755Z",
     "start_time": "2019-05-23T22:58:43.748946Z"
    }
   },
   "outputs": [
    {
     "name": "stdout",
     "output_type": "stream",
     "text": [
      "formula: y = 3142125790398124.0x + 4277365403076331.5\n",
      "Our score:  -5.5064698671523765e+25\n",
      "Variance score:  -5.5064698671523765e+25\n",
      "Mean square error:  5.730282669800953e+34\n"
     ]
    }
   ],
   "source": [
    "lm2 = LinearRegression()\n",
    "lm2_model = lm.fit(X_train,y_train)\n",
    "m = lm2_model.coef_[0]\n",
    "b = lm2_model.intercept_\n",
    "\n",
    "print(\"formula: y = {}x + {}\".format(m,b))\n",
    "y_pred = lm2_model.predict(X_test)\n",
    "print(\"Our score: \", lm2_model.score(X_test, y_test))\n",
    "print(\"Variance score: \", r2_score(y_test, y_pred))\n",
    "print(\"Mean square error: \",mean_squared_error(y_test, y_pred))"
   ]
  },
  {
   "cell_type": "code",
   "execution_count": 22,
   "metadata": {
    "ExecuteTime": {
     "end_time": "2019-05-23T22:58:43.799030Z",
     "start_time": "2019-05-23T22:58:43.791108Z"
    }
   },
   "outputs": [
    {
     "data": {
      "text/plain": [
       "((393,), (393,))"
      ]
     },
     "execution_count": 22,
     "metadata": {},
     "output_type": "execute_result"
    }
   ],
   "source": [
    "y_test.shape, y_pred.shape"
   ]
  },
  {
   "cell_type": "code",
   "execution_count": 23,
   "metadata": {
    "ExecuteTime": {
     "end_time": "2019-05-23T22:58:45.014537Z",
     "start_time": "2019-05-23T22:58:43.809598Z"
    }
   },
   "outputs": [
    {
     "data": {
      "image/png": "[encoded data removed]",
      "text/plain": [
       "<Figure size 360x360 with 1 Axes>"
      ]
     },
     "metadata": {},
     "output_type": "display_data"
    }
   ],
   "source": [
    "columns=['Act_Value','Pred_Value']\n",
    "helper = pd.DataFrame([np.array(y_test),y_pred])\n",
    "helper = helper.transpose()\n",
    "helper.columns = columns\n",
    "\n",
    "sns.lmplot(x='Act_Value', y='Pred_Value', data = helper);\n",
    "ax = plt.gca()\n",
    "ax.set_title(\"Linear Regression Model\");\n"
   ]
  },
  {
   "cell_type": "code",
   "execution_count": 24,
   "metadata": {
    "ExecuteTime": {
     "end_time": "2019-05-23T22:58:46.016301Z",
     "start_time": "2019-05-23T22:58:45.036969Z"
    }
   },
   "outputs": [
    {
     "name": "stderr",
     "output_type": "stream",
     "text": [
      "/home/shayne/Anaconda3/envs/caps_env/lib/python3.6/site-packages/sklearn/linear_model/logistic.py:433: FutureWarning: Default solver will be changed to 'lbfgs' in 0.22. Specify a solver to silence this warning.\n",
      "  FutureWarning)\n",
      "/home/shayne/Anaconda3/envs/caps_env/lib/python3.6/site-packages/sklearn/linear_model/logistic.py:460: FutureWarning: Default multi_class will be changed to 'auto' in 0.22. Specify the multi_class option to silence this warning.\n",
      "  \"this warning.\", FutureWarning)\n"
     ]
    },
    {
     "data": {
      "text/plain": [
       "LogisticRegression(C=1.0, class_weight=None, dual=False, fit_intercept=True,\n",
       "          intercept_scaling=1, max_iter=100, multi_class='warn',\n",
       "          n_jobs=None, penalty='l2', random_state=None, solver='warn',\n",
       "          tol=0.0001, verbose=0, warm_start=False)"
      ]
     },
     "execution_count": 24,
     "metadata": {},
     "output_type": "execute_result"
    }
   ],
   "source": [
    "logreg = LogisticRegression()\n",
    "logreg.fit(X_train, y_train)"
   ]
  },
  {
   "cell_type": "code",
   "execution_count": 25,
   "metadata": {
    "ExecuteTime": {
     "end_time": "2019-05-23T22:58:46.042226Z",
     "start_time": "2019-05-23T22:58:46.020637Z"
    }
   },
   "outputs": [
    {
     "data": {
      "text/plain": [
       "0.7404580152671756"
      ]
     },
     "execution_count": 25,
     "metadata": {},
     "output_type": "execute_result"
    }
   ],
   "source": [
    "logreg.score(X_test, y_test)"
   ]
  },
  {
   "cell_type": "code",
   "execution_count": 26,
   "metadata": {
    "ExecuteTime": {
     "end_time": "2019-05-23T22:58:46.058103Z",
     "start_time": "2019-05-23T22:58:46.046112Z"
    }
   },
   "outputs": [],
   "source": [
    "y_pred = logreg.predict(X_test)"
   ]
  },
  {
   "cell_type": "code",
   "execution_count": 27,
   "metadata": {
    "ExecuteTime": {
     "end_time": "2019-05-23T22:58:46.933099Z",
     "start_time": "2019-05-23T22:58:46.062205Z"
    }
   },
   "outputs": [
    {
     "data": {
      "image/png": "[encoded data removed]",
      "text/plain": [
       "<Figure size 360x360 with 1 Axes>"
      ]
     },
     "metadata": {},
     "output_type": "display_data"
    }
   ],
   "source": [
    "columns=['Act_Value','Pred_Value']\n",
    "helper = pd.DataFrame([np.array(y_test),y_pred])\n",
    "helper = helper.transpose()\n",
    "helper.columns = columns\n",
    "\n",
    "sns.lmplot(x='Act_Value', y='Pred_Value', data = helper);\n",
    "ax = plt.gca()\n",
    "ax.set_title(\"Logistic Regression Model\");"
   ]
  },
  {
   "cell_type": "markdown",
   "metadata": {},
   "source": [
    "## 2. Classtification"
   ]
  },
  {
   "cell_type": "code",
   "execution_count": 28,
   "metadata": {
    "ExecuteTime": {
     "end_time": "2019-05-23T22:58:46.987815Z",
     "start_time": "2019-05-23T22:58:46.944252Z"
    }
   },
   "outputs": [
    {
     "name": "stdout",
     "output_type": "stream",
     "text": [
      "Baseline:  DA     67.877629\n",
      "SDA    17.080943\n",
      "DS     11.217336\n",
      "SDS     2.103250\n",
      "JDA     1.593372\n",
      "JDS     0.127470\n",
      "Name: title, dtype: float64\n"
     ]
    }
   ],
   "source": [
    "### KNeighborsClassifier\n",
    "from sklearn.model_selection import StratifiedKFold\n",
    "from sklearn.neighbors import KNeighborsClassifier\n",
    "from sklearn.preprocessing import StandardScaler\n",
    "\n",
    "ss = StandardScaler()\n",
    "Xs = ss.fit_transform(X_train)\n",
    "\n",
    "# Baseline\n",
    "print(\"Baseline: \",frame['title'].value_counts(normalize=True)*100)\n",
    "\n",
    "knn6 = KNeighborsClassifier(n_neighbors=6, weights='uniform')"
   ]
  },
  {
   "cell_type": "code",
   "execution_count": 29,
   "metadata": {
    "ExecuteTime": {
     "end_time": "2019-05-23T22:58:47.572280Z",
     "start_time": "2019-05-23T22:58:47.001089Z"
    }
   },
   "outputs": [
    {
     "ename": "ValueError",
     "evalue": "Found input variables with inconsistent numbers of samples: [1176, 1569]",
     "output_type": "error",
     "traceback": [
      "\u001b[0;31m---------------------------------------------------------------------------\u001b[0m",
      "\u001b[0;31mValueError\u001b[0m                                Traceback (most recent call last)",
      "\u001b[0;32m<ipython-input-29-4e5e5bf92c70>\u001b[0m in \u001b[0;36m<module>\u001b[0;34m\u001b[0m\n\u001b[1;32m      1\u001b[0m \u001b[0mskf\u001b[0m \u001b[0;34m=\u001b[0m \u001b[0mStratifiedKFold\u001b[0m\u001b[0;34m(\u001b[0m\u001b[0mn_splits\u001b[0m\u001b[0;34m=\u001b[0m\u001b[0;36m5\u001b[0m\u001b[0;34m)\u001b[0m\u001b[0;34m\u001b[0m\u001b[0;34m\u001b[0m\u001b[0m\n\u001b[1;32m      2\u001b[0m \u001b[0mcv_indices\u001b[0m \u001b[0;34m=\u001b[0m \u001b[0mskf\u001b[0m\u001b[0;34m.\u001b[0m\u001b[0msplit\u001b[0m\u001b[0;34m(\u001b[0m\u001b[0mXs\u001b[0m\u001b[0;34m,\u001b[0m \u001b[0my\u001b[0m\u001b[0;34m)\u001b[0m\u001b[0;34m\u001b[0m\u001b[0;34m\u001b[0m\u001b[0m\n\u001b[0;32m----> 3\u001b[0;31m \u001b[0mcv_indices\u001b[0m \u001b[0;34m=\u001b[0m \u001b[0;34m[\u001b[0m\u001b[0;34m[\u001b[0m\u001b[0mtr\u001b[0m\u001b[0;34m,\u001b[0m\u001b[0mte\u001b[0m\u001b[0;34m]\u001b[0m \u001b[0;32mfor\u001b[0m \u001b[0mtr\u001b[0m\u001b[0;34m,\u001b[0m\u001b[0mte\u001b[0m \u001b[0;32min\u001b[0m \u001b[0mcv_indices\u001b[0m\u001b[0;34m]\u001b[0m\u001b[0;34m\u001b[0m\u001b[0;34m\u001b[0m\u001b[0m\n\u001b[0m",
      "\u001b[0;32m<ipython-input-29-4e5e5bf92c70>\u001b[0m in \u001b[0;36m<listcomp>\u001b[0;34m(.0)\u001b[0m\n\u001b[1;32m      1\u001b[0m \u001b[0mskf\u001b[0m \u001b[0;34m=\u001b[0m \u001b[0mStratifiedKFold\u001b[0m\u001b[0;34m(\u001b[0m\u001b[0mn_splits\u001b[0m\u001b[0;34m=\u001b[0m\u001b[0;36m5\u001b[0m\u001b[0;34m)\u001b[0m\u001b[0;34m\u001b[0m\u001b[0;34m\u001b[0m\u001b[0m\n\u001b[1;32m      2\u001b[0m \u001b[0mcv_indices\u001b[0m \u001b[0;34m=\u001b[0m \u001b[0mskf\u001b[0m\u001b[0;34m.\u001b[0m\u001b[0msplit\u001b[0m\u001b[0;34m(\u001b[0m\u001b[0mXs\u001b[0m\u001b[0;34m,\u001b[0m \u001b[0my\u001b[0m\u001b[0;34m)\u001b[0m\u001b[0;34m\u001b[0m\u001b[0;34m\u001b[0m\u001b[0m\n\u001b[0;32m----> 3\u001b[0;31m \u001b[0mcv_indices\u001b[0m \u001b[0;34m=\u001b[0m \u001b[0;34m[\u001b[0m\u001b[0;34m[\u001b[0m\u001b[0mtr\u001b[0m\u001b[0;34m,\u001b[0m\u001b[0mte\u001b[0m\u001b[0;34m]\u001b[0m \u001b[0;32mfor\u001b[0m \u001b[0mtr\u001b[0m\u001b[0;34m,\u001b[0m\u001b[0mte\u001b[0m \u001b[0;32min\u001b[0m \u001b[0mcv_indices\u001b[0m\u001b[0;34m]\u001b[0m\u001b[0;34m\u001b[0m\u001b[0;34m\u001b[0m\u001b[0m\n\u001b[0m",
      "\u001b[0;32m~/Anaconda3/envs/caps_env/lib/python3.6/site-packages/sklearn/model_selection/_split.py\u001b[0m in \u001b[0;36msplit\u001b[0;34m(self, X, y, groups)\u001b[0m\n\u001b[1;32m    321\u001b[0m             \u001b[0mThe\u001b[0m \u001b[0mtesting\u001b[0m \u001b[0mset\u001b[0m \u001b[0mindices\u001b[0m \u001b[0;32mfor\u001b[0m \u001b[0mthat\u001b[0m \u001b[0msplit\u001b[0m\u001b[0;34m.\u001b[0m\u001b[0;34m\u001b[0m\u001b[0;34m\u001b[0m\u001b[0m\n\u001b[1;32m    322\u001b[0m         \"\"\"\n\u001b[0;32m--> 323\u001b[0;31m         \u001b[0mX\u001b[0m\u001b[0;34m,\u001b[0m \u001b[0my\u001b[0m\u001b[0;34m,\u001b[0m \u001b[0mgroups\u001b[0m \u001b[0;34m=\u001b[0m \u001b[0mindexable\u001b[0m\u001b[0;34m(\u001b[0m\u001b[0mX\u001b[0m\u001b[0;34m,\u001b[0m \u001b[0my\u001b[0m\u001b[0;34m,\u001b[0m \u001b[0mgroups\u001b[0m\u001b[0;34m)\u001b[0m\u001b[0;34m\u001b[0m\u001b[0;34m\u001b[0m\u001b[0m\n\u001b[0m\u001b[1;32m    324\u001b[0m         \u001b[0mn_samples\u001b[0m \u001b[0;34m=\u001b[0m \u001b[0m_num_samples\u001b[0m\u001b[0;34m(\u001b[0m\u001b[0mX\u001b[0m\u001b[0;34m)\u001b[0m\u001b[0;34m\u001b[0m\u001b[0;34m\u001b[0m\u001b[0m\n\u001b[1;32m    325\u001b[0m         \u001b[0;32mif\u001b[0m \u001b[0mself\u001b[0m\u001b[0;34m.\u001b[0m\u001b[0mn_splits\u001b[0m \u001b[0;34m>\u001b[0m \u001b[0mn_samples\u001b[0m\u001b[0;34m:\u001b[0m\u001b[0;34m\u001b[0m\u001b[0;34m\u001b[0m\u001b[0m\n",
      "\u001b[0;32m~/Anaconda3/envs/caps_env/lib/python3.6/site-packages/sklearn/utils/validation.py\u001b[0m in \u001b[0;36mindexable\u001b[0;34m(*iterables)\u001b[0m\n\u001b[1;32m    258\u001b[0m         \u001b[0;32melse\u001b[0m\u001b[0;34m:\u001b[0m\u001b[0;34m\u001b[0m\u001b[0;34m\u001b[0m\u001b[0m\n\u001b[1;32m    259\u001b[0m             \u001b[0mresult\u001b[0m\u001b[0;34m.\u001b[0m\u001b[0mappend\u001b[0m\u001b[0;34m(\u001b[0m\u001b[0mnp\u001b[0m\u001b[0;34m.\u001b[0m\u001b[0marray\u001b[0m\u001b[0;34m(\u001b[0m\u001b[0mX\u001b[0m\u001b[0;34m)\u001b[0m\u001b[0;34m)\u001b[0m\u001b[0;34m\u001b[0m\u001b[0;34m\u001b[0m\u001b[0m\n\u001b[0;32m--> 260\u001b[0;31m     \u001b[0mcheck_consistent_length\u001b[0m\u001b[0;34m(\u001b[0m\u001b[0;34m*\u001b[0m\u001b[0mresult\u001b[0m\u001b[0;34m)\u001b[0m\u001b[0;34m\u001b[0m\u001b[0;34m\u001b[0m\u001b[0m\n\u001b[0m\u001b[1;32m    261\u001b[0m     \u001b[0;32mreturn\u001b[0m \u001b[0mresult\u001b[0m\u001b[0;34m\u001b[0m\u001b[0;34m\u001b[0m\u001b[0m\n\u001b[1;32m    262\u001b[0m \u001b[0;34m\u001b[0m\u001b[0m\n",
      "\u001b[0;32m~/Anaconda3/envs/caps_env/lib/python3.6/site-packages/sklearn/utils/validation.py\u001b[0m in \u001b[0;36mcheck_consistent_length\u001b[0;34m(*arrays)\u001b[0m\n\u001b[1;32m    233\u001b[0m     \u001b[0;32mif\u001b[0m \u001b[0mlen\u001b[0m\u001b[0;34m(\u001b[0m\u001b[0muniques\u001b[0m\u001b[0;34m)\u001b[0m \u001b[0;34m>\u001b[0m \u001b[0;36m1\u001b[0m\u001b[0;34m:\u001b[0m\u001b[0;34m\u001b[0m\u001b[0;34m\u001b[0m\u001b[0m\n\u001b[1;32m    234\u001b[0m         raise ValueError(\"Found input variables with inconsistent numbers of\"\n\u001b[0;32m--> 235\u001b[0;31m                          \" samples: %r\" % [int(l) for l in lengths])\n\u001b[0m\u001b[1;32m    236\u001b[0m \u001b[0;34m\u001b[0m\u001b[0m\n\u001b[1;32m    237\u001b[0m \u001b[0;34m\u001b[0m\u001b[0m\n",
      "\u001b[0;31mValueError\u001b[0m: Found input variables with inconsistent numbers of samples: [1176, 1569]"
     ]
    }
   ],
   "source": [
    "skf = StratifiedKFold(n_splits=5)\n",
    "cv_indices = skf.split(Xs, y)\n",
    "cv_indices = [[tr,te] for tr,te in cv_indices]"
   ]
  },
  {
   "cell_type": "code",
   "execution_count": null,
   "metadata": {
    "ExecuteTime": {
     "end_time": "2019-05-23T22:58:47.578284Z",
     "start_time": "2019-05-23T22:58:36.712Z"
    }
   },
   "outputs": [],
   "source": [
    "# Function to crossvalidate accuracy of a knn model acros folds\n",
    "def accuracy_crossvalidator(X, y, knn, cv_indices):\n",
    "    \n",
    "    # list to store the scores/accuracy of folds\n",
    "    scores = []\n",
    "    \n",
    "    # iterate through the training and testing folds in cv_indices\n",
    "    for train_i, test_i in cv_indices:\n",
    "        \n",
    "        # get the current X train & test subsets of X\n",
    "        X_train = X[train_i, :]\n",
    "        X_test = X[test_i, :]\n",
    "\n",
    "        # get the Y train & test subsets of Y\n",
    "        Y_train = y[train_i]\n",
    "        Y_test = y[test_i]\n",
    "\n",
    "        # fit the knn model on the training data\n",
    "        knn.fit(X_train, Y_train)\n",
    "        \n",
    "        # get the accuracy predicting the testing data\n",
    "        acc = knn.score(X_test, Y_test)\n",
    "        scores.append(acc)\n",
    "        \n",
    "        print(('Fold accuracy:', acc))\n",
    "        \n",
    "    print(('Mean CV accuracy:', np.mean(scores)))\n",
    "    return scores\n"
   ]
  },
  {
   "cell_type": "code",
   "execution_count": null,
   "metadata": {
    "ExecuteTime": {
     "end_time": "2019-05-23T22:58:47.581965Z",
     "start_time": "2019-05-23T22:58:36.718Z"
    }
   },
   "outputs": [],
   "source": [
    "scores = accuracy_crossvalidator(Xs, y, knn6, cv_indices)"
   ]
  },
  {
   "cell_type": "markdown",
   "metadata": {},
   "source": [
    "## 3. PCA & Clustering"
   ]
  },
  {
   "cell_type": "code",
   "execution_count": null,
   "metadata": {
    "ExecuteTime": {
     "end_time": "2019-05-23T22:58:47.585111Z",
     "start_time": "2019-05-23T22:58:36.724Z"
    }
   },
   "outputs": [],
   "source": [
    "## Dendograme\n",
    "def plot_dendogram(df):\n",
    "    \n",
    "    # Data prep\n",
    "    X = df.as_matrix(columns=None)\n",
    "    Z = linkage(X, 'ward')\n",
    "    print(Z)\n",
    "    \n",
    "    # plotting\n",
    "    plt.title('Dendrogram')\n",
    "    plt.xlabel('Index Numbers')\n",
    "    plt.ylabel('Distance')\n",
    "    dendrogram(\n",
    "        Z,\n",
    "        leaf_rotation=90.,  \n",
    "        leaf_font_size=8.,\n",
    "    )\n",
    "    plt.show()\n",
    "    \n",
    "    \n",
    "plot_dendogram(X)"
   ]
  },
  {
   "cell_type": "code",
   "execution_count": null,
   "metadata": {
    "ExecuteTime": {
     "end_time": "2019-05-23T22:58:47.588654Z",
     "start_time": "2019-05-23T22:58:36.728Z"
    }
   },
   "outputs": [],
   "source": [
    "sns.set_style(\"darkgrid\")\n",
    "import matplotlib.patches as mpatches\n",
    "from matplotlib.colors import ListedColormap\n",
    "import matplotlib.cm as cm\n",
    "\n",
    "def plot_dist_thresh(max_dist=200):\n",
    "    # max_dist = 200 # pairwise distance\n",
    "    # plot_dendogram(lang)\n",
    "    clusters = fcluster(Z, max_dist, criterion='distance')\n",
    "    \n",
    "    print((\"Clusters represented at distance: \", set(clusters)))\n",
    "    \n",
    "    # Complete color maps from matplotlib\n",
    "    \n",
    "    # plotting\n",
    "    # Add legend with some customizations.\n",
    "    \n",
    "    fig, ax = plt.subplots(1, 1, figsize=(10, 4))\n",
    "\n",
    "#     ax[0].scatter(X[:,0], X[:,6], c=clusters, cmap=cm.jet, s=40)\n",
    "\n",
    "#     ax[0].set_title(\"Max Dist: %d\" % max_dist)\n",
    "    \n",
    "#     # plt.legend(clusters, loc='upper right', shadow=True, scatterpoints=1)\n",
    "    \n",
    "#     ax[0].legend(['c{}'.format(i) for i in range(len(clusters))], loc=2, bbox_to_anchor=(1.05, 1), borderaxespad=0., fontsize=11)\n",
    "        \n",
    "    t = (0, max_dist)\n",
    "    ax.plot((0, 200), (max_dist, max_dist), 'r--')\n",
    "    \n",
    "    ax.set_title('Dendrogram')\n",
    "    ax.set_xlabel('Index Numbers')\n",
    "    ax.set_ylabel('Distance')\n",
    "    dendrogram(\n",
    "        Z,\n",
    "        leaf_rotation=90.,  \n",
    "        leaf_font_size=8.,\n",
    "        #link_color_func=lambda color: cmaps['Miscellaneous'],\n",
    "    )\n",
    "    \n",
    "def plot_wrapper(max_dist):\n",
    "    plot_dist_thresh(max_dist)\n",
    "    plt.show()"
   ]
  },
  {
   "cell_type": "code",
   "execution_count": null,
   "metadata": {
    "ExecuteTime": {
     "end_time": "2019-05-23T22:58:47.591677Z",
     "start_time": "2019-05-23T22:58:36.732Z"
    }
   },
   "outputs": [],
   "source": [
    "Z = linkage(X, 'ward')\n",
    "plot_dist_thresh(30)\n",
    "plot_dist_thresh(23)\n",
    "plot_dist_thresh(17)"
   ]
  },
  {
   "cell_type": "code",
   "execution_count": null,
   "metadata": {
    "ExecuteTime": {
     "end_time": "2019-05-23T22:58:47.595295Z",
     "start_time": "2019-05-23T22:58:36.738Z"
    }
   },
   "outputs": [],
   "source": [
    "cluster_kmean = KMeans(n_clusters=6, random_state=0).fit(X)\n",
    "\n",
    "predicted = cluster_kmean.labels_\n",
    "centroids = cluster_kmean.cluster_centers_\n",
    "\n",
    "print((\"Predicted clusters to points: \", predicted))\n",
    "print(\"Location of centroids: \")\n",
    "print(centroids)"
   ]
  },
  {
   "cell_type": "markdown",
   "metadata": {},
   "source": [
    "## Ensemble methods & Decision Tree Models"
   ]
  },
  {
   "cell_type": "code",
   "execution_count": null,
   "metadata": {
    "ExecuteTime": {
     "end_time": "2019-05-23T22:58:47.598597Z",
     "start_time": "2019-05-23T22:58:36.743Z"
    }
   },
   "outputs": [],
   "source": [
    "## DecisionTree\n",
    "dt = DecisionTreeClassifier()\n",
    "\n",
    "cross_val_score(dt, X_train, y_train, cv=5).mean()"
   ]
  },
  {
   "cell_type": "code",
   "execution_count": null,
   "metadata": {
    "ExecuteTime": {
     "end_time": "2019-05-23T22:58:47.601660Z",
     "start_time": "2019-05-23T22:58:36.752Z"
    }
   },
   "outputs": [],
   "source": [
    "dt.fit(X_train, y_train)\n",
    "dt.score(X_train,y_train)"
   ]
  },
  {
   "cell_type": "code",
   "execution_count": null,
   "metadata": {
    "ExecuteTime": {
     "end_time": "2019-05-23T22:58:47.605189Z",
     "start_time": "2019-05-23T22:58:36.757Z"
    }
   },
   "outputs": [],
   "source": [
    "dt.score(X_test, y_test)"
   ]
  },
  {
   "cell_type": "code",
   "execution_count": null,
   "metadata": {
    "ExecuteTime": {
     "end_time": "2019-05-23T22:58:47.608356Z",
     "start_time": "2019-05-23T22:58:36.763Z"
    }
   },
   "outputs": [],
   "source": [
    "## BaggingClassifier\n",
    "bag = BaggingClassifier(n_estimators=10000)\n",
    "\n",
    "bag.fit(X_train, y_train)\n",
    "bag.score(X_train, y_train)"
   ]
  },
  {
   "cell_type": "code",
   "execution_count": null,
   "metadata": {
    "ExecuteTime": {
     "end_time": "2019-05-23T22:58:47.612136Z",
     "start_time": "2019-05-23T22:58:36.769Z"
    }
   },
   "outputs": [],
   "source": [
    "bag.score(X_test, y_test)"
   ]
  },
  {
   "cell_type": "code",
   "execution_count": null,
   "metadata": {
    "ExecuteTime": {
     "end_time": "2019-05-23T22:58:47.615335Z",
     "start_time": "2019-05-23T22:58:36.774Z"
    }
   },
   "outputs": [],
   "source": [
    "## RandomforestClassication\n",
    "rfc = RandomForestClassifier(n_estimators=10000)\n",
    "\n",
    "rfc.fit(X_train, y_train)\n",
    "rfc.score(X_train, y_train)"
   ]
  },
  {
   "cell_type": "code",
   "execution_count": null,
   "metadata": {
    "ExecuteTime": {
     "end_time": "2019-05-23T22:58:47.618467Z",
     "start_time": "2019-05-23T22:58:36.779Z"
    }
   },
   "outputs": [],
   "source": [
    "rfc.score(X_test, y_test)"
   ]
  },
  {
   "cell_type": "code",
   "execution_count": null,
   "metadata": {
    "ExecuteTime": {
     "end_time": "2019-05-23T22:58:47.622539Z",
     "start_time": "2019-05-23T22:58:36.785Z"
    }
   },
   "outputs": [],
   "source": [
    "## ExtraTrees Classification\n",
    "et = ExtraTreesClassifier(n_estimators=10000)\n",
    "\n",
    "et.fit(X_train, y_train)\n",
    "et.score(X_train, y_train)"
   ]
  },
  {
   "cell_type": "code",
   "execution_count": null,
   "metadata": {
    "ExecuteTime": {
     "end_time": "2019-05-23T22:58:47.625900Z",
     "start_time": "2019-05-23T22:58:36.791Z"
    }
   },
   "outputs": [],
   "source": [
    "et.score(X_test, y_test)"
   ]
  },
  {
   "cell_type": "markdown",
   "metadata": {},
   "source": [
    "## SVM"
   ]
  },
  {
   "cell_type": "code",
   "execution_count": null,
   "metadata": {
    "ExecuteTime": {
     "end_time": "2019-05-23T22:58:47.629832Z",
     "start_time": "2019-05-23T22:58:36.798Z"
    }
   },
   "outputs": [],
   "source": [
    "def plot_svm(clf):\n",
    "    plt.scatter(X.iloc[:, 0], X.iloc[:, 1], c=y, s=30, cmap=plt.cm.Paired)\n",
    "\n",
    "    # plot the decision function\n",
    "    ax = plt.gca()\n",
    "    xlim = ax.get_xlim()\n",
    "    ylim = ax.get_ylim()\n",
    "    \n",
    "    x_min, x_max = X.iloc[:, 0].min() - 1, X.iloc[:, 0].max() + 1\n",
    "    y_min, y_max = X.iloc[:, 1].min() - 1, X.iloc[:, 1].max() + 1\n",
    "    xx2, yy2 = np.meshgrid(np.arange(x_min, x_max, .2),\n",
    "                         np.arange(y_min, y_max, .2))\n",
    "\n",
    "    # create grid to evaluate model\n",
    "    xy = np.vstack([xx2.ravel(), yy2.ravel()]).T\n",
    "    Z = clf.decision_function(xy).reshape(xx2.shape)\n",
    "\n",
    "    # plot decision boundary and margins\n",
    "    ax.contourf(xx2, yy2, Z, cmap=plt.cm.binary, alpha=0.2)\n",
    "    ax.contour(xx2, yy2, Z, colors='k', levels=[-1, 0, 1], alpha=0.8,\n",
    "               linestyles=['--', '-', '--'])\n",
    "    # plot support vectors\n",
    "    if not isinstance(clf, LinearSVC):\n",
    "        ax.scatter(clf.support_vectors_[:, 0], clf.support_vectors_[:, 1], s=150,\n",
    "               linewidth=1, facecolors='none', edgecolors='k')\n",
    "        print (clf.support_vectors_)\n",
    "        \n",
    "    plt.show()\n",
    "    "
   ]
  },
  {
   "cell_type": "code",
   "execution_count": null,
   "metadata": {
    "ExecuteTime": {
     "end_time": "2019-05-23T22:58:47.633111Z",
     "start_time": "2019-05-23T22:58:36.804Z"
    }
   },
   "outputs": [],
   "source": [
    "fsd="
   ]
  },
  {
   "cell_type": "code",
   "execution_count": null,
   "metadata": {
    "ExecuteTime": {
     "end_time": "2019-05-23T22:58:47.637444Z",
     "start_time": "2019-05-23T22:58:36.809Z"
    }
   },
   "outputs": [],
   "source": [
    "def plot_svm(clf):\n",
    "    plt.scatter(X.iloc[:, 0], X.iloc[:, 1], c=y, s=30, cmap=plt.cm.Paired)\n",
    "\n",
    "    # plot the decision function\n",
    "    ax = plt.gca()\n",
    "    xlim = ax.get_xlim()\n",
    "    ylim = ax.get_ylim()\n",
    "    \n",
    "    x_min, x_max = X.iloc[:, 0].min() - 1, X.iloc[:, 0].max() + 1\n",
    "    y_min, y_max = X.iloc[:, 1].min() - 1, X.iloc[:, 1].max() + 1\n",
    "    xx2, yy2 = np.meshgrid(np.arange(x_min, x_max, .2),\n",
    "                         np.arange(y_min, y_max, .2))\n",
    "\n",
    "    # create grid to evaluate model\n",
    "    xy = np.vstack([xx2.ravel(), yy2.ravel()]).T\n",
    "    Z = clf.decision_function(xy).reshape(xx2.shape)\n",
    "\n",
    "    # plot decision boundary and margins\n",
    "    ax.contourf(xx2, yy2, Z, cmap=plt.cm.binary, alpha=0.2)\n",
    "    ax.contour(xx2, yy2, Z, colors='k', levels=[-1, 0, 1], alpha=0.8,\n",
    "               linestyles=['--', '-', '--'])\n",
    "    # plot support vectors\n",
    "    if not isinstance(clf, LinearSVC):\n",
    "        ax.scatter(clf.support_vectors_[:, 0], clf.support_vectors_[:, 1], s=150,\n",
    "               linewidth=1, facecolors='none', edgecolors='k')\n",
    "        print (clf.support_vectors_)\n",
    "        \n",
    "    plt.show()\n",
    "    "
   ]
  },
  {
   "cell_type": "code",
   "execution_count": null,
   "metadata": {
    "ExecuteTime": {
     "end_time": "2019-05-23T22:58:47.640508Z",
     "start_time": "2019-05-23T22:58:36.814Z"
    }
   },
   "outputs": [],
   "source": [
    "sv = SVC(kernel='linear', C=10000)\n",
    "sv.fit(X, y)\n",
    "plot_svm(sv)"
   ]
  },
  {
   "cell_type": "code",
   "execution_count": null,
   "metadata": {
    "ExecuteTime": {
     "end_time": "2019-05-23T22:58:47.657233Z",
     "start_time": "2019-05-23T22:58:36.819Z"
    }
   },
   "outputs": [],
   "source": [
    "clf_poly = SVC(kernel='poly', degree=3, C=10000)\n",
    "clf_poly.fit(X, y)\n",
    "plot_svm(clf_poly)"
   ]
  },
  {
   "cell_type": "code",
   "execution_count": null,
   "metadata": {},
   "outputs": [],
   "source": []
  }
 ],
 "metadata": {
  "kernelspec": {
   "display_name": "Python 3",
   "language": "python",
   "name": "python3"
  },
  "language_info": {
   "codemirror_mode": {
    "name": "ipython",
    "version": 3
   },
   "file_extension": ".py",
   "mimetype": "text/x-python",
   "name": "python",
   "nbconvert_exporter": "python",
   "pygments_lexer": "ipython3",
   "version": "3.6.8"
  },
  "toc": {
   "base_numbering": 1,
   "nav_menu": {},
   "number_sections": true,
   "sideBar": true,
   "skip_h1_title": false,
   "title_cell": "Table of Contents",
   "title_sidebar": "Contents",
   "toc_cell": false,
   "toc_position": {},
   "toc_section_display": true,
   "toc_window_display": false
  }
 },
 "nbformat": 4,
 "nbformat_minor": 2
}
