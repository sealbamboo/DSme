{
 "cells": [
  {
   "cell_type": "code",
   "execution_count": 1,
   "metadata": {
    "ExecuteTime": {
     "end_time": "2019-05-17T06:11:13.790124Z",
     "start_time": "2019-05-17T06:11:10.614127Z"
    }
   },
   "outputs": [],
   "source": [
    "from selenium import webdriver\n",
    "from selenium.webdriver.common.keys import Keys\n",
    "from time import sleep \n",
    "\n",
    "import pandas as pd\n",
    "from datetime import date\n",
    "\n",
    "browser = webdriver.Chrome('./chromedriver')"
   ]
  },
  {
   "cell_type": "code",
   "execution_count": 2,
   "metadata": {
    "ExecuteTime": {
     "end_time": "2019-05-17T06:11:20.677592Z",
     "start_time": "2019-05-17T06:11:13.796539Z"
    }
   },
   "outputs": [],
   "source": [
    "# Navigate to target website\n",
    "website = 'https://www.seek.com.au/'\n",
    "\n",
    "# Controlled Website\n",
    "browser.get(website)\n",
    "\n",
    "# Set Keyword\n",
    "keyword = 'Data analytics'\n",
    "list_keywords = ['Data analytics','Data Science','Data Scientist']\n",
    "location_keywords = ['Sydney','Melbourne','Brisbane']\n",
    "\n",
    "# Jobs per pages\n",
    "jpp = 20\n",
    "\n",
    "# Jobs in totals\n",
    "total = 0\n",
    "\n",
    "# Adjustable\n",
    "keynow = list_keywords[2]\n",
    "keynow1 = keynow.replace(' ','+')\n",
    "wherenow = location_keywords[2]"
   ]
  },
  {
   "cell_type": "code",
   "execution_count": 3,
   "metadata": {
    "ExecuteTime": {
     "end_time": "2019-05-17T06:11:20.695228Z",
     "start_time": "2019-05-17T06:11:20.682149Z"
    },
    "code_folding": [
     2
    ]
   },
   "outputs": [],
   "source": [
    "# list_urls = []\n",
    "# # Automation Here\n",
    "# for i in list_keywords:\n",
    "#     for j in location_keywords:\n",
    "#         # Control Selenium\n",
    "#         browser.get(website)\n",
    "        \n",
    "#         # Fill into search field\n",
    "#         keynow = i\n",
    "#         wherenow = j\n",
    "        \n",
    "#         # Fill keywords\n",
    "#         searchBar = browser.find_element_by_id(\"SearchBar__Keywords\")\n",
    "#         searchBar.send_keys(keynow)\n",
    "\n",
    "#         # Fill Locations\n",
    "#         searchWhere = browser.find_element_by_id(\"SearchBar__Where\")\n",
    "#         searchWhere.send_keys(wherenow)\n",
    "#         searchWhere.send_keys(Keys.ENTER)\n",
    "#         sleep(10)\n",
    "        \n",
    "#         # Capture & Assign the total found job\n",
    "#         total = browser.find_element_by_css_selector('span#SearchSummary h1 strong').text\n",
    "#         total = int(total.replace(',',''))\n",
    "        \n",
    "#         # Init return list\n",
    "\n",
    "#         run_range = round(total/jpp)\n",
    "#         skip_first = False\n",
    "#         # main_window = browser.current_window_handle\n",
    "\n",
    "#         for index in range(run_range):\n",
    "#             sleep(5)\n",
    "#         #     try:\n",
    "# #             print(\"current [Index]: \", index)\n",
    "#             # Query all url accordingly to href    \n",
    "#             print(browser.find_element_by_css_selector('article h1 a').get_attribute(\"href\"))\n",
    "#             query_links = browser.find_elements_by_css_selector('article h1 a')\n",
    "#             # Push to list\n",
    "#             print(\"Query length: \", len(query_links))\n",
    "\n",
    "#             if skip_first:\n",
    "#                 print(\"Skip First !!!! \")\n",
    "#                 navigate_url = website + 'Data-analytics-jobs?page=' + str(index)\n",
    "#                 browser.get(navigate_url)\n",
    "\n",
    "#                 skip_first = False\n",
    "#             else:\n",
    "#                 # Save the window opener (current window, do not mistaken with tab... not the same)\n",
    "#                 for value in query_links:\n",
    "#                     list_urls.append(value.get_attribute(\"href\"))\n",
    "\n",
    "#             print(\"Updated list: \",len(list_urls))\n",
    "#             # This url when start\n",
    "#         #     a_href_contain = '//a[contains(@href, \"/Data-analytics-jobs?page=' + str(index+1) + '\")]'\n",
    "\n",
    "#             # After stop by seek.com.au server,\n",
    "#             # Start with this\n",
    "#             a_href_contain = '//a[contains(@href, \"/'+ keynow.replace('\"','').replace(' ','-')+'-jobs/in-'+ wherenow +'?page=' + str(index+2) + '\")]'\n",
    "# #             print(\"Next href: \", a_href_contain)\n",
    "#         #     pagination = browser.find_element_by_xpath('//a[contains(@href,\"/Data-analytics-jobs?page=2\")')\n",
    "#             pagination = browser.find_element_by_xpath(a_href_contain)\n",
    "#             pagination.click()\n",
    "#         #     except:\n",
    "#         #         pass"
   ]
  },
  {
   "cell_type": "code",
   "execution_count": 4,
   "metadata": {
    "ExecuteTime": {
     "end_time": "2019-05-17T06:11:33.643749Z",
     "start_time": "2019-05-17T06:11:20.700933Z"
    }
   },
   "outputs": [],
   "source": [
    "# Fill keywords\n",
    "searchBar = browser.find_element_by_id(\"SearchBar__Keywords\")\n",
    "searchBar.send_keys(keynow)\n",
    "\n",
    "# Fill Locations\n",
    "searchWhere = browser.find_element_by_id(\"SearchBar__Where\")\n",
    "searchWhere.send_keys(wherenow)\n",
    "searchWhere.send_keys(Keys.ENTER)\n",
    "sleep(10)"
   ]
  },
  {
   "cell_type": "code",
   "execution_count": 5,
   "metadata": {
    "ExecuteTime": {
     "end_time": "2019-05-17T06:11:33.737426Z",
     "start_time": "2019-05-17T06:11:33.648226Z"
    }
   },
   "outputs": [
    {
     "name": "stdout",
     "output_type": "stream",
     "text": [
      "Total found:  47\n"
     ]
    }
   ],
   "source": [
    "# Assign the totals job\n",
    "total = browser.find_element_by_css_selector('span#SearchSummary h1 strong').text\n",
    "print(\"Total found: \", total)\n",
    "total = int(total.replace(',',''))\n",
    "list_urls = []\n",
    "# print(browser.find_element_by_css_selector('article h1 a').get_attribute(\"href\"))"
   ]
  },
  {
   "cell_type": "code",
   "execution_count": 6,
   "metadata": {
    "ExecuteTime": {
     "end_time": "2019-05-16T12:58:04.815237Z",
     "start_time": "2019-05-16T12:57:53.459499Z"
    },
    "scrolled": true
   },
   "outputs": [
    {
     "name": "stdout",
     "output_type": "stream",
     "text": [
      "current [Index]:  0\n",
      "https://www.seek.com.au/job/39012654?type=standard&searchrequesttoken=568764f0-3cc9-42df-a81a-0dce9d059cd0\n",
      "Query length:  20\n",
      "Updated list:  20\n",
      "Next href:  //a[contains(@href, \"/Data-Scientist-jobs/in-Brisbane?page=2\")]\n",
      "current [Index]:  1\n",
      "https://www.seek.com.au/job/38995159?type=standard&searchrequesttoken=a55c2fbc-bf21-47c7-b230-d714de80f7d6\n",
      "Query length:  20\n",
      "Updated list:  40\n",
      "Next href:  //a[contains(@href, \"/Data-Scientist-jobs/in-Brisbane?page=3\")]\n"
     ]
    }
   ],
   "source": [
    "# Save links\n",
    "run_range = round(total/jpp)\n",
    "skip_first = False\n",
    "# main_window = browser.current_window_handle\n",
    "\n",
    "for index in range(run_range):\n",
    "    \n",
    "    sleep(5)\n",
    "    \n",
    "#     try:\n",
    "       \n",
    "    \n",
    "    print(\"current [Index]: \", index)\n",
    "    # Query all url accordingly to href    \n",
    "    print(browser.find_element_by_css_selector('article h1 a').get_attribute(\"href\"))\n",
    "    query_links = browser.find_elements_by_css_selector('article h1 a')\n",
    "    # Push to list\n",
    "    print(\"Query length: \", len(query_links))\n",
    "\n",
    "    if skip_first:\n",
    "        print(\"Skip First !!!! \")\n",
    "        navigate_url = website + 'Data-analytics-jobs?page=' + str(index)\n",
    "        browser.get(navigate_url)\n",
    "                   \n",
    "        skip_first = False\n",
    "    else:\n",
    "        # Save the window opener (current window, do not mistaken with tab... not the same)\n",
    "#         browser.switch_to_window(main_window)\n",
    "        for value in query_links:\n",
    "            list_urls.append(value.get_attribute(\"href\"))\n",
    "\n",
    "    print(\"Updated list: \",len(list_urls))\n",
    "\n",
    "\n",
    "    # This url when start\n",
    "#     a_href_contain = '//a[contains(@href, \"/Data-analytics-jobs?page=' + str(index+1) + '\")]'\n",
    "    \n",
    "    # After stop by seek.com.au server,\n",
    "    # Start with this\n",
    "    a_href_contain = '//a[contains(@href, \"/'+ keynow.replace(' ','-')+'-jobs/in-'+ wherenow +'?page=' + str(index+2) + '\")]'\n",
    "#     a_href_contain = '//a[contains(@href, \"/jobs/in-'+ wherenow + '?keywords=' + keynow1 +'&page=' + str(index+2) + '\")]'\n",
    "    print(\"Next href: \", a_href_contain)\n",
    "#     pagination = browser.find_element_by_xpath('//a[contains(@href,\"/Data-analytics-jobs?page=2\")')\n",
    "    pagination = browser.find_element_by_xpath(a_href_contain)\n",
    "    pagination.click()\n",
    "\n",
    "#     except:\n",
    "#         pass\n"
   ]
  },
  {
   "cell_type": "code",
   "execution_count": 7,
   "metadata": {
    "ExecuteTime": {
     "end_time": "2019-05-16T12:58:04.826230Z",
     "start_time": "2019-05-16T12:58:04.816236Z"
    }
   },
   "outputs": [
    {
     "data": {
      "text/plain": [
       "['https://www.seek.com.au/job/39012654?type=standard&searchrequesttoken=568764f0-3cc9-42df-a81a-0dce9d059cd0',\n",
       " 'https://www.seek.com.au/job/38999685?type=standout&searchrequesttoken=568764f0-3cc9-42df-a81a-0dce9d059cd0',\n",
       " 'https://www.seek.com.au/job/39003239?type=standard&searchrequesttoken=568764f0-3cc9-42df-a81a-0dce9d059cd0',\n",
       " 'https://www.seek.com.au/job/39016388?type=standard&searchrequesttoken=568764f0-3cc9-42df-a81a-0dce9d059cd0',\n",
       " 'https://www.seek.com.au/job/38863666?type=standard&searchrequesttoken=568764f0-3cc9-42df-a81a-0dce9d059cd0',\n",
       " 'https://www.seek.com.au/job/38890886?type=standout&searchrequesttoken=568764f0-3cc9-42df-a81a-0dce9d059cd0',\n",
       " 'https://www.seek.com.au/job/38892320?type=standard&searchrequesttoken=568764f0-3cc9-42df-a81a-0dce9d059cd0',\n",
       " 'https://www.seek.com.au/job/38922531?type=standout&searchrequesttoken=568764f0-3cc9-42df-a81a-0dce9d059cd0',\n",
       " 'https://www.seek.com.au/job/38874128?type=standard&searchrequesttoken=568764f0-3cc9-42df-a81a-0dce9d059cd0',\n",
       " 'https://www.seek.com.au/job/38871761?type=standard&searchrequesttoken=568764f0-3cc9-42df-a81a-0dce9d059cd0',\n",
       " 'https://www.seek.com.au/job/39040919?type=standout&searchrequesttoken=568764f0-3cc9-42df-a81a-0dce9d059cd0',\n",
       " 'https://www.seek.com.au/job/38998989?type=standard&searchrequesttoken=568764f0-3cc9-42df-a81a-0dce9d059cd0',\n",
       " 'https://www.seek.com.au/job/38896497?type=standout&searchrequesttoken=568764f0-3cc9-42df-a81a-0dce9d059cd0',\n",
       " 'https://www.seek.com.au/job/39015517?type=standard&searchrequesttoken=568764f0-3cc9-42df-a81a-0dce9d059cd0',\n",
       " 'https://www.seek.com.au/job/38890885?type=standout&searchrequesttoken=568764f0-3cc9-42df-a81a-0dce9d059cd0',\n",
       " 'https://www.seek.com.au/job/39002385?type=standard&searchrequesttoken=568764f0-3cc9-42df-a81a-0dce9d059cd0',\n",
       " 'https://www.seek.com.au/job/39008519?type=standout&searchrequesttoken=568764f0-3cc9-42df-a81a-0dce9d059cd0',\n",
       " 'https://www.seek.com.au/job/38970345?type=standout&searchrequesttoken=568764f0-3cc9-42df-a81a-0dce9d059cd0',\n",
       " 'https://www.seek.com.au/job/39040920?type=standout&searchrequesttoken=568764f0-3cc9-42df-a81a-0dce9d059cd0',\n",
       " 'https://www.seek.com.au/job/38942934?type=standout&searchrequesttoken=568764f0-3cc9-42df-a81a-0dce9d059cd0',\n",
       " 'https://www.seek.com.au/job/38995159?type=standard&searchrequesttoken=a55c2fbc-bf21-47c7-b230-d714de80f7d6',\n",
       " 'https://www.seek.com.au/job/38868361?type=standout&searchrequesttoken=a55c2fbc-bf21-47c7-b230-d714de80f7d6',\n",
       " 'https://www.seek.com.au/job/38957267?type=standout&searchrequesttoken=a55c2fbc-bf21-47c7-b230-d714de80f7d6',\n",
       " 'https://www.seek.com.au/job/38943938?type=standout&searchrequesttoken=a55c2fbc-bf21-47c7-b230-d714de80f7d6',\n",
       " 'https://www.seek.com.au/job/38938333?type=standout&searchrequesttoken=a55c2fbc-bf21-47c7-b230-d714de80f7d6',\n",
       " 'https://www.seek.com.au/job/39024106?type=standout&searchrequesttoken=a55c2fbc-bf21-47c7-b230-d714de80f7d6',\n",
       " 'https://www.seek.com.au/job/38993976?type=standout&searchrequesttoken=a55c2fbc-bf21-47c7-b230-d714de80f7d6',\n",
       " 'https://www.seek.com.au/job/38996547?type=standard&searchrequesttoken=a55c2fbc-bf21-47c7-b230-d714de80f7d6',\n",
       " 'https://www.seek.com.au/job/38880426?type=standard&searchrequesttoken=a55c2fbc-bf21-47c7-b230-d714de80f7d6',\n",
       " 'https://www.seek.com.au/job/38884703?type=standout&searchrequesttoken=a55c2fbc-bf21-47c7-b230-d714de80f7d6',\n",
       " 'https://www.seek.com.au/job/38886050?type=standout&searchrequesttoken=a55c2fbc-bf21-47c7-b230-d714de80f7d6',\n",
       " 'https://www.seek.com.au/job/39005524?type=standout&searchrequesttoken=a55c2fbc-bf21-47c7-b230-d714de80f7d6',\n",
       " 'https://www.seek.com.au/job/38999040?type=standard&searchrequesttoken=a55c2fbc-bf21-47c7-b230-d714de80f7d6',\n",
       " 'https://www.seek.com.au/job/38992165?type=standard&searchrequesttoken=a55c2fbc-bf21-47c7-b230-d714de80f7d6',\n",
       " 'https://www.seek.com.au/job/38995244?type=standard&searchrequesttoken=a55c2fbc-bf21-47c7-b230-d714de80f7d6',\n",
       " 'https://www.seek.com.au/job/38995245?type=standard&searchrequesttoken=a55c2fbc-bf21-47c7-b230-d714de80f7d6',\n",
       " 'https://www.seek.com.au/job/38895761?type=standard&searchrequesttoken=a55c2fbc-bf21-47c7-b230-d714de80f7d6',\n",
       " 'https://www.seek.com.au/job/38903770?type=standout&searchrequesttoken=a55c2fbc-bf21-47c7-b230-d714de80f7d6',\n",
       " 'https://www.seek.com.au/job/38903771?type=standout&searchrequesttoken=a55c2fbc-bf21-47c7-b230-d714de80f7d6',\n",
       " 'https://www.seek.com.au/job/38831590?type=standard&searchrequesttoken=a55c2fbc-bf21-47c7-b230-d714de80f7d6']"
      ]
     },
     "execution_count": 7,
     "metadata": {},
     "output_type": "execute_result"
    }
   ],
   "source": [
    "list_urls"
   ]
  },
  {
   "cell_type": "code",
   "execution_count": 8,
   "metadata": {
    "ExecuteTime": {
     "end_time": "2019-05-16T12:58:04.839223Z",
     "start_time": "2019-05-16T12:58:04.828229Z"
    }
   },
   "outputs": [],
   "source": [
    "# Create DataFrame object form urls list\n",
    "frame = pd.DataFrame(list_urls, columns=['url'])"
   ]
  },
  {
   "cell_type": "code",
   "execution_count": 9,
   "metadata": {
    "ExecuteTime": {
     "end_time": "2019-05-16T12:58:04.851217Z",
     "start_time": "2019-05-16T12:58:04.841222Z"
    }
   },
   "outputs": [
    {
     "name": "stdout",
     "output_type": "stream",
     "text": [
      "<class 'pandas.core.frame.DataFrame'>\n",
      "RangeIndex: 40 entries, 0 to 39\n",
      "Data columns (total 1 columns):\n",
      "url    40 non-null object\n",
      "dtypes: object(1)\n",
      "memory usage: 400.0+ bytes\n"
     ]
    }
   ],
   "source": [
    "frame.info()"
   ]
  },
  {
   "cell_type": "code",
   "execution_count": 10,
   "metadata": {
    "ExecuteTime": {
     "end_time": "2019-05-16T12:58:04.873203Z",
     "start_time": "2019-05-16T12:58:04.853215Z"
    }
   },
   "outputs": [],
   "source": [
    "today = date.today()\n",
    "csv_name = './jobs_csv/frame_' + keynow.replace(' ','-') + '_in_' + wherenow +'_' + today.strftime(\"%b-%d-%Y\") +'.csv'\n",
    "frame.to_csv(csv_name, sep='|', encoding='utf-8', index=False)"
   ]
  },
  {
   "cell_type": "code",
   "execution_count": null,
   "metadata": {},
   "outputs": [],
   "source": []
  }
 ],
 "metadata": {
  "kernelspec": {
   "display_name": "Python 3",
   "language": "python",
   "name": "python3"
  },
  "language_info": {
   "codemirror_mode": {
    "name": "ipython",
    "version": 3
   },
   "file_extension": ".py",
   "mimetype": "text/x-python",
   "name": "python",
   "nbconvert_exporter": "python",
   "pygments_lexer": "ipython3",
   "version": "3.6.8"
  },
  "toc": {
   "base_numbering": 1,
   "nav_menu": {},
   "number_sections": true,
   "sideBar": true,
   "skip_h1_title": false,
   "title_cell": "Table of Contents",
   "title_sidebar": "Contents",
   "toc_cell": false,
   "toc_position": {},
   "toc_section_display": true,
   "toc_window_display": false
  }
 },
 "nbformat": 4,
 "nbformat_minor": 2
}
