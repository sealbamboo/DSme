{
 "cells": [
  {
   "cell_type": "code",
<<<<<<< HEAD
   "execution_count": 19,
   "metadata": {
    "ExecuteTime": {
     "end_time": "2019-05-14T12:16:33.097214Z",
     "start_time": "2019-05-14T12:16:30.891342Z"
=======
   "execution_count": 4,
   "metadata": {
    "ExecuteTime": {
     "end_time": "2019-05-14T08:33:06.475573Z",
     "start_time": "2019-05-14T08:33:04.673763Z"
>>>>>>> d51ecbf273e8d61823910e3232360f3f6f9e3201
    }
   },
   "outputs": [],
   "source": [
    "from selenium import webdriver\n",
    "from selenium.webdriver.common.keys import Keys\n",
    "from time import sleep \n",
    "\n",
    "import pandas as pd\n",
    "from datetime import date\n",
    "\n",
    "browser = webdriver.Chrome('./chromedriver74')"
   ]
  },
  {
   "cell_type": "code",
<<<<<<< HEAD
   "execution_count": 47,
   "metadata": {
    "ExecuteTime": {
     "end_time": "2019-05-14T12:29:06.097042Z",
     "start_time": "2019-05-14T12:29:05.294501Z"
=======
   "execution_count": 5,
   "metadata": {
    "ExecuteTime": {
     "end_time": "2019-05-14T08:33:09.052527Z",
     "start_time": "2019-05-14T08:33:06.500905Z"
>>>>>>> d51ecbf273e8d61823910e3232360f3f6f9e3201
    }
   },
   "outputs": [],
   "source": [
    "# Navigate to target website\n",
    "website = 'https://www.seek.com.au/'\n",
    "\n",
    "# Controlled Website\n",
    "browser.get(website)\n",
    "\n",
    "# Set Keyword\n",
    "keyword = 'Data analytics'\n",
    "list_keywords = ['Data analytics','Data Science','Data Scientist']\n",
    "location_keywords = ['Sydney','Melbourne','Brisbane']\n",
    "\n",
    "# Jobs per pages\n",
    "jpp = 20\n",
    "\n",
    "# Jobs in totals\n",
    "total = 0\n",
    "\n",
    "# Adjustable\n",
    "keynow = list_keywords[1]\n",
    "wherenow = location_keywords[0]"
   ]
  },
  {
   "cell_type": "code",
<<<<<<< HEAD
   "execution_count": 48,
   "metadata": {
    "ExecuteTime": {
     "end_time": "2019-05-14T12:29:06.104038Z",
     "start_time": "2019-05-14T12:29:06.099041Z"
    }
   },
   "outputs": [],
   "source": [
    "# list_urls = []\n",
    "# # Automation\n",
    "# for i in list_keywords:\n",
    "#     for j in location_keywords:\n",
    "        \n",
    "#         # Adjustable\n",
    "#         keynow = i\n",
    "#         wherenow = j\n",
    "        \n",
    "#         # Fill keywords\n",
    "#         searchBar = browser.find_element_by_id(\"SearchBar__Keywords\")\n",
    "#         searchBar.send_keys(keynow)\n",
    "\n",
    "#         # Fill Locations\n",
    "#         searchWhere = browser.find_element_by_id(\"SearchBar__Where\")\n",
    "#         searchWhere.send_keys(wherenow)\n",
    "#         searchWhere.send_keys(Keys.ENTER)\n",
    "#         sleep(10)\n",
    "        \n",
    "#         # Assign the totals job\n",
    "#         total = browser.find_element_by_css_selector('span#SearchSummary h1 strong').text        \n",
    "#         total = int(total.replace(',',''))\n",
    "        \n",
    "#         # Save links\n",
    "#         run_range = round(total/jpp)\n",
    "#         skip_first = False\n",
    "#         for index in range(run_range):\n",
    "#             sleep(5)\n",
    "#         #     try:\n",
    "#             # Query all url accordingly to href    \n",
    "#             print(browser.find_element_by_css_selector('article h1 a').get_attribute(\"href\"))\n",
    "#             query_links = browser.find_elements_by_css_selector('article h1 a')\n",
    "#             # Push to list\n",
    "#             print(\"Query length: \", len(query_links))\n",
    "\n",
    "#             if skip_first:\n",
    "#                 print(\"Skip First !!!! \")\n",
    "#                 navigate_url = website + 'Data-analytics-jobs?page=' + str(index)\n",
    "#                 browser.get(navigate_url)\n",
    "#                 skip_first = False\n",
    "#             else:\n",
    "#                 # Save the window opener (current window, do not mistaken with tab... not the same)\n",
    "#                 for value in query_links:\n",
    "#                     list_urls.append(value.get_attribute(\"href\"))\n",
    "\n",
    "#             print(\"Updated list: \",len(list_urls))\n",
    "#             # This url when start\n",
    "#         #     a_href_contain = '//a[contains(@href, \"/Data-analytics-jobs?page=' + str(index+1) + '\")]'\n",
    "\n",
    "#             # After stop by seek.com.au server,\n",
    "#             # Start with this\n",
    "#             a_href_contain = '//a[contains(@href, \"/'+ keynow.replace(' ','-')+'-jobs/in-'+ wherenow +'?page=' + str(index+2) + '\")]'\n",
    "#             print(\"Next href: \", a_href_contain)\n",
    "#         #     pagination = browser.find_element_by_xpath('//a[contains(@href,\"/Data-analytics-jobs?page=2\")')\n",
    "#             pagination = browser.find_element_by_xpath(a_href_contain)\n",
    "#             pagination.click()\n",
    "#         #     except:\n",
    "#         #         pass"
=======
   "execution_count": 6,
   "metadata": {
    "ExecuteTime": {
     "end_time": "2019-05-14T09:05:00.332516Z",
     "start_time": "2019-05-14T09:05:00.322847Z"
    }
   },
   "outputs": [
    {
     "ename": "SyntaxError",
     "evalue": "unexpected EOF while parsing (<ipython-input-6-e23115306db5>, line 3)",
     "output_type": "error",
     "traceback": [
      "\u001b[0;36m  File \u001b[0;32m\"<ipython-input-6-e23115306db5>\"\u001b[0;36m, line \u001b[0;32m3\u001b[0m\n\u001b[0;31m    for j in location_keywords:\u001b[0m\n\u001b[0m                               ^\u001b[0m\n\u001b[0;31mSyntaxError\u001b[0m\u001b[0;31m:\u001b[0m unexpected EOF while parsing\n"
     ]
    }
   ],
   "source": [
    "list_urls = []\n",
    "# Automation Here\n",
    "for i in list_keywords:\n",
    "    for j in location_keywords:\n",
    "        # Control Selenium\n",
    "        browser.get(website)\n",
    "        \n",
    "        # Fill into search field\n",
    "        keynow = list_keywords[i]\n",
    "        wherenow = location_keywords[j]\n",
    "        \n",
    "        # Fill keywords\n",
    "        searchBar = browser.find_element_by_id(\"SearchBar__Keywords\")\n",
    "        searchBar.send_keys(keynow)\n",
    "\n",
    "        # Fill Locations\n",
    "        searchWhere = browser.find_element_by_id(\"SearchBar__Where\")\n",
    "        searchWhere.send_keys(wherenow)\n",
    "        searchWhere.send_keys(Keys.ENTER)\n",
    "        sleep(10)\n",
    "        \n",
    "        # Capture & Assign the total found job\n",
    "        total = browser.find_element_by_css_selector('span#SearchSummary h1 strong').text\n",
    "        total = int(total.replace(',',''))\n",
    "        \n",
    "        # Init return list\n",
    "\n",
    "        run_range = round(total/jpp)\n",
    "        skip_first = False\n",
    "        # main_window = browser.current_window_handle\n",
    "\n",
    "        for index in range(run_range):\n",
    "            sleep(5)\n",
    "        #     try:\n",
    "#             print(\"current [Index]: \", index)\n",
    "            # Query all url accordingly to href    \n",
    "            print(browser.find_element_by_css_selector('article h1 a').get_attribute(\"href\"))\n",
    "            query_links = browser.find_elements_by_css_selector('article h1 a')\n",
    "            # Push to list\n",
    "            print(\"Query length: \", len(query_links))\n",
    "\n",
    "            if skip_first:\n",
    "                print(\"Skip First !!!! \")\n",
    "                navigate_url = website + 'Data-analytics-jobs?page=' + str(index)\n",
    "                browser.get(navigate_url)\n",
    "\n",
    "                skip_first = False\n",
    "            else:\n",
    "                # Save the window opener (current window, do not mistaken with tab... not the same)\n",
    "                for value in query_links:\n",
    "                    list_urls.append(value.get_attribute(\"href\"))\n",
    "\n",
    "            print(\"Updated list: \",len(list_urls))\n",
    "            # This url when start\n",
    "        #     a_href_contain = '//a[contains(@href, \"/Data-analytics-jobs?page=' + str(index+1) + '\")]'\n",
    "\n",
    "            # After stop by seek.com.au server,\n",
    "            # Start with this\n",
    "            a_href_contain = '//a[contains(@href, \"/'+ keynow.replace(' ','-')+'-jobs/in-'+ wherenow +'?page=' + str(index+2) + '\")]'\n",
    "#             print(\"Next href: \", a_href_contain)\n",
    "        #     pagination = browser.find_element_by_xpath('//a[contains(@href,\"/Data-analytics-jobs?page=2\")')\n",
    "            pagination = browser.find_element_by_xpath(a_href_contain)\n",
    "            pagination.click()\n",
    "        #     except:\n",
    "        #         pass"
>>>>>>> d51ecbf273e8d61823910e3232360f3f6f9e3201
   ]
  },
  {
   "cell_type": "code",
<<<<<<< HEAD
   "execution_count": 49,
=======
   "execution_count": 3,
>>>>>>> d51ecbf273e8d61823910e3232360f3f6f9e3201
   "metadata": {
    "ExecuteTime": {
     "end_time": "2019-05-14T12:29:17.697346Z",
     "start_time": "2019-05-14T12:29:06.106036Z"
    }
   },
   "outputs": [],
   "source": [
    "# Fill keywords\n",
    "searchBar = browser.find_element_by_id(\"SearchBar__Keywords\")\n",
    "searchBar.send_keys(keynow)\n",
    "\n",
    "# Fill Locations\n",
    "searchWhere = browser.find_element_by_id(\"SearchBar__Where\")\n",
    "searchWhere.send_keys(wherenow)\n",
    "searchWhere.send_keys(Keys.ENTER)\n",
    "sleep(10)"
   ]
  },
  {
   "cell_type": "code",
   "execution_count": null,
   "metadata": {
    "ExecuteTime": {
     "start_time": "2019-05-14T12:29:06.061Z"
    }
   },
   "outputs": [
    {
     "name": "stdout",
     "output_type": "stream",
     "text": [
      "Total found:  720\n"
     ]
    }
   ],
   "source": [
    "# Assign the totals job\n",
    "total = browser.find_element_by_css_selector('span#SearchSummary h1 strong').text\n",
    "print(\"Total found: \", total)\n",
    "total = int(total.replace(',',''))\n",
    "list_urls = []\n",
    "# print(browser.find_element_by_css_selector('article h1 a').get_attribute(\"href\"))"
   ]
  },
  {
   "cell_type": "code",
   "execution_count": null,
   "metadata": {
    "ExecuteTime": {
     "start_time": "2019-05-14T12:29:06.348Z"
    },
    "scrolled": true
   },
   "outputs": [
    {
     "name": "stdout",
     "output_type": "stream",
     "text": [
      "current [Index]:  0\n",
      "https://www.seek.com.au/job/39009709?type=standard&searchrequesttoken=3b3b1206-a837-4630-98d6-111e44deae05\n",
      "Query length:  20\n",
      "Updated list:  20\n",
      "Next href:  //a[contains(@href, \"/Data-Science-jobs/in-Sydney?page=2\")]\n",
      "current [Index]:  1\n",
      "https://www.seek.com.au/job/38971245?type=standout&searchrequesttoken=092b1303-4b17-471c-99bc-0f0a1b8aaaae\n",
      "Query length:  20\n",
      "Updated list:  40\n",
      "Next href:  //a[contains(@href, \"/Data-Science-jobs/in-Sydney?page=3\")]\n",
      "current [Index]:  2\n",
      "https://www.seek.com.au/job/38855864?type=standard&searchrequesttoken=f7647216-b9f4-4e0d-a139-0601bed44b37\n",
      "Query length:  20\n",
      "Updated list:  60\n",
      "Next href:  //a[contains(@href, \"/Data-Science-jobs/in-Sydney?page=4\")]\n",
      "current [Index]:  3\n",
      "https://www.seek.com.au/job/38907890?type=standard&searchrequesttoken=2f781ec8-4061-415d-9fc0-81b54214a68f\n",
      "Query length:  20\n",
      "Updated list:  80\n",
      "Next href:  //a[contains(@href, \"/Data-Science-jobs/in-Sydney?page=5\")]\n",
      "current [Index]:  4\n",
      "https://www.seek.com.au/job/38997404?type=standard&searchrequesttoken=f885600f-f751-4168-aac3-1a668cfa21d5\n",
      "Query length:  20\n",
      "Updated list:  100\n",
      "Next href:  //a[contains(@href, \"/Data-Science-jobs/in-Sydney?page=6\")]\n",
      "current [Index]:  5\n",
      "https://www.seek.com.au/job/38867163?type=standard&searchrequesttoken=0f08b756-6bcd-4679-b6e4-7d0cfcbf92a3\n",
      "Query length:  20\n",
      "Updated list:  120\n",
      "Next href:  //a[contains(@href, \"/Data-Science-jobs/in-Sydney?page=7\")]\n",
      "current [Index]:  6\n",
      "https://www.seek.com.au/job/38899410?type=standard&searchrequesttoken=21dc9c34-e93f-48a5-8a1d-9decd17191cf\n",
      "Query length:  20\n",
      "Updated list:  140\n",
      "Next href:  //a[contains(@href, \"/Data-Science-jobs/in-Sydney?page=8\")]\n",
      "current [Index]:  7\n",
      "https://www.seek.com.au/job/38926856?type=standard&searchrequesttoken=8bc8ad65-ba4f-4145-b182-50b7d18f90b1\n",
      "Query length:  20\n",
      "Updated list:  160\n",
      "Next href:  //a[contains(@href, \"/Data-Science-jobs/in-Sydney?page=9\")]\n",
      "current [Index]:  8\n",
      "https://www.seek.com.au/job/38995913?type=standout&searchrequesttoken=95145ab2-70b4-4dac-8133-c78f23172456\n",
      "Query length:  20\n",
      "Updated list:  180\n",
      "Next href:  //a[contains(@href, \"/Data-Science-jobs/in-Sydney?page=10\")]\n",
      "current [Index]:  9\n",
      "https://www.seek.com.au/job/38818464?type=standard&searchrequesttoken=1dc83dc6-81c3-4e74-9a94-beddd9671616\n",
      "Query length:  20\n",
      "Updated list:  200\n",
      "Next href:  //a[contains(@href, \"/Data-Science-jobs/in-Sydney?page=11\")]\n",
      "current [Index]:  10\n",
      "https://www.seek.com.au/job/38883966?type=standout&searchrequesttoken=eef99312-9653-4e88-a460-2b496fddf703\n",
      "Query length:  20\n",
      "Updated list:  220\n",
      "Next href:  //a[contains(@href, \"/Data-Science-jobs/in-Sydney?page=12\")]\n",
      "current [Index]:  11\n",
      "https://www.seek.com.au/job/38819619?type=standout&searchrequesttoken=8f36848e-e365-4ae6-ba52-b020150937da\n",
      "Query length:  20\n",
      "Updated list:  240\n",
      "Next href:  //a[contains(@href, \"/Data-Science-jobs/in-Sydney?page=13\")]\n",
      "current [Index]:  12\n",
      "https://www.seek.com.au/job/38818926?type=standard&searchrequesttoken=8b5a01eb-f1ea-4505-b448-c9929f3c8d3a\n",
      "Query length:  20\n",
      "Updated list:  260\n",
      "Next href:  //a[contains(@href, \"/Data-Science-jobs/in-Sydney?page=14\")]\n",
      "current [Index]:  13\n",
      "https://www.seek.com.au/job/38892214?type=standard&searchrequesttoken=2544fcdf-035f-4f9d-a999-ce25208e1a0f\n",
      "Query length:  20\n",
      "Updated list:  280\n",
      "Next href:  //a[contains(@href, \"/Data-Science-jobs/in-Sydney?page=15\")]\n",
      "current [Index]:  14\n",
      "https://www.seek.com.au/job/38893626?type=standard&searchrequesttoken=1c699c96-8327-482d-8a06-1126a74e9c9b\n",
      "Query length:  20\n",
      "Updated list:  300\n",
      "Next href:  //a[contains(@href, \"/Data-Science-jobs/in-Sydney?page=16\")]\n",
      "current [Index]:  15\n",
      "https://www.seek.com.au/job/38970361?type=standout&searchrequesttoken=917032c2-95f8-4ef0-80b2-52f734ec0d95\n",
      "Query length:  20\n",
      "Updated list:  320\n",
      "Next href:  //a[contains(@href, \"/Data-Science-jobs/in-Sydney?page=17\")]\n",
      "current [Index]:  16\n",
      "https://www.seek.com.au/job/38976953?type=standard&searchrequesttoken=ab733de4-ed0b-4c77-9c63-de97363028f4\n",
      "Query length:  20\n",
      "Updated list:  340\n",
      "Next href:  //a[contains(@href, \"/Data-Science-jobs/in-Sydney?page=18\")]\n",
      "current [Index]:  17\n",
      "https://www.seek.com.au/job/38909354?type=standard&searchrequesttoken=085c6c7e-0f26-4ca5-a673-f039ec2d5352\n",
      "Query length:  20\n",
      "Updated list:  360\n",
      "Next href:  //a[contains(@href, \"/Data-Science-jobs/in-Sydney?page=19\")]\n",
      "current [Index]:  18\n",
      "https://www.seek.com.au/job/38952467?type=standout&searchrequesttoken=31096bea-f6d8-4613-bb81-a5763b6b9c74\n",
      "Query length:  20\n",
      "Updated list:  380\n",
      "Next href:  //a[contains(@href, \"/Data-Science-jobs/in-Sydney?page=20\")]\n",
      "current [Index]:  19\n",
      "https://www.seek.com.au/job/38860650?type=standout&searchrequesttoken=a193e88d-259a-4687-9d32-8b6fc2b46a8e\n",
      "Query length:  20\n",
      "Updated list:  400\n",
      "Next href:  //a[contains(@href, \"/Data-Science-jobs/in-Sydney?page=21\")]\n",
      "current [Index]:  20\n",
      "https://www.seek.com.au/job/38862216?type=standout&searchrequesttoken=8530b93d-78b4-48e4-8774-96894422e7c4\n",
      "Query length:  20\n",
      "Updated list:  420\n",
      "Next href:  //a[contains(@href, \"/Data-Science-jobs/in-Sydney?page=22\")]\n",
      "current [Index]:  21\n",
      "https://www.seek.com.au/job/38930019?type=standard&searchrequesttoken=42645c1c-f66f-4235-a31d-bc3c2f9f3211\n",
      "Query length:  20\n",
      "Updated list:  440\n",
      "Next href:  //a[contains(@href, \"/Data-Science-jobs/in-Sydney?page=23\")]\n",
      "current [Index]:  22\n",
      "https://www.seek.com.au/job/39003433?type=standard&searchrequesttoken=149d7533-d75d-4cb8-a26e-b70f0727a1d4\n",
      "Query length:  20\n",
      "Updated list:  460\n",
      "Next href:  //a[contains(@href, \"/Data-Science-jobs/in-Sydney?page=24\")]\n",
      "current [Index]:  23\n",
      "https://www.seek.com.au/job/38886421?type=standard&searchrequesttoken=0be5a656-ccbd-4cd8-b2d2-755b63e00fd2\n",
      "Query length:  20\n",
      "Updated list:  480\n",
      "Next href:  //a[contains(@href, \"/Data-Science-jobs/in-Sydney?page=25\")]\n",
      "current [Index]:  24\n",
      "https://www.seek.com.au/job/38957341?type=standard&searchrequesttoken=fa967e84-fa9f-413c-9c6e-0d721abc051f\n",
      "Query length:  20\n",
      "Updated list:  500\n",
      "Next href:  //a[contains(@href, \"/Data-Science-jobs/in-Sydney?page=26\")]\n",
      "current [Index]:  25\n",
      "https://www.seek.com.au/job/38823157?type=standard&searchrequesttoken=c8e167ce-c4b8-43b6-ba52-f7925fe05d24\n",
      "Query length:  20\n",
      "Updated list:  520\n",
      "Next href:  //a[contains(@href, \"/Data-Science-jobs/in-Sydney?page=27\")]\n",
      "current [Index]:  26\n",
      "https://www.seek.com.au/job/38980790?type=standout&searchrequesttoken=340d3c8d-6197-4081-9b02-ac394fbded33\n",
      "Query length:  20\n",
      "Updated list:  540\n",
      "Next href:  //a[contains(@href, \"/Data-Science-jobs/in-Sydney?page=28\")]\n",
      "current [Index]:  27\n",
      "https://www.seek.com.au/job/38980827?type=standout&searchrequesttoken=4d8bce69-76ab-4c95-9e7d-79e0c8598df0\n",
      "Query length:  20\n",
      "Updated list:  560\n",
      "Next href:  //a[contains(@href, \"/Data-Science-jobs/in-Sydney?page=29\")]\n",
      "current [Index]:  28\n",
      "https://www.seek.com.au/job/38857059?type=standout&searchrequesttoken=676bad1e-86e4-4c4d-99a0-84dc917c46a1\n",
      "Query length:  20\n",
      "Updated list:  580\n",
      "Next href:  //a[contains(@href, \"/Data-Science-jobs/in-Sydney?page=30\")]\n",
      "current [Index]:  29\n",
      "https://www.seek.com.au/job/38905650?type=standout&searchrequesttoken=6a8818bb-de3f-4b20-9a69-d108b6454de5\n",
      "Query length:  20\n",
      "Updated list:  600\n",
      "Next href:  //a[contains(@href, \"/Data-Science-jobs/in-Sydney?page=31\")]\n",
      "current [Index]:  30\n",
      "https://www.seek.com.au/job/38955452?type=standout&searchrequesttoken=6c952a31-8d34-4444-a2fe-d500ac2f2944\n",
      "Query length:  20\n",
      "Updated list:  620\n",
      "Next href:  //a[contains(@href, \"/Data-Science-jobs/in-Sydney?page=32\")]\n",
      "current [Index]:  31\n",
      "https://www.seek.com.au/job/38914669?type=standard&searchrequesttoken=706cdca9-dc4c-42d5-84da-625b5517b2f7\n",
      "Query length:  20\n",
      "Updated list:  640\n",
      "Next href:  //a[contains(@href, \"/Data-Science-jobs/in-Sydney?page=33\")]\n"
     ]
    }
   ],
   "source": [
    "# Save links\n",
    "run_range = round(total/jpp)\n",
    "skip_first = False\n",
    "# main_window = browser.current_window_handle\n",
    "\n",
    "for index in range(run_range):\n",
    "    \n",
    "    sleep(5)\n",
    "    \n",
    "#     try:\n",
    "       \n",
    "    \n",
    "    print(\"current [Index]: \", index)\n",
    "    # Query all url accordingly to href    \n",
    "    print(browser.find_element_by_css_selector('article h1 a').get_attribute(\"href\"))\n",
    "    query_links = browser.find_elements_by_css_selector('article h1 a')\n",
    "    # Push to list\n",
    "    print(\"Query length: \", len(query_links))\n",
    "\n",
    "    if skip_first:\n",
    "        print(\"Skip First !!!! \")\n",
    "        navigate_url = website + 'Data-analytics-jobs?page=' + str(index)\n",
    "        browser.get(navigate_url)\n",
    "                   \n",
    "        skip_first = False\n",
    "    else:\n",
    "        # Save the window opener (current window, do not mistaken with tab... not the same)\n",
    "#         browser.switch_to_window(main_window)\n",
    "        for value in query_links:\n",
    "            list_urls.append(value.get_attribute(\"href\"))\n",
    "\n",
    "    print(\"Updated list: \",len(list_urls))\n",
    "\n",
    "\n",
    "    # This url when start\n",
    "#     a_href_contain = '//a[contains(@href, \"/Data-analytics-jobs?page=' + str(index+1) + '\")]'\n",
    "    \n",
    "    # After stop by seek.com.au server,\n",
    "    # Start with this\n",
    "    a_href_contain = '//a[contains(@href, \"/'+ keynow.replace(' ','-')+'-jobs/in-'+ wherenow +'?page=' + str(index+2) + '\")]'\n",
    "    print(\"Next href: \", a_href_contain)\n",
    "#     pagination = browser.find_element_by_xpath('//a[contains(@href,\"/Data-analytics-jobs?page=2\")')\n",
    "    pagination = browser.find_element_by_xpath(a_href_contain)\n",
    "    pagination.click()\n",
    "\n",
    "#     except:\n",
    "#         pass\n"
   ]
  },
  {
   "cell_type": "code",
   "execution_count": null,
   "metadata": {
    "ExecuteTime": {
     "start_time": "2019-05-14T12:29:06.908Z"
    }
   },
   "outputs": [],
   "source": [
    "list_urls"
   ]
  },
  {
   "cell_type": "code",
   "execution_count": null,
   "metadata": {
    "ExecuteTime": {
     "start_time": "2019-05-14T12:29:07.501Z"
    }
   },
   "outputs": [],
   "source": [
    "# Create DataFrame object form urls list\n",
    "frame = pd.DataFrame(list_urls, columns=['url'])"
   ]
  },
  {
   "cell_type": "code",
   "execution_count": null,
   "metadata": {
    "ExecuteTime": {
     "start_time": "2019-05-14T12:29:07.931Z"
    }
   },
   "outputs": [],
   "source": [
    "frame.info()"
   ]
  },
  {
   "cell_type": "code",
   "execution_count": null,
   "metadata": {
    "ExecuteTime": {
     "start_time": "2019-05-14T12:29:08.460Z"
    }
   },
   "outputs": [],
   "source": [
    "today = date.today()\n",
    "csv_name = './jobs_csv/frame_' + keynow.replace(' ','-') + '_in_' + wherenow +'_' + today.strftime(\"%b-%d-%Y\") +'.csv'\n",
    "frame.to_csv(csv_name, sep='|', encoding='utf-8', index=False)"
   ]
  },
  {
   "cell_type": "code",
   "execution_count": null,
   "metadata": {},
   "outputs": [],
   "source": []
  }
 ],
 "metadata": {
  "kernelspec": {
   "display_name": "Python 3",
   "language": "python",
   "name": "python3"
  },
  "language_info": {
   "codemirror_mode": {
    "name": "ipython",
    "version": 3
   },
   "file_extension": ".py",
   "mimetype": "text/x-python",
   "name": "python",
   "nbconvert_exporter": "python",
   "pygments_lexer": "ipython3",
   "version": "3.6.5"
  },
  "toc": {
   "base_numbering": 1,
   "nav_menu": {},
   "number_sections": true,
   "sideBar": true,
   "skip_h1_title": false,
   "title_cell": "Table of Contents",
   "title_sidebar": "Contents",
   "toc_cell": false,
   "toc_position": {},
   "toc_section_display": true,
   "toc_window_display": false
  }
 },
 "nbformat": 4,
 "nbformat_minor": 2
}
