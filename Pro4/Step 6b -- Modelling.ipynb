{
 "cells": [
  {
   "cell_type": "code",
   "execution_count": 4,
   "metadata": {
    "ExecuteTime": {
     "end_time": "2019-05-22T04:06:26.041674Z",
     "start_time": "2019-05-22T04:06:23.535440Z"
    }
   },
   "outputs": [],
   "source": [
    "import numpy as np\n",
    "import pandas as pd\n",
    "import seaborn as sns\n",
    "import matplotlib.pyplot as plt\n",
    "\n",
    "from sklearn.linear_model import LinearRegression, LogisticRegression\n",
    "from sklearn.svm import SVC, LinearSVC\n",
    "from sklearn.model_selection import train_test_split, cross_val_score\n",
    "from sklearn.metrics import mean_squared_error, r2_score\n",
    "from sklearn.preprocessing import StandardScaler\n",
    "\n",
    "from sklearn.tree import DecisionTreeClassifier\n",
    "from sklearn.ensemble import RandomForestClassifier, ExtraTreesClassifier, BaggingClassifier\n",
    "\n",
    "from sklearn.cluster import KMeans, k_means\n",
    "from scipy.cluster.hierarchy import dendrogram, linkage, cophenet, fcluster\n",
    "\n",
    "# Folder\n",
    "folder = './training/Final/'\n",
    "\n",
    "file =  folder + 'dataset.csv'\n",
    "\n",
    "%matplotlib inline"
   ]
  },
  {
   "cell_type": "code",
   "execution_count": 5,
   "metadata": {
    "ExecuteTime": {
     "end_time": "2019-05-22T04:06:26.784199Z",
     "start_time": "2019-05-22T04:06:26.049798Z"
    },
    "scrolled": true
   },
   "outputs": [
    {
     "data": {
      "text/html": [
       "<div>\n",
       "<style scoped>\n",
       "    .dataframe tbody tr th:only-of-type {\n",
       "        vertical-align: middle;\n",
       "    }\n",
       "\n",
       "    .dataframe tbody tr th {\n",
       "        vertical-align: top;\n",
       "    }\n",
       "\n",
       "    .dataframe thead th {\n",
       "        text-align: right;\n",
       "    }\n",
       "</style>\n",
       "<table border=\"1\" class=\"dataframe\">\n",
       "  <thead>\n",
       "    <tr style=\"text-align: right;\">\n",
       "      <th></th>\n",
       "      <th>content</th>\n",
       "      <th>industries</th>\n",
       "      <th>location</th>\n",
       "      <th>title</th>\n",
       "      <th>type_empl</th>\n",
       "      <th>url</th>\n",
       "      <th>wage</th>\n",
       "      <th>suburb</th>\n",
       "      <th>experiences</th>\n",
       "      <th>title_left_over</th>\n",
       "    </tr>\n",
       "  </thead>\n",
       "  <tbody>\n",
       "    <tr>\n",
       "      <th>0</th>\n",
       "      <td>Queensland Audit Office Investing in analytics...</td>\n",
       "      <td>Information &amp; Communication Technology</td>\n",
       "      <td>Brisbane</td>\n",
       "      <td>DA</td>\n",
       "      <td>Permanent</td>\n",
       "      <td>https://www.seek.com.au/job/38867796?type=prom...</td>\n",
       "      <td>115000.0</td>\n",
       "      <td>CBD &amp; Inner Suburbs</td>\n",
       "      <td>General</td>\n",
       "      <td>Analyst - Audit Analytics</td>\n",
       "    </tr>\n",
       "    <tr>\n",
       "      <th>1</th>\n",
       "      <td>Working for this market leader within the Fina...</td>\n",
       "      <td>Information &amp; Communication Technology</td>\n",
       "      <td>Brisbane</td>\n",
       "      <td>DA</td>\n",
       "      <td>Permanent</td>\n",
       "      <td>https://www.seek.com.au/job/38986499?type=stan...</td>\n",
       "      <td>115000.0</td>\n",
       "      <td>CBD &amp; Inner Suburbs</td>\n",
       "      <td>General</td>\n",
       "      <td>Head of Data Analytics &amp; Performance</td>\n",
       "    </tr>\n",
       "    <tr>\n",
       "      <th>2</th>\n",
       "      <td>Queensland Audit Office Investing in analytics...</td>\n",
       "      <td>Information &amp; Communication Technology</td>\n",
       "      <td>Brisbane</td>\n",
       "      <td>DA</td>\n",
       "      <td>Permanent</td>\n",
       "      <td>https://www.seek.com.au/job/39008462?type=stan...</td>\n",
       "      <td>115000.0</td>\n",
       "      <td>CBD &amp; Inner Suburbs</td>\n",
       "      <td>General</td>\n",
       "      <td>Analyst - Audit Analytics</td>\n",
       "    </tr>\n",
       "    <tr>\n",
       "      <th>3</th>\n",
       "      <td>New Data Analyst opportunity with a well-known...</td>\n",
       "      <td>Information &amp; Communication Technology</td>\n",
       "      <td>Brisbane</td>\n",
       "      <td>DA</td>\n",
       "      <td>Contract</td>\n",
       "      <td>https://www.seek.com.au/job/38942920?type=stan...</td>\n",
       "      <td>115000.0</td>\n",
       "      <td>CBD &amp; Inner Suburbs</td>\n",
       "      <td>General</td>\n",
       "      <td>Data Analyst</td>\n",
       "    </tr>\n",
       "    <tr>\n",
       "      <th>4</th>\n",
       "      <td>Information Technology Services The Division o...</td>\n",
       "      <td>Information &amp; Communication Technology</td>\n",
       "      <td>Brisbane</td>\n",
       "      <td>SDA</td>\n",
       "      <td>Permanent</td>\n",
       "      <td>https://www.seek.com.au/job/39005084?type=stan...</td>\n",
       "      <td>144000.0</td>\n",
       "      <td>Brisbane</td>\n",
       "      <td>Senior</td>\n",
       "      <td>Senior Business Analyst / Data Modeller</td>\n",
       "    </tr>\n",
       "  </tbody>\n",
       "</table>\n",
       "</div>"
      ],
      "text/plain": [
       "                                             content  \\\n",
       "0  Queensland Audit Office Investing in analytics...   \n",
       "1  Working for this market leader within the Fina...   \n",
       "2  Queensland Audit Office Investing in analytics...   \n",
       "3  New Data Analyst opportunity with a well-known...   \n",
       "4  Information Technology Services The Division o...   \n",
       "\n",
       "                               industries  location title  type_empl  \\\n",
       "0  Information & Communication Technology  Brisbane    DA  Permanent   \n",
       "1  Information & Communication Technology  Brisbane    DA  Permanent   \n",
       "2  Information & Communication Technology  Brisbane    DA  Permanent   \n",
       "3  Information & Communication Technology  Brisbane    DA   Contract   \n",
       "4  Information & Communication Technology  Brisbane   SDA  Permanent   \n",
       "\n",
       "                                                 url      wage  \\\n",
       "0  https://www.seek.com.au/job/38867796?type=prom...  115000.0   \n",
       "1  https://www.seek.com.au/job/38986499?type=stan...  115000.0   \n",
       "2  https://www.seek.com.au/job/39008462?type=stan...  115000.0   \n",
       "3  https://www.seek.com.au/job/38942920?type=stan...  115000.0   \n",
       "4  https://www.seek.com.au/job/39005084?type=stan...  144000.0   \n",
       "\n",
       "                suburb experiences                          title_left_over  \n",
       "0  CBD & Inner Suburbs     General                Analyst - Audit Analytics  \n",
       "1  CBD & Inner Suburbs     General     Head of Data Analytics & Performance  \n",
       "2  CBD & Inner Suburbs     General                Analyst - Audit Analytics  \n",
       "3  CBD & Inner Suburbs     General                            Data Analyst   \n",
       "4             Brisbane      Senior  Senior Business Analyst / Data Modeller  "
      ]
     },
     "execution_count": 5,
     "metadata": {},
     "output_type": "execute_result"
    }
   ],
   "source": [
    "frame = pd.read_csv(file, sep='|')\n",
    "frame.head()"
   ]
  },
  {
   "cell_type": "code",
   "execution_count": 6,
   "metadata": {
    "ExecuteTime": {
     "end_time": "2019-05-22T04:06:28.125028Z",
     "start_time": "2019-05-22T04:06:28.063209Z"
    }
   },
   "outputs": [
    {
     "name": "stdout",
     "output_type": "stream",
     "text": [
      "<class 'pandas.core.frame.DataFrame'>\n",
      "RangeIndex: 1569 entries, 0 to 1568\n",
      "Data columns (total 10 columns):\n",
      "content            1569 non-null object\n",
      "industries         1569 non-null object\n",
      "location           1569 non-null object\n",
      "title              1569 non-null object\n",
      "type_empl          1569 non-null object\n",
      "url                1569 non-null object\n",
      "wage               1569 non-null float64\n",
      "suburb             1569 non-null object\n",
      "experiences        1569 non-null object\n",
      "title_left_over    1569 non-null object\n",
      "dtypes: float64(1), object(9)\n",
      "memory usage: 122.7+ KB\n"
     ]
    }
   ],
   "source": [
    "frame.info()"
   ]
  },
  {
   "cell_type": "code",
   "execution_count": 7,
   "metadata": {
    "ExecuteTime": {
     "end_time": "2019-05-22T04:06:29.134159Z",
     "start_time": "2019-05-22T04:06:29.070941Z"
    }
   },
   "outputs": [
    {
     "name": "stdout",
     "output_type": "stream",
     "text": [
      "<class 'pandas.core.frame.DataFrame'>\n",
      "RangeIndex: 1569 entries, 0 to 1568\n",
      "Data columns (total 5 columns):\n",
      "industries    1569 non-null object\n",
      "location      1569 non-null object\n",
      "title         1569 non-null object\n",
      "type_empl     1569 non-null object\n",
      "wage          1569 non-null float64\n",
      "dtypes: float64(1), object(4)\n",
      "memory usage: 61.4+ KB\n"
     ]
    }
   ],
   "source": [
    "frame.drop(columns=['content','experiences','title_left_over','url','suburb'] ,axis=1, inplace=True)\n",
    "frame.info()"
   ]
  },
  {
   "cell_type": "code",
   "execution_count": 8,
   "metadata": {
    "ExecuteTime": {
     "end_time": "2019-05-22T04:06:30.087403Z",
     "start_time": "2019-05-22T04:06:30.045114Z"
    }
   },
   "outputs": [
    {
     "data": {
      "text/plain": [
       "Information & Communication Technology    900\n",
       "Banking & Financial Services              133\n",
       "Accounting                                124\n",
       "Marketing & Communications                106\n",
       "Science & Technology                       72\n",
       "Government & Defence                       59\n",
       "Manufacturing, Transport & Logistics       53\n",
       "Consulting & Strategy                      49\n",
       "Sales                                      43\n",
       "Insurance & Superannuation                 30\n",
       "Name: industries, dtype: int64"
      ]
     },
     "execution_count": 8,
     "metadata": {},
     "output_type": "execute_result"
    }
   ],
   "source": [
    "frame['industries'].value_counts()"
   ]
  },
  {
   "cell_type": "code",
   "execution_count": 9,
   "metadata": {
    "ExecuteTime": {
     "end_time": "2019-05-22T04:06:31.159685Z",
     "start_time": "2019-05-22T04:06:30.982967Z"
    },
    "scrolled": true
   },
   "outputs": [
    {
     "data": {
      "text/html": [
       "<div>\n",
       "<style scoped>\n",
       "    .dataframe tbody tr th:only-of-type {\n",
       "        vertical-align: middle;\n",
       "    }\n",
       "\n",
       "    .dataframe tbody tr th {\n",
       "        vertical-align: top;\n",
       "    }\n",
       "\n",
       "    .dataframe thead th {\n",
       "        text-align: right;\n",
       "    }\n",
       "</style>\n",
       "<table border=\"1\" class=\"dataframe\">\n",
       "  <thead>\n",
       "    <tr style=\"text-align: right;\">\n",
       "      <th></th>\n",
       "      <th>industries</th>\n",
       "      <th>location</th>\n",
       "      <th>title</th>\n",
       "      <th>type_empl</th>\n",
       "      <th>wage</th>\n",
       "    </tr>\n",
       "  </thead>\n",
       "  <tbody>\n",
       "    <tr>\n",
       "      <th>0</th>\n",
       "      <td>Information &amp; Communication Technology</td>\n",
       "      <td>Brisbane</td>\n",
       "      <td>DA</td>\n",
       "      <td>Permanent</td>\n",
       "      <td>115000.0</td>\n",
       "    </tr>\n",
       "    <tr>\n",
       "      <th>1</th>\n",
       "      <td>Information &amp; Communication Technology</td>\n",
       "      <td>Brisbane</td>\n",
       "      <td>DA</td>\n",
       "      <td>Permanent</td>\n",
       "      <td>115000.0</td>\n",
       "    </tr>\n",
       "    <tr>\n",
       "      <th>2</th>\n",
       "      <td>Information &amp; Communication Technology</td>\n",
       "      <td>Brisbane</td>\n",
       "      <td>DA</td>\n",
       "      <td>Permanent</td>\n",
       "      <td>115000.0</td>\n",
       "    </tr>\n",
       "    <tr>\n",
       "      <th>3</th>\n",
       "      <td>Information &amp; Communication Technology</td>\n",
       "      <td>Brisbane</td>\n",
       "      <td>DA</td>\n",
       "      <td>Contract</td>\n",
       "      <td>115000.0</td>\n",
       "    </tr>\n",
       "    <tr>\n",
       "      <th>4</th>\n",
       "      <td>Information &amp; Communication Technology</td>\n",
       "      <td>Brisbane</td>\n",
       "      <td>SDA</td>\n",
       "      <td>Permanent</td>\n",
       "      <td>144000.0</td>\n",
       "    </tr>\n",
       "    <tr>\n",
       "      <th>5</th>\n",
       "      <td>Information &amp; Communication Technology</td>\n",
       "      <td>Brisbane</td>\n",
       "      <td>DA</td>\n",
       "      <td>Contract</td>\n",
       "      <td>115000.0</td>\n",
       "    </tr>\n",
       "    <tr>\n",
       "      <th>6</th>\n",
       "      <td>Information &amp; Communication Technology</td>\n",
       "      <td>Brisbane</td>\n",
       "      <td>DA</td>\n",
       "      <td>Permanent</td>\n",
       "      <td>115000.0</td>\n",
       "    </tr>\n",
       "    <tr>\n",
       "      <th>7</th>\n",
       "      <td>Information &amp; Communication Technology</td>\n",
       "      <td>Brisbane</td>\n",
       "      <td>DA</td>\n",
       "      <td>Contract</td>\n",
       "      <td>115000.0</td>\n",
       "    </tr>\n",
       "    <tr>\n",
       "      <th>8</th>\n",
       "      <td>Information &amp; Communication Technology</td>\n",
       "      <td>Brisbane</td>\n",
       "      <td>DA</td>\n",
       "      <td>Permanent</td>\n",
       "      <td>115000.0</td>\n",
       "    </tr>\n",
       "    <tr>\n",
       "      <th>9</th>\n",
       "      <td>Information &amp; Communication Technology</td>\n",
       "      <td>Brisbane</td>\n",
       "      <td>DA</td>\n",
       "      <td>Contract</td>\n",
       "      <td>115000.0</td>\n",
       "    </tr>\n",
       "    <tr>\n",
       "      <th>10</th>\n",
       "      <td>Information &amp; Communication Technology</td>\n",
       "      <td>Brisbane</td>\n",
       "      <td>DA</td>\n",
       "      <td>Permanent</td>\n",
       "      <td>115000.0</td>\n",
       "    </tr>\n",
       "    <tr>\n",
       "      <th>11</th>\n",
       "      <td>Information &amp; Communication Technology</td>\n",
       "      <td>Brisbane</td>\n",
       "      <td>DA</td>\n",
       "      <td>Contract</td>\n",
       "      <td>115000.0</td>\n",
       "    </tr>\n",
       "    <tr>\n",
       "      <th>12</th>\n",
       "      <td>Information &amp; Communication Technology</td>\n",
       "      <td>Brisbane</td>\n",
       "      <td>DA</td>\n",
       "      <td>Contract</td>\n",
       "      <td>115000.0</td>\n",
       "    </tr>\n",
       "    <tr>\n",
       "      <th>13</th>\n",
       "      <td>Information &amp; Communication Technology</td>\n",
       "      <td>Brisbane</td>\n",
       "      <td>DA</td>\n",
       "      <td>Contract</td>\n",
       "      <td>115000.0</td>\n",
       "    </tr>\n",
       "    <tr>\n",
       "      <th>14</th>\n",
       "      <td>Information &amp; Communication Technology</td>\n",
       "      <td>Brisbane</td>\n",
       "      <td>SDA</td>\n",
       "      <td>Permanent</td>\n",
       "      <td>144000.0</td>\n",
       "    </tr>\n",
       "    <tr>\n",
       "      <th>15</th>\n",
       "      <td>Information &amp; Communication Technology</td>\n",
       "      <td>Brisbane</td>\n",
       "      <td>DA</td>\n",
       "      <td>Contract</td>\n",
       "      <td>115000.0</td>\n",
       "    </tr>\n",
       "    <tr>\n",
       "      <th>16</th>\n",
       "      <td>Information &amp; Communication Technology</td>\n",
       "      <td>Brisbane</td>\n",
       "      <td>DA</td>\n",
       "      <td>Contract</td>\n",
       "      <td>115000.0</td>\n",
       "    </tr>\n",
       "    <tr>\n",
       "      <th>17</th>\n",
       "      <td>Information &amp; Communication Technology</td>\n",
       "      <td>Brisbane</td>\n",
       "      <td>DA</td>\n",
       "      <td>Permanent</td>\n",
       "      <td>115000.0</td>\n",
       "    </tr>\n",
       "    <tr>\n",
       "      <th>18</th>\n",
       "      <td>Information &amp; Communication Technology</td>\n",
       "      <td>Brisbane</td>\n",
       "      <td>DA</td>\n",
       "      <td>Contract</td>\n",
       "      <td>115000.0</td>\n",
       "    </tr>\n",
       "    <tr>\n",
       "      <th>19</th>\n",
       "      <td>Information &amp; Communication Technology</td>\n",
       "      <td>Brisbane</td>\n",
       "      <td>DA</td>\n",
       "      <td>Permanent</td>\n",
       "      <td>115000.0</td>\n",
       "    </tr>\n",
       "    <tr>\n",
       "      <th>20</th>\n",
       "      <td>Information &amp; Communication Technology</td>\n",
       "      <td>Brisbane</td>\n",
       "      <td>DA</td>\n",
       "      <td>Permanent</td>\n",
       "      <td>115000.0</td>\n",
       "    </tr>\n",
       "    <tr>\n",
       "      <th>21</th>\n",
       "      <td>Information &amp; Communication Technology</td>\n",
       "      <td>Brisbane</td>\n",
       "      <td>DA</td>\n",
       "      <td>Permanent</td>\n",
       "      <td>115000.0</td>\n",
       "    </tr>\n",
       "    <tr>\n",
       "      <th>22</th>\n",
       "      <td>Information &amp; Communication Technology</td>\n",
       "      <td>Brisbane</td>\n",
       "      <td>DA</td>\n",
       "      <td>Permanent</td>\n",
       "      <td>115000.0</td>\n",
       "    </tr>\n",
       "    <tr>\n",
       "      <th>23</th>\n",
       "      <td>Information &amp; Communication Technology</td>\n",
       "      <td>Brisbane</td>\n",
       "      <td>DA</td>\n",
       "      <td>Contract</td>\n",
       "      <td>115000.0</td>\n",
       "    </tr>\n",
       "    <tr>\n",
       "      <th>24</th>\n",
       "      <td>Information &amp; Communication Technology</td>\n",
       "      <td>Brisbane</td>\n",
       "      <td>SDA</td>\n",
       "      <td>Contract</td>\n",
       "      <td>144000.0</td>\n",
       "    </tr>\n",
       "    <tr>\n",
       "      <th>25</th>\n",
       "      <td>Information &amp; Communication Technology</td>\n",
       "      <td>Brisbane</td>\n",
       "      <td>DA</td>\n",
       "      <td>Contract</td>\n",
       "      <td>115000.0</td>\n",
       "    </tr>\n",
       "    <tr>\n",
       "      <th>26</th>\n",
       "      <td>Information &amp; Communication Technology</td>\n",
       "      <td>Brisbane</td>\n",
       "      <td>DA</td>\n",
       "      <td>Permanent</td>\n",
       "      <td>115000.0</td>\n",
       "    </tr>\n",
       "    <tr>\n",
       "      <th>27</th>\n",
       "      <td>Information &amp; Communication Technology</td>\n",
       "      <td>Brisbane</td>\n",
       "      <td>DA</td>\n",
       "      <td>Contract</td>\n",
       "      <td>115000.0</td>\n",
       "    </tr>\n",
       "    <tr>\n",
       "      <th>28</th>\n",
       "      <td>Information &amp; Communication Technology</td>\n",
       "      <td>Brisbane</td>\n",
       "      <td>DA</td>\n",
       "      <td>Contract</td>\n",
       "      <td>115000.0</td>\n",
       "    </tr>\n",
       "    <tr>\n",
       "      <th>29</th>\n",
       "      <td>Information &amp; Communication Technology</td>\n",
       "      <td>Brisbane</td>\n",
       "      <td>DA</td>\n",
       "      <td>Contract</td>\n",
       "      <td>115000.0</td>\n",
       "    </tr>\n",
       "    <tr>\n",
       "      <th>...</th>\n",
       "      <td>...</td>\n",
       "      <td>...</td>\n",
       "      <td>...</td>\n",
       "      <td>...</td>\n",
       "      <td>...</td>\n",
       "    </tr>\n",
       "    <tr>\n",
       "      <th>1539</th>\n",
       "      <td>Insurance &amp; Superannuation</td>\n",
       "      <td>Brisbane</td>\n",
       "      <td>SDA</td>\n",
       "      <td>Permanent</td>\n",
       "      <td>144000.0</td>\n",
       "    </tr>\n",
       "    <tr>\n",
       "      <th>1540</th>\n",
       "      <td>Insurance &amp; Superannuation</td>\n",
       "      <td>Melbourne</td>\n",
       "      <td>DA</td>\n",
       "      <td>Permanent</td>\n",
       "      <td>115000.0</td>\n",
       "    </tr>\n",
       "    <tr>\n",
       "      <th>1541</th>\n",
       "      <td>Insurance &amp; Superannuation</td>\n",
       "      <td>Melbourne</td>\n",
       "      <td>DA</td>\n",
       "      <td>Contract</td>\n",
       "      <td>115000.0</td>\n",
       "    </tr>\n",
       "    <tr>\n",
       "      <th>1542</th>\n",
       "      <td>Insurance &amp; Superannuation</td>\n",
       "      <td>Sydney</td>\n",
       "      <td>DA</td>\n",
       "      <td>Permanent</td>\n",
       "      <td>115000.0</td>\n",
       "    </tr>\n",
       "    <tr>\n",
       "      <th>1543</th>\n",
       "      <td>Insurance &amp; Superannuation</td>\n",
       "      <td>Sydney</td>\n",
       "      <td>DA</td>\n",
       "      <td>Permanent</td>\n",
       "      <td>115000.0</td>\n",
       "    </tr>\n",
       "    <tr>\n",
       "      <th>1544</th>\n",
       "      <td>Insurance &amp; Superannuation</td>\n",
       "      <td>Sydney</td>\n",
       "      <td>DA</td>\n",
       "      <td>Permanent</td>\n",
       "      <td>115000.0</td>\n",
       "    </tr>\n",
       "    <tr>\n",
       "      <th>1545</th>\n",
       "      <td>Insurance &amp; Superannuation</td>\n",
       "      <td>Sydney</td>\n",
       "      <td>DA</td>\n",
       "      <td>Permanent</td>\n",
       "      <td>115000.0</td>\n",
       "    </tr>\n",
       "    <tr>\n",
       "      <th>1546</th>\n",
       "      <td>Insurance &amp; Superannuation</td>\n",
       "      <td>Sydney</td>\n",
       "      <td>DA</td>\n",
       "      <td>Permanent</td>\n",
       "      <td>115000.0</td>\n",
       "    </tr>\n",
       "    <tr>\n",
       "      <th>1547</th>\n",
       "      <td>Insurance &amp; Superannuation</td>\n",
       "      <td>Sydney</td>\n",
       "      <td>DA</td>\n",
       "      <td>Permanent</td>\n",
       "      <td>115000.0</td>\n",
       "    </tr>\n",
       "    <tr>\n",
       "      <th>1548</th>\n",
       "      <td>Insurance &amp; Superannuation</td>\n",
       "      <td>Sydney</td>\n",
       "      <td>DA</td>\n",
       "      <td>Permanent</td>\n",
       "      <td>115000.0</td>\n",
       "    </tr>\n",
       "    <tr>\n",
       "      <th>1549</th>\n",
       "      <td>Insurance &amp; Superannuation</td>\n",
       "      <td>Sydney</td>\n",
       "      <td>SDA</td>\n",
       "      <td>Permanent</td>\n",
       "      <td>144000.0</td>\n",
       "    </tr>\n",
       "    <tr>\n",
       "      <th>1550</th>\n",
       "      <td>Insurance &amp; Superannuation</td>\n",
       "      <td>Sydney</td>\n",
       "      <td>DA</td>\n",
       "      <td>Permanent</td>\n",
       "      <td>115000.0</td>\n",
       "    </tr>\n",
       "    <tr>\n",
       "      <th>1551</th>\n",
       "      <td>Insurance &amp; Superannuation</td>\n",
       "      <td>Sydney</td>\n",
       "      <td>DA</td>\n",
       "      <td>Permanent</td>\n",
       "      <td>115000.0</td>\n",
       "    </tr>\n",
       "    <tr>\n",
       "      <th>1552</th>\n",
       "      <td>Insurance &amp; Superannuation</td>\n",
       "      <td>Sydney</td>\n",
       "      <td>SDA</td>\n",
       "      <td>Permanent</td>\n",
       "      <td>144000.0</td>\n",
       "    </tr>\n",
       "    <tr>\n",
       "      <th>1553</th>\n",
       "      <td>Insurance &amp; Superannuation</td>\n",
       "      <td>Sydney</td>\n",
       "      <td>SDA</td>\n",
       "      <td>Permanent</td>\n",
       "      <td>144000.0</td>\n",
       "    </tr>\n",
       "    <tr>\n",
       "      <th>1554</th>\n",
       "      <td>Insurance &amp; Superannuation</td>\n",
       "      <td>Sydney</td>\n",
       "      <td>DA</td>\n",
       "      <td>Contract</td>\n",
       "      <td>115000.0</td>\n",
       "    </tr>\n",
       "    <tr>\n",
       "      <th>1555</th>\n",
       "      <td>Insurance &amp; Superannuation</td>\n",
       "      <td>Sydney</td>\n",
       "      <td>DA</td>\n",
       "      <td>Permanent</td>\n",
       "      <td>115000.0</td>\n",
       "    </tr>\n",
       "    <tr>\n",
       "      <th>1556</th>\n",
       "      <td>Insurance &amp; Superannuation</td>\n",
       "      <td>Sydney</td>\n",
       "      <td>DA</td>\n",
       "      <td>Permanent</td>\n",
       "      <td>115000.0</td>\n",
       "    </tr>\n",
       "    <tr>\n",
       "      <th>1557</th>\n",
       "      <td>Insurance &amp; Superannuation</td>\n",
       "      <td>Sydney</td>\n",
       "      <td>DA</td>\n",
       "      <td>Permanent</td>\n",
       "      <td>115000.0</td>\n",
       "    </tr>\n",
       "    <tr>\n",
       "      <th>1558</th>\n",
       "      <td>Insurance &amp; Superannuation</td>\n",
       "      <td>Melbourne</td>\n",
       "      <td>DS</td>\n",
       "      <td>Permanent</td>\n",
       "      <td>110000.0</td>\n",
       "    </tr>\n",
       "    <tr>\n",
       "      <th>1559</th>\n",
       "      <td>Insurance &amp; Superannuation</td>\n",
       "      <td>Sydney</td>\n",
       "      <td>DS</td>\n",
       "      <td>Permanent</td>\n",
       "      <td>110000.0</td>\n",
       "    </tr>\n",
       "    <tr>\n",
       "      <th>1560</th>\n",
       "      <td>Insurance &amp; Superannuation</td>\n",
       "      <td>Sydney</td>\n",
       "      <td>DS</td>\n",
       "      <td>Contract</td>\n",
       "      <td>110000.0</td>\n",
       "    </tr>\n",
       "    <tr>\n",
       "      <th>1561</th>\n",
       "      <td>Insurance &amp; Superannuation</td>\n",
       "      <td>Sydney</td>\n",
       "      <td>DS</td>\n",
       "      <td>Permanent</td>\n",
       "      <td>110000.0</td>\n",
       "    </tr>\n",
       "    <tr>\n",
       "      <th>1562</th>\n",
       "      <td>Insurance &amp; Superannuation</td>\n",
       "      <td>Brisbane</td>\n",
       "      <td>DA</td>\n",
       "      <td>Contract</td>\n",
       "      <td>182000.0</td>\n",
       "    </tr>\n",
       "    <tr>\n",
       "      <th>1563</th>\n",
       "      <td>Insurance &amp; Superannuation</td>\n",
       "      <td>Sydney</td>\n",
       "      <td>DA</td>\n",
       "      <td>Contract</td>\n",
       "      <td>120450.0</td>\n",
       "    </tr>\n",
       "    <tr>\n",
       "      <th>1564</th>\n",
       "      <td>Insurance &amp; Superannuation</td>\n",
       "      <td>Sydney</td>\n",
       "      <td>DA</td>\n",
       "      <td>Permanent</td>\n",
       "      <td>112500.0</td>\n",
       "    </tr>\n",
       "    <tr>\n",
       "      <th>1565</th>\n",
       "      <td>Insurance &amp; Superannuation</td>\n",
       "      <td>Sydney</td>\n",
       "      <td>DA</td>\n",
       "      <td>Permanent</td>\n",
       "      <td>107500.0</td>\n",
       "    </tr>\n",
       "    <tr>\n",
       "      <th>1566</th>\n",
       "      <td>Insurance &amp; Superannuation</td>\n",
       "      <td>Sydney</td>\n",
       "      <td>SDA</td>\n",
       "      <td>Permanent</td>\n",
       "      <td>114999.0</td>\n",
       "    </tr>\n",
       "    <tr>\n",
       "      <th>1567</th>\n",
       "      <td>Insurance &amp; Superannuation</td>\n",
       "      <td>Sydney</td>\n",
       "      <td>SDA</td>\n",
       "      <td>Permanent</td>\n",
       "      <td>115000.0</td>\n",
       "    </tr>\n",
       "    <tr>\n",
       "      <th>1568</th>\n",
       "      <td>Insurance &amp; Superannuation</td>\n",
       "      <td>Sydney</td>\n",
       "      <td>SDA</td>\n",
       "      <td>Permanent</td>\n",
       "      <td>104999.0</td>\n",
       "    </tr>\n",
       "  </tbody>\n",
       "</table>\n",
       "<p>1569 rows × 5 columns</p>\n",
       "</div>"
      ],
      "text/plain": [
       "                                  industries   location title  type_empl  \\\n",
       "0     Information & Communication Technology   Brisbane    DA  Permanent   \n",
       "1     Information & Communication Technology   Brisbane    DA  Permanent   \n",
       "2     Information & Communication Technology   Brisbane    DA  Permanent   \n",
       "3     Information & Communication Technology   Brisbane    DA   Contract   \n",
       "4     Information & Communication Technology   Brisbane   SDA  Permanent   \n",
       "5     Information & Communication Technology   Brisbane    DA   Contract   \n",
       "6     Information & Communication Technology   Brisbane    DA  Permanent   \n",
       "7     Information & Communication Technology   Brisbane    DA   Contract   \n",
       "8     Information & Communication Technology   Brisbane    DA  Permanent   \n",
       "9     Information & Communication Technology   Brisbane    DA   Contract   \n",
       "10    Information & Communication Technology   Brisbane    DA  Permanent   \n",
       "11    Information & Communication Technology   Brisbane    DA   Contract   \n",
       "12    Information & Communication Technology   Brisbane    DA   Contract   \n",
       "13    Information & Communication Technology   Brisbane    DA   Contract   \n",
       "14    Information & Communication Technology   Brisbane   SDA  Permanent   \n",
       "15    Information & Communication Technology   Brisbane    DA   Contract   \n",
       "16    Information & Communication Technology   Brisbane    DA   Contract   \n",
       "17    Information & Communication Technology   Brisbane    DA  Permanent   \n",
       "18    Information & Communication Technology   Brisbane    DA   Contract   \n",
       "19    Information & Communication Technology   Brisbane    DA  Permanent   \n",
       "20    Information & Communication Technology   Brisbane    DA  Permanent   \n",
       "21    Information & Communication Technology   Brisbane    DA  Permanent   \n",
       "22    Information & Communication Technology   Brisbane    DA  Permanent   \n",
       "23    Information & Communication Technology   Brisbane    DA   Contract   \n",
       "24    Information & Communication Technology   Brisbane   SDA   Contract   \n",
       "25    Information & Communication Technology   Brisbane    DA   Contract   \n",
       "26    Information & Communication Technology   Brisbane    DA  Permanent   \n",
       "27    Information & Communication Technology   Brisbane    DA   Contract   \n",
       "28    Information & Communication Technology   Brisbane    DA   Contract   \n",
       "29    Information & Communication Technology   Brisbane    DA   Contract   \n",
       "...                                      ...        ...   ...        ...   \n",
       "1539              Insurance & Superannuation   Brisbane   SDA  Permanent   \n",
       "1540              Insurance & Superannuation  Melbourne    DA  Permanent   \n",
       "1541              Insurance & Superannuation  Melbourne    DA   Contract   \n",
       "1542              Insurance & Superannuation     Sydney    DA  Permanent   \n",
       "1543              Insurance & Superannuation     Sydney    DA  Permanent   \n",
       "1544              Insurance & Superannuation     Sydney    DA  Permanent   \n",
       "1545              Insurance & Superannuation     Sydney    DA  Permanent   \n",
       "1546              Insurance & Superannuation     Sydney    DA  Permanent   \n",
       "1547              Insurance & Superannuation     Sydney    DA  Permanent   \n",
       "1548              Insurance & Superannuation     Sydney    DA  Permanent   \n",
       "1549              Insurance & Superannuation     Sydney   SDA  Permanent   \n",
       "1550              Insurance & Superannuation     Sydney    DA  Permanent   \n",
       "1551              Insurance & Superannuation     Sydney    DA  Permanent   \n",
       "1552              Insurance & Superannuation     Sydney   SDA  Permanent   \n",
       "1553              Insurance & Superannuation     Sydney   SDA  Permanent   \n",
       "1554              Insurance & Superannuation     Sydney    DA   Contract   \n",
       "1555              Insurance & Superannuation     Sydney    DA  Permanent   \n",
       "1556              Insurance & Superannuation     Sydney    DA  Permanent   \n",
       "1557              Insurance & Superannuation     Sydney    DA  Permanent   \n",
       "1558              Insurance & Superannuation  Melbourne    DS  Permanent   \n",
       "1559              Insurance & Superannuation     Sydney    DS  Permanent   \n",
       "1560              Insurance & Superannuation     Sydney    DS   Contract   \n",
       "1561              Insurance & Superannuation     Sydney    DS  Permanent   \n",
       "1562              Insurance & Superannuation   Brisbane    DA   Contract   \n",
       "1563              Insurance & Superannuation     Sydney    DA   Contract   \n",
       "1564              Insurance & Superannuation     Sydney    DA  Permanent   \n",
       "1565              Insurance & Superannuation     Sydney    DA  Permanent   \n",
       "1566              Insurance & Superannuation     Sydney   SDA  Permanent   \n",
       "1567              Insurance & Superannuation     Sydney   SDA  Permanent   \n",
       "1568              Insurance & Superannuation     Sydney   SDA  Permanent   \n",
       "\n",
       "          wage  \n",
       "0     115000.0  \n",
       "1     115000.0  \n",
       "2     115000.0  \n",
       "3     115000.0  \n",
       "4     144000.0  \n",
       "5     115000.0  \n",
       "6     115000.0  \n",
       "7     115000.0  \n",
       "8     115000.0  \n",
       "9     115000.0  \n",
       "10    115000.0  \n",
       "11    115000.0  \n",
       "12    115000.0  \n",
       "13    115000.0  \n",
       "14    144000.0  \n",
       "15    115000.0  \n",
       "16    115000.0  \n",
       "17    115000.0  \n",
       "18    115000.0  \n",
       "19    115000.0  \n",
       "20    115000.0  \n",
       "21    115000.0  \n",
       "22    115000.0  \n",
       "23    115000.0  \n",
       "24    144000.0  \n",
       "25    115000.0  \n",
       "26    115000.0  \n",
       "27    115000.0  \n",
       "28    115000.0  \n",
       "29    115000.0  \n",
       "...        ...  \n",
       "1539  144000.0  \n",
       "1540  115000.0  \n",
       "1541  115000.0  \n",
       "1542  115000.0  \n",
       "1543  115000.0  \n",
       "1544  115000.0  \n",
       "1545  115000.0  \n",
       "1546  115000.0  \n",
       "1547  115000.0  \n",
       "1548  115000.0  \n",
       "1549  144000.0  \n",
       "1550  115000.0  \n",
       "1551  115000.0  \n",
       "1552  144000.0  \n",
       "1553  144000.0  \n",
       "1554  115000.0  \n",
       "1555  115000.0  \n",
       "1556  115000.0  \n",
       "1557  115000.0  \n",
       "1558  110000.0  \n",
       "1559  110000.0  \n",
       "1560  110000.0  \n",
       "1561  110000.0  \n",
       "1562  182000.0  \n",
       "1563  120450.0  \n",
       "1564  112500.0  \n",
       "1565  107500.0  \n",
       "1566  114999.0  \n",
       "1567  115000.0  \n",
       "1568  104999.0  \n",
       "\n",
       "[1569 rows x 5 columns]"
      ]
     },
     "execution_count": 9,
     "metadata": {},
     "output_type": "execute_result"
    }
   ],
   "source": [
    "frame"
   ]
  },
  {
   "cell_type": "code",
   "execution_count": 10,
   "metadata": {
    "ExecuteTime": {
     "end_time": "2019-05-22T04:06:32.281006Z",
     "start_time": "2019-05-22T04:06:32.262907Z"
    }
   },
   "outputs": [],
   "source": [
    "# frame = frame[frame['wage'] > 10000]\n",
    "# frame.info()"
   ]
  },
  {
   "cell_type": "code",
   "execution_count": 11,
   "metadata": {
    "ExecuteTime": {
     "end_time": "2019-05-22T04:06:35.120831Z",
     "start_time": "2019-05-22T04:06:33.119642Z"
    }
   },
   "outputs": [
    {
     "data": {
      "text/plain": [
       "Text(0.5, 0.98, 'Distributions of content over the year')"
      ]
     },
     "execution_count": 11,
     "metadata": {},
     "output_type": "execute_result"
    },
    {
     "data": {
      "image/png": "[encoded data removed]",
      "text/plain": [
       "<Figure size 1440x720 with 1 Axes>"
      ]
     },
     "metadata": {
      "needs_background": "light"
     },
     "output_type": "display_data"
    }
   ],
   "source": [
    "fig, ax = plt.subplots(1,1, figsize=(20,10))\n",
    "sns.set(style=\"whitegrid\", color_codes=True, font_scale=1.2)\n",
    "# sns.countplot(x='year', data=df_datetime, orient='h')\n",
    "sns.countplot(x='location',hue='title', data=frame, orient='h')\n",
    "fig.suptitle('Distributions of content over the year')\n",
    "# sns.barplot(x='title',y='wage',data=frame)"
   ]
  },
  {
   "cell_type": "code",
   "execution_count": 20,
   "metadata": {
    "ExecuteTime": {
     "end_time": "2019-05-22T04:16:25.562632Z",
     "start_time": "2019-05-22T04:16:24.466481Z"
    }
   },
   "outputs": [
    {
     "data": {
      "text/plain": [
       "Text(0.5, 0.98, 'Length of text for each title')"
      ]
     },
     "execution_count": 20,
     "metadata": {},
     "output_type": "execute_result"
    },
    {
     "data": {
      "image/png": "[encoded data removed]",
      "text/plain": [
       "<Figure size 1440x1080 with 1 Axes>"
      ]
     },
     "metadata": {},
     "output_type": "display_data"
    }
   ],
   "source": [
    "fig, ax = plt.subplots(1,1, figsize=(20,15))\n",
    "sns.scatterplot(x='title' , y='wage', data=frame)\n",
    "fig.suptitle('Length of text for each title')"
   ]
  },
  {
   "cell_type": "code",
   "execution_count": 13,
   "metadata": {
    "ExecuteTime": {
     "end_time": "2019-05-22T04:06:38.193656Z",
     "start_time": "2019-05-22T04:06:37.136115Z"
    }
   },
   "outputs": [
    {
     "data": {
      "text/plain": [
       "<matplotlib.axes._subplots.AxesSubplot at 0x7fa9b721ca58>"
      ]
     },
     "execution_count": 13,
     "metadata": {},
     "output_type": "execute_result"
    },
    {
     "data": {
      "image/png": "[encoded data removed]",
      "text/plain": [
       "<Figure size 432x288 with 1 Axes>"
      ]
     },
     "metadata": {},
     "output_type": "display_data"
    }
   ],
   "source": [
    "sns.countplot(x='type_empl',data=frame)"
   ]
  },
  {
   "cell_type": "code",
   "execution_count": 14,
   "metadata": {
    "ExecuteTime": {
     "end_time": "2019-05-22T04:06:38.259585Z",
     "start_time": "2019-05-22T04:06:38.200718Z"
    }
   },
   "outputs": [
    {
     "data": {
      "text/plain": [
       "64.308476736775"
      ]
     },
     "execution_count": 14,
     "metadata": {},
     "output_type": "execute_result"
    }
   ],
   "source": [
    "frame['type_empl'].value_counts(normalize=True).max()*100"
   ]
  },
  {
   "cell_type": "code",
   "execution_count": 15,
   "metadata": {
    "ExecuteTime": {
     "end_time": "2019-05-22T04:06:38.324149Z",
     "start_time": "2019-05-22T04:06:38.266319Z"
    }
   },
   "outputs": [],
   "source": [
    "y = frame['wage'].values\n",
    "df_dummies = frame.copy()\n",
    "df_dummies.drop(labels=['wage'],axis=1,inplace=True)\n",
    "X = pd.get_dummies(df_dummies, prefix=df_dummies.columns, columns=df_dummies.columns)"
   ]
  },
  {
   "cell_type": "code",
   "execution_count": 16,
   "metadata": {
    "ExecuteTime": {
     "end_time": "2019-05-22T04:06:40.409715Z",
     "start_time": "2019-05-22T04:06:40.284270Z"
    },
    "scrolled": true
   },
   "outputs": [
    {
     "name": "stdout",
     "output_type": "stream",
     "text": [
      "<class 'pandas.core.frame.DataFrame'>\n",
      "Int64Index: 3138 entries, 0 to 1568\n",
      "Data columns (total 22 columns):\n",
      "industries_Accounting                                1569 non-null float64\n",
      "industries_Banking & Financial Services              1569 non-null float64\n",
      "industries_Consulting & Strategy                     1569 non-null float64\n",
      "industries_Government & Defence                      1569 non-null float64\n",
      "industries_Information & Communication Technology    1569 non-null float64\n",
      "industries_Insurance & Superannuation                1569 non-null float64\n",
      "industries_Manufacturing, Transport & Logistics      1569 non-null float64\n",
      "industries_Marketing & Communications                1569 non-null float64\n",
      "industries_Sales                                     1569 non-null float64\n",
      "industries_Science & Technology                      1569 non-null float64\n",
      "location_Brisbane                                    1569 non-null float64\n",
      "location_Melbourne                                   1569 non-null float64\n",
      "location_Sydney                                      1569 non-null float64\n",
      "title_DA                                             1569 non-null float64\n",
      "title_DS                                             1569 non-null float64\n",
      "title_JDA                                            1569 non-null float64\n",
      "title_JDS                                            1569 non-null float64\n",
      "title_SDA                                            1569 non-null float64\n",
      "title_SDS                                            1569 non-null float64\n",
      "type_empl_Contract                                   1569 non-null float64\n",
      "type_empl_Permanent                                  1569 non-null float64\n",
      "wage                                                 1569 non-null float64\n",
      "dtypes: float64(22)\n",
      "memory usage: 563.9 KB\n"
     ]
    },
    {
     "name": "stderr",
     "output_type": "stream",
     "text": [
      "/home/shayne/Anaconda3/envs/caps_env/lib/python3.6/site-packages/ipykernel_launcher.py:2: FutureWarning: Sorting because non-concatenation axis is not aligned. A future version\n",
      "of pandas will change to not sort by default.\n",
      "\n",
      "To accept the future behavior, pass 'sort=False'.\n",
      "\n",
      "To retain the current behavior and silence the warning, pass 'sort=True'.\n",
      "\n",
      "  \n"
     ]
    }
   ],
   "source": [
    "y_temp = pd.DataFrame(y,columns=['wage'])\n",
    "df_temp = pd.concat([X,y_temp])\n",
    "df_temp.info()"
   ]
  },
  {
   "cell_type": "code",
   "execution_count": 17,
   "metadata": {
    "ExecuteTime": {
     "end_time": "2019-05-22T04:07:17.327031Z",
     "start_time": "2019-05-22T04:07:17.249284Z"
    }
   },
   "outputs": [
    {
     "data": {
      "text/plain": [
       "((1176, 21), (393, 21))"
      ]
     },
     "execution_count": 17,
     "metadata": {},
     "output_type": "execute_result"
    }
   ],
   "source": [
    "X_train, X_test, y_train, y_test = train_test_split(X, y, test_size=0.25 )\n",
    "X_train.shape, X_test.shape"
   ]
  },
  {
   "cell_type": "markdown",
   "metadata": {},
   "source": [
    "## 1. Linear"
   ]
  },
  {
   "cell_type": "code",
   "execution_count": 15,
   "metadata": {
    "ExecuteTime": {
     "end_time": "2019-05-21T23:00:10.943086Z",
     "start_time": "2019-05-21T23:00:10.885341Z"
    }
   },
   "outputs": [
    {
     "name": "stdout",
     "output_type": "stream",
     "text": [
      "formula: y = -3.61125806291751e+16x + 8.861960979609317e+16\n"
     ]
    }
   ],
   "source": [
    "lm = LinearRegression()\n",
    "lm_model = lm.fit(X_train,y_train)\n",
    "m = lm_model.coef_[0]\n",
    "b = lm_model.intercept_\n",
    "\n",
    "print(\"formula: y = {}x + {}\".format(m,b))"
   ]
  },
  {
   "cell_type": "code",
   "execution_count": 16,
   "metadata": {
    "ExecuteTime": {
     "end_time": "2019-05-21T23:00:10.973194Z",
     "start_time": "2019-05-21T23:00:10.950743Z"
    }
   },
   "outputs": [
    {
     "name": "stdout",
     "output_type": "stream",
     "text": [
      "Our score:  0.1566314317937112\n",
      "Variance score:  0.1566314317937112\n",
      "Mean square error:  883985123.1424936\n"
     ]
    }
   ],
   "source": [
    "y_pred = lm_model.predict(X_test)\n",
    "print(\"Our score: \", lm_model.score(X_test, y_test))\n",
    "print(\"Variance score: \", r2_score(y_test, y_pred))\n",
    "print(\"Mean square error: \",mean_squared_error(y_test, y_pred))"
   ]
  },
  {
   "cell_type": "code",
   "execution_count": 17,
   "metadata": {
    "ExecuteTime": {
     "end_time": "2019-05-21T23:00:10.990795Z",
     "start_time": "2019-05-21T23:00:10.977192Z"
    }
   },
   "outputs": [
    {
     "data": {
      "text/plain": [
       "((393,), (393,))"
      ]
     },
     "execution_count": 17,
     "metadata": {},
     "output_type": "execute_result"
    }
   ],
   "source": [
    "y_test.shape, y_pred.shape"
   ]
  },
  {
   "cell_type": "code",
   "execution_count": 18,
   "metadata": {
    "ExecuteTime": {
     "end_time": "2019-05-21T23:00:11.031415Z",
     "start_time": "2019-05-21T23:00:10.997793Z"
    }
   },
   "outputs": [
    {
     "name": "stderr",
     "output_type": "stream",
     "text": [
      "/home/shayne/Anaconda3/envs/caps_env/lib/python3.6/site-packages/sklearn/utils/validation.py:595: DataConversionWarning: Data with input dtype uint8 was converted to float64 by StandardScaler.\n",
      "  warnings.warn(msg, DataConversionWarning)\n",
      "/home/shayne/Anaconda3/envs/caps_env/lib/python3.6/site-packages/sklearn/utils/validation.py:595: DataConversionWarning: Data with input dtype uint8 was converted to float64 by StandardScaler.\n",
      "  warnings.warn(msg, DataConversionWarning)\n"
     ]
    }
   ],
   "source": [
    "ss = StandardScaler()\n",
    "Xs = ss.fit_transform(X.values)"
   ]
  },
  {
   "cell_type": "code",
   "execution_count": 19,
   "metadata": {
    "ExecuteTime": {
     "end_time": "2019-05-21T23:00:11.047147Z",
     "start_time": "2019-05-21T23:00:11.035334Z"
    }
   },
   "outputs": [
    {
     "data": {
      "text/plain": [
       "((1176, 21), (393, 21))"
      ]
     },
     "execution_count": 19,
     "metadata": {},
     "output_type": "execute_result"
    }
   ],
   "source": [
    "X_train, X_test, y_train, y_test = train_test_split(Xs, y, test_size=0.25 )\n",
    "X_train.shape, X_test.shape"
   ]
  },
  {
   "cell_type": "code",
   "execution_count": 20,
   "metadata": {
    "ExecuteTime": {
     "end_time": "2019-05-21T23:00:11.076190Z",
     "start_time": "2019-05-21T23:00:11.052304Z"
    }
   },
   "outputs": [
    {
     "name": "stdout",
     "output_type": "stream",
     "text": [
      "formula: y = 9.37195592733297e+16x + 123022.56994047618\n",
      "Our score:  0.2974599559982589\n",
      "Variance score:  0.2974599559982589\n",
      "Mean square error:  591944098.0285686\n"
     ]
    }
   ],
   "source": [
    "lm2 = LinearRegression()\n",
    "lm2_model = lm.fit(X_train,y_train)\n",
    "m = lm2_model.coef_[0]\n",
    "b = lm2_model.intercept_\n",
    "\n",
    "print(\"formula: y = {}x + {}\".format(m,b))\n",
    "y_pred = lm2_model.predict(X_test)\n",
    "print(\"Our score: \", lm2_model.score(X_test, y_test))\n",
    "print(\"Variance score: \", r2_score(y_test, y_pred))\n",
    "print(\"Mean square error: \",mean_squared_error(y_test, y_pred))"
   ]
  },
  {
   "cell_type": "code",
   "execution_count": 21,
   "metadata": {
    "ExecuteTime": {
     "end_time": "2019-05-21T23:00:11.095424Z",
     "start_time": "2019-05-21T23:00:11.079076Z"
    }
   },
   "outputs": [
    {
     "data": {
      "text/plain": [
       "((393,), (393,))"
      ]
     },
     "execution_count": 21,
     "metadata": {},
     "output_type": "execute_result"
    }
   ],
   "source": [
    "y_test.shape, y_pred.shape"
   ]
  },
  {
   "cell_type": "code",
   "execution_count": 22,
   "metadata": {
    "ExecuteTime": {
     "end_time": "2019-05-21T23:00:11.814148Z",
     "start_time": "2019-05-21T23:00:11.098104Z"
    }
   },
   "outputs": [
    {
     "data": {
      "image/png": "[encoded data removed]",
      "text/plain": [
       "<Figure size 360x360 with 1 Axes>"
      ]
     },
     "metadata": {},
     "output_type": "display_data"
    }
   ],
   "source": [
    "columns=['Act_Value','Pred_Value']\n",
    "helper = pd.DataFrame([np.array(y_test),y_pred])\n",
    "helper = helper.transpose()\n",
    "helper.columns = columns\n",
    "\n",
    "sns.lmplot(x='Act_Value', y='Pred_Value', data = helper);\n",
    "ax = plt.gca()\n",
    "ax.set_title(\"Linear Regression Model\");\n"
   ]
  },
  {
   "cell_type": "code",
   "execution_count": 23,
   "metadata": {
    "ExecuteTime": {
     "end_time": "2019-05-21T23:00:12.662189Z",
     "start_time": "2019-05-21T23:00:11.827506Z"
    }
   },
   "outputs": [
    {
     "name": "stderr",
     "output_type": "stream",
     "text": [
      "/home/shayne/Anaconda3/envs/caps_env/lib/python3.6/site-packages/sklearn/linear_model/logistic.py:433: FutureWarning: Default solver will be changed to 'lbfgs' in 0.22. Specify a solver to silence this warning.\n",
      "  FutureWarning)\n",
      "/home/shayne/Anaconda3/envs/caps_env/lib/python3.6/site-packages/sklearn/linear_model/logistic.py:460: FutureWarning: Default multi_class will be changed to 'auto' in 0.22. Specify the multi_class option to silence this warning.\n",
      "  \"this warning.\", FutureWarning)\n"
     ]
    },
    {
     "data": {
      "text/plain": [
       "LogisticRegression(C=1.0, class_weight=None, dual=False, fit_intercept=True,\n",
       "          intercept_scaling=1, max_iter=100, multi_class='warn',\n",
       "          n_jobs=None, penalty='l2', random_state=None, solver='warn',\n",
       "          tol=0.0001, verbose=0, warm_start=False)"
      ]
     },
     "execution_count": 23,
     "metadata": {},
     "output_type": "execute_result"
    }
   ],
   "source": [
    "logreg = LogisticRegression()\n",
    "logreg.fit(X_train, y_train)"
   ]
  },
  {
   "cell_type": "code",
   "execution_count": null,
   "metadata": {
    "ExecuteTime": {
     "start_time": "2019-05-21T23:00:07.143Z"
    }
   },
   "outputs": [
    {
     "data": {
      "text/plain": [
       "0.7633587786259542"
      ]
     },
     "execution_count": 24,
     "metadata": {},
     "output_type": "execute_result"
    }
   ],
   "source": [
    "logreg.score(X_test, y_test)"
   ]
  },
  {
   "cell_type": "code",
   "execution_count": null,
   "metadata": {
    "ExecuteTime": {
     "start_time": "2019-05-21T23:00:07.147Z"
    }
   },
   "outputs": [],
   "source": [
    "y_pred = logreg.predict(X_test)"
   ]
  },
  {
   "cell_type": "code",
   "execution_count": null,
   "metadata": {
    "ExecuteTime": {
     "start_time": "2019-05-21T23:00:07.151Z"
    }
   },
   "outputs": [
    {
     "data": {
      "image/png": "[encoded data removed]",
      "text/plain": [
       "<Figure size 360x360 with 1 Axes>"
      ]
     },
     "metadata": {},
     "output_type": "display_data"
    }
   ],
   "source": [
    "columns=['Act_Value','Pred_Value']\n",
    "helper = pd.DataFrame([np.array(y_test),y_pred])\n",
    "helper = helper.transpose()\n",
    "helper.columns = columns\n",
    "\n",
    "sns.lmplot(x='Act_Value', y='Pred_Value', data = helper);\n",
    "ax = plt.gca()\n",
    "ax.set_title(\"Logistic Regression Model\");"
   ]
  },
  {
   "cell_type": "markdown",
   "metadata": {},
   "source": [
    "## 2. Classtification"
   ]
  },
  {
   "cell_type": "code",
   "execution_count": 18,
   "metadata": {
    "ExecuteTime": {
     "end_time": "2019-05-22T04:08:08.706516Z",
     "start_time": "2019-05-22T04:08:08.618835Z"
    }
   },
   "outputs": [
    {
     "name": "stdout",
     "output_type": "stream",
     "text": [
      "Baseline:  DA     67.877629\n",
      "SDA    17.080943\n",
      "DS     11.217336\n",
      "SDS     2.103250\n",
      "JDA     1.593372\n",
      "JDS     0.127470\n",
      "Name: title, dtype: float64\n"
     ]
    },
    {
     "name": "stderr",
     "output_type": "stream",
     "text": [
      "/home/shayne/Anaconda3/envs/caps_env/lib/python3.6/site-packages/sklearn/preprocessing/data.py:645: DataConversionWarning: Data with input dtype uint8 were all converted to float64 by StandardScaler.\n",
      "  return self.partial_fit(X, y)\n",
      "/home/shayne/Anaconda3/envs/caps_env/lib/python3.6/site-packages/sklearn/base.py:464: DataConversionWarning: Data with input dtype uint8 were all converted to float64 by StandardScaler.\n",
      "  return self.fit(X, **fit_params).transform(X)\n"
     ]
    }
   ],
   "source": [
    "### KNeighborsClassifier\n",
    "from sklearn.model_selection import StratifiedKFold\n",
    "from sklearn.neighbors import KNeighborsClassifier\n",
    "from sklearn.preprocessing import StandardScaler\n",
    "\n",
    "ss = StandardScaler()\n",
    "Xs = ss.fit_transform(X_train)\n",
    "\n",
    "# Baseline\n",
    "print(\"Baseline: \",frame['title'].value_counts(normalize=True)*100)\n",
    "\n",
    "knn6 = KNeighborsClassifier(n_neighbors=6, weights='uniform')"
   ]
  },
  {
   "cell_type": "code",
   "execution_count": 31,
   "metadata": {
    "ExecuteTime": {
     "end_time": "2019-05-22T04:41:31.273635Z",
     "start_time": "2019-05-22T04:41:31.054212Z"
    }
   },
   "outputs": [
    {
     "ename": "ValueError",
     "evalue": "Found input variables with inconsistent numbers of samples: [1176, 1569]",
     "output_type": "error",
     "traceback": [
      "\u001b[0;31m---------------------------------------------------------------------------\u001b[0m",
      "\u001b[0;31mValueError\u001b[0m                                Traceback (most recent call last)",
      "\u001b[0;32m<ipython-input-31-4e5e5bf92c70>\u001b[0m in \u001b[0;36m<module>\u001b[0;34m\u001b[0m\n\u001b[1;32m      1\u001b[0m \u001b[0mskf\u001b[0m \u001b[0;34m=\u001b[0m \u001b[0mStratifiedKFold\u001b[0m\u001b[0;34m(\u001b[0m\u001b[0mn_splits\u001b[0m\u001b[0;34m=\u001b[0m\u001b[0;36m5\u001b[0m\u001b[0;34m)\u001b[0m\u001b[0;34m\u001b[0m\u001b[0;34m\u001b[0m\u001b[0m\n\u001b[1;32m      2\u001b[0m \u001b[0mcv_indices\u001b[0m \u001b[0;34m=\u001b[0m \u001b[0mskf\u001b[0m\u001b[0;34m.\u001b[0m\u001b[0msplit\u001b[0m\u001b[0;34m(\u001b[0m\u001b[0mXs\u001b[0m\u001b[0;34m,\u001b[0m \u001b[0my\u001b[0m\u001b[0;34m)\u001b[0m\u001b[0;34m\u001b[0m\u001b[0;34m\u001b[0m\u001b[0m\n\u001b[0;32m----> 3\u001b[0;31m \u001b[0mcv_indices\u001b[0m \u001b[0;34m=\u001b[0m \u001b[0;34m[\u001b[0m\u001b[0;34m[\u001b[0m\u001b[0mtr\u001b[0m\u001b[0;34m,\u001b[0m\u001b[0mte\u001b[0m\u001b[0;34m]\u001b[0m \u001b[0;32mfor\u001b[0m \u001b[0mtr\u001b[0m\u001b[0;34m,\u001b[0m\u001b[0mte\u001b[0m \u001b[0;32min\u001b[0m \u001b[0mcv_indices\u001b[0m\u001b[0;34m]\u001b[0m\u001b[0;34m\u001b[0m\u001b[0;34m\u001b[0m\u001b[0m\n\u001b[0m",
      "\u001b[0;32m<ipython-input-31-4e5e5bf92c70>\u001b[0m in \u001b[0;36m<listcomp>\u001b[0;34m(.0)\u001b[0m\n\u001b[1;32m      1\u001b[0m \u001b[0mskf\u001b[0m \u001b[0;34m=\u001b[0m \u001b[0mStratifiedKFold\u001b[0m\u001b[0;34m(\u001b[0m\u001b[0mn_splits\u001b[0m\u001b[0;34m=\u001b[0m\u001b[0;36m5\u001b[0m\u001b[0;34m)\u001b[0m\u001b[0;34m\u001b[0m\u001b[0;34m\u001b[0m\u001b[0m\n\u001b[1;32m      2\u001b[0m \u001b[0mcv_indices\u001b[0m \u001b[0;34m=\u001b[0m \u001b[0mskf\u001b[0m\u001b[0;34m.\u001b[0m\u001b[0msplit\u001b[0m\u001b[0;34m(\u001b[0m\u001b[0mXs\u001b[0m\u001b[0;34m,\u001b[0m \u001b[0my\u001b[0m\u001b[0;34m)\u001b[0m\u001b[0;34m\u001b[0m\u001b[0;34m\u001b[0m\u001b[0m\n\u001b[0;32m----> 3\u001b[0;31m \u001b[0mcv_indices\u001b[0m \u001b[0;34m=\u001b[0m \u001b[0;34m[\u001b[0m\u001b[0;34m[\u001b[0m\u001b[0mtr\u001b[0m\u001b[0;34m,\u001b[0m\u001b[0mte\u001b[0m\u001b[0;34m]\u001b[0m \u001b[0;32mfor\u001b[0m \u001b[0mtr\u001b[0m\u001b[0;34m,\u001b[0m\u001b[0mte\u001b[0m \u001b[0;32min\u001b[0m \u001b[0mcv_indices\u001b[0m\u001b[0;34m]\u001b[0m\u001b[0;34m\u001b[0m\u001b[0;34m\u001b[0m\u001b[0m\n\u001b[0m",
      "\u001b[0;32m~/Anaconda3/envs/caps_env/lib/python3.6/site-packages/sklearn/model_selection/_split.py\u001b[0m in \u001b[0;36msplit\u001b[0;34m(self, X, y, groups)\u001b[0m\n\u001b[1;32m    321\u001b[0m             \u001b[0mThe\u001b[0m \u001b[0mtesting\u001b[0m \u001b[0mset\u001b[0m \u001b[0mindices\u001b[0m \u001b[0;32mfor\u001b[0m \u001b[0mthat\u001b[0m \u001b[0msplit\u001b[0m\u001b[0;34m.\u001b[0m\u001b[0;34m\u001b[0m\u001b[0;34m\u001b[0m\u001b[0m\n\u001b[1;32m    322\u001b[0m         \"\"\"\n\u001b[0;32m--> 323\u001b[0;31m         \u001b[0mX\u001b[0m\u001b[0;34m,\u001b[0m \u001b[0my\u001b[0m\u001b[0;34m,\u001b[0m \u001b[0mgroups\u001b[0m \u001b[0;34m=\u001b[0m \u001b[0mindexable\u001b[0m\u001b[0;34m(\u001b[0m\u001b[0mX\u001b[0m\u001b[0;34m,\u001b[0m \u001b[0my\u001b[0m\u001b[0;34m,\u001b[0m \u001b[0mgroups\u001b[0m\u001b[0;34m)\u001b[0m\u001b[0;34m\u001b[0m\u001b[0;34m\u001b[0m\u001b[0m\n\u001b[0m\u001b[1;32m    324\u001b[0m         \u001b[0mn_samples\u001b[0m \u001b[0;34m=\u001b[0m \u001b[0m_num_samples\u001b[0m\u001b[0;34m(\u001b[0m\u001b[0mX\u001b[0m\u001b[0;34m)\u001b[0m\u001b[0;34m\u001b[0m\u001b[0;34m\u001b[0m\u001b[0m\n\u001b[1;32m    325\u001b[0m         \u001b[0;32mif\u001b[0m \u001b[0mself\u001b[0m\u001b[0;34m.\u001b[0m\u001b[0mn_splits\u001b[0m \u001b[0;34m>\u001b[0m \u001b[0mn_samples\u001b[0m\u001b[0;34m:\u001b[0m\u001b[0;34m\u001b[0m\u001b[0;34m\u001b[0m\u001b[0m\n",
      "\u001b[0;32m~/Anaconda3/envs/caps_env/lib/python3.6/site-packages/sklearn/utils/validation.py\u001b[0m in \u001b[0;36mindexable\u001b[0;34m(*iterables)\u001b[0m\n\u001b[1;32m    258\u001b[0m         \u001b[0;32melse\u001b[0m\u001b[0;34m:\u001b[0m\u001b[0;34m\u001b[0m\u001b[0;34m\u001b[0m\u001b[0m\n\u001b[1;32m    259\u001b[0m             \u001b[0mresult\u001b[0m\u001b[0;34m.\u001b[0m\u001b[0mappend\u001b[0m\u001b[0;34m(\u001b[0m\u001b[0mnp\u001b[0m\u001b[0;34m.\u001b[0m\u001b[0marray\u001b[0m\u001b[0;34m(\u001b[0m\u001b[0mX\u001b[0m\u001b[0;34m)\u001b[0m\u001b[0;34m)\u001b[0m\u001b[0;34m\u001b[0m\u001b[0;34m\u001b[0m\u001b[0m\n\u001b[0;32m--> 260\u001b[0;31m     \u001b[0mcheck_consistent_length\u001b[0m\u001b[0;34m(\u001b[0m\u001b[0;34m*\u001b[0m\u001b[0mresult\u001b[0m\u001b[0;34m)\u001b[0m\u001b[0;34m\u001b[0m\u001b[0;34m\u001b[0m\u001b[0m\n\u001b[0m\u001b[1;32m    261\u001b[0m     \u001b[0;32mreturn\u001b[0m \u001b[0mresult\u001b[0m\u001b[0;34m\u001b[0m\u001b[0;34m\u001b[0m\u001b[0m\n\u001b[1;32m    262\u001b[0m \u001b[0;34m\u001b[0m\u001b[0m\n",
      "\u001b[0;32m~/Anaconda3/envs/caps_env/lib/python3.6/site-packages/sklearn/utils/validation.py\u001b[0m in \u001b[0;36mcheck_consistent_length\u001b[0;34m(*arrays)\u001b[0m\n\u001b[1;32m    233\u001b[0m     \u001b[0;32mif\u001b[0m \u001b[0mlen\u001b[0m\u001b[0;34m(\u001b[0m\u001b[0muniques\u001b[0m\u001b[0;34m)\u001b[0m \u001b[0;34m>\u001b[0m \u001b[0;36m1\u001b[0m\u001b[0;34m:\u001b[0m\u001b[0;34m\u001b[0m\u001b[0;34m\u001b[0m\u001b[0m\n\u001b[1;32m    234\u001b[0m         raise ValueError(\"Found input variables with inconsistent numbers of\"\n\u001b[0;32m--> 235\u001b[0;31m                          \" samples: %r\" % [int(l) for l in lengths])\n\u001b[0m\u001b[1;32m    236\u001b[0m \u001b[0;34m\u001b[0m\u001b[0m\n\u001b[1;32m    237\u001b[0m \u001b[0;34m\u001b[0m\u001b[0m\n",
      "\u001b[0;31mValueError\u001b[0m: Found input variables with inconsistent numbers of samples: [1176, 1569]"
     ]
    }
   ],
   "source": [
    "skf = StratifiedKFold(n_splits=5)\n",
    "cv_indices = skf.split(Xs, y)\n",
    "cv_indices = [[tr,te] for tr,te in cv_indices]"
   ]
  },
  {
   "cell_type": "code",
   "execution_count": 27,
   "metadata": {
    "ExecuteTime": {
     "end_time": "2019-05-22T04:36:53.706381Z",
     "start_time": "2019-05-22T04:36:53.662901Z"
    }
   },
   "outputs": [],
   "source": [
    "# Function to crossvalidate accuracy of a knn model acros folds\n",
    "def accuracy_crossvalidator(X, y, knn, cv_indices):\n",
    "    \n",
    "    # list to store the scores/accuracy of folds\n",
    "    scores = []\n",
    "    \n",
    "    # iterate through the training and testing folds in cv_indices\n",
    "    for train_i, test_i in cv_indices:\n",
    "        \n",
    "        # get the current X train & test subsets of X\n",
    "        X_train = X[train_i, :]\n",
    "        X_test = X[test_i, :]\n",
    "\n",
    "        # get the Y train & test subsets of Y\n",
    "        Y_train = y[train_i]\n",
    "        Y_test = y[test_i]\n",
    "\n",
    "        # fit the knn model on the training data\n",
    "        knn.fit(X_train, Y_train)\n",
    "        \n",
    "        # get the accuracy predicting the testing data\n",
    "        acc = knn.score(X_test, Y_test)\n",
    "        scores.append(acc)\n",
    "        \n",
    "        print(('Fold accuracy:', acc))\n",
    "        \n",
    "    print(('Mean CV accuracy:', np.mean(scores)))\n",
    "    return scores\n"
   ]
  },
  {
   "cell_type": "code",
   "execution_count": 28,
   "metadata": {
    "ExecuteTime": {
     "end_time": "2019-05-22T04:36:54.582901Z",
     "start_time": "2019-05-22T04:36:54.447026Z"
    }
   },
   "outputs": [
    {
     "ename": "ValueError",
     "evalue": "Found input variables with inconsistent numbers of samples: [1176, 1569]",
     "output_type": "error",
     "traceback": [
      "\u001b[0;31m---------------------------------------------------------------------------\u001b[0m",
      "\u001b[0;31mValueError\u001b[0m                                Traceback (most recent call last)",
      "\u001b[0;32m<ipython-input-28-ccbadf857dbc>\u001b[0m in \u001b[0;36m<module>\u001b[0;34m\u001b[0m\n\u001b[0;32m----> 1\u001b[0;31m \u001b[0mscores\u001b[0m \u001b[0;34m=\u001b[0m \u001b[0maccuracy_crossvalidator\u001b[0m\u001b[0;34m(\u001b[0m\u001b[0mXs\u001b[0m\u001b[0;34m,\u001b[0m \u001b[0my\u001b[0m\u001b[0;34m,\u001b[0m \u001b[0mknn6\u001b[0m\u001b[0;34m,\u001b[0m \u001b[0mcv_indices\u001b[0m\u001b[0;34m)\u001b[0m\u001b[0;34m\u001b[0m\u001b[0;34m\u001b[0m\u001b[0m\n\u001b[0m",
      "\u001b[0;32m<ipython-input-27-72761806aed4>\u001b[0m in \u001b[0;36maccuracy_crossvalidator\u001b[0;34m(X, y, knn, cv_indices)\u001b[0m\n\u001b[1;32m      6\u001b[0m \u001b[0;34m\u001b[0m\u001b[0m\n\u001b[1;32m      7\u001b[0m     \u001b[0;31m# iterate through the training and testing folds in cv_indices\u001b[0m\u001b[0;34m\u001b[0m\u001b[0;34m\u001b[0m\u001b[0;34m\u001b[0m\u001b[0m\n\u001b[0;32m----> 8\u001b[0;31m     \u001b[0;32mfor\u001b[0m \u001b[0mtrain_i\u001b[0m\u001b[0;34m,\u001b[0m \u001b[0mtest_i\u001b[0m \u001b[0;32min\u001b[0m \u001b[0mcv_indices\u001b[0m\u001b[0;34m:\u001b[0m\u001b[0;34m\u001b[0m\u001b[0;34m\u001b[0m\u001b[0m\n\u001b[0m\u001b[1;32m      9\u001b[0m \u001b[0;34m\u001b[0m\u001b[0m\n\u001b[1;32m     10\u001b[0m         \u001b[0;31m# get the current X train & test subsets of X\u001b[0m\u001b[0;34m\u001b[0m\u001b[0;34m\u001b[0m\u001b[0;34m\u001b[0m\u001b[0m\n",
      "\u001b[0;32m~/Anaconda3/envs/caps_env/lib/python3.6/site-packages/sklearn/model_selection/_split.py\u001b[0m in \u001b[0;36msplit\u001b[0;34m(self, X, y, groups)\u001b[0m\n\u001b[1;32m    321\u001b[0m             \u001b[0mThe\u001b[0m \u001b[0mtesting\u001b[0m \u001b[0mset\u001b[0m \u001b[0mindices\u001b[0m \u001b[0;32mfor\u001b[0m \u001b[0mthat\u001b[0m \u001b[0msplit\u001b[0m\u001b[0;34m.\u001b[0m\u001b[0;34m\u001b[0m\u001b[0;34m\u001b[0m\u001b[0m\n\u001b[1;32m    322\u001b[0m         \"\"\"\n\u001b[0;32m--> 323\u001b[0;31m         \u001b[0mX\u001b[0m\u001b[0;34m,\u001b[0m \u001b[0my\u001b[0m\u001b[0;34m,\u001b[0m \u001b[0mgroups\u001b[0m \u001b[0;34m=\u001b[0m \u001b[0mindexable\u001b[0m\u001b[0;34m(\u001b[0m\u001b[0mX\u001b[0m\u001b[0;34m,\u001b[0m \u001b[0my\u001b[0m\u001b[0;34m,\u001b[0m \u001b[0mgroups\u001b[0m\u001b[0;34m)\u001b[0m\u001b[0;34m\u001b[0m\u001b[0;34m\u001b[0m\u001b[0m\n\u001b[0m\u001b[1;32m    324\u001b[0m         \u001b[0mn_samples\u001b[0m \u001b[0;34m=\u001b[0m \u001b[0m_num_samples\u001b[0m\u001b[0;34m(\u001b[0m\u001b[0mX\u001b[0m\u001b[0;34m)\u001b[0m\u001b[0;34m\u001b[0m\u001b[0;34m\u001b[0m\u001b[0m\n\u001b[1;32m    325\u001b[0m         \u001b[0;32mif\u001b[0m \u001b[0mself\u001b[0m\u001b[0;34m.\u001b[0m\u001b[0mn_splits\u001b[0m \u001b[0;34m>\u001b[0m \u001b[0mn_samples\u001b[0m\u001b[0;34m:\u001b[0m\u001b[0;34m\u001b[0m\u001b[0;34m\u001b[0m\u001b[0m\n",
      "\u001b[0;32m~/Anaconda3/envs/caps_env/lib/python3.6/site-packages/sklearn/utils/validation.py\u001b[0m in \u001b[0;36mindexable\u001b[0;34m(*iterables)\u001b[0m\n\u001b[1;32m    258\u001b[0m         \u001b[0;32melse\u001b[0m\u001b[0;34m:\u001b[0m\u001b[0;34m\u001b[0m\u001b[0;34m\u001b[0m\u001b[0m\n\u001b[1;32m    259\u001b[0m             \u001b[0mresult\u001b[0m\u001b[0;34m.\u001b[0m\u001b[0mappend\u001b[0m\u001b[0;34m(\u001b[0m\u001b[0mnp\u001b[0m\u001b[0;34m.\u001b[0m\u001b[0marray\u001b[0m\u001b[0;34m(\u001b[0m\u001b[0mX\u001b[0m\u001b[0;34m)\u001b[0m\u001b[0;34m)\u001b[0m\u001b[0;34m\u001b[0m\u001b[0;34m\u001b[0m\u001b[0m\n\u001b[0;32m--> 260\u001b[0;31m     \u001b[0mcheck_consistent_length\u001b[0m\u001b[0;34m(\u001b[0m\u001b[0;34m*\u001b[0m\u001b[0mresult\u001b[0m\u001b[0;34m)\u001b[0m\u001b[0;34m\u001b[0m\u001b[0;34m\u001b[0m\u001b[0m\n\u001b[0m\u001b[1;32m    261\u001b[0m     \u001b[0;32mreturn\u001b[0m \u001b[0mresult\u001b[0m\u001b[0;34m\u001b[0m\u001b[0;34m\u001b[0m\u001b[0m\n\u001b[1;32m    262\u001b[0m \u001b[0;34m\u001b[0m\u001b[0m\n",
      "\u001b[0;32m~/Anaconda3/envs/caps_env/lib/python3.6/site-packages/sklearn/utils/validation.py\u001b[0m in \u001b[0;36mcheck_consistent_length\u001b[0;34m(*arrays)\u001b[0m\n\u001b[1;32m    233\u001b[0m     \u001b[0;32mif\u001b[0m \u001b[0mlen\u001b[0m\u001b[0;34m(\u001b[0m\u001b[0muniques\u001b[0m\u001b[0;34m)\u001b[0m \u001b[0;34m>\u001b[0m \u001b[0;36m1\u001b[0m\u001b[0;34m:\u001b[0m\u001b[0;34m\u001b[0m\u001b[0;34m\u001b[0m\u001b[0m\n\u001b[1;32m    234\u001b[0m         raise ValueError(\"Found input variables with inconsistent numbers of\"\n\u001b[0;32m--> 235\u001b[0;31m                          \" samples: %r\" % [int(l) for l in lengths])\n\u001b[0m\u001b[1;32m    236\u001b[0m \u001b[0;34m\u001b[0m\u001b[0m\n\u001b[1;32m    237\u001b[0m \u001b[0;34m\u001b[0m\u001b[0m\n",
      "\u001b[0;31mValueError\u001b[0m: Found input variables with inconsistent numbers of samples: [1176, 1569]"
     ]
    }
   ],
   "source": [
    "scores = accuracy_crossvalidator(Xs, y, knn6, cv_indices)"
   ]
  },
  {
   "cell_type": "markdown",
   "metadata": {},
   "source": [
    "## 3. PCA & Clustering"
   ]
  },
  {
   "cell_type": "code",
   "execution_count": null,
   "metadata": {
    "ExecuteTime": {
     "start_time": "2019-05-21T23:00:07.156Z"
    }
   },
   "outputs": [
    {
     "name": "stderr",
     "output_type": "stream",
     "text": [
      "/home/shayne/Anaconda3/envs/caps_env/lib/python3.6/site-packages/ipykernel_launcher.py:5: FutureWarning: Method .as_matrix will be removed in a future version. Use .values instead.\n",
      "  \"\"\"\n"
     ]
    },
    {
     "name": "stdout",
     "output_type": "stream",
     "text": [
      "[[0.00000000e+00 1.00000000e+00 0.00000000e+00 2.00000000e+00]\n",
      " [2.00000000e+00 1.56900000e+03 0.00000000e+00 3.00000000e+00]\n",
      " [6.00000000e+00 1.57000000e+03 0.00000000e+00 4.00000000e+00]\n",
      " ...\n",
      " [3.12900000e+03 3.13200000e+03 2.35695987e+01 5.87000000e+02]\n",
      " [3.12800000e+03 3.13300000e+03 2.95285677e+01 9.82000000e+02]\n",
      " [3.13400000e+03 3.13500000e+03 3.22290312e+01 1.56900000e+03]]\n"
     ]
    },
    {
     "data": {
      "image/png": "[encoded data removed]",
      "text/plain": [
       "<Figure size 432x288 with 1 Axes>"
      ]
     },
     "metadata": {},
     "output_type": "display_data"
    }
   ],
   "source": [
    "## Dendograme\n",
    "def plot_dendogram(df):\n",
    "    \n",
    "    # Data prep\n",
    "    X = df.as_matrix(columns=None)\n",
    "    Z = linkage(X, 'ward')\n",
    "    print(Z)\n",
    "    \n",
    "    # plotting\n",
    "    plt.title('Dendrogram')\n",
    "    plt.xlabel('Index Numbers')\n",
    "    plt.ylabel('Distance')\n",
    "    dendrogram(\n",
    "        Z,\n",
    "        leaf_rotation=90.,  \n",
    "        leaf_font_size=8.,\n",
    "    )\n",
    "    plt.show()\n",
    "    \n",
    "    \n",
    "plot_dendogram(X)"
   ]
  },
  {
   "cell_type": "code",
   "execution_count": null,
   "metadata": {
    "ExecuteTime": {
     "start_time": "2019-05-21T23:00:07.161Z"
    }
   },
   "outputs": [],
   "source": [
    "sns.set_style(\"darkgrid\")\n",
    "import matplotlib.patches as mpatches\n",
    "from matplotlib.colors import ListedColormap\n",
    "import matplotlib.cm as cm\n",
    "\n",
    "def plot_dist_thresh(max_dist=200):\n",
    "    # max_dist = 200 # pairwise distance\n",
    "    # plot_dendogram(lang)\n",
    "    clusters = fcluster(Z, max_dist, criterion='distance')\n",
    "    \n",
    "    print((\"Clusters represented at distance: \", set(clusters)))\n",
    "    \n",
    "    # Complete color maps from matplotlib\n",
    "    \n",
    "    # plotting\n",
    "    # Add legend with some customizations.\n",
    "    \n",
    "    fig, ax = plt.subplots(1, 1, figsize=(10, 4))\n",
    "\n",
    "#     ax[0].scatter(X[:,0], X[:,6], c=clusters, cmap=cm.jet, s=40)\n",
    "\n",
    "#     ax[0].set_title(\"Max Dist: %d\" % max_dist)\n",
    "    \n",
    "#     # plt.legend(clusters, loc='upper right', shadow=True, scatterpoints=1)\n",
    "    \n",
    "#     ax[0].legend(['c{}'.format(i) for i in range(len(clusters))], loc=2, bbox_to_anchor=(1.05, 1), borderaxespad=0., fontsize=11)\n",
    "        \n",
    "    t = (0, max_dist)\n",
    "    ax.plot((0, 200), (max_dist, max_dist), 'r--')\n",
    "    \n",
    "    ax.set_title('Dendrogram')\n",
    "    ax.set_xlabel('Index Numbers')\n",
    "    ax.set_ylabel('Distance')\n",
    "    dendrogram(\n",
    "        Z,\n",
    "        leaf_rotation=90.,  \n",
    "        leaf_font_size=8.,\n",
    "        #link_color_func=lambda color: cmaps['Miscellaneous'],\n",
    "    )\n",
    "    \n",
    "def plot_wrapper(max_dist):\n",
    "    plot_dist_thresh(max_dist)\n",
    "    plt.show()"
   ]
  },
  {
   "cell_type": "code",
   "execution_count": null,
   "metadata": {
    "ExecuteTime": {
     "start_time": "2019-05-21T23:00:07.166Z"
    }
   },
   "outputs": [
    {
     "name": "stdout",
     "output_type": "stream",
     "text": [
      "('Clusters represented at distance: ', {1, 2})\n",
      "('Clusters represented at distance: ', {1, 2, 3, 4})\n",
      "('Clusters represented at distance: ', {1, 2, 3, 4, 5, 6})\n"
     ]
    },
    {
     "data": {
      "image/png": "[encoded data removed]",
      "text/plain": [
       "<Figure size 720x288 with 1 Axes>"
      ]
     },
     "metadata": {},
     "output_type": "display_data"
    },
    {
     "data": {
      "image/png": "[encoded data removed]",
      "text/plain": [
       "<Figure size 720x288 with 1 Axes>"
      ]
     },
     "metadata": {},
     "output_type": "display_data"
    },
    {
     "data": {
      "image/png": "[encoded data removed]",
      "text/plain": [
       "<Figure size 720x288 with 1 Axes>"
      ]
     },
     "metadata": {},
     "output_type": "display_data"
    }
   ],
   "source": [
    "Z = linkage(X, 'ward')\n",
    "plot_dist_thresh(30)\n",
    "plot_dist_thresh(23)\n",
    "plot_dist_thresh(17)"
   ]
  },
  {
   "cell_type": "code",
   "execution_count": null,
   "metadata": {
    "ExecuteTime": {
     "start_time": "2019-05-21T23:00:07.170Z"
    }
   },
   "outputs": [
    {
     "name": "stdout",
     "output_type": "stream",
     "text": [
      "('Predicted clusters to points: ', array([1, 1, 1, ..., 2, 2, 2], dtype=int32))\n",
      "Location of centroids: \n",
      "[[ 4.46428571e-02  4.46428571e-02  1.42857143e-02  2.50000000e-02\n",
      "   7.91071429e-01  8.92857143e-03  1.60714286e-02  2.50000000e-02\n",
      "   7.14285714e-03  2.32142857e-02  1.62500000e-01  3.12500000e-01\n",
      "   5.25000000e-01  6.92857143e-01  6.96428571e-02  1.96428571e-02\n",
      "   1.78571429e-03  2.01785714e-01  1.42857143e-02  1.00000000e+00\n",
      "   5.32907052e-15]\n",
      " [ 1.13953488e-01  6.74418605e-02  2.79069767e-02  5.58139535e-02\n",
      "   4.72093023e-01  6.97674419e-03  4.65116279e-02  9.30232558e-02\n",
      "   4.41860465e-02  7.20930233e-02  2.46511628e-01  7.53488372e-01\n",
      "   4.21884749e-15  6.76744186e-01  1.51162791e-01  1.86046512e-02\n",
      "   2.32558140e-03  1.27906977e-01  2.32558140e-02  2.44249065e-15\n",
      "   1.00000000e+00]\n",
      " [ 8.63557858e-02  1.36442142e-01  5.00863558e-02  3.62694301e-02\n",
      "   4.38687392e-01  3.79965458e-02  4.14507772e-02  8.98100173e-02\n",
      "   3.45423143e-02  4.83592401e-02 -5.55111512e-16  2.66453526e-15\n",
      "   1.00000000e+00  6.66666667e-01  1.24352332e-01  1.03626943e-02\n",
      "   8.89045781e-18  1.72711572e-01  2.59067358e-02  2.60902411e-15\n",
      "   1.00000000e+00]]\n"
     ]
    }
   ],
   "source": [
    "cluster_kmean = KMeans(n_clusters=6, random_state=0).fit(X)\n",
    "\n",
    "predicted = cluster_kmean.labels_\n",
    "centroids = cluster_kmean.cluster_centers_\n",
    "\n",
    "print((\"Predicted clusters to points: \", predicted))\n",
    "print(\"Location of centroids: \")\n",
    "print(centroids)"
   ]
  },
  {
   "cell_type": "markdown",
   "metadata": {},
   "source": [
    "## Ensemble methods & Decision Tree Models"
   ]
  },
  {
   "cell_type": "code",
   "execution_count": null,
   "metadata": {
    "ExecuteTime": {
     "start_time": "2019-05-21T23:00:07.175Z"
    }
   },
   "outputs": [
    {
     "name": "stderr",
     "output_type": "stream",
     "text": [
      "/home/shayne/Anaconda3/envs/caps_env/lib/python3.6/site-packages/sklearn/model_selection/_split.py:652: Warning: The least populated class in y has only 1 members, which is too few. The minimum number of members in any class cannot be less than n_splits=5.\n",
      "  % (min_groups, self.n_splits)), Warning)\n"
     ]
    },
    {
     "data": {
      "text/plain": [
       "0.7383747251096879"
      ]
     },
     "execution_count": 31,
     "metadata": {},
     "output_type": "execute_result"
    }
   ],
   "source": [
    "## DecisionTree\n",
    "dt = DecisionTreeClassifier()\n",
    "\n",
    "cross_val_score(dt, X_train, y_train, cv=5).mean()"
   ]
  },
  {
   "cell_type": "code",
   "execution_count": null,
   "metadata": {
    "ExecuteTime": {
     "start_time": "2019-05-21T23:00:07.179Z"
    }
   },
   "outputs": [
    {
     "data": {
      "text/plain": [
       "0.7517006802721088"
      ]
     },
     "execution_count": 32,
     "metadata": {},
     "output_type": "execute_result"
    }
   ],
   "source": [
    "dt.fit(X_train, y_train)\n",
    "dt.score(X_train,y_train)"
   ]
  },
  {
   "cell_type": "code",
   "execution_count": null,
   "metadata": {
    "ExecuteTime": {
     "start_time": "2019-05-21T23:00:07.183Z"
    }
   },
   "outputs": [
    {
     "data": {
      "text/plain": [
       "0.7302798982188295"
      ]
     },
     "execution_count": 33,
     "metadata": {},
     "output_type": "execute_result"
    }
   ],
   "source": [
    "dt.score(X_test, y_test)"
   ]
  },
  {
   "cell_type": "code",
   "execution_count": null,
   "metadata": {
    "ExecuteTime": {
     "start_time": "2019-05-21T23:00:07.187Z"
    }
   },
   "outputs": [
    {
     "data": {
      "text/plain": [
       "0.7517006802721088"
      ]
     },
     "execution_count": 34,
     "metadata": {},
     "output_type": "execute_result"
    }
   ],
   "source": [
    "## BaggingClassifier\n",
    "bag = BaggingClassifier(n_estimators=10000)\n",
    "\n",
    "bag.fit(X_train, y_train)\n",
    "bag.score(X_train, y_train)"
   ]
  },
  {
   "cell_type": "code",
   "execution_count": null,
   "metadata": {
    "ExecuteTime": {
     "start_time": "2019-05-21T23:00:07.191Z"
    }
   },
   "outputs": [],
   "source": [
    "bag.score(X_test, y_test)"
   ]
  },
  {
   "cell_type": "code",
   "execution_count": null,
   "metadata": {
    "ExecuteTime": {
     "start_time": "2019-05-21T23:00:07.195Z"
    }
   },
   "outputs": [],
   "source": [
    "## RandomforestClassication\n",
    "rfc = RandomForestClassifier(n_estimators=10000)\n",
    "\n",
    "rfc.fit(X_train, y_train)\n",
    "rfc.score(X_train, y_train)"
   ]
  },
  {
   "cell_type": "code",
   "execution_count": null,
   "metadata": {
    "ExecuteTime": {
     "start_time": "2019-05-21T23:00:07.204Z"
    }
   },
   "outputs": [],
   "source": [
    "rfc.score(X_test, y_test)"
   ]
  },
  {
   "cell_type": "code",
   "execution_count": null,
   "metadata": {
    "ExecuteTime": {
     "start_time": "2019-05-21T23:00:07.208Z"
    }
   },
   "outputs": [],
   "source": [
    "## ExtraTrees Classification\n",
    "et = ExtraTreesClassifier(n_estimators=10000)\n",
    "\n",
    "et.fit(X_train, y_train)\n",
    "et.score(X_train, y_train)"
   ]
  },
  {
   "cell_type": "code",
   "execution_count": null,
   "metadata": {
    "ExecuteTime": {
     "start_time": "2019-05-21T23:00:07.212Z"
    }
   },
   "outputs": [],
   "source": [
    "et.score(X_test, y_test)"
   ]
  },
  {
   "cell_type": "markdown",
   "metadata": {},
   "source": [
    "## SVM"
   ]
  },
  {
   "cell_type": "code",
   "execution_count": null,
   "metadata": {
    "ExecuteTime": {
     "start_time": "2019-05-21T23:00:07.217Z"
    }
   },
   "outputs": [],
   "source": [
    "def plot_svm(clf):\n",
    "    plt.scatter(X.iloc[:, 0], X.iloc[:, 1], c=y, s=30, cmap=plt.cm.Paired)\n",
    "\n",
    "    # plot the decision function\n",
    "    ax = plt.gca()\n",
    "    xlim = ax.get_xlim()\n",
    "    ylim = ax.get_ylim()\n",
    "    \n",
    "    x_min, x_max = X.iloc[:, 0].min() - 1, X.iloc[:, 0].max() + 1\n",
    "    y_min, y_max = X.iloc[:, 1].min() - 1, X.iloc[:, 1].max() + 1\n",
    "    xx2, yy2 = np.meshgrid(np.arange(x_min, x_max, .2),\n",
    "                         np.arange(y_min, y_max, .2))\n",
    "\n",
    "    # create grid to evaluate model\n",
    "    xy = np.vstack([xx2.ravel(), yy2.ravel()]).T\n",
    "    Z = clf.decision_function(xy).reshape(xx2.shape)\n",
    "\n",
    "    # plot decision boundary and margins\n",
    "    ax.contourf(xx2, yy2, Z, cmap=plt.cm.binary, alpha=0.2)\n",
    "    ax.contour(xx2, yy2, Z, colors='k', levels=[-1, 0, 1], alpha=0.8,\n",
    "               linestyles=['--', '-', '--'])\n",
    "    # plot support vectors\n",
    "    if not isinstance(clf, LinearSVC):\n",
    "        ax.scatter(clf.support_vectors_[:, 0], clf.support_vectors_[:, 1], s=150,\n",
    "               linewidth=1, facecolors='none', edgecolors='k')\n",
    "        print (clf.support_vectors_)\n",
    "        \n",
    "    plt.show()\n",
    "    "
   ]
  },
  {
   "cell_type": "code",
   "execution_count": null,
   "metadata": {
    "ExecuteTime": {
     "start_time": "2019-05-21T23:00:07.221Z"
    }
   },
   "outputs": [],
   "source": [
    "fsd="
   ]
  },
  {
   "cell_type": "code",
   "execution_count": null,
   "metadata": {
    "ExecuteTime": {
     "start_time": "2019-05-21T23:00:07.225Z"
    }
   },
   "outputs": [],
   "source": [
    "def plot_svm(clf):\n",
    "    plt.scatter(X.iloc[:, 0], X.iloc[:, 1], c=y, s=30, cmap=plt.cm.Paired)\n",
    "\n",
    "    # plot the decision function\n",
    "    ax = plt.gca()\n",
    "    xlim = ax.get_xlim()\n",
    "    ylim = ax.get_ylim()\n",
    "    \n",
    "    x_min, x_max = X.iloc[:, 0].min() - 1, X.iloc[:, 0].max() + 1\n",
    "    y_min, y_max = X.iloc[:, 1].min() - 1, X.iloc[:, 1].max() + 1\n",
    "    xx2, yy2 = np.meshgrid(np.arange(x_min, x_max, .2),\n",
    "                         np.arange(y_min, y_max, .2))\n",
    "\n",
    "    # create grid to evaluate model\n",
    "    xy = np.vstack([xx2.ravel(), yy2.ravel()]).T\n",
    "    Z = clf.decision_function(xy).reshape(xx2.shape)\n",
    "\n",
    "    # plot decision boundary and margins\n",
    "    ax.contourf(xx2, yy2, Z, cmap=plt.cm.binary, alpha=0.2)\n",
    "    ax.contour(xx2, yy2, Z, colors='k', levels=[-1, 0, 1], alpha=0.8,\n",
    "               linestyles=['--', '-', '--'])\n",
    "    # plot support vectors\n",
    "    if not isinstance(clf, LinearSVC):\n",
    "        ax.scatter(clf.support_vectors_[:, 0], clf.support_vectors_[:, 1], s=150,\n",
    "               linewidth=1, facecolors='none', edgecolors='k')\n",
    "        print (clf.support_vectors_)\n",
    "        \n",
    "    plt.show()\n",
    "    "
   ]
  },
  {
   "cell_type": "code",
   "execution_count": null,
   "metadata": {
    "ExecuteTime": {
     "start_time": "2019-05-21T23:00:07.230Z"
    }
   },
   "outputs": [],
   "source": [
    "sv = SVC(kernel='linear', C=10000)\n",
    "sv.fit(X, y)\n",
    "plot_svm(sv)"
   ]
  },
  {
   "cell_type": "code",
   "execution_count": null,
   "metadata": {
    "ExecuteTime": {
     "start_time": "2019-05-21T23:00:07.234Z"
    }
   },
   "outputs": [],
   "source": [
    "clf_poly = SVC(kernel='poly', degree=3, C=10000)\n",
    "clf_poly.fit(X, y)\n",
    "plot_svm(clf_poly)"
   ]
  },
  {
   "cell_type": "code",
   "execution_count": null,
   "metadata": {},
   "outputs": [],
   "source": []
  }
 ],
 "metadata": {
  "kernelspec": {
   "display_name": "Python 3",
   "language": "python",
   "name": "python3"
  },
  "language_info": {
   "codemirror_mode": {
    "name": "ipython",
    "version": 3
   },
   "file_extension": ".py",
   "mimetype": "text/x-python",
   "name": "python",
   "nbconvert_exporter": "python",
   "pygments_lexer": "ipython3",
   "version": "3.6.8"
  },
  "toc": {
   "base_numbering": 1,
   "nav_menu": {},
   "number_sections": true,
   "sideBar": true,
   "skip_h1_title": false,
   "title_cell": "Table of Contents",
   "title_sidebar": "Contents",
   "toc_cell": false,
   "toc_position": {},
   "toc_section_display": true,
   "toc_window_display": false
  }
 },
 "nbformat": 4,
 "nbformat_minor": 2
}
