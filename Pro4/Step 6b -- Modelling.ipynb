{
 "cells": [
  {
   "cell_type": "code",
   "execution_count": 1,
   "metadata": {
    "ExecuteTime": {
     "end_time": "2019-05-21T13:16:40.352986Z",
     "start_time": "2019-05-21T13:16:38.367090Z"
    }
   },
   "outputs": [],
   "source": [
    "import numpy as np\n",
    "import pandas as pd\n",
    "import seaborn as sns\n",
    "import matplotlib.pyplot as plt\n",
    "\n",
    "from sklearn.linear_model import LinearRegression, LogisticRegression\n",
    "from sklearn.svm import SVC, LinearSVC\n",
    "from sklearn.model_selection import train_test_split, cross_val_score\n",
    "from sklearn.metrics import mean_squared_error, r2_score\n",
    "from sklearn.preprocessing import StandardScaler\n",
    "\n",
    "from sklearn.tree import DecisionTreeClassifier\n",
    "from sklearn.ensemble import RandomForestClassifier, ExtraTreesClassifier, BaggingClassifier\n",
    "\n",
    "from sklearn.cluster import KMeans, k_means\n",
    "from scipy.cluster.hierarchy import dendrogram, linkage, cophenet, fcluster\n",
    "\n",
    "# Folder\n",
    "folder = './training/Final/'\n",
    "\n",
    "file =  folder + 'dataset.csv'\n",
    "\n",
    "%matplotlib inline"
   ]
  },
  {
   "cell_type": "code",
   "execution_count": 2,
   "metadata": {
    "ExecuteTime": {
     "end_time": "2019-05-21T13:16:40.443414Z",
     "start_time": "2019-05-21T13:16:40.354985Z"
    },
    "scrolled": true
   },
   "outputs": [
    {
     "data": {
      "text/html": [
       "<div>\n",
       "<style scoped>\n",
       "    .dataframe tbody tr th:only-of-type {\n",
       "        vertical-align: middle;\n",
       "    }\n",
       "\n",
       "    .dataframe tbody tr th {\n",
       "        vertical-align: top;\n",
       "    }\n",
       "\n",
       "    .dataframe thead th {\n",
       "        text-align: right;\n",
       "    }\n",
       "</style>\n",
       "<table border=\"1\" class=\"dataframe\">\n",
       "  <thead>\n",
       "    <tr style=\"text-align: right;\">\n",
       "      <th></th>\n",
       "      <th>content</th>\n",
       "      <th>industries</th>\n",
       "      <th>location</th>\n",
       "      <th>title</th>\n",
       "      <th>type_empl</th>\n",
       "      <th>url</th>\n",
       "      <th>wage</th>\n",
       "      <th>suburb</th>\n",
       "      <th>experiences</th>\n",
       "      <th>title_left_over</th>\n",
       "    </tr>\n",
       "  </thead>\n",
       "  <tbody>\n",
       "    <tr>\n",
       "      <th>0</th>\n",
       "      <td>Public Safety Business Agency / Kedron Tempora...</td>\n",
       "      <td>Information &amp; Communication Technology</td>\n",
       "      <td>Brisbane</td>\n",
       "      <td>DA</td>\n",
       "      <td>Permanent</td>\n",
       "      <td>https://www.seek.com.au/job/39018343?type=stan...</td>\n",
       "      <td>85572.0</td>\n",
       "      <td>Northern Suburbs</td>\n",
       "      <td>General</td>\n",
       "      <td>Data Analyst</td>\n",
       "    </tr>\n",
       "    <tr>\n",
       "      <th>1</th>\n",
       "      <td>Fantastic working culture Flexible work enviro...</td>\n",
       "      <td>Information &amp; Communication Technology</td>\n",
       "      <td>Brisbane</td>\n",
       "      <td>SDA</td>\n",
       "      <td>Contract</td>\n",
       "      <td>https://www.seek.com.au/job/39007973?type=stan...</td>\n",
       "      <td>99961.0</td>\n",
       "      <td>CBD &amp; Inner Suburbs</td>\n",
       "      <td>Senior</td>\n",
       "      <td>Senior Business Analyst</td>\n",
       "    </tr>\n",
       "    <tr>\n",
       "      <th>2</th>\n",
       "      <td>CBD Location 12 month contract Join this State...</td>\n",
       "      <td>Information &amp; Communication Technology</td>\n",
       "      <td>Brisbane</td>\n",
       "      <td>DA</td>\n",
       "      <td>Contract</td>\n",
       "      <td>https://www.seek.com.au/job/38912693?type=stan...</td>\n",
       "      <td>174590.0</td>\n",
       "      <td>CBD &amp; Inner Suburbs</td>\n",
       "      <td>General</td>\n",
       "      <td>Database Analyst</td>\n",
       "    </tr>\n",
       "    <tr>\n",
       "      <th>3</th>\n",
       "      <td>CBD Location Initial 3 month contract Join thi...</td>\n",
       "      <td>Information &amp; Communication Technology</td>\n",
       "      <td>Brisbane</td>\n",
       "      <td>DA</td>\n",
       "      <td>Contract</td>\n",
       "      <td>https://www.seek.com.au/job/39037731?type=stan...</td>\n",
       "      <td>177450.0</td>\n",
       "      <td>CBD &amp; Inner Suburbs</td>\n",
       "      <td>General</td>\n",
       "      <td>Data Analyst</td>\n",
       "    </tr>\n",
       "    <tr>\n",
       "      <th>4</th>\n",
       "      <td>CBD Location! Initial contract through till en...</td>\n",
       "      <td>Information &amp; Communication Technology</td>\n",
       "      <td>Brisbane</td>\n",
       "      <td>SDA</td>\n",
       "      <td>Contract</td>\n",
       "      <td>https://www.seek.com.au/job/39003265?type=stan...</td>\n",
       "      <td>173550.0</td>\n",
       "      <td>CBD &amp; Inner Suburbs</td>\n",
       "      <td>Senior</td>\n",
       "      <td>Senior Test Analyst</td>\n",
       "    </tr>\n",
       "  </tbody>\n",
       "</table>\n",
       "</div>"
      ],
      "text/plain": [
       "                                             content  \\\n",
       "0  Public Safety Business Agency / Kedron Tempora...   \n",
       "1  Fantastic working culture Flexible work enviro...   \n",
       "2  CBD Location 12 month contract Join this State...   \n",
       "3  CBD Location Initial 3 month contract Join thi...   \n",
       "4  CBD Location! Initial contract through till en...   \n",
       "\n",
       "                               industries  location title  type_empl  \\\n",
       "0  Information & Communication Technology  Brisbane    DA  Permanent   \n",
       "1  Information & Communication Technology  Brisbane   SDA   Contract   \n",
       "2  Information & Communication Technology  Brisbane    DA   Contract   \n",
       "3  Information & Communication Technology  Brisbane    DA   Contract   \n",
       "4  Information & Communication Technology  Brisbane   SDA   Contract   \n",
       "\n",
       "                                                 url      wage  \\\n",
       "0  https://www.seek.com.au/job/39018343?type=stan...   85572.0   \n",
       "1  https://www.seek.com.au/job/39007973?type=stan...   99961.0   \n",
       "2  https://www.seek.com.au/job/38912693?type=stan...  174590.0   \n",
       "3  https://www.seek.com.au/job/39037731?type=stan...  177450.0   \n",
       "4  https://www.seek.com.au/job/39003265?type=stan...  173550.0   \n",
       "\n",
       "                suburb experiences          title_left_over  \n",
       "0     Northern Suburbs     General             Data Analyst  \n",
       "1  CBD & Inner Suburbs      Senior  Senior Business Analyst  \n",
       "2  CBD & Inner Suburbs     General         Database Analyst  \n",
       "3  CBD & Inner Suburbs     General             Data Analyst  \n",
       "4  CBD & Inner Suburbs      Senior      Senior Test Analyst  "
      ]
     },
     "execution_count": 2,
     "metadata": {},
     "output_type": "execute_result"
    }
   ],
   "source": [
    "frame = pd.read_csv(file, sep='|')\n",
    "frame.head()"
   ]
  },
  {
   "cell_type": "code",
   "execution_count": 3,
   "metadata": {
    "ExecuteTime": {
     "end_time": "2019-05-21T13:16:40.457406Z",
     "start_time": "2019-05-21T13:16:40.444414Z"
    }
   },
   "outputs": [
    {
     "name": "stdout",
     "output_type": "stream",
     "text": [
      "<class 'pandas.core.frame.DataFrame'>\n",
      "RangeIndex: 1569 entries, 0 to 1568\n",
      "Data columns (total 10 columns):\n",
      "content            1569 non-null object\n",
      "industries         1569 non-null object\n",
      "location           1569 non-null object\n",
      "title              1569 non-null object\n",
      "type_empl          1569 non-null object\n",
      "url                1569 non-null object\n",
      "wage               1569 non-null float64\n",
      "suburb             1569 non-null object\n",
      "experiences        1569 non-null object\n",
      "title_left_over    1569 non-null object\n",
      "dtypes: float64(1), object(9)\n",
      "memory usage: 122.7+ KB\n"
     ]
    }
   ],
   "source": [
    "frame.info()"
   ]
  },
  {
   "cell_type": "code",
   "execution_count": 4,
   "metadata": {
    "ExecuteTime": {
     "end_time": "2019-05-21T13:16:40.468400Z",
     "start_time": "2019-05-21T13:16:40.459406Z"
    }
   },
   "outputs": [
    {
     "name": "stdout",
     "output_type": "stream",
     "text": [
      "<class 'pandas.core.frame.DataFrame'>\n",
      "RangeIndex: 1569 entries, 0 to 1568\n",
      "Data columns (total 5 columns):\n",
      "industries    1569 non-null object\n",
      "location      1569 non-null object\n",
      "title         1569 non-null object\n",
      "type_empl     1569 non-null object\n",
      "wage          1569 non-null float64\n",
      "dtypes: float64(1), object(4)\n",
      "memory usage: 61.4+ KB\n"
     ]
    }
   ],
   "source": [
    "frame.drop(columns=['content','experiences','title_left_over','url','suburb'] ,axis=1, inplace=True)\n",
    "frame.info()"
   ]
  },
  {
   "cell_type": "code",
   "execution_count": 5,
   "metadata": {
    "ExecuteTime": {
     "end_time": "2019-05-21T13:16:40.475396Z",
     "start_time": "2019-05-21T13:16:40.469400Z"
    }
   },
   "outputs": [
    {
     "data": {
      "text/plain": [
       "Information & Communication Technology    900\n",
       "Banking & Financial Services              133\n",
       "Accounting                                124\n",
       "Marketing & Communications                106\n",
       "Science & Technology                       72\n",
       "Government & Defence                       59\n",
       "Manufacturing, Transport & Logistics       53\n",
       "Consulting & Strategy                      49\n",
       "Sales                                      43\n",
       "Insurance & Superannuation                 30\n",
       "Name: industries, dtype: int64"
      ]
     },
     "execution_count": 5,
     "metadata": {},
     "output_type": "execute_result"
    }
   ],
   "source": [
    "frame['industries'].value_counts()"
   ]
  },
  {
   "cell_type": "code",
   "execution_count": 6,
   "metadata": {
    "ExecuteTime": {
     "end_time": "2019-05-21T13:16:40.498384Z",
     "start_time": "2019-05-21T13:16:40.476396Z"
    },
    "scrolled": true
   },
   "outputs": [
    {
     "data": {
      "text/html": [
       "<div>\n",
       "<style scoped>\n",
       "    .dataframe tbody tr th:only-of-type {\n",
       "        vertical-align: middle;\n",
       "    }\n",
       "\n",
       "    .dataframe tbody tr th {\n",
       "        vertical-align: top;\n",
       "    }\n",
       "\n",
       "    .dataframe thead th {\n",
       "        text-align: right;\n",
       "    }\n",
       "</style>\n",
       "<table border=\"1\" class=\"dataframe\">\n",
       "  <thead>\n",
       "    <tr style=\"text-align: right;\">\n",
       "      <th></th>\n",
       "      <th>industries</th>\n",
       "      <th>location</th>\n",
       "      <th>title</th>\n",
       "      <th>type_empl</th>\n",
       "      <th>wage</th>\n",
       "    </tr>\n",
       "  </thead>\n",
       "  <tbody>\n",
       "    <tr>\n",
       "      <th>0</th>\n",
       "      <td>Information &amp; Communication Technology</td>\n",
       "      <td>Brisbane</td>\n",
       "      <td>DA</td>\n",
       "      <td>Permanent</td>\n",
       "      <td>85572.0</td>\n",
       "    </tr>\n",
       "    <tr>\n",
       "      <th>1</th>\n",
       "      <td>Information &amp; Communication Technology</td>\n",
       "      <td>Brisbane</td>\n",
       "      <td>SDA</td>\n",
       "      <td>Contract</td>\n",
       "      <td>99961.0</td>\n",
       "    </tr>\n",
       "    <tr>\n",
       "      <th>2</th>\n",
       "      <td>Information &amp; Communication Technology</td>\n",
       "      <td>Brisbane</td>\n",
       "      <td>DA</td>\n",
       "      <td>Contract</td>\n",
       "      <td>174590.0</td>\n",
       "    </tr>\n",
       "    <tr>\n",
       "      <th>3</th>\n",
       "      <td>Information &amp; Communication Technology</td>\n",
       "      <td>Brisbane</td>\n",
       "      <td>DA</td>\n",
       "      <td>Contract</td>\n",
       "      <td>177450.0</td>\n",
       "    </tr>\n",
       "    <tr>\n",
       "      <th>4</th>\n",
       "      <td>Information &amp; Communication Technology</td>\n",
       "      <td>Brisbane</td>\n",
       "      <td>SDA</td>\n",
       "      <td>Contract</td>\n",
       "      <td>173550.0</td>\n",
       "    </tr>\n",
       "    <tr>\n",
       "      <th>5</th>\n",
       "      <td>Information &amp; Communication Technology</td>\n",
       "      <td>Brisbane</td>\n",
       "      <td>DA</td>\n",
       "      <td>Contract</td>\n",
       "      <td>204750.0</td>\n",
       "    </tr>\n",
       "    <tr>\n",
       "      <th>6</th>\n",
       "      <td>Information &amp; Communication Technology</td>\n",
       "      <td>Brisbane</td>\n",
       "      <td>SDA</td>\n",
       "      <td>Permanent</td>\n",
       "      <td>135000.0</td>\n",
       "    </tr>\n",
       "    <tr>\n",
       "      <th>7</th>\n",
       "      <td>Information &amp; Communication Technology</td>\n",
       "      <td>Brisbane</td>\n",
       "      <td>DA</td>\n",
       "      <td>Contract</td>\n",
       "      <td>25220.0</td>\n",
       "    </tr>\n",
       "    <tr>\n",
       "      <th>8</th>\n",
       "      <td>Information &amp; Communication Technology</td>\n",
       "      <td>Brisbane</td>\n",
       "      <td>DA</td>\n",
       "      <td>Contract</td>\n",
       "      <td>202800.0</td>\n",
       "    </tr>\n",
       "    <tr>\n",
       "      <th>9</th>\n",
       "      <td>Information &amp; Communication Technology</td>\n",
       "      <td>Brisbane</td>\n",
       "      <td>DA</td>\n",
       "      <td>Permanent</td>\n",
       "      <td>114999.0</td>\n",
       "    </tr>\n",
       "    <tr>\n",
       "      <th>10</th>\n",
       "      <td>Information &amp; Communication Technology</td>\n",
       "      <td>Brisbane</td>\n",
       "      <td>DA</td>\n",
       "      <td>Contract</td>\n",
       "      <td>185250.0</td>\n",
       "    </tr>\n",
       "    <tr>\n",
       "      <th>11</th>\n",
       "      <td>Information &amp; Communication Technology</td>\n",
       "      <td>Brisbane</td>\n",
       "      <td>JDA</td>\n",
       "      <td>Contract</td>\n",
       "      <td>84825.0</td>\n",
       "    </tr>\n",
       "    <tr>\n",
       "      <th>12</th>\n",
       "      <td>Information &amp; Communication Technology</td>\n",
       "      <td>Brisbane</td>\n",
       "      <td>SDA</td>\n",
       "      <td>Contract</td>\n",
       "      <td>216320.0</td>\n",
       "    </tr>\n",
       "    <tr>\n",
       "      <th>13</th>\n",
       "      <td>Information &amp; Communication Technology</td>\n",
       "      <td>Brisbane</td>\n",
       "      <td>DA</td>\n",
       "      <td>Contract</td>\n",
       "      <td>182325.0</td>\n",
       "    </tr>\n",
       "    <tr>\n",
       "      <th>14</th>\n",
       "      <td>Information &amp; Communication Technology</td>\n",
       "      <td>Brisbane</td>\n",
       "      <td>DA</td>\n",
       "      <td>Contract</td>\n",
       "      <td>82875.0</td>\n",
       "    </tr>\n",
       "    <tr>\n",
       "      <th>15</th>\n",
       "      <td>Information &amp; Communication Technology</td>\n",
       "      <td>Brisbane</td>\n",
       "      <td>DA</td>\n",
       "      <td>Contract</td>\n",
       "      <td>82875.0</td>\n",
       "    </tr>\n",
       "    <tr>\n",
       "      <th>16</th>\n",
       "      <td>Information &amp; Communication Technology</td>\n",
       "      <td>Brisbane</td>\n",
       "      <td>DA</td>\n",
       "      <td>Contract</td>\n",
       "      <td>82875.0</td>\n",
       "    </tr>\n",
       "    <tr>\n",
       "      <th>17</th>\n",
       "      <td>Information &amp; Communication Technology</td>\n",
       "      <td>Brisbane</td>\n",
       "      <td>DA</td>\n",
       "      <td>Contract</td>\n",
       "      <td>82875.0</td>\n",
       "    </tr>\n",
       "    <tr>\n",
       "      <th>18</th>\n",
       "      <td>Information &amp; Communication Technology</td>\n",
       "      <td>Brisbane</td>\n",
       "      <td>DA</td>\n",
       "      <td>Contract</td>\n",
       "      <td>143000.0</td>\n",
       "    </tr>\n",
       "    <tr>\n",
       "      <th>19</th>\n",
       "      <td>Information &amp; Communication Technology</td>\n",
       "      <td>Melbourne</td>\n",
       "      <td>DA</td>\n",
       "      <td>Permanent</td>\n",
       "      <td>170000.0</td>\n",
       "    </tr>\n",
       "    <tr>\n",
       "      <th>20</th>\n",
       "      <td>Information &amp; Communication Technology</td>\n",
       "      <td>Melbourne</td>\n",
       "      <td>DA</td>\n",
       "      <td>Contract</td>\n",
       "      <td>110500.0</td>\n",
       "    </tr>\n",
       "    <tr>\n",
       "      <th>21</th>\n",
       "      <td>Information &amp; Communication Technology</td>\n",
       "      <td>Melbourne</td>\n",
       "      <td>DA</td>\n",
       "      <td>Contract</td>\n",
       "      <td>172250.0</td>\n",
       "    </tr>\n",
       "    <tr>\n",
       "      <th>22</th>\n",
       "      <td>Information &amp; Communication Technology</td>\n",
       "      <td>Melbourne</td>\n",
       "      <td>DA</td>\n",
       "      <td>Permanent</td>\n",
       "      <td>120000.0</td>\n",
       "    </tr>\n",
       "    <tr>\n",
       "      <th>23</th>\n",
       "      <td>Information &amp; Communication Technology</td>\n",
       "      <td>Melbourne</td>\n",
       "      <td>DA</td>\n",
       "      <td>Permanent</td>\n",
       "      <td>143000.0</td>\n",
       "    </tr>\n",
       "    <tr>\n",
       "      <th>24</th>\n",
       "      <td>Information &amp; Communication Technology</td>\n",
       "      <td>Melbourne</td>\n",
       "      <td>DA</td>\n",
       "      <td>Contract</td>\n",
       "      <td>162500.0</td>\n",
       "    </tr>\n",
       "    <tr>\n",
       "      <th>25</th>\n",
       "      <td>Information &amp; Communication Technology</td>\n",
       "      <td>Melbourne</td>\n",
       "      <td>DA</td>\n",
       "      <td>Permanent</td>\n",
       "      <td>86578.0</td>\n",
       "    </tr>\n",
       "    <tr>\n",
       "      <th>26</th>\n",
       "      <td>Information &amp; Communication Technology</td>\n",
       "      <td>Melbourne</td>\n",
       "      <td>DA</td>\n",
       "      <td>Permanent</td>\n",
       "      <td>125000.0</td>\n",
       "    </tr>\n",
       "    <tr>\n",
       "      <th>27</th>\n",
       "      <td>Information &amp; Communication Technology</td>\n",
       "      <td>Melbourne</td>\n",
       "      <td>DA</td>\n",
       "      <td>Contract</td>\n",
       "      <td>188500.0</td>\n",
       "    </tr>\n",
       "    <tr>\n",
       "      <th>28</th>\n",
       "      <td>Information &amp; Communication Technology</td>\n",
       "      <td>Melbourne</td>\n",
       "      <td>DA</td>\n",
       "      <td>Contract</td>\n",
       "      <td>175500.0</td>\n",
       "    </tr>\n",
       "    <tr>\n",
       "      <th>29</th>\n",
       "      <td>Information &amp; Communication Technology</td>\n",
       "      <td>Melbourne</td>\n",
       "      <td>DA</td>\n",
       "      <td>Permanent</td>\n",
       "      <td>87499.0</td>\n",
       "    </tr>\n",
       "    <tr>\n",
       "      <th>...</th>\n",
       "      <td>...</td>\n",
       "      <td>...</td>\n",
       "      <td>...</td>\n",
       "      <td>...</td>\n",
       "      <td>...</td>\n",
       "    </tr>\n",
       "    <tr>\n",
       "      <th>1539</th>\n",
       "      <td>Insurance &amp; Superannuation</td>\n",
       "      <td>Brisbane</td>\n",
       "      <td>DA</td>\n",
       "      <td>Contract</td>\n",
       "      <td>182000.0</td>\n",
       "    </tr>\n",
       "    <tr>\n",
       "      <th>1540</th>\n",
       "      <td>Insurance &amp; Superannuation</td>\n",
       "      <td>Sydney</td>\n",
       "      <td>DA</td>\n",
       "      <td>Contract</td>\n",
       "      <td>120450.0</td>\n",
       "    </tr>\n",
       "    <tr>\n",
       "      <th>1541</th>\n",
       "      <td>Insurance &amp; Superannuation</td>\n",
       "      <td>Sydney</td>\n",
       "      <td>DA</td>\n",
       "      <td>Permanent</td>\n",
       "      <td>112500.0</td>\n",
       "    </tr>\n",
       "    <tr>\n",
       "      <th>1542</th>\n",
       "      <td>Insurance &amp; Superannuation</td>\n",
       "      <td>Sydney</td>\n",
       "      <td>DA</td>\n",
       "      <td>Permanent</td>\n",
       "      <td>107500.0</td>\n",
       "    </tr>\n",
       "    <tr>\n",
       "      <th>1543</th>\n",
       "      <td>Insurance &amp; Superannuation</td>\n",
       "      <td>Sydney</td>\n",
       "      <td>SDA</td>\n",
       "      <td>Permanent</td>\n",
       "      <td>114999.0</td>\n",
       "    </tr>\n",
       "    <tr>\n",
       "      <th>1544</th>\n",
       "      <td>Insurance &amp; Superannuation</td>\n",
       "      <td>Sydney</td>\n",
       "      <td>SDA</td>\n",
       "      <td>Permanent</td>\n",
       "      <td>115000.0</td>\n",
       "    </tr>\n",
       "    <tr>\n",
       "      <th>1545</th>\n",
       "      <td>Insurance &amp; Superannuation</td>\n",
       "      <td>Sydney</td>\n",
       "      <td>SDA</td>\n",
       "      <td>Permanent</td>\n",
       "      <td>104999.0</td>\n",
       "    </tr>\n",
       "    <tr>\n",
       "      <th>1546</th>\n",
       "      <td>Insurance &amp; Superannuation</td>\n",
       "      <td>Brisbane</td>\n",
       "      <td>SDA</td>\n",
       "      <td>Permanent</td>\n",
       "      <td>144000.0</td>\n",
       "    </tr>\n",
       "    <tr>\n",
       "      <th>1547</th>\n",
       "      <td>Insurance &amp; Superannuation</td>\n",
       "      <td>Melbourne</td>\n",
       "      <td>DA</td>\n",
       "      <td>Permanent</td>\n",
       "      <td>115000.0</td>\n",
       "    </tr>\n",
       "    <tr>\n",
       "      <th>1548</th>\n",
       "      <td>Insurance &amp; Superannuation</td>\n",
       "      <td>Melbourne</td>\n",
       "      <td>DA</td>\n",
       "      <td>Contract</td>\n",
       "      <td>115000.0</td>\n",
       "    </tr>\n",
       "    <tr>\n",
       "      <th>1549</th>\n",
       "      <td>Insurance &amp; Superannuation</td>\n",
       "      <td>Sydney</td>\n",
       "      <td>DA</td>\n",
       "      <td>Permanent</td>\n",
       "      <td>115000.0</td>\n",
       "    </tr>\n",
       "    <tr>\n",
       "      <th>1550</th>\n",
       "      <td>Insurance &amp; Superannuation</td>\n",
       "      <td>Sydney</td>\n",
       "      <td>DA</td>\n",
       "      <td>Permanent</td>\n",
       "      <td>115000.0</td>\n",
       "    </tr>\n",
       "    <tr>\n",
       "      <th>1551</th>\n",
       "      <td>Insurance &amp; Superannuation</td>\n",
       "      <td>Sydney</td>\n",
       "      <td>DA</td>\n",
       "      <td>Permanent</td>\n",
       "      <td>115000.0</td>\n",
       "    </tr>\n",
       "    <tr>\n",
       "      <th>1552</th>\n",
       "      <td>Insurance &amp; Superannuation</td>\n",
       "      <td>Sydney</td>\n",
       "      <td>DA</td>\n",
       "      <td>Permanent</td>\n",
       "      <td>115000.0</td>\n",
       "    </tr>\n",
       "    <tr>\n",
       "      <th>1553</th>\n",
       "      <td>Insurance &amp; Superannuation</td>\n",
       "      <td>Sydney</td>\n",
       "      <td>DA</td>\n",
       "      <td>Permanent</td>\n",
       "      <td>115000.0</td>\n",
       "    </tr>\n",
       "    <tr>\n",
       "      <th>1554</th>\n",
       "      <td>Insurance &amp; Superannuation</td>\n",
       "      <td>Sydney</td>\n",
       "      <td>DA</td>\n",
       "      <td>Permanent</td>\n",
       "      <td>115000.0</td>\n",
       "    </tr>\n",
       "    <tr>\n",
       "      <th>1555</th>\n",
       "      <td>Insurance &amp; Superannuation</td>\n",
       "      <td>Sydney</td>\n",
       "      <td>DA</td>\n",
       "      <td>Permanent</td>\n",
       "      <td>115000.0</td>\n",
       "    </tr>\n",
       "    <tr>\n",
       "      <th>1556</th>\n",
       "      <td>Insurance &amp; Superannuation</td>\n",
       "      <td>Sydney</td>\n",
       "      <td>SDA</td>\n",
       "      <td>Permanent</td>\n",
       "      <td>144000.0</td>\n",
       "    </tr>\n",
       "    <tr>\n",
       "      <th>1557</th>\n",
       "      <td>Insurance &amp; Superannuation</td>\n",
       "      <td>Sydney</td>\n",
       "      <td>DA</td>\n",
       "      <td>Permanent</td>\n",
       "      <td>115000.0</td>\n",
       "    </tr>\n",
       "    <tr>\n",
       "      <th>1558</th>\n",
       "      <td>Insurance &amp; Superannuation</td>\n",
       "      <td>Sydney</td>\n",
       "      <td>DA</td>\n",
       "      <td>Permanent</td>\n",
       "      <td>115000.0</td>\n",
       "    </tr>\n",
       "    <tr>\n",
       "      <th>1559</th>\n",
       "      <td>Insurance &amp; Superannuation</td>\n",
       "      <td>Sydney</td>\n",
       "      <td>SDA</td>\n",
       "      <td>Permanent</td>\n",
       "      <td>144000.0</td>\n",
       "    </tr>\n",
       "    <tr>\n",
       "      <th>1560</th>\n",
       "      <td>Insurance &amp; Superannuation</td>\n",
       "      <td>Sydney</td>\n",
       "      <td>SDA</td>\n",
       "      <td>Permanent</td>\n",
       "      <td>144000.0</td>\n",
       "    </tr>\n",
       "    <tr>\n",
       "      <th>1561</th>\n",
       "      <td>Insurance &amp; Superannuation</td>\n",
       "      <td>Sydney</td>\n",
       "      <td>DA</td>\n",
       "      <td>Contract</td>\n",
       "      <td>115000.0</td>\n",
       "    </tr>\n",
       "    <tr>\n",
       "      <th>1562</th>\n",
       "      <td>Insurance &amp; Superannuation</td>\n",
       "      <td>Sydney</td>\n",
       "      <td>DA</td>\n",
       "      <td>Permanent</td>\n",
       "      <td>115000.0</td>\n",
       "    </tr>\n",
       "    <tr>\n",
       "      <th>1563</th>\n",
       "      <td>Insurance &amp; Superannuation</td>\n",
       "      <td>Sydney</td>\n",
       "      <td>DA</td>\n",
       "      <td>Permanent</td>\n",
       "      <td>115000.0</td>\n",
       "    </tr>\n",
       "    <tr>\n",
       "      <th>1564</th>\n",
       "      <td>Insurance &amp; Superannuation</td>\n",
       "      <td>Sydney</td>\n",
       "      <td>DA</td>\n",
       "      <td>Permanent</td>\n",
       "      <td>115000.0</td>\n",
       "    </tr>\n",
       "    <tr>\n",
       "      <th>1565</th>\n",
       "      <td>Insurance &amp; Superannuation</td>\n",
       "      <td>Melbourne</td>\n",
       "      <td>DS</td>\n",
       "      <td>Permanent</td>\n",
       "      <td>110000.0</td>\n",
       "    </tr>\n",
       "    <tr>\n",
       "      <th>1566</th>\n",
       "      <td>Insurance &amp; Superannuation</td>\n",
       "      <td>Sydney</td>\n",
       "      <td>DS</td>\n",
       "      <td>Permanent</td>\n",
       "      <td>110000.0</td>\n",
       "    </tr>\n",
       "    <tr>\n",
       "      <th>1567</th>\n",
       "      <td>Insurance &amp; Superannuation</td>\n",
       "      <td>Sydney</td>\n",
       "      <td>DS</td>\n",
       "      <td>Contract</td>\n",
       "      <td>110000.0</td>\n",
       "    </tr>\n",
       "    <tr>\n",
       "      <th>1568</th>\n",
       "      <td>Insurance &amp; Superannuation</td>\n",
       "      <td>Sydney</td>\n",
       "      <td>DS</td>\n",
       "      <td>Permanent</td>\n",
       "      <td>110000.0</td>\n",
       "    </tr>\n",
       "  </tbody>\n",
       "</table>\n",
       "<p>1569 rows × 5 columns</p>\n",
       "</div>"
      ],
      "text/plain": [
       "                                  industries   location title  type_empl  \\\n",
       "0     Information & Communication Technology   Brisbane    DA  Permanent   \n",
       "1     Information & Communication Technology   Brisbane   SDA   Contract   \n",
       "2     Information & Communication Technology   Brisbane    DA   Contract   \n",
       "3     Information & Communication Technology   Brisbane    DA   Contract   \n",
       "4     Information & Communication Technology   Brisbane   SDA   Contract   \n",
       "5     Information & Communication Technology   Brisbane    DA   Contract   \n",
       "6     Information & Communication Technology   Brisbane   SDA  Permanent   \n",
       "7     Information & Communication Technology   Brisbane    DA   Contract   \n",
       "8     Information & Communication Technology   Brisbane    DA   Contract   \n",
       "9     Information & Communication Technology   Brisbane    DA  Permanent   \n",
       "10    Information & Communication Technology   Brisbane    DA   Contract   \n",
       "11    Information & Communication Technology   Brisbane   JDA   Contract   \n",
       "12    Information & Communication Technology   Brisbane   SDA   Contract   \n",
       "13    Information & Communication Technology   Brisbane    DA   Contract   \n",
       "14    Information & Communication Technology   Brisbane    DA   Contract   \n",
       "15    Information & Communication Technology   Brisbane    DA   Contract   \n",
       "16    Information & Communication Technology   Brisbane    DA   Contract   \n",
       "17    Information & Communication Technology   Brisbane    DA   Contract   \n",
       "18    Information & Communication Technology   Brisbane    DA   Contract   \n",
       "19    Information & Communication Technology  Melbourne    DA  Permanent   \n",
       "20    Information & Communication Technology  Melbourne    DA   Contract   \n",
       "21    Information & Communication Technology  Melbourne    DA   Contract   \n",
       "22    Information & Communication Technology  Melbourne    DA  Permanent   \n",
       "23    Information & Communication Technology  Melbourne    DA  Permanent   \n",
       "24    Information & Communication Technology  Melbourne    DA   Contract   \n",
       "25    Information & Communication Technology  Melbourne    DA  Permanent   \n",
       "26    Information & Communication Technology  Melbourne    DA  Permanent   \n",
       "27    Information & Communication Technology  Melbourne    DA   Contract   \n",
       "28    Information & Communication Technology  Melbourne    DA   Contract   \n",
       "29    Information & Communication Technology  Melbourne    DA  Permanent   \n",
       "...                                      ...        ...   ...        ...   \n",
       "1539              Insurance & Superannuation   Brisbane    DA   Contract   \n",
       "1540              Insurance & Superannuation     Sydney    DA   Contract   \n",
       "1541              Insurance & Superannuation     Sydney    DA  Permanent   \n",
       "1542              Insurance & Superannuation     Sydney    DA  Permanent   \n",
       "1543              Insurance & Superannuation     Sydney   SDA  Permanent   \n",
       "1544              Insurance & Superannuation     Sydney   SDA  Permanent   \n",
       "1545              Insurance & Superannuation     Sydney   SDA  Permanent   \n",
       "1546              Insurance & Superannuation   Brisbane   SDA  Permanent   \n",
       "1547              Insurance & Superannuation  Melbourne    DA  Permanent   \n",
       "1548              Insurance & Superannuation  Melbourne    DA   Contract   \n",
       "1549              Insurance & Superannuation     Sydney    DA  Permanent   \n",
       "1550              Insurance & Superannuation     Sydney    DA  Permanent   \n",
       "1551              Insurance & Superannuation     Sydney    DA  Permanent   \n",
       "1552              Insurance & Superannuation     Sydney    DA  Permanent   \n",
       "1553              Insurance & Superannuation     Sydney    DA  Permanent   \n",
       "1554              Insurance & Superannuation     Sydney    DA  Permanent   \n",
       "1555              Insurance & Superannuation     Sydney    DA  Permanent   \n",
       "1556              Insurance & Superannuation     Sydney   SDA  Permanent   \n",
       "1557              Insurance & Superannuation     Sydney    DA  Permanent   \n",
       "1558              Insurance & Superannuation     Sydney    DA  Permanent   \n",
       "1559              Insurance & Superannuation     Sydney   SDA  Permanent   \n",
       "1560              Insurance & Superannuation     Sydney   SDA  Permanent   \n",
       "1561              Insurance & Superannuation     Sydney    DA   Contract   \n",
       "1562              Insurance & Superannuation     Sydney    DA  Permanent   \n",
       "1563              Insurance & Superannuation     Sydney    DA  Permanent   \n",
       "1564              Insurance & Superannuation     Sydney    DA  Permanent   \n",
       "1565              Insurance & Superannuation  Melbourne    DS  Permanent   \n",
       "1566              Insurance & Superannuation     Sydney    DS  Permanent   \n",
       "1567              Insurance & Superannuation     Sydney    DS   Contract   \n",
       "1568              Insurance & Superannuation     Sydney    DS  Permanent   \n",
       "\n",
       "          wage  \n",
       "0      85572.0  \n",
       "1      99961.0  \n",
       "2     174590.0  \n",
       "3     177450.0  \n",
       "4     173550.0  \n",
       "5     204750.0  \n",
       "6     135000.0  \n",
       "7      25220.0  \n",
       "8     202800.0  \n",
       "9     114999.0  \n",
       "10    185250.0  \n",
       "11     84825.0  \n",
       "12    216320.0  \n",
       "13    182325.0  \n",
       "14     82875.0  \n",
       "15     82875.0  \n",
       "16     82875.0  \n",
       "17     82875.0  \n",
       "18    143000.0  \n",
       "19    170000.0  \n",
       "20    110500.0  \n",
       "21    172250.0  \n",
       "22    120000.0  \n",
       "23    143000.0  \n",
       "24    162500.0  \n",
       "25     86578.0  \n",
       "26    125000.0  \n",
       "27    188500.0  \n",
       "28    175500.0  \n",
       "29     87499.0  \n",
       "...        ...  \n",
       "1539  182000.0  \n",
       "1540  120450.0  \n",
       "1541  112500.0  \n",
       "1542  107500.0  \n",
       "1543  114999.0  \n",
       "1544  115000.0  \n",
       "1545  104999.0  \n",
       "1546  144000.0  \n",
       "1547  115000.0  \n",
       "1548  115000.0  \n",
       "1549  115000.0  \n",
       "1550  115000.0  \n",
       "1551  115000.0  \n",
       "1552  115000.0  \n",
       "1553  115000.0  \n",
       "1554  115000.0  \n",
       "1555  115000.0  \n",
       "1556  144000.0  \n",
       "1557  115000.0  \n",
       "1558  115000.0  \n",
       "1559  144000.0  \n",
       "1560  144000.0  \n",
       "1561  115000.0  \n",
       "1562  115000.0  \n",
       "1563  115000.0  \n",
       "1564  115000.0  \n",
       "1565  110000.0  \n",
       "1566  110000.0  \n",
       "1567  110000.0  \n",
       "1568  110000.0  \n",
       "\n",
       "[1569 rows x 5 columns]"
      ]
     },
     "execution_count": 6,
     "metadata": {},
     "output_type": "execute_result"
    }
   ],
   "source": [
    "frame"
   ]
  },
  {
   "cell_type": "code",
   "execution_count": 7,
   "metadata": {
    "ExecuteTime": {
     "end_time": "2019-05-21T13:16:40.503381Z",
     "start_time": "2019-05-21T13:16:40.501382Z"
    }
   },
   "outputs": [],
   "source": [
    "# frame = frame[frame['wage'] > 10000]\n",
    "# frame.info()"
   ]
  },
  {
   "cell_type": "code",
   "execution_count": 8,
   "metadata": {
    "ExecuteTime": {
     "end_time": "2019-05-21T13:16:40.817633Z",
     "start_time": "2019-05-21T13:16:40.504380Z"
    }
   },
   "outputs": [
    {
     "data": {
      "text/plain": [
       "Text(0.5,0.98,'Distributions of content over the year')"
      ]
     },
     "execution_count": 8,
     "metadata": {},
     "output_type": "execute_result"
    },
    {
     "data": {
      "image/png": "[encoded data removed]",
      "text/plain": [
       "<Figure size 1440x720 with 1 Axes>"
      ]
     },
     "metadata": {},
     "output_type": "display_data"
    }
   ],
   "source": [
    "fig, ax = plt.subplots(1,1, figsize=(20,10))\n",
    "sns.set(style=\"whitegrid\", color_codes=True, font_scale=1.2)\n",
    "# sns.countplot(x='year', data=df_datetime, orient='h')\n",
    "sns.countplot(x='location',hue='title', data=frame, orient='h')\n",
    "fig.suptitle('Distributions of content over the year')\n",
    "# sns.barplot(x='title',y='wage',data=frame)"
   ]
  },
  {
   "cell_type": "code",
   "execution_count": 9,
   "metadata": {
    "ExecuteTime": {
     "end_time": "2019-05-21T13:16:41.162418Z",
     "start_time": "2019-05-21T13:16:40.819633Z"
    }
   },
   "outputs": [
    {
     "data": {
      "text/plain": [
       "Text(0.5,0.98,'Length of text for each title')"
      ]
     },
     "execution_count": 9,
     "metadata": {},
     "output_type": "execute_result"
    },
    {
     "data": {
      "image/png": "[encoded data removed]",
      "text/plain": [
       "<Figure size 1440x1080 with 1 Axes>"
      ]
     },
     "metadata": {},
     "output_type": "display_data"
    }
   ],
   "source": [
    "fig, ax = plt.subplots(1,1, figsize=(20,15))\n",
    "sns.boxplot(x='title' , y='wage', data=frame, orient='v',notch=True)\n",
    "fig.suptitle('Length of text for each title')"
   ]
  },
  {
   "cell_type": "code",
   "execution_count": 10,
   "metadata": {
    "ExecuteTime": {
     "end_time": "2019-05-21T13:16:41.262361Z",
     "start_time": "2019-05-21T13:16:41.164417Z"
    }
   },
   "outputs": [
    {
     "data": {
      "text/plain": [
       "<matplotlib.axes._subplots.AxesSubplot at 0x1bcd0117860>"
      ]
     },
     "execution_count": 10,
     "metadata": {},
     "output_type": "execute_result"
    },
    {
     "data": {
      "image/png": "[encoded data removed]",
      "text/plain": [
       "<Figure size 432x288 with 1 Axes>"
      ]
     },
     "metadata": {},
     "output_type": "display_data"
    }
   ],
   "source": [
    "sns.countplot(x='type_empl',data=frame)"
   ]
  },
  {
   "cell_type": "code",
   "execution_count": 11,
   "metadata": {
    "ExecuteTime": {
     "end_time": "2019-05-21T13:16:41.327324Z",
     "start_time": "2019-05-21T13:16:41.263361Z"
    }
   },
   "outputs": [
    {
     "data": {
      "text/plain": [
       "64.308476736775"
      ]
     },
     "execution_count": 11,
     "metadata": {},
     "output_type": "execute_result"
    }
   ],
   "source": [
    "frame['type_empl'].value_counts(normalize=True).max()*100"
   ]
  },
  {
   "cell_type": "code",
   "execution_count": 12,
   "metadata": {
    "ExecuteTime": {
     "end_time": "2019-05-21T13:16:41.342315Z",
     "start_time": "2019-05-21T13:16:41.328323Z"
    }
   },
   "outputs": [],
   "source": [
    "y = frame['wage'].values\n",
    "df_dummies = frame.copy()\n",
    "df_dummies.drop(labels=['wage'],axis=1,inplace=True)\n",
    "X = pd.get_dummies(df_dummies, prefix=df_dummies.columns, columns=df_dummies.columns)"
   ]
  },
  {
   "cell_type": "code",
   "execution_count": 13,
   "metadata": {
    "ExecuteTime": {
     "end_time": "2019-05-21T13:16:41.358306Z",
     "start_time": "2019-05-21T13:16:41.343315Z"
    }
   },
   "outputs": [
    {
     "name": "stdout",
     "output_type": "stream",
     "text": [
      "<class 'pandas.core.frame.DataFrame'>\n",
      "Int64Index: 3138 entries, 0 to 1568\n",
      "Data columns (total 22 columns):\n",
      "industries_Accounting                                1569 non-null float64\n",
      "industries_Banking & Financial Services              1569 non-null float64\n",
      "industries_Consulting & Strategy                     1569 non-null float64\n",
      "industries_Government & Defence                      1569 non-null float64\n",
      "industries_Information & Communication Technology    1569 non-null float64\n",
      "industries_Insurance & Superannuation                1569 non-null float64\n",
      "industries_Manufacturing, Transport & Logistics      1569 non-null float64\n",
      "industries_Marketing & Communications                1569 non-null float64\n",
      "industries_Sales                                     1569 non-null float64\n",
      "industries_Science & Technology                      1569 non-null float64\n",
      "location_Brisbane                                    1569 non-null float64\n",
      "location_Melbourne                                   1569 non-null float64\n",
      "location_Sydney                                      1569 non-null float64\n",
      "title_DA                                             1569 non-null float64\n",
      "title_DS                                             1569 non-null float64\n",
      "title_JDA                                            1569 non-null float64\n",
      "title_JDS                                            1569 non-null float64\n",
      "title_SDA                                            1569 non-null float64\n",
      "title_SDS                                            1569 non-null float64\n",
      "type_empl_Contract                                   1569 non-null float64\n",
      "type_empl_Permanent                                  1569 non-null float64\n",
      "wage                                                 1569 non-null float64\n",
      "dtypes: float64(22)\n",
      "memory usage: 563.9 KB\n"
     ]
    },
    {
     "name": "stderr",
     "output_type": "stream",
     "text": [
      "C:\\Users\\Shaynie\\Anaconda3\\lib\\site-packages\\ipykernel_launcher.py:2: FutureWarning: Sorting because non-concatenation axis is not aligned. A future version\n",
      "of pandas will change to not sort by default.\n",
      "\n",
      "To accept the future behavior, pass 'sort=True'.\n",
      "\n",
      "To retain the current behavior and silence the warning, pass sort=False\n",
      "\n",
      "  \n"
     ]
    }
   ],
   "source": [
    "y_temp = pd.DataFrame(y,columns=['wage'])\n",
    "df_temp = pd.concat([X,y_temp])\n",
    "df_temp.info()"
   ]
  },
  {
   "cell_type": "code",
   "execution_count": 14,
   "metadata": {
    "ExecuteTime": {
     "end_time": "2019-05-21T13:16:41.369300Z",
     "start_time": "2019-05-21T13:16:41.360306Z"
    }
   },
   "outputs": [
    {
     "data": {
      "text/plain": [
       "((1176, 21), (393, 21))"
      ]
     },
     "execution_count": 14,
     "metadata": {},
     "output_type": "execute_result"
    }
   ],
   "source": [
    "X_train, X_test, y_train, y_test = train_test_split(X, y, test_size=0.25 )\n",
    "X_train.shape, X_test.shape"
   ]
  },
  {
   "cell_type": "markdown",
   "metadata": {},
   "source": [
    "## Linear"
   ]
  },
  {
   "cell_type": "code",
   "execution_count": 15,
   "metadata": {
    "ExecuteTime": {
     "end_time": "2019-05-21T13:16:41.380294Z",
     "start_time": "2019-05-21T13:16:41.371299Z"
    }
   },
   "outputs": [
    {
     "name": "stdout",
     "output_type": "stream",
     "text": [
      "formula: y = 1.4364557053118966e+18x + -9.634067524513705e+17\n"
     ]
    }
   ],
   "source": [
    "lm = LinearRegression()\n",
    "lm_model = lm.fit(X_train,y_train)\n",
    "m = lm_model.coef_[0]\n",
    "b = lm_model.intercept_\n",
    "\n",
    "print(\"formula: y = {}x + {}\".format(m,b))"
   ]
  },
  {
   "cell_type": "code",
   "execution_count": 16,
   "metadata": {
    "ExecuteTime": {
     "end_time": "2019-05-21T13:16:41.388290Z",
     "start_time": "2019-05-21T13:16:41.382293Z"
    }
   },
   "outputs": [
    {
     "name": "stdout",
     "output_type": "stream",
     "text": [
      "Our score:  0.19481172290148907\n",
      "Variance score:  0.19481172290148907\n",
      "Mean square error:  551175605.346056\n"
     ]
    }
   ],
   "source": [
    "y_pred = lm_model.predict(X_test)\n",
    "print(\"Our score: \", lm_model.score(X_test, y_test))\n",
    "print(\"Variance score: \", r2_score(y_test, y_pred))\n",
    "print(\"Mean square error: \",mean_squared_error(y_test, y_pred))"
   ]
  },
  {
   "cell_type": "code",
   "execution_count": 17,
   "metadata": {
    "ExecuteTime": {
     "end_time": "2019-05-21T13:16:41.394285Z",
     "start_time": "2019-05-21T13:16:41.389289Z"
    }
   },
   "outputs": [
    {
     "data": {
      "text/plain": [
       "((393,), (393,))"
      ]
     },
     "execution_count": 17,
     "metadata": {},
     "output_type": "execute_result"
    }
   ],
   "source": [
    "y_test.shape, y_pred.shape"
   ]
  },
  {
   "cell_type": "code",
   "execution_count": 18,
   "metadata": {
    "ExecuteTime": {
     "end_time": "2019-05-21T13:16:41.404280Z",
     "start_time": "2019-05-21T13:16:41.396286Z"
    }
   },
   "outputs": [
    {
     "name": "stderr",
     "output_type": "stream",
     "text": [
      "C:\\Users\\Shaynie\\Anaconda3\\lib\\site-packages\\sklearn\\utils\\validation.py:595: DataConversionWarning: Data with input dtype uint8 was converted to float64 by StandardScaler.\n",
      "  warnings.warn(msg, DataConversionWarning)\n",
      "C:\\Users\\Shaynie\\Anaconda3\\lib\\site-packages\\sklearn\\utils\\validation.py:595: DataConversionWarning: Data with input dtype uint8 was converted to float64 by StandardScaler.\n",
      "  warnings.warn(msg, DataConversionWarning)\n"
     ]
    }
   ],
   "source": [
    "ss = StandardScaler()\n",
    "Xs = ss.fit_transform(X.values)"
   ]
  },
  {
   "cell_type": "code",
   "execution_count": 19,
   "metadata": {
    "ExecuteTime": {
     "end_time": "2019-05-21T13:16:41.411277Z",
     "start_time": "2019-05-21T13:16:41.406280Z"
    }
   },
   "outputs": [
    {
     "data": {
      "text/plain": [
       "((1176, 21), (393, 21))"
      ]
     },
     "execution_count": 19,
     "metadata": {},
     "output_type": "execute_result"
    }
   ],
   "source": [
    "X_train, X_test, y_train, y_test = train_test_split(Xs, y, test_size=0.25 )\n",
    "X_train.shape, X_test.shape"
   ]
  },
  {
   "cell_type": "code",
   "execution_count": 20,
   "metadata": {
    "ExecuteTime": {
     "end_time": "2019-05-21T13:16:41.422270Z",
     "start_time": "2019-05-21T13:16:41.413275Z"
    }
   },
   "outputs": [
    {
     "name": "stdout",
     "output_type": "stream",
     "text": [
      "formula: y = 4.397728724018863e+16x + 122505.99659863945\n",
      "Our score:  0.21840196165004466\n",
      "Variance score:  0.21840196165004466\n",
      "Mean square error:  1000214413.5802509\n"
     ]
    }
   ],
   "source": [
    "lm2 = LinearRegression()\n",
    "lm2_model = lm.fit(X_train,y_train)\n",
    "m = lm2_model.coef_[0]\n",
    "b = lm2_model.intercept_\n",
    "\n",
    "print(\"formula: y = {}x + {}\".format(m,b))\n",
    "y_pred = lm2_model.predict(X_test)\n",
    "print(\"Our score: \", lm2_model.score(X_test, y_test))\n",
    "print(\"Variance score: \", r2_score(y_test, y_pred))\n",
    "print(\"Mean square error: \",mean_squared_error(y_test, y_pred))"
   ]
  },
  {
   "cell_type": "code",
   "execution_count": 21,
   "metadata": {
    "ExecuteTime": {
     "end_time": "2019-05-21T13:16:41.428266Z",
     "start_time": "2019-05-21T13:16:41.423270Z"
    }
   },
   "outputs": [
    {
     "data": {
      "text/plain": [
       "((393,), (393,))"
      ]
     },
     "execution_count": 21,
     "metadata": {},
     "output_type": "execute_result"
    }
   ],
   "source": [
    "y_test.shape, y_pred.shape"
   ]
  },
  {
   "cell_type": "code",
   "execution_count": 22,
   "metadata": {
    "ExecuteTime": {
     "end_time": "2019-05-21T13:16:41.753085Z",
     "start_time": "2019-05-21T13:16:41.429266Z"
    }
   },
   "outputs": [
    {
     "data": {
      "image/png": "[encoded data removed]",
      "text/plain": [
       "<Figure size 360x360 with 1 Axes>"
      ]
     },
     "metadata": {},
     "output_type": "display_data"
    }
   ],
   "source": [
    "columns=['Act_Value','Pred_Value']\n",
    "helper = pd.DataFrame([np.array(y_test),y_pred])\n",
    "helper = helper.transpose()\n",
    "helper.columns = columns\n",
    "\n",
    "sns.lmplot(x='Act_Value', y='Pred_Value', data = helper);\n",
    "ax = plt.gca()\n",
    "ax.set_title(\"Linear Regression Model\");\n"
   ]
  },
  {
   "cell_type": "code",
   "execution_count": 23,
   "metadata": {
    "ExecuteTime": {
     "end_time": "2019-05-21T13:16:42.158351Z",
     "start_time": "2019-05-21T13:16:41.754085Z"
    }
   },
   "outputs": [
    {
     "name": "stderr",
     "output_type": "stream",
     "text": [
      "C:\\Users\\Shaynie\\Anaconda3\\lib\\site-packages\\sklearn\\linear_model\\logistic.py:433: FutureWarning: Default solver will be changed to 'lbfgs' in 0.22. Specify a solver to silence this warning.\n",
      "  FutureWarning)\n",
      "C:\\Users\\Shaynie\\Anaconda3\\lib\\site-packages\\sklearn\\linear_model\\logistic.py:460: FutureWarning: Default multi_class will be changed to 'auto' in 0.22. Specify the multi_class option to silence this warning.\n",
      "  \"this warning.\", FutureWarning)\n"
     ]
    },
    {
     "data": {
      "text/plain": [
       "LogisticRegression(C=1.0, class_weight=None, dual=False, fit_intercept=True,\n",
       "          intercept_scaling=1, max_iter=100, multi_class='warn',\n",
       "          n_jobs=None, penalty='l2', random_state=None, solver='warn',\n",
       "          tol=0.0001, verbose=0, warm_start=False)"
      ]
     },
     "execution_count": 23,
     "metadata": {},
     "output_type": "execute_result"
    }
   ],
   "source": [
    "logreg = LogisticRegression()\n",
    "logreg.fit(X_train, y_train)"
   ]
  },
  {
   "cell_type": "code",
   "execution_count": 24,
   "metadata": {
    "ExecuteTime": {
     "end_time": "2019-05-21T13:16:42.169343Z",
     "start_time": "2019-05-21T13:16:42.160348Z"
    }
   },
   "outputs": [
    {
     "data": {
      "text/plain": [
       "0.7175572519083969"
      ]
     },
     "execution_count": 24,
     "metadata": {},
     "output_type": "execute_result"
    }
   ],
   "source": [
    "logreg.score(X_test, y_test)"
   ]
  },
  {
   "cell_type": "code",
   "execution_count": 25,
   "metadata": {
    "ExecuteTime": {
     "end_time": "2019-05-21T13:16:42.175340Z",
     "start_time": "2019-05-21T13:16:42.170342Z"
    }
   },
   "outputs": [],
   "source": [
    "y_pred = logreg.predict(X_test)"
   ]
  },
  {
   "cell_type": "code",
   "execution_count": 26,
   "metadata": {
    "ExecuteTime": {
     "end_time": "2019-05-21T13:16:42.476168Z",
     "start_time": "2019-05-21T13:16:42.176340Z"
    }
   },
   "outputs": [
    {
     "data": {
      "image/png": "[encoded data removed]",
      "text/plain": [
       "<Figure size 360x360 with 1 Axes>"
      ]
     },
     "metadata": {},
     "output_type": "display_data"
    }
   ],
   "source": [
    "columns=['Act_Value','Pred_Value']\n",
    "helper = pd.DataFrame([np.array(y_test),y_pred])\n",
    "helper = helper.transpose()\n",
    "helper.columns = columns\n",
    "\n",
    "sns.lmplot(x='Act_Value', y='Pred_Value', data = helper);\n",
    "ax = plt.gca()\n",
    "ax.set_title(\"Logistic Regression Model\");"
   ]
  },
  {
   "cell_type": "markdown",
   "metadata": {},
   "source": [
    "## PCA & Clustering"
   ]
  },
  {
   "cell_type": "code",
   "execution_count": 27,
   "metadata": {
    "ExecuteTime": {
     "end_time": "2019-05-21T13:16:51.443419Z",
     "start_time": "2019-05-21T13:16:42.477168Z"
    }
   },
   "outputs": [
    {
     "name": "stderr",
     "output_type": "stream",
     "text": [
      "C:\\Users\\Shaynie\\Anaconda3\\lib\\site-packages\\ipykernel_launcher.py:5: FutureWarning: Method .as_matrix will be removed in a future version. Use .values instead.\n",
      "  \"\"\"\n"
     ]
    },
    {
     "name": "stdout",
     "output_type": "stream",
     "text": [
      "[[0.00000000e+00 9.00000000e+00 0.00000000e+00 2.00000000e+00]\n",
      " [1.00000000e+00 4.00000000e+00 0.00000000e+00 2.00000000e+00]\n",
      " [2.00000000e+00 3.00000000e+00 0.00000000e+00 2.00000000e+00]\n",
      " ...\n",
      " [3.12900000e+03 3.13300000e+03 2.38150821e+01 6.58000000e+02]\n",
      " [3.13100000e+03 3.13200000e+03 2.76072005e+01 9.11000000e+02]\n",
      " [3.13400000e+03 3.13500000e+03 3.54852147e+01 1.56900000e+03]]\n"
     ]
    },
    {
     "data": {
      "image/png": "[encoded data removed]",
      "text/plain": [
       "<Figure size 432x288 with 1 Axes>"
      ]
     },
     "metadata": {},
     "output_type": "display_data"
    }
   ],
   "source": [
    "## Dendograme\n",
    "def plot_dendogram(df):\n",
    "    \n",
    "    # Data prep\n",
    "    X = df.as_matrix(columns=None)\n",
    "    Z = linkage(X, 'ward')\n",
    "    print(Z)\n",
    "    \n",
    "    # plotting\n",
    "    plt.title('Dendrogram')\n",
    "    plt.xlabel('Index Numbers')\n",
    "    plt.ylabel('Distance')\n",
    "    dendrogram(\n",
    "        Z,\n",
    "        leaf_rotation=90.,  \n",
    "        leaf_font_size=8.,\n",
    "    )\n",
    "    plt.show()\n",
    "    \n",
    "    \n",
    "plot_dendogram(X)"
   ]
  },
  {
   "cell_type": "code",
   "execution_count": 34,
   "metadata": {
    "ExecuteTime": {
     "end_time": "2019-05-21T13:19:44.673715Z",
     "start_time": "2019-05-21T13:19:44.667729Z"
    }
   },
   "outputs": [],
   "source": [
    "sns.set_style(\"darkgrid\")\n",
    "import matplotlib.patches as mpatches\n",
    "from matplotlib.colors import ListedColormap\n",
    "import matplotlib.cm as cm\n",
    "\n",
    "def plot_dist_thresh(max_dist=200):\n",
    "    # max_dist = 200 # pairwise distance\n",
    "    # plot_dendogram(lang)\n",
    "    clusters = fcluster(Z, max_dist, criterion='distance')\n",
    "    \n",
    "    print((\"Clusters represented at distance: \", set(clusters)))\n",
    "    \n",
    "    # Complete color maps from matplotlib\n",
    "    \n",
    "    # plotting\n",
    "    # Add legend with some customizations.\n",
    "    \n",
    "    fig, ax = plt.subplots(1, 1, figsize=(10, 4))\n",
    "\n",
    "#     ax[0].scatter(X[:,0], X[:,6], c=clusters, cmap=cm.jet, s=40)\n",
    "\n",
    "#     ax[0].set_title(\"Max Dist: %d\" % max_dist)\n",
    "    \n",
    "#     # plt.legend(clusters, loc='upper right', shadow=True, scatterpoints=1)\n",
    "    \n",
    "#     ax[0].legend(['c{}'.format(i) for i in range(len(clusters))], loc=2, bbox_to_anchor=(1.05, 1), borderaxespad=0., fontsize=11)\n",
    "        \n",
    "    t = (0, max_dist)\n",
    "    ax.plot((0, 200), (max_dist, max_dist), 'r--')\n",
    "    \n",
    "    ax.set_title('Dendrogram')\n",
    "    ax.set_xlabel('Index Numbers')\n",
    "    ax.set_ylabel('Distance')\n",
    "    dendrogram(\n",
    "        Z,\n",
    "        leaf_rotation=90.,  \n",
    "        leaf_font_size=8.,\n",
    "        #link_color_func=lambda color: cmaps['Miscellaneous'],\n",
    "    )\n",
    "    \n",
    "def plot_wrapper(max_dist):\n",
    "    plot_dist_thresh(max_dist)\n",
    "    plt.show()"
   ]
  },
  {
   "cell_type": "code",
   "execution_count": 35,
   "metadata": {
    "ExecuteTime": {
     "end_time": "2019-05-21T13:20:18.984975Z",
     "start_time": "2019-05-21T13:19:45.180476Z"
    }
   },
   "outputs": [
    {
     "name": "stdout",
     "output_type": "stream",
     "text": [
      "('Clusters represented at distance: ', {1, 2})\n",
      "('Clusters represented at distance: ', {1, 2, 3, 4})\n",
      "('Clusters represented at distance: ', {1, 2, 3, 4, 5, 6})\n"
     ]
    },
    {
     "data": {
      "image/png": "[encoded data removed]",
      "text/plain": [
       "<Figure size 720x288 with 1 Axes>"
      ]
     },
     "metadata": {},
     "output_type": "display_data"
    },
    {
     "data": {
      "image/png": "[encoded data removed]",
      "text/plain": [
       "<Figure size 720x288 with 1 Axes>"
      ]
     },
     "metadata": {},
     "output_type": "display_data"
    },
    {
     "data": {
      "image/png": "[encoded data removed]",
      "text/plain": [
       "<Figure size 720x288 with 1 Axes>"
      ]
     },
     "metadata": {},
     "output_type": "display_data"
    }
   ],
   "source": [
    "Z = linkage(X, 'ward')\n",
    "plot_dist_thresh(30)\n",
    "plot_dist_thresh(23)\n",
    "plot_dist_thresh(17)"
   ]
  },
  {
   "cell_type": "code",
   "execution_count": 36,
   "metadata": {
    "ExecuteTime": {
     "end_time": "2019-05-21T13:20:37.288573Z",
     "start_time": "2019-05-21T13:20:37.243599Z"
    }
   },
   "outputs": [
    {
     "name": "stdout",
     "output_type": "stream",
     "text": [
      "('Predicted clusters to points: ', array([0, 1, 1, ..., 2, 1, 2]))\n",
      "Location of centroids: \n",
      "[[ 1.13953488e-01  6.74418605e-02  2.79069767e-02  5.58139535e-02\n",
      "   4.72093023e-01  6.97674419e-03  4.65116279e-02  9.30232558e-02\n",
      "   4.41860465e-02  7.20930233e-02  2.46511628e-01  7.53488372e-01\n",
      "   4.21884749e-15  6.76744186e-01  1.51162791e-01  1.86046512e-02\n",
      "   2.32558140e-03  1.27906977e-01  2.32558140e-02  2.44249065e-15\n",
      "   1.00000000e+00]\n",
      " [ 4.46428571e-02  4.46428571e-02  1.42857143e-02  2.50000000e-02\n",
      "   7.91071429e-01  8.92857143e-03  1.60714286e-02  2.50000000e-02\n",
      "   7.14285714e-03  2.32142857e-02  1.62500000e-01  3.12500000e-01\n",
      "   5.25000000e-01  6.92857143e-01  6.96428571e-02  1.96428571e-02\n",
      "   1.78571429e-03  2.01785714e-01  1.42857143e-02  1.00000000e+00\n",
      "   5.32907052e-15]\n",
      " [ 8.63557858e-02  1.36442142e-01  5.00863558e-02  3.62694301e-02\n",
      "   4.38687392e-01  3.79965458e-02  4.14507772e-02  8.98100173e-02\n",
      "   3.45423143e-02  4.83592401e-02 -5.55111512e-16  2.66453526e-15\n",
      "   1.00000000e+00  6.66666667e-01  1.24352332e-01  1.03626943e-02\n",
      "   8.89045781e-18  1.72711572e-01  2.59067358e-02  2.60902411e-15\n",
      "   1.00000000e+00]]\n"
     ]
    }
   ],
   "source": [
    "cluster_kmean = KMeans(n_clusters=3, random_state=0).fit(X)\n",
    "\n",
    "predicted = cluster_kmean.labels_\n",
    "centroids = cluster_kmean.cluster_centers_\n",
    "\n",
    "print((\"Predicted clusters to points: \", predicted))\n",
    "print(\"Location of centroids: \")\n",
    "print(centroids)"
   ]
  },
  {
   "cell_type": "markdown",
   "metadata": {},
   "source": [
    "## Ensemble methods & Decision Tree Models"
   ]
  },
  {
   "cell_type": "code",
   "execution_count": 37,
   "metadata": {
    "ExecuteTime": {
     "end_time": "2019-05-21T13:20:37.635396Z",
     "start_time": "2019-05-21T13:20:37.594418Z"
    }
   },
   "outputs": [
    {
     "name": "stderr",
     "output_type": "stream",
     "text": [
      "C:\\Users\\Shaynie\\Anaconda3\\lib\\site-packages\\sklearn\\model_selection\\_split.py:652: Warning: The least populated class in y has only 1 members, which is too few. The minimum number of members in any class cannot be less than n_splits=5.\n",
      "  % (min_groups, self.n_splits)), Warning)\n"
     ]
    },
    {
     "data": {
      "text/plain": [
       "0.7390516014786861"
      ]
     },
     "execution_count": 37,
     "metadata": {},
     "output_type": "execute_result"
    }
   ],
   "source": [
    "## DecisionTree\n",
    "dt = DecisionTreeClassifier()\n",
    "\n",
    "cross_val_score(dt, X_train, y_train, cv=5).mean()"
   ]
  },
  {
   "cell_type": "code",
   "execution_count": 38,
   "metadata": {
    "ExecuteTime": {
     "end_time": "2019-05-21T13:20:37.787308Z",
     "start_time": "2019-05-21T13:20:37.780312Z"
    }
   },
   "outputs": [
    {
     "data": {
      "text/plain": [
       "0.766156462585034"
      ]
     },
     "execution_count": 38,
     "metadata": {},
     "output_type": "execute_result"
    }
   ],
   "source": [
    "dt.fit(X_train, y_train)\n",
    "dt.score(X_train,y_train)"
   ]
  },
  {
   "cell_type": "code",
   "execution_count": 39,
   "metadata": {
    "ExecuteTime": {
     "end_time": "2019-05-21T13:20:37.960398Z",
     "start_time": "2019-05-21T13:20:37.955391Z"
    }
   },
   "outputs": [
    {
     "data": {
      "text/plain": [
       "0.6946564885496184"
      ]
     },
     "execution_count": 39,
     "metadata": {},
     "output_type": "execute_result"
    }
   ],
   "source": [
    "dt.score(X_test, y_test)"
   ]
  },
  {
   "cell_type": "code",
   "execution_count": 40,
   "metadata": {
    "ExecuteTime": {
     "end_time": "2019-05-21T13:21:17.761952Z",
     "start_time": "2019-05-21T13:20:38.140372Z"
    }
   },
   "outputs": [
    {
     "data": {
      "text/plain": [
       "0.766156462585034"
      ]
     },
     "execution_count": 40,
     "metadata": {},
     "output_type": "execute_result"
    }
   ],
   "source": [
    "## BaggingClassifier\n",
    "bag = BaggingClassifier(n_estimators=10000)\n",
    "\n",
    "bag.fit(X_train, y_train)\n",
    "bag.score(X_train, y_train)"
   ]
  },
  {
   "cell_type": "code",
   "execution_count": 41,
   "metadata": {
    "ExecuteTime": {
     "end_time": "2019-05-21T13:21:21.753883Z",
     "start_time": "2019-05-21T13:21:17.764950Z"
    }
   },
   "outputs": [
    {
     "data": {
      "text/plain": [
       "0.7022900763358778"
      ]
     },
     "execution_count": 41,
     "metadata": {},
     "output_type": "execute_result"
    }
   ],
   "source": [
    "bag.score(X_test, y_test)"
   ]
  },
  {
   "cell_type": "code",
   "execution_count": 42,
   "metadata": {
    "ExecuteTime": {
     "end_time": "2019-05-21T13:21:54.734719Z",
     "start_time": "2019-05-21T13:21:21.755882Z"
    }
   },
   "outputs": [
    {
     "data": {
      "text/plain": [
       "0.766156462585034"
      ]
     },
     "execution_count": 42,
     "metadata": {},
     "output_type": "execute_result"
    }
   ],
   "source": [
    "## RandomforestClassication\n",
    "rfc = RandomForestClassifier(n_estimators=10000)\n",
    "\n",
    "rfc.fit(X_train, y_train)\n",
    "rfc.score(X_train, y_train)"
   ]
  },
  {
   "cell_type": "code",
   "execution_count": 43,
   "metadata": {
    "ExecuteTime": {
     "end_time": "2019-05-21T13:21:59.292631Z",
     "start_time": "2019-05-21T13:21:54.736718Z"
    }
   },
   "outputs": [
    {
     "data": {
      "text/plain": [
       "0.7048346055979644"
      ]
     },
     "execution_count": 43,
     "metadata": {},
     "output_type": "execute_result"
    }
   ],
   "source": [
    "rfc.score(X_test, y_test)"
   ]
  },
  {
   "cell_type": "code",
   "execution_count": 44,
   "metadata": {
    "ExecuteTime": {
     "end_time": "2019-05-21T13:22:38.353102Z",
     "start_time": "2019-05-21T13:21:59.294630Z"
    }
   },
   "outputs": [
    {
     "data": {
      "text/plain": [
       "0.766156462585034"
      ]
     },
     "execution_count": 44,
     "metadata": {},
     "output_type": "execute_result"
    }
   ],
   "source": [
    "## ExtraTrees Classification\n",
    "et = ExtraTreesClassifier(n_estimators=10000)\n",
    "\n",
    "et.fit(X_train, y_train)\n",
    "et.score(X_train, y_train)"
   ]
  },
  {
   "cell_type": "code",
   "execution_count": 45,
   "metadata": {
    "ExecuteTime": {
     "end_time": "2019-05-21T13:22:43.666890Z",
     "start_time": "2019-05-21T13:22:38.356094Z"
    }
   },
   "outputs": [
    {
     "data": {
      "text/plain": [
       "0.6946564885496184"
      ]
     },
     "execution_count": 45,
     "metadata": {},
     "output_type": "execute_result"
    }
   ],
   "source": [
    "et.score(X_test, y_test)"
   ]
  },
  {
   "cell_type": "markdown",
   "metadata": {},
   "source": [
    "## SVM"
   ]
  },
  {
   "cell_type": "code",
   "execution_count": 46,
   "metadata": {
    "ExecuteTime": {
     "end_time": "2019-05-21T13:22:43.677899Z",
     "start_time": "2019-05-21T13:22:43.669888Z"
    }
   },
   "outputs": [],
   "source": [
    "def plot_svm(clf):\n",
    "    plt.scatter(X.iloc[:, 0], X.iloc[:, 1], c=y, s=30, cmap=plt.cm.Paired)\n",
    "\n",
    "    # plot the decision function\n",
    "    ax = plt.gca()\n",
    "    xlim = ax.get_xlim()\n",
    "    ylim = ax.get_ylim()\n",
    "    \n",
    "    x_min, x_max = X.iloc[:, 0].min() - 1, X.iloc[:, 0].max() + 1\n",
    "    y_min, y_max = X.iloc[:, 1].min() - 1, X.iloc[:, 1].max() + 1\n",
    "    xx2, yy2 = np.meshgrid(np.arange(x_min, x_max, .2),\n",
    "                         np.arange(y_min, y_max, .2))\n",
    "\n",
    "    # create grid to evaluate model\n",
    "    xy = np.vstack([xx2.ravel(), yy2.ravel()]).T\n",
    "    Z = clf.decision_function(xy).reshape(xx2.shape)\n",
    "\n",
    "    # plot decision boundary and margins\n",
    "    ax.contourf(xx2, yy2, Z, cmap=plt.cm.binary, alpha=0.2)\n",
    "    ax.contour(xx2, yy2, Z, colors='k', levels=[-1, 0, 1], alpha=0.8,\n",
    "               linestyles=['--', '-', '--'])\n",
    "    # plot support vectors\n",
    "    if not isinstance(clf, LinearSVC):\n",
    "        ax.scatter(clf.support_vectors_[:, 0], clf.support_vectors_[:, 1], s=150,\n",
    "               linewidth=1, facecolors='none', edgecolors='k')\n",
    "        print (clf.support_vectors_)\n",
    "        \n",
    "    plt.show()\n",
    "    "
   ]
  },
  {
   "cell_type": "code",
   "execution_count": 47,
   "metadata": {
    "ExecuteTime": {
     "end_time": "2019-05-21T13:22:43.698871Z",
     "start_time": "2019-05-21T13:22:43.681881Z"
    }
   },
   "outputs": [
    {
     "ename": "SyntaxError",
     "evalue": "invalid syntax (<ipython-input-47-8b733072b298>, line 1)",
     "output_type": "error",
     "traceback": [
      "\u001b[1;36m  File \u001b[1;32m\"<ipython-input-47-8b733072b298>\"\u001b[1;36m, line \u001b[1;32m1\u001b[0m\n\u001b[1;33m    fsd=\u001b[0m\n\u001b[1;37m        ^\u001b[0m\n\u001b[1;31mSyntaxError\u001b[0m\u001b[1;31m:\u001b[0m invalid syntax\n"
     ]
    }
   ],
   "source": [
    "fsd="
   ]
  },
  {
   "cell_type": "code",
   "execution_count": 49,
   "metadata": {
    "ExecuteTime": {
     "end_time": "2019-05-21T13:23:48.822954Z",
     "start_time": "2019-05-21T13:23:48.815959Z"
    }
   },
   "outputs": [],
   "source": [
    "def plot_svm(clf):\n",
    "    plt.scatter(X.iloc[:, 0], X.iloc[:, 1], c=y, s=30, cmap=plt.cm.Paired)\n",
    "\n",
    "    # plot the decision function\n",
    "    ax = plt.gca()\n",
    "    xlim = ax.get_xlim()\n",
    "    ylim = ax.get_ylim()\n",
    "    \n",
    "    x_min, x_max = X.iloc[:, 0].min() - 1, X.iloc[:, 0].max() + 1\n",
    "    y_min, y_max = X.iloc[:, 1].min() - 1, X.iloc[:, 1].max() + 1\n",
    "    xx2, yy2 = np.meshgrid(np.arange(x_min, x_max, .2),\n",
    "                         np.arange(y_min, y_max, .2))\n",
    "\n",
    "    # create grid to evaluate model\n",
    "    xy = np.vstack([xx2.ravel(), yy2.ravel()]).T\n",
    "    Z = clf.decision_function(xy).reshape(xx2.shape)\n",
    "\n",
    "    # plot decision boundary and margins\n",
    "    ax.contourf(xx2, yy2, Z, cmap=plt.cm.binary, alpha=0.2)\n",
    "    ax.contour(xx2, yy2, Z, colors='k', levels=[-1, 0, 1], alpha=0.8,\n",
    "               linestyles=['--', '-', '--'])\n",
    "    # plot support vectors\n",
    "    if not isinstance(clf, LinearSVC):\n",
    "        ax.scatter(clf.support_vectors_[:, 0], clf.support_vectors_[:, 1], s=150,\n",
    "               linewidth=1, facecolors='none', edgecolors='k')\n",
    "        print (clf.support_vectors_)\n",
    "        \n",
    "    plt.show()\n",
    "    "
   ]
  },
  {
   "cell_type": "code",
   "execution_count": 50,
   "metadata": {
    "ExecuteTime": {
     "end_time": "2019-05-21T13:23:50.942566Z",
     "start_time": "2019-05-21T13:23:49.449741Z"
    }
   },
   "outputs": [
    {
     "ename": "ValueError",
     "evalue": "X.shape[1] = 2 should be equal to 21, the number of features at training time",
     "output_type": "error",
     "traceback": [
      "\u001b[1;31m---------------------------------------------------------------------------\u001b[0m",
      "\u001b[1;31mValueError\u001b[0m                                Traceback (most recent call last)",
      "\u001b[1;32m<ipython-input-50-0a297e09e1ec>\u001b[0m in \u001b[0;36m<module>\u001b[1;34m()\u001b[0m\n\u001b[0;32m      1\u001b[0m \u001b[0msv\u001b[0m \u001b[1;33m=\u001b[0m \u001b[0mSVC\u001b[0m\u001b[1;33m(\u001b[0m\u001b[0mkernel\u001b[0m\u001b[1;33m=\u001b[0m\u001b[1;34m'linear'\u001b[0m\u001b[1;33m,\u001b[0m \u001b[0mC\u001b[0m\u001b[1;33m=\u001b[0m\u001b[1;36m10000\u001b[0m\u001b[1;33m)\u001b[0m\u001b[1;33m\u001b[0m\u001b[0m\n\u001b[0;32m      2\u001b[0m \u001b[0msv\u001b[0m\u001b[1;33m.\u001b[0m\u001b[0mfit\u001b[0m\u001b[1;33m(\u001b[0m\u001b[0mX\u001b[0m\u001b[1;33m,\u001b[0m \u001b[0my\u001b[0m\u001b[1;33m)\u001b[0m\u001b[1;33m\u001b[0m\u001b[0m\n\u001b[1;32m----> 3\u001b[1;33m \u001b[0mplot_svm\u001b[0m\u001b[1;33m(\u001b[0m\u001b[0msv\u001b[0m\u001b[1;33m)\u001b[0m\u001b[1;33m\u001b[0m\u001b[0m\n\u001b[0m",
      "\u001b[1;32m<ipython-input-49-bcd00dc39586>\u001b[0m in \u001b[0;36mplot_svm\u001b[1;34m(clf)\u001b[0m\n\u001b[0;32m     14\u001b[0m     \u001b[1;31m# create grid to evaluate model\u001b[0m\u001b[1;33m\u001b[0m\u001b[1;33m\u001b[0m\u001b[0m\n\u001b[0;32m     15\u001b[0m     \u001b[0mxy\u001b[0m \u001b[1;33m=\u001b[0m \u001b[0mnp\u001b[0m\u001b[1;33m.\u001b[0m\u001b[0mvstack\u001b[0m\u001b[1;33m(\u001b[0m\u001b[1;33m[\u001b[0m\u001b[0mxx2\u001b[0m\u001b[1;33m.\u001b[0m\u001b[0mravel\u001b[0m\u001b[1;33m(\u001b[0m\u001b[1;33m)\u001b[0m\u001b[1;33m,\u001b[0m \u001b[0myy2\u001b[0m\u001b[1;33m.\u001b[0m\u001b[0mravel\u001b[0m\u001b[1;33m(\u001b[0m\u001b[1;33m)\u001b[0m\u001b[1;33m]\u001b[0m\u001b[1;33m)\u001b[0m\u001b[1;33m.\u001b[0m\u001b[0mT\u001b[0m\u001b[1;33m\u001b[0m\u001b[0m\n\u001b[1;32m---> 16\u001b[1;33m     \u001b[0mZ\u001b[0m \u001b[1;33m=\u001b[0m \u001b[0mclf\u001b[0m\u001b[1;33m.\u001b[0m\u001b[0mdecision_function\u001b[0m\u001b[1;33m(\u001b[0m\u001b[0mxy\u001b[0m\u001b[1;33m)\u001b[0m\u001b[1;33m.\u001b[0m\u001b[0mreshape\u001b[0m\u001b[1;33m(\u001b[0m\u001b[0mxx2\u001b[0m\u001b[1;33m.\u001b[0m\u001b[0mshape\u001b[0m\u001b[1;33m)\u001b[0m\u001b[1;33m\u001b[0m\u001b[0m\n\u001b[0m\u001b[0;32m     17\u001b[0m \u001b[1;33m\u001b[0m\u001b[0m\n\u001b[0;32m     18\u001b[0m     \u001b[1;31m# plot decision boundary and margins\u001b[0m\u001b[1;33m\u001b[0m\u001b[1;33m\u001b[0m\u001b[0m\n",
      "\u001b[1;32m~\\Anaconda3\\lib\\site-packages\\sklearn\\svm\\base.py\u001b[0m in \u001b[0;36mdecision_function\u001b[1;34m(self, X)\u001b[0m\n\u001b[0;32m    553\u001b[0m         \u001b[0minterpreting\u001b[0m\u001b[1;33m-\u001b[0m\u001b[0mdistance\u001b[0m\u001b[1;33m-\u001b[0m\u001b[1;32mfrom\u001b[0m\u001b[1;33m-\u001b[0m\u001b[0mhyperplane\u001b[0m\u001b[1;33m-\u001b[0m\u001b[1;32min\u001b[0m\u001b[1;33m-\u001b[0m\u001b[0msvm\u001b[0m\u001b[1;33m>\u001b[0m\u001b[0;31m`\u001b[0m\u001b[0m_\u001b[0m \u001b[1;32mfor\u001b[0m \u001b[0mfurther\u001b[0m \u001b[0mdetails\u001b[0m\u001b[1;33m.\u001b[0m\u001b[1;33m\u001b[0m\u001b[0m\n\u001b[0;32m    554\u001b[0m         \"\"\"\n\u001b[1;32m--> 555\u001b[1;33m         \u001b[0mdec\u001b[0m \u001b[1;33m=\u001b[0m \u001b[0mself\u001b[0m\u001b[1;33m.\u001b[0m\u001b[0m_decision_function\u001b[0m\u001b[1;33m(\u001b[0m\u001b[0mX\u001b[0m\u001b[1;33m)\u001b[0m\u001b[1;33m\u001b[0m\u001b[0m\n\u001b[0m\u001b[0;32m    556\u001b[0m         \u001b[1;32mif\u001b[0m \u001b[0mself\u001b[0m\u001b[1;33m.\u001b[0m\u001b[0mdecision_function_shape\u001b[0m \u001b[1;33m==\u001b[0m \u001b[1;34m'ovr'\u001b[0m \u001b[1;32mand\u001b[0m \u001b[0mlen\u001b[0m\u001b[1;33m(\u001b[0m\u001b[0mself\u001b[0m\u001b[1;33m.\u001b[0m\u001b[0mclasses_\u001b[0m\u001b[1;33m)\u001b[0m \u001b[1;33m>\u001b[0m \u001b[1;36m2\u001b[0m\u001b[1;33m:\u001b[0m\u001b[1;33m\u001b[0m\u001b[0m\n\u001b[0;32m    557\u001b[0m             \u001b[1;32mreturn\u001b[0m \u001b[0m_ovr_decision_function\u001b[0m\u001b[1;33m(\u001b[0m\u001b[0mdec\u001b[0m \u001b[1;33m<\u001b[0m \u001b[1;36m0\u001b[0m\u001b[1;33m,\u001b[0m \u001b[1;33m-\u001b[0m\u001b[0mdec\u001b[0m\u001b[1;33m,\u001b[0m \u001b[0mlen\u001b[0m\u001b[1;33m(\u001b[0m\u001b[0mself\u001b[0m\u001b[1;33m.\u001b[0m\u001b[0mclasses_\u001b[0m\u001b[1;33m)\u001b[0m\u001b[1;33m)\u001b[0m\u001b[1;33m\u001b[0m\u001b[0m\n",
      "\u001b[1;32m~\\Anaconda3\\lib\\site-packages\\sklearn\\svm\\base.py\u001b[0m in \u001b[0;36m_decision_function\u001b[1;34m(self, X)\u001b[0m\n\u001b[0;32m    399\u001b[0m         \u001b[1;31m# NOTE: _validate_for_predict contains check for is_fitted\u001b[0m\u001b[1;33m\u001b[0m\u001b[1;33m\u001b[0m\u001b[0m\n\u001b[0;32m    400\u001b[0m         \u001b[1;31m# hence must be placed before any other attributes are used.\u001b[0m\u001b[1;33m\u001b[0m\u001b[1;33m\u001b[0m\u001b[0m\n\u001b[1;32m--> 401\u001b[1;33m         \u001b[0mX\u001b[0m \u001b[1;33m=\u001b[0m \u001b[0mself\u001b[0m\u001b[1;33m.\u001b[0m\u001b[0m_validate_for_predict\u001b[0m\u001b[1;33m(\u001b[0m\u001b[0mX\u001b[0m\u001b[1;33m)\u001b[0m\u001b[1;33m\u001b[0m\u001b[0m\n\u001b[0m\u001b[0;32m    402\u001b[0m         \u001b[0mX\u001b[0m \u001b[1;33m=\u001b[0m \u001b[0mself\u001b[0m\u001b[1;33m.\u001b[0m\u001b[0m_compute_kernel\u001b[0m\u001b[1;33m(\u001b[0m\u001b[0mX\u001b[0m\u001b[1;33m)\u001b[0m\u001b[1;33m\u001b[0m\u001b[0m\n\u001b[0;32m    403\u001b[0m \u001b[1;33m\u001b[0m\u001b[0m\n",
      "\u001b[1;32m~\\Anaconda3\\lib\\site-packages\\sklearn\\svm\\base.py\u001b[0m in \u001b[0;36m_validate_for_predict\u001b[1;34m(self, X)\u001b[0m\n\u001b[0;32m    476\u001b[0m             raise ValueError(\"X.shape[1] = %d should be equal to %d, \"\n\u001b[0;32m    477\u001b[0m                              \u001b[1;34m\"the number of features at training time\"\u001b[0m \u001b[1;33m%\u001b[0m\u001b[1;33m\u001b[0m\u001b[0m\n\u001b[1;32m--> 478\u001b[1;33m                              (n_features, self.shape_fit_[1]))\n\u001b[0m\u001b[0;32m    479\u001b[0m         \u001b[1;32mreturn\u001b[0m \u001b[0mX\u001b[0m\u001b[1;33m\u001b[0m\u001b[0m\n\u001b[0;32m    480\u001b[0m \u001b[1;33m\u001b[0m\u001b[0m\n",
      "\u001b[1;31mValueError\u001b[0m: X.shape[1] = 2 should be equal to 21, the number of features at training time"
     ]
    },
    {
     "data": {
      "image/png": "[encoded data removed]",
      "text/plain": [
       "<Figure size 432x288 with 1 Axes>"
      ]
     },
     "metadata": {},
     "output_type": "display_data"
    }
   ],
   "source": [
    "sv = SVC(kernel='linear', C=10000)\n",
    "sv.fit(X, y)\n",
    "plot_svm(sv)"
   ]
  },
  {
   "cell_type": "code",
   "execution_count": 51,
   "metadata": {
    "ExecuteTime": {
     "end_time": "2019-05-21T13:24:03.637129Z",
     "start_time": "2019-05-21T13:24:03.212373Z"
    }
   },
   "outputs": [
    {
     "name": "stderr",
     "output_type": "stream",
     "text": [
      "C:\\Users\\Shaynie\\Anaconda3\\lib\\site-packages\\sklearn\\svm\\base.py:196: FutureWarning: The default value of gamma will change from 'auto' to 'scale' in version 0.22 to account better for unscaled features. Set gamma explicitly to 'auto' or 'scale' to avoid this warning.\n",
      "  \"avoid this warning.\", FutureWarning)\n"
     ]
    },
    {
     "ename": "ValueError",
     "evalue": "X.shape[1] = 2 should be equal to 21, the number of features at training time",
     "output_type": "error",
     "traceback": [
      "\u001b[1;31m---------------------------------------------------------------------------\u001b[0m",
      "\u001b[1;31mValueError\u001b[0m                                Traceback (most recent call last)",
      "\u001b[1;32m<ipython-input-51-a4c92f0a80b8>\u001b[0m in \u001b[0;36m<module>\u001b[1;34m()\u001b[0m\n\u001b[0;32m      1\u001b[0m \u001b[0mclf_poly\u001b[0m \u001b[1;33m=\u001b[0m \u001b[0mSVC\u001b[0m\u001b[1;33m(\u001b[0m\u001b[0mkernel\u001b[0m\u001b[1;33m=\u001b[0m\u001b[1;34m'poly'\u001b[0m\u001b[1;33m,\u001b[0m \u001b[0mdegree\u001b[0m\u001b[1;33m=\u001b[0m\u001b[1;36m3\u001b[0m\u001b[1;33m,\u001b[0m \u001b[0mC\u001b[0m\u001b[1;33m=\u001b[0m\u001b[1;36m10000\u001b[0m\u001b[1;33m)\u001b[0m\u001b[1;33m\u001b[0m\u001b[0m\n\u001b[0;32m      2\u001b[0m \u001b[0mclf_poly\u001b[0m\u001b[1;33m.\u001b[0m\u001b[0mfit\u001b[0m\u001b[1;33m(\u001b[0m\u001b[0mX\u001b[0m\u001b[1;33m,\u001b[0m \u001b[0my\u001b[0m\u001b[1;33m)\u001b[0m\u001b[1;33m\u001b[0m\u001b[0m\n\u001b[1;32m----> 3\u001b[1;33m \u001b[0mplot_svm\u001b[0m\u001b[1;33m(\u001b[0m\u001b[0mclf_poly\u001b[0m\u001b[1;33m)\u001b[0m\u001b[1;33m\u001b[0m\u001b[0m\n\u001b[0m",
      "\u001b[1;32m<ipython-input-49-bcd00dc39586>\u001b[0m in \u001b[0;36mplot_svm\u001b[1;34m(clf)\u001b[0m\n\u001b[0;32m     14\u001b[0m     \u001b[1;31m# create grid to evaluate model\u001b[0m\u001b[1;33m\u001b[0m\u001b[1;33m\u001b[0m\u001b[0m\n\u001b[0;32m     15\u001b[0m     \u001b[0mxy\u001b[0m \u001b[1;33m=\u001b[0m \u001b[0mnp\u001b[0m\u001b[1;33m.\u001b[0m\u001b[0mvstack\u001b[0m\u001b[1;33m(\u001b[0m\u001b[1;33m[\u001b[0m\u001b[0mxx2\u001b[0m\u001b[1;33m.\u001b[0m\u001b[0mravel\u001b[0m\u001b[1;33m(\u001b[0m\u001b[1;33m)\u001b[0m\u001b[1;33m,\u001b[0m \u001b[0myy2\u001b[0m\u001b[1;33m.\u001b[0m\u001b[0mravel\u001b[0m\u001b[1;33m(\u001b[0m\u001b[1;33m)\u001b[0m\u001b[1;33m]\u001b[0m\u001b[1;33m)\u001b[0m\u001b[1;33m.\u001b[0m\u001b[0mT\u001b[0m\u001b[1;33m\u001b[0m\u001b[0m\n\u001b[1;32m---> 16\u001b[1;33m     \u001b[0mZ\u001b[0m \u001b[1;33m=\u001b[0m \u001b[0mclf\u001b[0m\u001b[1;33m.\u001b[0m\u001b[0mdecision_function\u001b[0m\u001b[1;33m(\u001b[0m\u001b[0mxy\u001b[0m\u001b[1;33m)\u001b[0m\u001b[1;33m.\u001b[0m\u001b[0mreshape\u001b[0m\u001b[1;33m(\u001b[0m\u001b[0mxx2\u001b[0m\u001b[1;33m.\u001b[0m\u001b[0mshape\u001b[0m\u001b[1;33m)\u001b[0m\u001b[1;33m\u001b[0m\u001b[0m\n\u001b[0m\u001b[0;32m     17\u001b[0m \u001b[1;33m\u001b[0m\u001b[0m\n\u001b[0;32m     18\u001b[0m     \u001b[1;31m# plot decision boundary and margins\u001b[0m\u001b[1;33m\u001b[0m\u001b[1;33m\u001b[0m\u001b[0m\n",
      "\u001b[1;32m~\\Anaconda3\\lib\\site-packages\\sklearn\\svm\\base.py\u001b[0m in \u001b[0;36mdecision_function\u001b[1;34m(self, X)\u001b[0m\n\u001b[0;32m    553\u001b[0m         \u001b[0minterpreting\u001b[0m\u001b[1;33m-\u001b[0m\u001b[0mdistance\u001b[0m\u001b[1;33m-\u001b[0m\u001b[1;32mfrom\u001b[0m\u001b[1;33m-\u001b[0m\u001b[0mhyperplane\u001b[0m\u001b[1;33m-\u001b[0m\u001b[1;32min\u001b[0m\u001b[1;33m-\u001b[0m\u001b[0msvm\u001b[0m\u001b[1;33m>\u001b[0m\u001b[0;31m`\u001b[0m\u001b[0m_\u001b[0m \u001b[1;32mfor\u001b[0m \u001b[0mfurther\u001b[0m \u001b[0mdetails\u001b[0m\u001b[1;33m.\u001b[0m\u001b[1;33m\u001b[0m\u001b[0m\n\u001b[0;32m    554\u001b[0m         \"\"\"\n\u001b[1;32m--> 555\u001b[1;33m         \u001b[0mdec\u001b[0m \u001b[1;33m=\u001b[0m \u001b[0mself\u001b[0m\u001b[1;33m.\u001b[0m\u001b[0m_decision_function\u001b[0m\u001b[1;33m(\u001b[0m\u001b[0mX\u001b[0m\u001b[1;33m)\u001b[0m\u001b[1;33m\u001b[0m\u001b[0m\n\u001b[0m\u001b[0;32m    556\u001b[0m         \u001b[1;32mif\u001b[0m \u001b[0mself\u001b[0m\u001b[1;33m.\u001b[0m\u001b[0mdecision_function_shape\u001b[0m \u001b[1;33m==\u001b[0m \u001b[1;34m'ovr'\u001b[0m \u001b[1;32mand\u001b[0m \u001b[0mlen\u001b[0m\u001b[1;33m(\u001b[0m\u001b[0mself\u001b[0m\u001b[1;33m.\u001b[0m\u001b[0mclasses_\u001b[0m\u001b[1;33m)\u001b[0m \u001b[1;33m>\u001b[0m \u001b[1;36m2\u001b[0m\u001b[1;33m:\u001b[0m\u001b[1;33m\u001b[0m\u001b[0m\n\u001b[0;32m    557\u001b[0m             \u001b[1;32mreturn\u001b[0m \u001b[0m_ovr_decision_function\u001b[0m\u001b[1;33m(\u001b[0m\u001b[0mdec\u001b[0m \u001b[1;33m<\u001b[0m \u001b[1;36m0\u001b[0m\u001b[1;33m,\u001b[0m \u001b[1;33m-\u001b[0m\u001b[0mdec\u001b[0m\u001b[1;33m,\u001b[0m \u001b[0mlen\u001b[0m\u001b[1;33m(\u001b[0m\u001b[0mself\u001b[0m\u001b[1;33m.\u001b[0m\u001b[0mclasses_\u001b[0m\u001b[1;33m)\u001b[0m\u001b[1;33m)\u001b[0m\u001b[1;33m\u001b[0m\u001b[0m\n",
      "\u001b[1;32m~\\Anaconda3\\lib\\site-packages\\sklearn\\svm\\base.py\u001b[0m in \u001b[0;36m_decision_function\u001b[1;34m(self, X)\u001b[0m\n\u001b[0;32m    399\u001b[0m         \u001b[1;31m# NOTE: _validate_for_predict contains check for is_fitted\u001b[0m\u001b[1;33m\u001b[0m\u001b[1;33m\u001b[0m\u001b[0m\n\u001b[0;32m    400\u001b[0m         \u001b[1;31m# hence must be placed before any other attributes are used.\u001b[0m\u001b[1;33m\u001b[0m\u001b[1;33m\u001b[0m\u001b[0m\n\u001b[1;32m--> 401\u001b[1;33m         \u001b[0mX\u001b[0m \u001b[1;33m=\u001b[0m \u001b[0mself\u001b[0m\u001b[1;33m.\u001b[0m\u001b[0m_validate_for_predict\u001b[0m\u001b[1;33m(\u001b[0m\u001b[0mX\u001b[0m\u001b[1;33m)\u001b[0m\u001b[1;33m\u001b[0m\u001b[0m\n\u001b[0m\u001b[0;32m    402\u001b[0m         \u001b[0mX\u001b[0m \u001b[1;33m=\u001b[0m \u001b[0mself\u001b[0m\u001b[1;33m.\u001b[0m\u001b[0m_compute_kernel\u001b[0m\u001b[1;33m(\u001b[0m\u001b[0mX\u001b[0m\u001b[1;33m)\u001b[0m\u001b[1;33m\u001b[0m\u001b[0m\n\u001b[0;32m    403\u001b[0m \u001b[1;33m\u001b[0m\u001b[0m\n",
      "\u001b[1;32m~\\Anaconda3\\lib\\site-packages\\sklearn\\svm\\base.py\u001b[0m in \u001b[0;36m_validate_for_predict\u001b[1;34m(self, X)\u001b[0m\n\u001b[0;32m    476\u001b[0m             raise ValueError(\"X.shape[1] = %d should be equal to %d, \"\n\u001b[0;32m    477\u001b[0m                              \u001b[1;34m\"the number of features at training time\"\u001b[0m \u001b[1;33m%\u001b[0m\u001b[1;33m\u001b[0m\u001b[0m\n\u001b[1;32m--> 478\u001b[1;33m                              (n_features, self.shape_fit_[1]))\n\u001b[0m\u001b[0;32m    479\u001b[0m         \u001b[1;32mreturn\u001b[0m \u001b[0mX\u001b[0m\u001b[1;33m\u001b[0m\u001b[0m\n\u001b[0;32m    480\u001b[0m \u001b[1;33m\u001b[0m\u001b[0m\n",
      "\u001b[1;31mValueError\u001b[0m: X.shape[1] = 2 should be equal to 21, the number of features at training time"
     ]
    },
    {
     "data": {
      "image/png": "[encoded data removed]",
      "text/plain": [
       "<Figure size 432x288 with 1 Axes>"
      ]
     },
     "metadata": {},
     "output_type": "display_data"
    }
   ],
   "source": [
    "clf_poly = SVC(kernel='poly', degree=3, C=10000)\n",
    "clf_poly.fit(X, y)\n",
    "plot_svm(clf_poly)"
   ]
  },
  {
   "cell_type": "code",
   "execution_count": null,
   "metadata": {},
   "outputs": [],
   "source": []
  }
 ],
 "metadata": {
  "kernelspec": {
   "display_name": "Python 3",
   "language": "python",
   "name": "python3"
  },
  "language_info": {
   "codemirror_mode": {
    "name": "ipython",
    "version": 3
   },
   "file_extension": ".py",
   "mimetype": "text/x-python",
   "name": "python",
   "nbconvert_exporter": "python",
   "pygments_lexer": "ipython3",
   "version": "3.6.5"
  },
  "toc": {
   "base_numbering": 1,
   "nav_menu": {},
   "number_sections": true,
   "sideBar": true,
   "skip_h1_title": false,
   "title_cell": "Table of Contents",
   "title_sidebar": "Contents",
   "toc_cell": false,
   "toc_position": {},
   "toc_section_display": true,
   "toc_window_display": false
  }
 },
 "nbformat": 4,
 "nbformat_minor": 2
}
