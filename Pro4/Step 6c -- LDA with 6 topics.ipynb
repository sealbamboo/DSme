{
 "cells": [
  {
   "cell_type": "code",
   "execution_count": 1,
   "metadata": {
    "ExecuteTime": {
     "end_time": "2019-05-23T11:23:44.053094Z",
     "start_time": "2019-05-23T11:23:44.050097Z"
    }
   },
   "outputs": [],
   "source": [
    "# !pip install wordcloud"
   ]
  },
  {
   "cell_type": "code",
   "execution_count": 2,
   "metadata": {
    "ExecuteTime": {
     "end_time": "2019-05-23T11:23:48.350086Z",
     "start_time": "2019-05-23T11:23:44.055093Z"
    }
   },
   "outputs": [],
   "source": [
    "import os, re\n",
    "import spacy\n",
    "import pickle\n",
    "import string\n",
    "import gensim\n",
    "import numpy as np\n",
    "import pandas as pd\n",
    "import seaborn as sns\n",
    "import pyLDAvis.gensim\n",
    "import multiprocessing as mp\n",
    "import matplotlib.pyplot as plt\n",
    "\n",
    "from wordcloud import WordCloud\n",
    "from pyLDAvis import sklearn as sklearn_lda\n",
    "from nltk.stem import SnowballStemmer\n",
    "from sklearn.pipeline import Pipeline\n",
    "from sklearn.preprocessing import StandardScaler\n",
    "from sklearn.base import TransformerMixin, BaseEstimator\n",
    "from sklearn.feature_extraction.text import TfidfVectorizer, ENGLISH_STOP_WORDS\n",
    "from sklearn.decomposition import LatentDirichletAllocation as LDA\n",
    "\n",
    "# Folder\n",
    "folder = './training/Final/'\n",
    "file =  folder + 'dataset.csv'\n",
    "\n",
    "# Init\n",
    "nlp = spacy.load(\"en_core_web_sm\")\n",
    "stemmer = SnowballStemmer('english',ignore_stopwords=True)\n",
    "punc = ['.', ',', '\"', \"'\", '?', '!', ':', ';', '(', ')', '[', ']', '{', '}',\"%\"]\n",
    "extra = ['datum','siem','®']\n",
    "STOPLIST = ENGLISH_STOP_WORDS.union(punc)\n",
    "STOPLIST = STOPLIST.union(extra)\n",
    "SYMBOLS = \"?:!.,;(){}|[]%'+*\"\n",
    "\n",
    "\n",
    "# Viz Init\n",
    "sns.set_style('whitegrid')\n",
    "%matplotlib inline"
   ]
  },
  {
   "cell_type": "code",
   "execution_count": 3,
   "metadata": {
    "ExecuteTime": {
     "end_time": "2019-05-23T11:23:48.440135Z",
     "start_time": "2019-05-23T11:23:48.352084Z"
    }
   },
   "outputs": [
    {
     "data": {
      "text/html": [
       "<div>\n",
       "<style scoped>\n",
       "    .dataframe tbody tr th:only-of-type {\n",
       "        vertical-align: middle;\n",
       "    }\n",
       "\n",
       "    .dataframe tbody tr th {\n",
       "        vertical-align: top;\n",
       "    }\n",
       "\n",
       "    .dataframe thead th {\n",
       "        text-align: right;\n",
       "    }\n",
       "</style>\n",
       "<table border=\"1\" class=\"dataframe\">\n",
       "  <thead>\n",
       "    <tr style=\"text-align: right;\">\n",
       "      <th></th>\n",
       "      <th>content</th>\n",
       "      <th>industries</th>\n",
       "      <th>location</th>\n",
       "      <th>title</th>\n",
       "      <th>type_empl</th>\n",
       "      <th>url</th>\n",
       "      <th>wage</th>\n",
       "      <th>suburb</th>\n",
       "      <th>experiences</th>\n",
       "      <th>title_left_over</th>\n",
       "    </tr>\n",
       "  </thead>\n",
       "  <tbody>\n",
       "    <tr>\n",
       "      <th>0</th>\n",
       "      <td>Public Safety Business Agency / Kedron Tempora...</td>\n",
       "      <td>Information &amp; Communication Technology</td>\n",
       "      <td>Brisbane</td>\n",
       "      <td>DA</td>\n",
       "      <td>Permanent</td>\n",
       "      <td>https://www.seek.com.au/job/39018343?type=stan...</td>\n",
       "      <td>85572.0</td>\n",
       "      <td>Northern Suburbs</td>\n",
       "      <td>General</td>\n",
       "      <td>Data Analyst</td>\n",
       "    </tr>\n",
       "    <tr>\n",
       "      <th>1</th>\n",
       "      <td>Fantastic working culture Flexible work enviro...</td>\n",
       "      <td>Information &amp; Communication Technology</td>\n",
       "      <td>Brisbane</td>\n",
       "      <td>SDA</td>\n",
       "      <td>Contract</td>\n",
       "      <td>https://www.seek.com.au/job/39007973?type=stan...</td>\n",
       "      <td>99961.0</td>\n",
       "      <td>CBD &amp; Inner Suburbs</td>\n",
       "      <td>Senior</td>\n",
       "      <td>Senior Business Analyst</td>\n",
       "    </tr>\n",
       "    <tr>\n",
       "      <th>2</th>\n",
       "      <td>CBD Location 12 month contract Join this State...</td>\n",
       "      <td>Information &amp; Communication Technology</td>\n",
       "      <td>Brisbane</td>\n",
       "      <td>DA</td>\n",
       "      <td>Contract</td>\n",
       "      <td>https://www.seek.com.au/job/38912693?type=stan...</td>\n",
       "      <td>174590.0</td>\n",
       "      <td>CBD &amp; Inner Suburbs</td>\n",
       "      <td>General</td>\n",
       "      <td>Database Analyst</td>\n",
       "    </tr>\n",
       "    <tr>\n",
       "      <th>3</th>\n",
       "      <td>CBD Location Initial 3 month contract Join thi...</td>\n",
       "      <td>Information &amp; Communication Technology</td>\n",
       "      <td>Brisbane</td>\n",
       "      <td>DA</td>\n",
       "      <td>Contract</td>\n",
       "      <td>https://www.seek.com.au/job/39037731?type=stan...</td>\n",
       "      <td>177450.0</td>\n",
       "      <td>CBD &amp; Inner Suburbs</td>\n",
       "      <td>General</td>\n",
       "      <td>Data Analyst</td>\n",
       "    </tr>\n",
       "    <tr>\n",
       "      <th>4</th>\n",
       "      <td>CBD Location! Initial contract through till en...</td>\n",
       "      <td>Information &amp; Communication Technology</td>\n",
       "      <td>Brisbane</td>\n",
       "      <td>SDA</td>\n",
       "      <td>Contract</td>\n",
       "      <td>https://www.seek.com.au/job/39003265?type=stan...</td>\n",
       "      <td>173550.0</td>\n",
       "      <td>CBD &amp; Inner Suburbs</td>\n",
       "      <td>Senior</td>\n",
       "      <td>Senior Test Analyst</td>\n",
       "    </tr>\n",
       "  </tbody>\n",
       "</table>\n",
       "</div>"
      ],
      "text/plain": [
       "                                             content  \\\n",
       "0  Public Safety Business Agency / Kedron Tempora...   \n",
       "1  Fantastic working culture Flexible work enviro...   \n",
       "2  CBD Location 12 month contract Join this State...   \n",
       "3  CBD Location Initial 3 month contract Join thi...   \n",
       "4  CBD Location! Initial contract through till en...   \n",
       "\n",
       "                               industries  location title  type_empl  \\\n",
       "0  Information & Communication Technology  Brisbane    DA  Permanent   \n",
       "1  Information & Communication Technology  Brisbane   SDA   Contract   \n",
       "2  Information & Communication Technology  Brisbane    DA   Contract   \n",
       "3  Information & Communication Technology  Brisbane    DA   Contract   \n",
       "4  Information & Communication Technology  Brisbane   SDA   Contract   \n",
       "\n",
       "                                                 url      wage  \\\n",
       "0  https://www.seek.com.au/job/39018343?type=stan...   85572.0   \n",
       "1  https://www.seek.com.au/job/39007973?type=stan...   99961.0   \n",
       "2  https://www.seek.com.au/job/38912693?type=stan...  174590.0   \n",
       "3  https://www.seek.com.au/job/39037731?type=stan...  177450.0   \n",
       "4  https://www.seek.com.au/job/39003265?type=stan...  173550.0   \n",
       "\n",
       "                suburb experiences          title_left_over  \n",
       "0     Northern Suburbs     General             Data Analyst  \n",
       "1  CBD & Inner Suburbs      Senior  Senior Business Analyst  \n",
       "2  CBD & Inner Suburbs     General         Database Analyst  \n",
       "3  CBD & Inner Suburbs     General             Data Analyst  \n",
       "4  CBD & Inner Suburbs      Senior      Senior Test Analyst  "
      ]
     },
     "execution_count": 3,
     "metadata": {},
     "output_type": "execute_result"
    }
   ],
   "source": [
    "frame = pd.read_csv(file, sep='|')\n",
    "frame.head()"
   ]
  },
  {
   "cell_type": "code",
   "execution_count": 4,
   "metadata": {
    "ExecuteTime": {
     "end_time": "2019-05-23T11:23:48.459125Z",
     "start_time": "2019-05-23T11:23:48.442134Z"
    }
   },
   "outputs": [
    {
     "name": "stdout",
     "output_type": "stream",
     "text": [
      "<class 'pandas.core.frame.DataFrame'>\n",
      "RangeIndex: 1569 entries, 0 to 1568\n",
      "Data columns (total 10 columns):\n",
      "content            1569 non-null object\n",
      "industries         1569 non-null object\n",
      "location           1569 non-null object\n",
      "title              1569 non-null object\n",
      "type_empl          1569 non-null object\n",
      "url                1569 non-null object\n",
      "wage               1569 non-null float64\n",
      "suburb             1569 non-null object\n",
      "experiences        1569 non-null object\n",
      "title_left_over    1569 non-null object\n",
      "dtypes: float64(1), object(9)\n",
      "memory usage: 122.7+ KB\n"
     ]
    }
   ],
   "source": [
    "frame.info()"
   ]
  },
  {
   "cell_type": "code",
   "execution_count": 5,
   "metadata": {
    "ExecuteTime": {
     "end_time": "2019-05-23T11:23:48.762633Z",
     "start_time": "2019-05-23T11:23:48.461123Z"
    }
   },
   "outputs": [],
   "source": [
    "# Remove website or any urls\n",
    "frame['content'] = frame['content'].map(lambda row: re.sub(r\"(((http|https):\\/\\/)?www[a-z\\.\\/-]+)\",\"website\",row))\n",
    "\n",
    "# Remove Punctuation\n",
    "frame['content'] = frame['content'].map(lambda row: re.sub(r\"[(,\\.!?;:)]\",\"\",row))\n",
    "\n",
    "# To Lower\n",
    "frame['content'] = frame['content'].map(lambda row: row.lower())"
   ]
  },
  {
   "cell_type": "code",
   "execution_count": 6,
   "metadata": {
    "ExecuteTime": {
     "end_time": "2019-05-23T11:23:48.780622Z",
     "start_time": "2019-05-23T11:23:48.764632Z"
    }
   },
   "outputs": [],
   "source": [
    "def tokenizeText(sample):\n",
    "    tokens = nlp(sample)\n",
    "    lemmas = []\n",
    "    for tok in tokens:\n",
    "        lemmas.append(tok.lemma_.lower().strip() if tok.lemma_ != \"-PRON-\" else tok.lower_)\n",
    "    tokens = lemmas\n",
    "    tokens = [re.sub(r\"([0-9]+)\",\"\",tok) for tok in tokens]\n",
    "    tokens = [tok for tok in tokens if tok not in STOPLIST]\n",
    "    tokens = [tok for tok in tokens if tok not in SYMBOLS]\n",
    "    return tokens\n",
    "\n",
    "class TextPreprocessor(BaseEstimator, TransformerMixin):\n",
    "    def __init__(self,\n",
    "                 variety=\"BrE\",\n",
    "                 user_abbrevs={},\n",
    "                 n_jobs=1):\n",
    "        \"\"\"\n",
    "        Text preprocessing transformer includes steps:\n",
    "            1. Text normalization\n",
    "            2. Punctuation removal\n",
    "            3. Stop words removal\n",
    "            4. Lemmatization\n",
    "        \n",
    "        variety - format of date (AmE - american type, BrE - british format) \n",
    "        user_abbrevs - dict of user abbreviations mappings (from normalise package)\n",
    "        n_jobs - parallel jobs to run\n",
    "        \"\"\"\n",
    "        self.variety = variety\n",
    "        self.user_abbrevs = user_abbrevs\n",
    "        self.n_jobs = n_jobs\n",
    "\n",
    "    def fit(self, X, y=None):\n",
    "        return self\n",
    "\n",
    "    def transform(self, X, *_):\n",
    "        X_copy = X.copy()\n",
    "\n",
    "        partitions = 1\n",
    "        cores = mp.cpu_count()\n",
    "        if self.n_jobs <= -1:\n",
    "            partitions = cores\n",
    "        elif self.n_jobs <= 0:\n",
    "            return X_copy.apply(self._preprocess_text)\n",
    "        else:\n",
    "            partitions = min(self.n_jobs, cores)\n",
    "\n",
    "        data_split = np.array_split(X_copy, partitions)\n",
    "        pool = mp.Pool(cores)\n",
    "        data = pd.concat(pool.map(self._preprocess_part, data_split))\n",
    "        pool.close()\n",
    "        pool.join()\n",
    "\n",
    "        return data\n",
    "\n",
    "    def _preprocess_part(self, part):\n",
    "        return part.apply(self._preprocess_text)\n",
    "\n",
    "    def _preprocess_text(self, text):\n",
    "        normalized_text = self._normalize(text)\n",
    "        doc = nlp(normalized_text)\n",
    "        removed_punct = self._remove_punct(doc)\n",
    "        removed_stop_words = self._remove_stop_words(removed_punct)\n",
    "        return self._lemmatize(removed_stop_words)\n",
    "\n",
    "    def _normalize(self, text):\n",
    "        # some issues in normalise package\n",
    "        try:\n",
    "            return ' '.join(normalise(text, variety=self.variety, user_abbrevs=self.user_abbrevs, verbose=False))\n",
    "        except:\n",
    "            return text\n",
    "\n",
    "    def _remove_punct(self, doc):\n",
    "        return [t for t in doc if t.text not in string.punctuation]\n",
    "\n",
    "    def _remove_stop_words(self, doc):\n",
    "        return [t for t in doc if not t.is_stop]\n",
    "\n",
    "    def _lemmatize(self, doc):\n",
    "        return ' '.join([t.lemma_ for t in doc])"
   ]
  },
  {
   "cell_type": "code",
   "execution_count": null,
   "metadata": {
    "ExecuteTime": {
     "start_time": "2019-05-23T11:23:44.080Z"
    }
   },
   "outputs": [
    {
     "data": {
      "image/png": "[encoded data removed]",
      "text/plain": [
       "<PIL.Image.Image image mode=RGB size=400x200 at 0x26EE79E9F60>"
      ]
     },
     "execution_count": 7,
     "metadata": {},
     "output_type": "execute_result"
    }
   ],
   "source": [
    "# Join the different processed title together.\n",
    "long_string = ','.join(list(frame['content'].values))\n",
    "\n",
    "# Create a WordCloud object\n",
    "wordcloud = WordCloud(background_color=\"white\", max_words=5000, contour_width=3, contour_color='steelblue')\n",
    "\n",
    "# Generate a word cloud\n",
    "wordcloud.generate(long_string)\n",
    "\n",
    "# Visualize the word cloud\n",
    "wordcloud.to_image()"
   ]
  },
  {
   "cell_type": "code",
   "execution_count": null,
   "metadata": {
    "ExecuteTime": {
     "start_time": "2019-05-23T11:23:44.088Z"
    }
   },
   "outputs": [],
   "source": [
    "# %%time\n",
    "tp = TextPreprocessor(n_jobs=-1).fit(frame['content'])\n",
    "new_content = tp.transform(frame['content'])"
   ]
  },
  {
   "cell_type": "code",
   "execution_count": null,
   "metadata": {
    "ExecuteTime": {
     "start_time": "2019-05-23T11:23:44.092Z"
    }
   },
   "outputs": [],
   "source": [
    "type(new_content)"
   ]
  },
  {
   "cell_type": "code",
   "execution_count": null,
   "metadata": {
    "ExecuteTime": {
     "start_time": "2019-05-23T11:23:44.095Z"
    }
   },
   "outputs": [],
   "source": [
    "frame['new_content'] = new_content\n",
    "frame.info()"
   ]
  },
  {
   "cell_type": "code",
   "execution_count": null,
   "metadata": {
    "ExecuteTime": {
     "start_time": "2019-05-23T11:23:44.098Z"
    }
   },
   "outputs": [],
   "source": [
    "# Join the different processed title together.\n",
    "long_string = ','.join(list(frame['new_content'].values))\n",
    "\n",
    "# Create a WordCloud object\n",
    "wordcloud = WordCloud(background_color=\"white\", max_words=5000, contour_width=3, contour_color='steelblue')\n",
    "\n",
    "# Generate a word cloud\n",
    "wordcloud.generate(long_string)\n",
    "\n",
    "# Visualize the word cloud\n",
    "wordcloud.to_image()"
   ]
  },
  {
   "cell_type": "code",
   "execution_count": null,
   "metadata": {
    "ExecuteTime": {
     "start_time": "2019-05-23T11:23:44.104Z"
    }
   },
   "outputs": [],
   "source": [
    "# Helper function\n",
    "def plot_10_most_common_words(count_data, count_vectorizer):\n",
    "    import matplotlib.pyplot as plt\n",
    "    words = count_vectorizer.get_feature_names()\n",
    "    total_counts = np.zeros(len(words))\n",
    "    for t in count_data:\n",
    "        total_counts+=t.toarray()[0]\n",
    "    \n",
    "    count_dict = (zip(words, total_counts))\n",
    "    count_dict = sorted(count_dict, key=lambda x:x[1], reverse=True)[0:10]\n",
    "    words = [w[0] for w in count_dict]\n",
    "    counts = [w[1] for w in count_dict]\n",
    "    x_pos = np.arange(len(words)) \n",
    "    \n",
    "    plt.figure(2, figsize=(15, 15/1.6180))\n",
    "    plt.subplot(title='10 most common words')\n",
    "    sns.set_context(\"notebook\", font_scale=1.25, rc={\"lines.linewidth\": 2.5})\n",
    "    sns.barplot(x_pos, counts, palette='husl')\n",
    "    plt.xticks(x_pos, words, rotation=90) \n",
    "    plt.xlabel('words')\n",
    "    plt.ylabel('counts')\n",
    "    plt.show()\n",
    "    \n",
    "def print_topics(model, count_vectorizer, n_top_words):\n",
    "    words = count_vectorizer.get_feature_names()\n",
    "    for topic_idx, topic in enumerate(model.components_):\n",
    "        print(\"\\nTopic #%d:\" % topic_idx)\n",
    "        print(\" \".join([words[i] for i in topic.argsort()[:-n_top_words - 1:-1]]))"
   ]
  },
  {
   "cell_type": "code",
   "execution_count": null,
   "metadata": {
    "ExecuteTime": {
     "start_time": "2019-05-23T11:23:44.106Z"
    }
   },
   "outputs": [],
   "source": [
    "# Initialise the count vectorizer with the English stop words\n",
    "vectorizer3 = TfidfVectorizer(stop_words=STOPLIST,tokenizer=tokenizeText,use_idf=True, max_features=2000)\n",
    "\n",
    "# Fit and transform the contexts\n",
    "count_data_2 = vectorizer3.fit_transform(frame['new_content'])\n",
    "\n",
    "# Visualise the 10 most common words\n",
    "plot_10_most_common_words(count_data_2, vectorizer3)"
   ]
  },
  {
   "cell_type": "code",
   "execution_count": null,
   "metadata": {
    "ExecuteTime": {
     "start_time": "2019-05-23T11:23:44.109Z"
    }
   },
   "outputs": [],
   "source": [
    "word_features3 = vectorizer3.get_feature_names()\n",
    "len(word_features3)"
   ]
  },
  {
   "cell_type": "code",
   "execution_count": null,
   "metadata": {
    "ExecuteTime": {
     "start_time": "2019-05-23T11:23:44.112Z"
    }
   },
   "outputs": [],
   "source": [
    "word_features3"
   ]
  },
  {
   "cell_type": "code",
   "execution_count": null,
   "metadata": {
    "ExecuteTime": {
     "start_time": "2019-05-23T11:23:44.115Z"
    }
   },
   "outputs": [],
   "source": [
    "# Tweak the two parameters below\n",
    "number_topics = 6\n",
    "number_words = 14\n",
    "\n",
    "# Create and fit the LDA model\n",
    "lda = LDA(n_components=number_topics)\n",
    "lda.fit(count_data_2)\n",
    "\n",
    "# Print the topics found by the LDA model\n",
    "print(\"Topics found via LDA:\")\n",
    "print_topics(lda, vectorizer3, number_words)"
   ]
  },
  {
   "cell_type": "code",
   "execution_count": null,
   "metadata": {
    "ExecuteTime": {
     "start_time": "2019-05-23T11:23:44.118Z"
    }
   },
   "outputs": [],
   "source": [
    "processed_docs = lda.transform(count_data_2)\n",
    "print(len(processed_docs))\n",
    "print(len(processed_docs[0]))\n"
   ]
  },
  {
   "cell_type": "code",
   "execution_count": null,
   "metadata": {
    "ExecuteTime": {
     "start_time": "2019-05-23T11:23:44.121Z"
    }
   },
   "outputs": [],
   "source": [
    "dframe = pd.DataFrame(processed_docs)\n",
    "dframe.head(10)"
   ]
  },
  {
   "cell_type": "code",
   "execution_count": null,
   "metadata": {
    "ExecuteTime": {
     "start_time": "2019-05-23T11:23:44.125Z"
    }
   },
   "outputs": [],
   "source": [
    "# Push to dictionary\n",
    "dictionary = gensim.corpora.Dictionary(processed_docs)"
   ]
  },
  {
   "cell_type": "code",
   "execution_count": null,
   "metadata": {
    "ExecuteTime": {
     "start_time": "2019-05-23T11:23:44.151Z"
    }
   },
   "outputs": [],
   "source": [
    "LDAvis_data_filepath = os.path.join('./ldavis_prepared_'+str(number_topics))\n",
    "print(LDAvis_data_filepath)"
   ]
  },
  {
   "cell_type": "code",
   "execution_count": null,
   "metadata": {
    "ExecuteTime": {
     "start_time": "2019-05-23T11:23:44.157Z"
    }
   },
   "outputs": [],
   "source": [
    "count_data_2"
   ]
  },
  {
   "cell_type": "code",
   "execution_count": null,
   "metadata": {
    "ExecuteTime": {
     "start_time": "2019-05-23T11:23:44.159Z"
    }
   },
   "outputs": [],
   "source": [
    "# LDA help vizualize\n",
    "lda_display = pyLDAvis.gensim.prepare(lda, count_data_2, vectorizer3)\n",
    "pyLDAvis.display(lda_display)"
   ]
  },
  {
   "cell_type": "code",
   "execution_count": null,
   "metadata": {
    "ExecuteTime": {
     "start_time": "2019-05-23T11:23:44.163Z"
    }
   },
   "outputs": [],
   "source": [
    "%%time\n",
    "\n",
    "# # this is a bit time consuming - make the if statement True\n",
    "# # if you want to execute visualization prep yourself\n",
    "if 1 == 1:\n",
    "    LDAvis_prepared = sklearn_lda.prepare(lda, count_data_2, vectorizer3)\n",
    "    with open(LDAvis_data_filepath, 'w') as f:\n",
    "        pickle.dump(LDAvis_prepared, f)\n",
    "\n",
    "    # load the pre-prepared pyLDAvis data from disk\n",
    "    with open(LDAvis_data_filepath) as f:\n",
    "        LDAvis_prepared = pickle.load(f)\n",
    "    pyLDAvis.save_html(LDAvis_prepared, './ldavis_prepared_'+ str(number_topics) +'.html')"
   ]
  },
  {
   "cell_type": "code",
   "execution_count": null,
   "metadata": {},
   "outputs": [],
   "source": []
  },
  {
   "cell_type": "code",
   "execution_count": null,
   "metadata": {},
   "outputs": [],
   "source": []
  }
 ],
 "metadata": {
  "kernelspec": {
   "display_name": "Python 3",
   "language": "python",
   "name": "python3"
  },
  "language_info": {
   "codemirror_mode": {
    "name": "ipython",
    "version": 3
   },
   "file_extension": ".py",
   "mimetype": "text/x-python",
   "name": "python",
   "nbconvert_exporter": "python",
   "pygments_lexer": "ipython3",
   "version": "3.6.5"
  },
  "toc": {
   "base_numbering": 1,
   "nav_menu": {},
   "number_sections": true,
   "sideBar": true,
   "skip_h1_title": false,
   "title_cell": "Table of Contents",
   "title_sidebar": "Contents",
   "toc_cell": false,
   "toc_position": {},
   "toc_section_display": true,
   "toc_window_display": false
  }
 },
 "nbformat": 4,
 "nbformat_minor": 2
}
