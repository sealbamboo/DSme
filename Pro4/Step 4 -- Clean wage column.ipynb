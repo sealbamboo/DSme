{
 "cells": [
  {
   "cell_type": "code",
   "execution_count": 1,
   "metadata": {
    "ExecuteTime": {
     "end_time": "2019-05-15T08:28:43.885313Z",
     "start_time": "2019-05-15T08:28:43.213980Z"
    }
   },
   "outputs": [],
   "source": [
    "# Library Package\n",
    "import pandas as pd\n",
    "import numpy as np\n",
    "import re\n",
    "\n",
    "# Folder Path\n",
    "files = './training/training.csv'\n",
    "\n",
    "# Regular Expression\n",
    "regex_wage = r'(\\$[0-9,]{2,}[kK]?)'\n",
    "regex_pday = r'(per day)|(p.d)'\n",
    "regex_html = r'(<[^>]+>)'"
   ]
  },
  {
   "cell_type": "code",
   "execution_count": 33,
   "metadata": {
    "ExecuteTime": {
     "end_time": "2019-05-15T09:24:38.489927Z",
     "start_time": "2019-05-15T09:24:38.001047Z"
    },
    "scrolled": true
   },
   "outputs": [
    {
     "data": {
      "text/html": [
       "<div>\n",
       "<style scoped>\n",
       "    .dataframe tbody tr th:only-of-type {\n",
       "        vertical-align: middle;\n",
       "    }\n",
       "\n",
       "    .dataframe tbody tr th {\n",
       "        vertical-align: top;\n",
       "    }\n",
       "\n",
       "    .dataframe thead th {\n",
       "        text-align: right;\n",
       "    }\n",
       "</style>\n",
       "<table border=\"1\" class=\"dataframe\">\n",
       "  <thead>\n",
       "    <tr style=\"text-align: right;\">\n",
       "      <th></th>\n",
       "      <th>content</th>\n",
       "      <th>industries</th>\n",
       "      <th>location</th>\n",
       "      <th>title</th>\n",
       "      <th>type_empl</th>\n",
       "      <th>url</th>\n",
       "      <th>wage</th>\n",
       "    </tr>\n",
       "  </thead>\n",
       "  <tbody>\n",
       "    <tr>\n",
       "      <th>0</th>\n",
       "      <td>Amgen is committed to unlocking the potential ...</td>\n",
       "      <td>Healthcare &amp; Medical</td>\n",
       "      <td>Sydney, Ryde &amp; Macquarie Park</td>\n",
       "      <td>Transformation, Senior Manager - Data, Analyti...</td>\n",
       "      <td>Full Time</td>\n",
       "      <td>https://www.seek.com.au/job/38884116?type=prom...</td>\n",
       "      <td>NaN</td>\n",
       "    </tr>\n",
       "    <tr>\n",
       "      <th>1</th>\n",
       "      <td>Our client, a respected and leading global ban...</td>\n",
       "      <td>Science &amp; Technology</td>\n",
       "      <td>Sydney, CBD, Inner West &amp; Eastern Suburbs</td>\n",
       "      <td>Senior Analyst | Customer Insights | Banking J...</td>\n",
       "      <td>Full Time</td>\n",
       "      <td>https://www.seek.com.au/job/38983503?type=stan...</td>\n",
       "      <td>NaN</td>\n",
       "    </tr>\n",
       "    <tr>\n",
       "      <th>2</th>\n",
       "      <td>We are looking for an experienced Senior Busin...</td>\n",
       "      <td>Information &amp; Communication Technology</td>\n",
       "      <td>Sydney, North Shore &amp; Northern Beaches</td>\n",
       "      <td>Senior Business Analyst, Data &amp; Analytics (Cor...</td>\n",
       "      <td>Contract/Temp</td>\n",
       "      <td>https://www.seek.com.au/job/38980384?type=stan...</td>\n",
       "      <td>NaN</td>\n",
       "    </tr>\n",
       "    <tr>\n",
       "      <th>3</th>\n",
       "      <td>Senior Data Analysts - check this out! This is...</td>\n",
       "      <td>Advertising, Arts &amp; Media</td>\n",
       "      <td>Sydney, CBD, Inner West &amp; Eastern Suburbs</td>\n",
       "      <td>Data and Analytics Director Job in Sydney - SEEK</td>\n",
       "      <td>Full Time</td>\n",
       "      <td>https://www.seek.com.au/job/39005312?type=stan...</td>\n",
       "      <td>NaN</td>\n",
       "    </tr>\n",
       "    <tr>\n",
       "      <th>4</th>\n",
       "      <td>We'll have you working with Australia's most r...</td>\n",
       "      <td>Accounting</td>\n",
       "      <td>Sydney, CBD, Inner West &amp; Eastern Suburbs</td>\n",
       "      <td>Forensic Technology/Data Analytics - Senior Co...</td>\n",
       "      <td>Full Time</td>\n",
       "      <td>https://www.seek.com.au/job/38991024?type=stan...</td>\n",
       "      <td>NaN</td>\n",
       "    </tr>\n",
       "  </tbody>\n",
       "</table>\n",
       "</div>"
      ],
      "text/plain": [
       "                                             content  \\\n",
       "0  Amgen is committed to unlocking the potential ...   \n",
       "1  Our client, a respected and leading global ban...   \n",
       "2  We are looking for an experienced Senior Busin...   \n",
       "3  Senior Data Analysts - check this out! This is...   \n",
       "4  We'll have you working with Australia's most r...   \n",
       "\n",
       "                               industries  \\\n",
       "0                    Healthcare & Medical   \n",
       "1                    Science & Technology   \n",
       "2  Information & Communication Technology   \n",
       "3               Advertising, Arts & Media   \n",
       "4                              Accounting   \n",
       "\n",
       "                                    location  \\\n",
       "0              Sydney, Ryde & Macquarie Park   \n",
       "1  Sydney, CBD, Inner West & Eastern Suburbs   \n",
       "2     Sydney, North Shore & Northern Beaches   \n",
       "3  Sydney, CBD, Inner West & Eastern Suburbs   \n",
       "4  Sydney, CBD, Inner West & Eastern Suburbs   \n",
       "\n",
       "                                               title      type_empl  \\\n",
       "0  Transformation, Senior Manager - Data, Analyti...      Full Time   \n",
       "1  Senior Analyst | Customer Insights | Banking J...      Full Time   \n",
       "2  Senior Business Analyst, Data & Analytics (Cor...  Contract/Temp   \n",
       "3   Data and Analytics Director Job in Sydney - SEEK      Full Time   \n",
       "4  Forensic Technology/Data Analytics - Senior Co...      Full Time   \n",
       "\n",
       "                                                 url wage  \n",
       "0  https://www.seek.com.au/job/38884116?type=prom...  NaN  \n",
       "1  https://www.seek.com.au/job/38983503?type=stan...  NaN  \n",
       "2  https://www.seek.com.au/job/38980384?type=stan...  NaN  \n",
       "3  https://www.seek.com.au/job/39005312?type=stan...  NaN  \n",
       "4  https://www.seek.com.au/job/38991024?type=stan...  NaN  "
      ]
     },
     "execution_count": 33,
     "metadata": {},
     "output_type": "execute_result"
    }
   ],
   "source": [
    "frame = pd.read_csv(files, sep='|')\n",
    "frame.head()"
   ]
  },
  {
   "cell_type": "code",
   "execution_count": 3,
   "metadata": {
    "ExecuteTime": {
     "end_time": "2019-05-15T08:28:45.019576Z",
     "start_time": "2019-05-15T08:28:45.015274Z"
    }
   },
   "outputs": [],
   "source": [
    "# test_string = \"\"\"\n",
    "# Sydney, CBD, Inner West & Eastern Suburbs\n",
    "# Salary\n",
    "# $700,000 - $1000,000 per day\n",
    "# Work Type\n",
    "# Contract/Temp\n",
    "# Classification\n",
    "# Information & Communication Technology, Developers/Programmers\n",
    "# \"\"\"\n",
    "# ls = re.findall(regex_wage,test_string)\n",
    "# print(ls)\n",
    "# ls = [int(wage.strip(\"$\").replace(\",\",\"\")) for wage in ls]\n",
    "# print(ls)\n",
    "# print(np.mean(ls))"
   ]
  },
  {
   "cell_type": "code",
   "execution_count": 4,
   "metadata": {
    "ExecuteTime": {
     "end_time": "2019-05-15T08:28:45.044255Z",
     "start_time": "2019-05-15T08:28:45.024227Z"
    }
   },
   "outputs": [],
   "source": [
    "# frame.info()"
   ]
  },
  {
   "cell_type": "code",
   "execution_count": 5,
   "metadata": {
    "ExecuteTime": {
     "end_time": "2019-05-15T08:28:45.062256Z",
     "start_time": "2019-05-15T08:28:45.050256Z"
    }
   },
   "outputs": [],
   "source": [
    "# frame['wage'].unique()"
   ]
  },
  {
   "cell_type": "code",
   "execution_count": null,
   "metadata": {},
   "outputs": [],
   "source": [
    "### Special Cases\n",
    "\n",
    "# 96,000k\n",
    "# https://www.seek.com.au/job/39003699?type=standout&searchrequesttoken=1907a61e-aba7-41b1-b94a-37f7f06e0f7c\n",
    "\n",
    "# 130,000-150,000k\n",
    "# https://www.seek.com.au/job/38915724?type=standout&searchrequesttoken=d0b07562-538a-480d-ab14-3078fa096fbe\n",
    "\n",
    "# 90,000k\n",
    "# https://www.seek.com.au/job/38963567?type=standout&searchrequesttoken=d6ff298d-f248-4cc1-866b-0d7b1c2f1b27"
   ]
  },
  {
   "cell_type": "code",
   "execution_count": 37,
   "metadata": {
    "ExecuteTime": {
     "end_time": "2019-05-15T09:28:17.153018Z",
     "start_time": "2019-05-15T09:28:17.127473Z"
    }
   },
   "outputs": [],
   "source": [
    "# Split Url out of content\n",
    "def get_wage(regex, sample):\n",
    "    result = re.findall(regex, sample)\n",
    "    per_day = re.search(regex_pday,sample)\n",
    "\n",
    "    if result:\n",
    "        # Basic clean.\n",
    "        result = [value.strip(\"$\").replace(\",\",\"\").lower() for value in result]\n",
    "        print(\"=======================B4: \",result)\n",
    "        \n",
    "        # findall might return an duplicate values\n",
    "        # Reduce the length into 2 first values\n",
    "        if len(result) >= 2:\n",
    "            result = result[:2]\n",
    "            print(\"I-If: \",result)\n",
    "            \n",
    "            # Case-of \"k\" appears 2times\n",
    "            if (\"k\" in result[0]) and (\"k\" in result[-1]):\n",
    "                final = int(result[0].strip(\"k\")) + int(result[-1].strip(\"k\"))\n",
    "                final = final/2\n",
    "                # Treat special cases\n",
    "                if final < 1000:\n",
    "                    final = final*1000\n",
    "            \n",
    "            # Case-of \"k\" appears 1time at last.\n",
    "            elif (\"k\" not in result[0]) and (\"k\" in result[-1]):\n",
    "                k_value = int(result[-1].strip(\"k\"))\n",
    "                if k_value < 1000 else k_value]\n",
    "                print(type(k_value))\n",
    "                print(type(result[0]))\n",
    "                \n",
    "                final = (int(result[0]) + k_value)/2\n",
    "            \n",
    "            # Case-of \"k\" appears 1time at first.\n",
    "            elif (\"k\" in result[0]) and (\"k\" not in result[-1]):\n",
    "                k_value = int(result[0].strip(\"k\"))\n",
    "                if k_value < 1000:\n",
    "                    k_value = k_value*1000\n",
    "                \n",
    "                final = (k_value + int(result[-1]))/2\n",
    "                \n",
    "            elif len(result[0]) < 5 and len(result[-1]) < 5:\n",
    "                final = np.mean([int(value)*260 for value in result])\n",
    "                if not per_day:\n",
    "                    final = final*7.5\n",
    "            else:\n",
    "                final = np.mean([int(value) for value in result])\n",
    "                \n",
    "            print(\"O-If: \",final)\n",
    "            return final\n",
    "        else:\n",
    "            result = result[0]\n",
    "            print(\"I-Else: \",result)\n",
    "            \n",
    "            if \"k\" in result:\n",
    "                k_value = int(result.strip(\"k\"))\n",
    "                # Treat special case\n",
    "                if k_value < 1000:\n",
    "                    result = k_value*1000\n",
    "                else:\n",
    "                    result = k_value\n",
    "            elif len(result) < 5:\n",
    "                result = int(result)*260\n",
    "                if not per_day:\n",
    "                    result = int(result)*7.5\n",
    "            else:\n",
    "                result = int(result)\n",
    "            print(\"O-Else: \", result)\n",
    "            print(\"========\\n\")\n",
    "            return result\n",
    "    else:\n",
    "        return 0"
   ]
  },
  {
   "cell_type": "code",
   "execution_count": 38,
   "metadata": {
    "ExecuteTime": {
     "end_time": "2019-05-15T09:28:17.928953Z",
     "start_time": "2019-05-15T09:28:17.829363Z"
    },
    "scrolled": true
   },
   "outputs": [
    {
     "name": "stdout",
     "output_type": "stream",
     "text": [
      "=======================B4:  ['118513', '137829', '118513', '137829', '118513', '137829', '118513', '137829']\n",
      "I-If:  ['118513', '137829']\n",
      "O-If:  128171.0\n",
      "=======================B4:  ['700', '1000']\n",
      "I-If:  ['700', '1000']\n",
      "O-If:  221000.0\n",
      "=======================B4:  ['118513', '137829', '118513', '137829', '118513', '137829', '118513', '137829']\n",
      "I-If:  ['118513', '137829']\n",
      "O-If:  128171.0\n",
      "=======================B4:  ['160']\n",
      "I-Else:  160\n",
      "O-Else:  312000.0\n",
      "========\n",
      "\n",
      "=======================B4:  ['950', '1040']\n",
      "I-If:  ['950', '1040']\n",
      "O-If:  258700.0\n",
      "=======================B4:  ['650', '800']\n",
      "I-If:  ['650', '800']\n",
      "O-If:  188500.0\n",
      "=======================B4:  ['140k']\n",
      "I-Else:  140k\n",
      "O-Else:  140000\n",
      "========\n",
      "\n",
      "=======================B4:  ['500']\n",
      "I-Else:  500\n",
      "O-Else:  130000\n",
      "========\n",
      "\n",
      "=======================B4:  ['150k']\n",
      "I-Else:  150k\n",
      "O-Else:  150000\n",
      "========\n",
      "\n",
      "=======================B4:  ['100000', '119999']\n",
      "I-If:  ['100000', '119999']\n",
      "O-If:  109999.5\n",
      "=======================B4:  ['150000']\n",
      "I-Else:  150000\n",
      "O-Else:  150000\n",
      "========\n",
      "\n",
      "=======================B4:  ['110k', '150k']\n",
      "I-If:  ['110k', '150k']\n",
      "O-If:  130000.0\n",
      "=======================B4:  ['60', '79']\n",
      "I-If:  ['60', '79']\n",
      "O-If:  135525.0\n",
      "=======================B4:  ['120k', '150k']\n",
      "I-If:  ['120k', '150k']\n",
      "O-If:  135000.0\n",
      "=======================B4:  ['130k']\n",
      "I-Else:  130k\n",
      "O-Else:  130000\n",
      "========\n",
      "\n",
      "=======================B4:  ['200']\n",
      "I-Else:  200\n",
      "O-Else:  390000.0\n",
      "========\n",
      "\n",
      "=======================B4:  ['110k', '115k']\n",
      "I-If:  ['110k', '115k']\n",
      "O-If:  112500.0\n",
      "=======================B4:  ['150k']\n",
      "I-Else:  150k\n",
      "O-Else:  150000\n",
      "========\n",
      "\n",
      "=======================B4:  ['130k']\n",
      "I-Else:  130k\n",
      "O-Else:  130000\n",
      "========\n",
      "\n",
      "=======================B4:  ['130k']\n",
      "I-Else:  130k\n",
      "O-Else:  130000\n",
      "========\n",
      "\n",
      "=======================B4:  ['150k']\n",
      "I-Else:  150k\n",
      "O-Else:  150000\n",
      "========\n",
      "\n",
      "=======================B4:  ['120k']\n",
      "I-Else:  120k\n",
      "O-Else:  120000\n",
      "========\n",
      "\n",
      "=======================B4:  ['130000', '160000']\n",
      "I-If:  ['130000', '160000']\n",
      "O-If:  145000.0\n",
      "=======================B4:  ['130', '200k']\n",
      "I-If:  ['130', '200k']\n",
      "<class 'list'>\n",
      "<class 'str'>\n"
     ]
    },
    {
     "ename": "TypeError",
     "evalue": "unsupported operand type(s) for +: 'int' and 'list'",
     "output_type": "error",
     "traceback": [
      "\u001b[0;31m---------------------------------------------------------------------------\u001b[0m",
      "\u001b[0;31mTypeError\u001b[0m                                 Traceback (most recent call last)",
      "\u001b[0;32m<ipython-input-38-2d49897fec04>\u001b[0m in \u001b[0;36m<module>\u001b[0;34m\u001b[0m\n\u001b[0;32m----> 1\u001b[0;31m \u001b[0mframe\u001b[0m\u001b[0;34m[\u001b[0m\u001b[0;34m'wage'\u001b[0m\u001b[0;34m]\u001b[0m \u001b[0;34m=\u001b[0m \u001b[0mframe\u001b[0m\u001b[0;34m[\u001b[0m\u001b[0;34m'wage'\u001b[0m\u001b[0;34m]\u001b[0m\u001b[0;34m.\u001b[0m\u001b[0mmap\u001b[0m\u001b[0;34m(\u001b[0m\u001b[0;32mlambda\u001b[0m \u001b[0mrow\u001b[0m\u001b[0;34m:\u001b[0m \u001b[0mget_wage\u001b[0m\u001b[0;34m(\u001b[0m\u001b[0mregex_wage\u001b[0m\u001b[0;34m,\u001b[0m\u001b[0mstr\u001b[0m\u001b[0;34m(\u001b[0m\u001b[0mrow\u001b[0m\u001b[0;34m)\u001b[0m\u001b[0;34m)\u001b[0m\u001b[0;34m)\u001b[0m\u001b[0;34m\u001b[0m\u001b[0;34m\u001b[0m\u001b[0m\n\u001b[0m",
      "\u001b[0;32m~/Anaconda3/envs/caps_env/lib/python3.6/site-packages/pandas/core/series.py\u001b[0m in \u001b[0;36mmap\u001b[0;34m(self, arg, na_action)\u001b[0m\n\u001b[1;32m   3380\u001b[0m         \"\"\"\n\u001b[1;32m   3381\u001b[0m         new_values = super(Series, self)._map_values(\n\u001b[0;32m-> 3382\u001b[0;31m             arg, na_action=na_action)\n\u001b[0m\u001b[1;32m   3383\u001b[0m         return self._constructor(new_values,\n\u001b[1;32m   3384\u001b[0m                                  index=self.index).__finalize__(self)\n",
      "\u001b[0;32m~/Anaconda3/envs/caps_env/lib/python3.6/site-packages/pandas/core/base.py\u001b[0m in \u001b[0;36m_map_values\u001b[0;34m(self, mapper, na_action)\u001b[0m\n\u001b[1;32m   1216\u001b[0m \u001b[0;34m\u001b[0m\u001b[0m\n\u001b[1;32m   1217\u001b[0m         \u001b[0;31m# mapper is a function\u001b[0m\u001b[0;34m\u001b[0m\u001b[0;34m\u001b[0m\u001b[0;34m\u001b[0m\u001b[0m\n\u001b[0;32m-> 1218\u001b[0;31m         \u001b[0mnew_values\u001b[0m \u001b[0;34m=\u001b[0m \u001b[0mmap_f\u001b[0m\u001b[0;34m(\u001b[0m\u001b[0mvalues\u001b[0m\u001b[0;34m,\u001b[0m \u001b[0mmapper\u001b[0m\u001b[0;34m)\u001b[0m\u001b[0;34m\u001b[0m\u001b[0;34m\u001b[0m\u001b[0m\n\u001b[0m\u001b[1;32m   1219\u001b[0m \u001b[0;34m\u001b[0m\u001b[0m\n\u001b[1;32m   1220\u001b[0m         \u001b[0;32mreturn\u001b[0m \u001b[0mnew_values\u001b[0m\u001b[0;34m\u001b[0m\u001b[0;34m\u001b[0m\u001b[0m\n",
      "\u001b[0;32mpandas/_libs/lib.pyx\u001b[0m in \u001b[0;36mpandas._libs.lib.map_infer\u001b[0;34m()\u001b[0m\n",
      "\u001b[0;32m<ipython-input-38-2d49897fec04>\u001b[0m in \u001b[0;36m<lambda>\u001b[0;34m(row)\u001b[0m\n\u001b[0;32m----> 1\u001b[0;31m \u001b[0mframe\u001b[0m\u001b[0;34m[\u001b[0m\u001b[0;34m'wage'\u001b[0m\u001b[0;34m]\u001b[0m \u001b[0;34m=\u001b[0m \u001b[0mframe\u001b[0m\u001b[0;34m[\u001b[0m\u001b[0;34m'wage'\u001b[0m\u001b[0;34m]\u001b[0m\u001b[0;34m.\u001b[0m\u001b[0mmap\u001b[0m\u001b[0;34m(\u001b[0m\u001b[0;32mlambda\u001b[0m \u001b[0mrow\u001b[0m\u001b[0;34m:\u001b[0m \u001b[0mget_wage\u001b[0m\u001b[0;34m(\u001b[0m\u001b[0mregex_wage\u001b[0m\u001b[0;34m,\u001b[0m\u001b[0mstr\u001b[0m\u001b[0;34m(\u001b[0m\u001b[0mrow\u001b[0m\u001b[0;34m)\u001b[0m\u001b[0;34m)\u001b[0m\u001b[0;34m)\u001b[0m\u001b[0;34m\u001b[0m\u001b[0;34m\u001b[0m\u001b[0m\n\u001b[0m",
      "\u001b[0;32m<ipython-input-37-209e8be6ead0>\u001b[0m in \u001b[0;36mget_wage\u001b[0;34m(regex, sample)\u001b[0m\n\u001b[1;32m     30\u001b[0m                 \u001b[0mprint\u001b[0m\u001b[0;34m(\u001b[0m\u001b[0mtype\u001b[0m\u001b[0;34m(\u001b[0m\u001b[0mresult\u001b[0m\u001b[0;34m[\u001b[0m\u001b[0;36m0\u001b[0m\u001b[0;34m]\u001b[0m\u001b[0;34m)\u001b[0m\u001b[0;34m)\u001b[0m\u001b[0;34m\u001b[0m\u001b[0;34m\u001b[0m\u001b[0m\n\u001b[1;32m     31\u001b[0m \u001b[0;34m\u001b[0m\u001b[0m\n\u001b[0;32m---> 32\u001b[0;31m                 \u001b[0mfinal\u001b[0m \u001b[0;34m=\u001b[0m \u001b[0;34m(\u001b[0m\u001b[0mint\u001b[0m\u001b[0;34m(\u001b[0m\u001b[0mresult\u001b[0m\u001b[0;34m[\u001b[0m\u001b[0;36m0\u001b[0m\u001b[0;34m]\u001b[0m\u001b[0;34m)\u001b[0m \u001b[0;34m+\u001b[0m \u001b[0mk_value\u001b[0m\u001b[0;34m)\u001b[0m\u001b[0;34m/\u001b[0m\u001b[0;36m2\u001b[0m\u001b[0;34m\u001b[0m\u001b[0;34m\u001b[0m\u001b[0m\n\u001b[0m\u001b[1;32m     33\u001b[0m \u001b[0;34m\u001b[0m\u001b[0m\n\u001b[1;32m     34\u001b[0m             \u001b[0;31m# Case-of \"k\" appears 1time at first.\u001b[0m\u001b[0;34m\u001b[0m\u001b[0;34m\u001b[0m\u001b[0;34m\u001b[0m\u001b[0m\n",
      "\u001b[0;31mTypeError\u001b[0m: unsupported operand type(s) for +: 'int' and 'list'"
     ]
    }
   ],
   "source": [
    "frame['wage'] = frame['wage'].map(lambda row: get_wage(regex_wage,str(row)))"
   ]
  },
  {
   "cell_type": "code",
   "execution_count": 26,
   "metadata": {
    "ExecuteTime": {
     "end_time": "2019-05-15T09:21:24.123938Z",
     "start_time": "2019-05-15T09:21:24.101656Z"
    }
   },
   "outputs": [
    {
     "name": "stdout",
     "output_type": "stream",
     "text": [
      "<class 'pandas.core.frame.DataFrame'>\n",
      "RangeIndex: 8354 entries, 0 to 8353\n",
      "Data columns (total 7 columns):\n",
      "content       8054 non-null object\n",
      "industries    8054 non-null object\n",
      "location      8054 non-null object\n",
      "title         8054 non-null object\n",
      "type_empl     8054 non-null object\n",
      "url           8354 non-null object\n",
      "wage          8354 non-null int64\n",
      "dtypes: int64(1), object(6)\n",
      "memory usage: 456.9+ KB\n"
     ]
    }
   ],
   "source": [
    "frame['wage'] = frame['wage'].astype('int64')\n",
    "frame.info()"
   ]
  },
  {
   "cell_type": "code",
   "execution_count": 27,
   "metadata": {
    "ExecuteTime": {
     "end_time": "2019-05-15T09:21:26.839188Z",
     "start_time": "2019-05-15T09:21:26.827723Z"
    }
   },
   "outputs": [
    {
     "data": {
      "text/plain": [
       "array([       0,   128171,   221000,   312000,   258700,   188500,\n",
       "         140000,   130000,   150000,   109999,   135525,   135000,\n",
       "         390000,   112500,   120000,   145000,   100065,   115000,\n",
       "         234000,   155000,   102500,   180000,    78000,   218400,\n",
       "         208000,   200000,   273000,   546000,   149500,   160000,\n",
       "         169000,   105000,   182000,  1384500,   100000,  1540500,\n",
       "        1755000,  1218750,   122500,    95550,   155348,    90000,\n",
       "         227500,  1365000,    91650,   136500,   103120,  1594125,\n",
       "         156000,    84000,   139100,   114999,    79999,   116000,\n",
       "        1852500,    85000,    77500,   110000, 75065000,   104000,\n",
       "         195000,   125000,   176800,  1613625,    57499,   110065,\n",
       "         165750,    63000,  1267500,   780000,  1511250,    95000,\n",
       "          84500,   112400,   290000,   152955,  1560000,   120450,\n",
       "          59800,   101400,   230000,   139999,    55000,   253500,\n",
       "         175000,    60000,   117000,   146250,     8060,    62500,\n",
       "         102375,  2827500,   175500,    80000,   187200,    70000,\n",
       "         210000,   101702,   215800,   107250,   162500,    50450,\n",
       "        1462500,    72499,   107500,   182500,    58500,   185000,\n",
       "         112125,    87750,    87500,   149999,    63375,  1170000,\n",
       "          75000,    58000,   170000,    75075,    82499,    92500,\n",
       "          49999,    96367,   165000,   640000,  1657500,   130944,\n",
       "          77499,    97500,   126750,   129999,   127500,    71500,\n",
       "          72328,    58499,    83000,  1413750,    42499,    77673,\n",
       "          64750,    59999,    87747,   118728,   131000,   227760,\n",
       "          82500,    47500,   137400,   214500,   124999,    94888,\n",
       "        1447875,    52500,    72500,    85070,    88725,    64000,\n",
       "         106221,   364000,   338000,    99450,   126299,    52122,\n",
       "         108500,   136483,    89999,   377000,  1608750,   179999,\n",
       "          65060,   400000,   143000,   200500,    99999,    52499,\n",
       "          69766,    69999,    91039,    67499,   132500,    67500,\n",
       "         201500,   137500,    65000,   102291,    81900,    74999,\n",
       "         185250,   104999,   100168,    98084,    40030,    53402,\n",
       "         137899,   131400,   188550,    40000,   155025,   152500,\n",
       "          62400,    66300,  2925000,   100425,   250000,    82875,\n",
       "          61676,   106275,    84152,    57500,    48750,    84999,\n",
       "          68000,   117500,    56550,    74100,    69225,   102852,\n",
       "          44999,    52650,    53625,    51675,   615221,   119999,\n",
       "         131625,    76777,    47499,    30025,   154999,   111463,\n",
       "          72265,   123074,    87575,    88345,    79262,   102000,\n",
       "          80925,    68250,   148444,    80509,    89153,   113369,\n",
       "          68683,    94265,    99500,    71557,    64350,   107499,\n",
       "          27596,    70281,    87930,    92924,    69263,    71217,\n",
       "          50700,   112529,    55500,   174590,   102365,   104124,\n",
       "         173550,   117537,   100534,   204750,   202800,    84825,\n",
       "         108225,   182325,    83850,     8320,   188890,   224250,\n",
       "         117975,   179400,   113100,    26000,   159999,    75065,\n",
       "         370500,   174999,   292500,   171600, 48045000,   490000,\n",
       "         110500,   147500,   220000,    60450,   120900,   190000,\n",
       "          94999,    68177,    85082,    91000,   106754,    32516,\n",
       "          73580,   650000,   164999,    76650,   199875,    97650,\n",
       "          47000,    62499,    85120,   170625,   877500,   114508,\n",
       "         121875,   111246,   230100,    73000,   234650,    32500,\n",
       "         260000,    70200,    54999,   144999,    97499,    54000,\n",
       "         286000,   243750,    50000,    89000,    66000,    54600,\n",
       "         153000,    47545,   102499,    85011,    85800,    87499,\n",
       "          67275,   216450,   160748,    60500,    73500,    42000,\n",
       "          58710,   215000,    92525,   106316,   142500,    89866,\n",
       "          88500,   213525,    81489,    35532,   140400,   108032,\n",
       "         117250,   208130,    80191,   116978,    87013,   132360,\n",
       "         682500,    75135,   105453,   247000,   123500,    89251,\n",
       "          74981,    41448,   100669,    83200,    57000,    13000,\n",
       "          84951,    68506,    84947,    14300,    86479,    73225,\n",
       "          57937,    91868,    27300,   196560,   108637,    15899,\n",
       "         105600,   219180,    79057,    78500,   254540,   104749,\n",
       "          39037,    86000,   252460,   225000,   157500,   169999,\n",
       "        1072500,  1023750,    31200,   135200,    69580,  1291875,\n",
       "          60045,  1243125,    98663,    40032,    84514,    91472,\n",
       "          65325, 45040000,   132600,    86578,   104213,   127000,\n",
       "         139016,    78463,    92625,    55328,    63015,    92105,\n",
       "          73034,    55575,    96629,   211575,    99489,   107119,\n",
       "          49500,    97585,   103250,   121758,    42537,   114615,\n",
       "          55047,    71820,    65052,   110294,   101500,   159900,\n",
       "          59500,   950625,    57525,   113524,   124965,    77396,\n",
       "          93421,   113430,    74465,   170300,    79950,   351000,\n",
       "          13780,    99850,    36549,   101000,    15900,    87714,\n",
       "          49725,   500000])"
      ]
     },
     "execution_count": 27,
     "metadata": {},
     "output_type": "execute_result"
    }
   ],
   "source": [
    "frame['wage'].unique()"
   ]
  },
  {
   "cell_type": "code",
   "execution_count": 31,
   "metadata": {
    "ExecuteTime": {
     "end_time": "2019-05-15T09:21:59.509756Z",
     "start_time": "2019-05-15T09:21:59.500985Z"
    }
   },
   "outputs": [
    {
     "data": {
      "text/plain": [
       "'https://www.seek.com.au/job/38915724?type=standout&searchrequesttoken=d0b07562-538a-480d-ab14-3078fa096fbe'"
      ]
     },
     "execution_count": 31,
     "metadata": {},
     "output_type": "execute_result"
    }
   ],
   "source": [
    "frame[frame['wage'] > 10000000]['url'].iloc[0]"
   ]
  },
  {
   "cell_type": "code",
   "execution_count": 10,
   "metadata": {
    "ExecuteTime": {
     "end_time": "2019-05-15T08:28:48.687218Z",
     "start_time": "2019-05-15T08:28:48.657279Z"
    }
   },
   "outputs": [
    {
     "name": "stdout",
     "output_type": "stream",
     "text": [
      "<class 'pandas.core.frame.DataFrame'>\n",
      "Int64Index: 1764 entries, 6 to 8352\n",
      "Data columns (total 7 columns):\n",
      "content       1764 non-null object\n",
      "industries    1764 non-null object\n",
      "location      1764 non-null object\n",
      "title         1764 non-null object\n",
      "type_empl     1764 non-null object\n",
      "url           1764 non-null object\n",
      "wage          1764 non-null int64\n",
      "dtypes: int64(1), object(6)\n",
      "memory usage: 110.2+ KB\n"
     ]
    }
   ],
   "source": [
    "frame1 = frame[frame['wage'] > 0]\n",
    "frame1.info()"
   ]
  },
  {
   "cell_type": "code",
   "execution_count": 11,
   "metadata": {
    "ExecuteTime": {
     "end_time": "2019-05-15T08:28:48.707444Z",
     "start_time": "2019-05-15T08:28:48.691931Z"
    }
   },
   "outputs": [
    {
     "data": {
      "text/plain": [
       "Sydney, CBD, Inner West & Eastern Suburbs      660\n",
       "Melbourne, CBD & Inner Suburbs                 322\n",
       "Brisbane, CBD & Inner Suburbs                  142\n",
       "Sydney                                         106\n",
       "Sydney, North Shore & Northern Beaches         102\n",
       "Sydney, Parramatta & Western Suburbs            99\n",
       "Melbourne                                       55\n",
       "Melbourne, Bayside & South Eastern Suburbs      50\n",
       "Brisbane                                        34\n",
       "Sydney, Ryde & Macquarie Park                   34\n",
       "Melbourne, Western Suburbs                      29\n",
       "Melbourne, Eastern Suburbs                      26\n",
       "Sydney, South West & M5 Corridor                23\n",
       "Melbourne, Northern Suburbs                     23\n",
       "Sydney, Southern Suburbs & Sutherland Shire     14\n",
       "Sydney, North West & Hills District             14\n",
       "Brisbane, Northern Suburbs                      10\n",
       "Brisbane, Southern Suburbs & Logan              10\n",
       "Brisbane, Western Suburbs & Ipswich              7\n",
       "Brisbane, Bayside & Eastern Suburbs              3\n",
       "Gladstone & Central QLD                          1\n",
       "Name: location, dtype: int64"
      ]
     },
     "execution_count": 11,
     "metadata": {},
     "output_type": "execute_result"
    }
   ],
   "source": [
    "frame1['location'].value_counts()"
   ]
  },
  {
   "cell_type": "code",
   "execution_count": 12,
   "metadata": {
    "ExecuteTime": {
     "end_time": "2019-05-15T08:28:48.733917Z",
     "start_time": "2019-05-15T08:28:48.714028Z"
    }
   },
   "outputs": [
    {
     "data": {
      "text/plain": [
       "Information & Communication Technology    560\n",
       "Accounting                                287\n",
       "Marketing & Communications                154\n",
       "Banking & Financial Services               96\n",
       "Sales                                      90\n",
       "Education & Training                       80\n",
       "Government & Defence                       73\n",
       "Healthcare & Medical                       54\n",
       "Manufacturing, Transport & Logistics       54\n",
       "Science & Technology                       52\n",
       "Human Resources & Recruitment              40\n",
       "Administration & Office Support            39\n",
       "Engineering                                32\n",
       "Retail & Consumer Products                 28\n",
       "Consulting & Strategy                      22\n",
       "Insurance & Superannuation                 18\n",
       "Call Centre & Customer Service             16\n",
       "Construction                               12\n",
       "Advertising, Arts & Media                  12\n",
       "Real Estate & Property                     10\n",
       "Legal                                       8\n",
       "Community Services & Development            6\n",
       "Mining, Resources & Energy                  5\n",
       "Trades & Services                           5\n",
       "Hospitality & Tourism                       5\n",
       "Design & Architecture                       4\n",
       "CEO & General Management                    1\n",
       "Farming, Animals & Conservation             1\n",
       "Name: industries, dtype: int64"
      ]
     },
     "execution_count": 12,
     "metadata": {},
     "output_type": "execute_result"
    }
   ],
   "source": [
    "frame1['industries'].value_counts()"
   ]
  },
  {
   "cell_type": "code",
   "execution_count": 13,
   "metadata": {
    "ExecuteTime": {
     "end_time": "2019-05-15T08:28:48.843693Z",
     "start_time": "2019-05-15T08:28:48.738479Z"
    }
   },
   "outputs": [
    {
     "name": "stderr",
     "output_type": "stream",
     "text": [
      "/home/shayne/Anaconda3/envs/caps_env/lib/python3.6/site-packages/ipykernel_launcher.py:1: SettingWithCopyWarning: \n",
      "A value is trying to be set on a copy of a slice from a DataFrame.\n",
      "Try using .loc[row_indexer,col_indexer] = value instead\n",
      "\n",
      "See the caveats in the documentation: http://pandas.pydata.org/pandas-docs/stable/indexing.html#indexing-view-versus-copy\n",
      "  \"\"\"Entry point for launching an IPython kernel.\n"
     ]
    }
   ],
   "source": [
    "frame1['content'] = frame1['content'].map(lambda row: re.sub(regex_html,'',row))"
   ]
  },
  {
   "cell_type": "code",
   "execution_count": 14,
   "metadata": {
    "ExecuteTime": {
     "end_time": "2019-05-15T08:28:48.861408Z",
     "start_time": "2019-05-15T08:28:48.846649Z"
    }
   },
   "outputs": [
    {
     "name": "stdout",
     "output_type": "stream",
     "text": [
      "https://www.seek.com.au/job/38988764?type=standout&searchrequesttoken=7dd0818a-ae26-4408-918c-981552979733\n",
      "======================\n",
      "128171\n",
      "======================\n"
     ]
    },
    {
     "data": {
      "text/plain": [
       "\"Salary from $118,513 to $137,829 (depending on experience) + 15.4% superannuation Flexible location - Sydney or Melbourne CBD Lead a small team, contributing to the regulation of Australia's Wealth Management industry A future with ASIC means that your work will contribute to ASIC's vision for a fair, strong and efficient financial system for all Australians. We value what you will bring. We value those with sharp, analytical minds and are open to challenging the way things are done. The team Wealth Management is a critical part of Australia's financial system and has significant impact on the well-being of Australians. The role of ASIC's Wealth Management Group is to regulate the conduct of investment managers, superannuation funds and financial advisers. The Strategy, Analysis & Operations team provides specialist services to support the work of the Wealth Management Group. It provides strategic guidance on business planning and reporting, management of group performance, budget planning and oversight, data analysis and research, project management and administrative support. The role As a Team Leader, you will make a valuable contribution to the work of Wealth Management Group by: managing a team of data analysts and researchers to identify and assess evolving trends, emerging risks and systemic misconduct in financial services and wealth management industry providing expert support and guidance to Wealth Management teams by conducting operational and strategic data analysis designing and advising on processes to collect, organise, clean and explore data scoping, identifying and establishing data analysis methodologies to address research questions analysing structured and unstructured data using statistical or machine learning approaches communicating analytical findings, including through reports, briefings, presentations and data visualisation About you To be successful in this role, you will demonstrate the following skills and experience: substantial experience working in an analytics role, ideally within a corporate, consulting, government or academic environment experience leading small teams, and achieving results through people deep technical knowledge of sophisticated statistical and algorithmic methods ability to interpret data for decision making and problem solving strong business acumen applying statistic or machine learning approaches experience in programming languages - R or Python preferred project and client management skills Bachelor's degree in a quantitative discipline such as Actuarial, Statistics, Mathematics, Computer Science, Engineering or Economics experience in regulation or financial services will be highly regarded About ASIC ASIC is Australia's integrated corporate, markets, financial services and consumer credit regulator. ASIC has a broad mandate. We are a regulator; a policy advisory body; a consumer protection agency; a licensing body; a financial educator and consumer advocate; and a company and professional registry. And we are a law enforcement agency. This work is directed to one principal aim: to realise ASIC's vision for a fair, strong and efficient financial system for all Australians. Underpinning ASIC's vision is the recognition that every cent in the financial system is other people's money. A future with ASIC means that your work will contribute to achieving ASIC's vision. To work with us, you must be an Australian citizen, and be prepared to complete an ASIC Suitability and Baseline Assessment which is issued by ASIC's Personnel Security Team. Please view the position description for more information or click ‘apply' to start your application.\""
      ]
     },
     "execution_count": 14,
     "metadata": {},
     "output_type": "execute_result"
    }
   ],
   "source": [
    "no = 0\n",
    "print(frame1['url'].iloc[no])\n",
    "print(\"======================\")\n",
    "print(frame1['wage'].iloc[no])\n",
    "print(\"======================\")\n",
    "frame1['content'].iloc[no]"
   ]
  },
  {
   "cell_type": "code",
   "execution_count": null,
   "metadata": {},
   "outputs": [],
   "source": []
  }
 ],
 "metadata": {
  "kernelspec": {
   "display_name": "Python 3",
   "language": "python",
   "name": "python3"
  },
  "language_info": {
   "codemirror_mode": {
    "name": "ipython",
    "version": 3
   },
   "file_extension": ".py",
   "mimetype": "text/x-python",
   "name": "python",
   "nbconvert_exporter": "python",
   "pygments_lexer": "ipython3",
   "version": "3.6.8"
  },
  "toc": {
   "base_numbering": 1,
   "nav_menu": {},
   "number_sections": true,
   "sideBar": true,
   "skip_h1_title": false,
   "title_cell": "Table of Contents",
   "title_sidebar": "Contents",
   "toc_cell": false,
   "toc_position": {},
   "toc_section_display": true,
   "toc_window_display": false
  }
 },
 "nbformat": 4,
 "nbformat_minor": 2
}
