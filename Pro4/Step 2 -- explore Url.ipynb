{
 "cells": [
  {
   "cell_type": "code",
   "execution_count": 15,
   "metadata": {
    "ExecuteTime": {
     "end_time": "2019-05-14T12:37:00.780930Z",
     "start_time": "2019-05-14T12:37:00.775932Z"
    }
   },
   "outputs": [],
   "source": [
    "import os, csv, re\n",
    "import pandas as pd\n",
    "import numpy as np\n",
    "import calendar\n",
    "from datetime import date\n",
    "\n",
    "# Regular Expression\n",
    "reg_job_id = r'([0-9]{8})'\n",
    "\n",
    "# folder path\n",
    "folder = './jobs_csv/'\n",
    "\n",
    "# final file\n",
    "dest_url = './training/jobs'\n",
    "\n",
    "# Extend Columns\n",
    "new_columns = ['title','wage','content']"
   ]
  },
  {
   "cell_type": "code",
   "execution_count": 4,
   "metadata": {
    "ExecuteTime": {
     "end_time": "2019-05-14T12:35:27.955832Z",
     "start_time": "2019-05-14T12:35:27.950835Z"
    }
   },
   "outputs": [
    {
     "name": "stdout",
     "output_type": "stream",
     "text": [
      "Total files:  6\n",
      "['frame_Data-analytics_in_Brisbane_May-14-2019.csv', 'frame_Data-analytics_in_Melbourne_May-14-2019.csv', 'frame_Data-analytics_in_Sydney_May-14-2019.csv', 'frame_Data-Science_in_Brisbane_May-14-2019.csv', 'frame_Data-Science_in_Melbourne_May-14-2019.csv']\n"
     ]
    }
   ],
   "source": [
    "# Scan through the folder.\n",
    "entries = os.listdir(folder)\n",
    "print(\"Total files: \", len(entries))\n",
    "\n",
    "# Print out file names\n",
    "print([entry for entry in entries[:5]])"
   ]
  },
  {
   "cell_type": "code",
   "execution_count": 5,
   "metadata": {
    "ExecuteTime": {
     "end_time": "2019-05-14T12:35:28.964198Z",
     "start_time": "2019-05-14T12:35:28.910229Z"
    }
   },
   "outputs": [
    {
     "name": "stdout",
     "output_type": "stream",
     "text": [
      "Length:  655\n",
      "Length:  1510\n",
      "Length:  2614\n",
      "Length:  220\n",
      "Length:  502\n",
      "Length:  720\n"
     ]
    },
    {
     "data": {
      "text/plain": [
       "6221"
      ]
     },
     "execution_count": 5,
     "metadata": {},
     "output_type": "execute_result"
    }
   ],
   "source": [
    "# Read file and push to list\n",
    "list_text = []\n",
    "# list_text.append([f.read() with open(file,'r') as f for file in entries])\n",
    "\n",
    "for entry in entries:\n",
    "    file = folder + entry\n",
    "#     print(file)\n",
    "    df_temp = pd.read_csv(str(file))\n",
    "#     csv_reader = csv.reader(file,  delimiter=',')\n",
    "    \n",
    "#     with open(file, 'r') as f:\n",
    "#         data = f.read()\n",
    "#         print(\"====================\")\n",
    "#         print(file)\n",
    "#         print(\"Read: \", len(data))\n",
    "    urls = df_temp['url'].values\n",
    "    print(\"Length: \", len(df_temp['url']))\n",
    "    list_text.extend(urls)\n",
    "len(list_text)"
   ]
  },
  {
   "cell_type": "code",
   "execution_count": 6,
   "metadata": {
    "ExecuteTime": {
     "end_time": "2019-05-14T12:35:35.636386Z",
     "start_time": "2019-05-14T12:35:35.630378Z"
    }
   },
   "outputs": [],
   "source": [
    "frame = pd.DataFrame(list_text, columns=['url'])"
   ]
  },
  {
   "cell_type": "code",
   "execution_count": 7,
   "metadata": {
    "ExecuteTime": {
     "end_time": "2019-05-14T12:35:36.688461Z",
     "start_time": "2019-05-14T12:35:36.679452Z"
    }
   },
   "outputs": [
    {
     "name": "stdout",
     "output_type": "stream",
     "text": [
      "<class 'pandas.core.frame.DataFrame'>\n",
      "RangeIndex: 6221 entries, 0 to 6220\n",
      "Data columns (total 1 columns):\n",
      "url    6221 non-null object\n",
      "dtypes: object(1)\n",
      "memory usage: 48.7+ KB\n"
     ]
    }
   ],
   "source": [
    "frame.info()"
   ]
  },
  {
   "cell_type": "code",
   "execution_count": 8,
   "metadata": {
    "ExecuteTime": {
     "end_time": "2019-05-14T12:35:37.186558Z",
     "start_time": "2019-05-14T12:35:37.171566Z"
    }
   },
   "outputs": [
    {
     "data": {
      "text/html": [
       "<div>\n",
       "<style scoped>\n",
       "    .dataframe tbody tr th:only-of-type {\n",
       "        vertical-align: middle;\n",
       "    }\n",
       "\n",
       "    .dataframe tbody tr th {\n",
       "        vertical-align: top;\n",
       "    }\n",
       "\n",
       "    .dataframe thead th {\n",
       "        text-align: right;\n",
       "    }\n",
       "</style>\n",
       "<table border=\"1\" class=\"dataframe\">\n",
       "  <thead>\n",
       "    <tr style=\"text-align: right;\">\n",
       "      <th></th>\n",
       "      <th>url</th>\n",
       "    </tr>\n",
       "  </thead>\n",
       "  <tbody>\n",
       "    <tr>\n",
       "      <th>0</th>\n",
       "      <td>https://www.seek.com.au/job/38867796?type=prom...</td>\n",
       "    </tr>\n",
       "    <tr>\n",
       "      <th>1</th>\n",
       "      <td>https://www.seek.com.au/job/39017806?type=stan...</td>\n",
       "    </tr>\n",
       "    <tr>\n",
       "      <th>2</th>\n",
       "      <td>https://www.seek.com.au/job/39017819?type=stan...</td>\n",
       "    </tr>\n",
       "    <tr>\n",
       "      <th>3</th>\n",
       "      <td>https://www.seek.com.au/job/39017831?type=stan...</td>\n",
       "    </tr>\n",
       "    <tr>\n",
       "      <th>4</th>\n",
       "      <td>https://www.seek.com.au/job/39017842?type=stan...</td>\n",
       "    </tr>\n",
       "  </tbody>\n",
       "</table>\n",
       "</div>"
      ],
      "text/plain": [
       "                                                 url\n",
       "0  https://www.seek.com.au/job/38867796?type=prom...\n",
       "1  https://www.seek.com.au/job/39017806?type=stan...\n",
       "2  https://www.seek.com.au/job/39017819?type=stan...\n",
       "3  https://www.seek.com.au/job/39017831?type=stan...\n",
       "4  https://www.seek.com.au/job/39017842?type=stan..."
      ]
     },
     "execution_count": 8,
     "metadata": {},
     "output_type": "execute_result"
    }
   ],
   "source": [
    "frame.head()"
   ]
  },
  {
   "cell_type": "code",
   "execution_count": 9,
   "metadata": {
    "ExecuteTime": {
     "end_time": "2019-05-14T12:35:37.806885Z",
     "start_time": "2019-05-14T12:35:37.803886Z"
    }
   },
   "outputs": [],
   "source": [
    "# print(re.search(reg_job_id,'https://www.seek.com.au/job/38871929?type=standout&searchrequesttoken=bd6bbb68-fcec-419b-a0d9-70aae1964de2')[0])"
   ]
  },
  {
   "cell_type": "code",
   "execution_count": 10,
   "metadata": {
    "ExecuteTime": {
     "end_time": "2019-05-14T12:35:38.794840Z",
     "start_time": "2019-05-14T12:35:38.777860Z"
    }
   },
   "outputs": [],
   "source": [
    "frame['job_id'] = frame['url'].map(lambda row: re.search(reg_job_id,row)[0])\n",
    "frame['job_id'].value_counts().sort_values(ascending=False).head()"
   ]
  },
  {
   "cell_type": "code",
   "execution_count": 12,
   "metadata": {
    "ExecuteTime": {
     "end_time": "2019-05-14T12:35:51.129522Z",
     "start_time": "2019-05-14T12:35:51.122526Z"
    }
   },
   "outputs": [],
   "source": [
    "# Drop duplicate and keep first\n",
    "frame = frame.drop_duplicates(subset='job_id',keep='first')"
   ]
  },
  {
   "cell_type": "code",
   "execution_count": 13,
   "metadata": {
    "ExecuteTime": {
     "end_time": "2019-05-14T12:35:51.603596Z",
     "start_time": "2019-05-14T12:35:51.594601Z"
    }
   },
   "outputs": [
    {
     "name": "stdout",
     "output_type": "stream",
     "text": [
      "<class 'pandas.core.frame.DataFrame'>\n",
      "Int64Index: 5474 entries, 0 to 6220\n",
      "Data columns (total 2 columns):\n",
      "url       5474 non-null object\n",
      "job_id    5474 non-null object\n",
      "dtypes: object(2)\n",
      "memory usage: 128.3+ KB\n"
     ]
    }
   ],
   "source": [
    "frame.info()"
   ]
  },
  {
   "cell_type": "code",
   "execution_count": 14,
   "metadata": {
    "ExecuteTime": {
     "end_time": "2019-05-14T12:35:52.335767Z",
     "start_time": "2019-05-14T12:35:52.323775Z"
    }
   },
   "outputs": [
    {
     "data": {
      "text/plain": [
       "38882256    1\n",
       "38996607    1\n",
       "38853850    1\n",
       "38864662    1\n",
       "38868754    1\n",
       "Name: job_id, dtype: int64"
      ]
     },
     "execution_count": 14,
     "metadata": {},
     "output_type": "execute_result"
    }
   ],
   "source": [
    "# Check again\n",
    "frame['job_id'].value_counts().sort_values(ascending=False).head()"
   ]
  },
  {
   "cell_type": "code",
   "execution_count": 16,
   "metadata": {
    "ExecuteTime": {
     "end_time": "2019-05-14T12:37:12.438456Z",
     "start_time": "2019-05-14T12:37:12.391483Z"
    }
   },
   "outputs": [
    {
     "name": "stdout",
     "output_type": "stream",
     "text": [
      "<class 'pandas.core.frame.DataFrame'>\n",
      "Int64Index: 5474 entries, 0 to 6220\n",
      "Data columns (total 1 columns):\n",
      "url    5474 non-null object\n",
      "dtypes: object(1)\n",
      "memory usage: 85.5+ KB\n"
     ]
    }
   ],
   "source": [
    "frame.drop(labels='job_id',axis=1, inplace=True)\n",
    "frame.info()"
   ]
  },
  {
   "cell_type": "code",
   "execution_count": 17,
   "metadata": {
    "ExecuteTime": {
     "end_time": "2019-05-14T12:38:11.228250Z",
     "start_time": "2019-05-14T12:38:11.201265Z"
    }
   },
   "outputs": [],
   "source": [
    "today = date.today()\n",
    "dest_url = dest_url + '_' + today.strftime(\"%b-%d-%Y\") + '.csv'\n",
    "frame.to_csv(dest_url, sep='|', encoding='utf-8',index=False)"
   ]
  },
  {
   "cell_type": "code",
   "execution_count": null,
   "metadata": {},
   "outputs": [],
   "source": []
  }
 ],
 "metadata": {
  "kernelspec": {
   "display_name": "Python 3",
   "language": "python",
   "name": "python3"
  },
  "language_info": {
   "codemirror_mode": {
    "name": "ipython",
    "version": 3
   },
   "file_extension": ".py",
   "mimetype": "text/x-python",
   "name": "python",
   "nbconvert_exporter": "python",
   "pygments_lexer": "ipython3",
   "version": "3.6.5"
  },
  "toc": {
   "base_numbering": 1,
   "nav_menu": {},
   "number_sections": true,
   "sideBar": true,
   "skip_h1_title": false,
   "title_cell": "Table of Contents",
   "title_sidebar": "Contents",
   "toc_cell": false,
   "toc_position": {},
   "toc_section_display": true,
   "toc_window_display": false
  }
 },
 "nbformat": 4,
 "nbformat_minor": 2
}
