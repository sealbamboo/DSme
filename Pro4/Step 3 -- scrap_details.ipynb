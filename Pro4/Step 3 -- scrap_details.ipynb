{
 "cells": [
  {
   "cell_type": "code",
   "execution_count": 1,
   "metadata": {
    "ExecuteTime": {
     "end_time": "2019-05-13T07:39:41.801837Z",
     "start_time": "2019-05-13T07:39:39.913577Z"
    }
   },
   "outputs": [],
   "source": [
    "import pandas as pd\n",
    "import numpy as np\n",
    "\n",
    "from bs4 import BeautifulSoup\n",
    "from scrapy.selector import Selector\n",
    "\n",
    "import re, requests, csv, html\n",
    "import lxml\n",
    "\n",
    "# Regex\n",
    "regex_html = r\"(\\<\\/?[a-zA-Z0-9\\=\\\"\\_\\s]+\\>)\"\n",
    "regex_html_4_content = r\"(\\<\\/?[a-zA-Z0-9\\=\\\"\\_\\s\\-]+\\>)\"\n",
    "regex_d_space = r\"(\\s{2,})\"\n",
    "regex_weblink = r\"(www.[A-Za-z\\.]+)\"\n",
    "\n",
    "# File url\n",
    "file_url = '../datasets/wsjhealth.txt'\n",
    "dest_url = './run_data/wsj_scrapt_v2.csv'\n",
    "\n",
    "# Basic list\n",
    "csv_header = ['title','location','type_empl','wage','industries','content']\n",
    "\n",
    "# Support scripts\n",
    "# %run -i scripts.py"
   ]
  },
  {
   "cell_type": "code",
   "execution_count": 6,
   "metadata": {
    "ExecuteTime": {
     "end_time": "2019-05-13T07:40:04.484840Z",
     "start_time": "2019-05-13T07:40:04.474512Z"
    }
   },
   "outputs": [],
   "source": [
    "# Merge list of string into a long text.\n",
    "def join_txt(list_txt):\n",
    "    # Join list of content into 1 simple paragraph\n",
    "    seperator = '. '\n",
    "    return seperator.join(list_txt)\n",
    "\n",
    "# Clear any html tags and decode the text\n",
    "def clear_html_and_unescape(sample):\n",
    "    # Clear html\n",
    "    result = re.sub(regex_html, '', sample[0])\n",
    "    \n",
    "    # Clear Unescape\n",
    "    result = html.unescape(result)\n",
    "    \n",
    "    return result\n",
    "\n",
    "# Clean Web content\n",
    "def clean_web_scrap_content(content):\n",
    "    \n",
    "    content = re.sub(regex_html_4_content,' ',content)\n",
    "    content = html.unescape(content)\n",
    "    content = re.sub(regex_d_space, ' ',content)\n",
    "    content = re.sub(regex_weblink,'website',content)\n",
    "    content = content.replace(u'\\xa0', u' ').lstrip().rstrip()\n",
    "    \n",
    "    return content"
   ]
  },
  {
   "cell_type": "code",
   "execution_count": 7,
   "metadata": {
    "ExecuteTime": {
     "end_time": "2019-05-13T07:40:06.665677Z",
     "start_time": "2019-05-13T07:40:05.321153Z"
    }
   },
   "outputs": [
    {
     "name": "stdout",
     "output_type": "stream",
     "text": [
      "Header:  200\n",
      "Title:  Store Manager | Hurstville | BIG W \n",
      "Location:  Sydney, South West & M5 Corridor\n",
      "Type Empl:  Full Time\n",
      "Wage:  \n",
      "Industries:  Retail & Consumer Products\n",
      "Content:  3581\n"
     ]
    }
   ],
   "source": [
    "# Test Cell\n",
    "\n",
    "url_w_salary = 'https://www.seek.com.au/job/38961481?type=standout&searchrequesttoken=500a5225-80f9-4fcf-88c4-4985e717adf2'\n",
    "url_wo_salary = 'https://www.seek.com.au/job/38952364?type=standout&searchrequesttoken=bd45b375-6e0c-4572-852c-1bfa7acc2952'\n",
    "\n",
    "url_generous_salary = 'https://www.seek.com.au/job/38931990?type=standard&searchrequesttoken=ddc9ad23-06e8-42c5-9691-a35a9f7c6c5e'\n",
    "url_test_random = 'https://www.seek.com.au/job/38843200?type=standard&searchrequesttoken=480f435f-3db5-4612-a554-a31df99c685e'\n",
    "\n",
    "# XPath Strings\n",
    "res = requests.get(url_test_random)\n",
    "if res.status_code  == 200:\n",
    "\n",
    "    print(\"Header: \", res.status_code)\n",
    "    # Initialize XPath\n",
    "    xpath_selector = Selector(text=res.text)\n",
    "    \n",
    "    # Title\n",
    "    # //h1[@class=\"jobtitle\"]\n",
    "    title = xpath_selector.xpath('//h1[@class=\"jobtitle\"]/text()').extract()\n",
    "\n",
    "    # Location\n",
    "    # //section[@role=\"region\"]/dl/dd[2]/span/span\n",
    "    location = xpath_selector.xpath('//section[@role=\"region\"]/dl/dd[2]/span/span').extract()\n",
    "    location = clear_html_and_unescape(location)\n",
    "    \n",
    "    # Type of Employee\n",
    "    # //section[@role=\"region\"]/dl/dd[3]/span/span\n",
    "    type_employee = xpath_selector.xpath('//section[@role=\"region\"]/dl/dd[3]/span/span').extract()\n",
    "    type_employee = re.sub(regex_html,'', type_employee[0])\n",
    "    \n",
    "    # Wage\n",
    "    # //*[contains(text(),'Salary')]\n",
    "    is_Salary = xpath_selector.xpath('//*[contains(text(),\"Salary\")]/text()').extract()\n",
    "    if is_Salary:\n",
    "        # TODO\n",
    "        wage = xpath_selector.xpath('//article/div[1]/div[2]/div/section/dl/div[1]/dd/span/span/text()').extract()\n",
    "        wage = wage[0]\n",
    "    else:\n",
    "        wage = ''\n",
    "        \n",
    "    # Industries\n",
    "    # //section[@role=\"region\"]/dl/div/dd/span/span/strong\n",
    "    industries = xpath_selector.xpath('//section[@role=\"region\"]/dl/div/dd/span/span/strong').extract()\n",
    "    industries = clear_html_and_unescape(industries)\n",
    "    \n",
    "    # Content\n",
    "    # //div[@data-automation=\"mobileTemplate\"]\n",
    "    content = xpath_selector.xpath('//div[@data-automation=\"mobileTemplate\"]').extract()\n",
    "    content = join_txt(content)\n",
    "    \n",
    "    # Print-out\n",
    "    print(\"Title: \", title[0])\n",
    "    print(\"Location: \", location)\n",
    "    print(\"Type Empl: \", type_employee)\n",
    "    print(\"Wage: \", wage)\n",
    "    print(\"Industries: \", industries)\n",
    "    print(\"Content: \", len(content))\n",
    "else:\n",
    "    print(\"[ERROR]: \", res.status_code)"
   ]
  },
  {
   "cell_type": "code",
   "execution_count": 8,
   "metadata": {
    "ExecuteTime": {
     "end_time": "2019-05-13T07:40:06.690230Z",
     "start_time": "2019-05-13T07:40:06.670133Z"
    }
   },
   "outputs": [
    {
     "data": {
      "text/plain": [
       "'<div data-automation=\"mobileTemplate\" class=\"_2e4Pi2B\"><p> </p><div> <div> <div></div> </div> </div> <ul><li>Are you ready to make a BIG difference for families?</li> <li>Are you an inspiring leader who puts your team and our customers first in everything you do?</li> <li>Large trading store with lots of growth</li> </ul><p></p><p><strong>What we\\'re like</strong></p> <p> </p><div>BIG W is one of Australia’s most loved brands and has been part of our families for over 40 years. At BIG W, we put our customer at the heart of everything we do across our network of 183 stores nationally. Our customers can choose everything for their kids, home, themselves, for leisure and for their everyday life, with exclusive BIG W brands that are simply great quality at low prices as well as feature leading international brands.</div> <div></div> <div>BIG W\\'s best and most valued asset is its team of 18,000 passionate people located in Australia, Hong Kong and Bangladesh. Our core values of caring deeply, listening and learning and always doing the right thing are how we put team and customer first every</div> <div>day.</div> <p> </p><p><br><strong>The Role</strong></p> <p> </p><p>It takes a special kind of individual to run a BIG W store. You\\xa0are\\xa0the heart &amp; mind of our shops, ensuring we make a real difference for families, by leading\\xa0and inspiring a customer and team first mindset in everything we do.\\xa0 You\\xa0oversee\\xa0a very big business, leading a team of 80-100+, multi million dollar sales, budgets and P&amp;Ls and supporting the delivery of the BIG W Strategy. \\xa0</p> <p> </p><p>Key Accountabilities include:</p> <p> </p><ul><li> <p><strong>Team</strong>\\xa0- inspiring and driving team engagement by leading by example and living our purpose, values and ways of working. Recruiting and developing a customer first team, including identifying future talent and succession planning</p> </li> <li> <p><strong>Customer</strong>\\xa0\\xa0- understanding and sharing key customer metrics and insights and using the freedom in our frameworks to\\xa0identify\\xa0areas or\\xa0ways to improve the customers experience. .</p> </li> <li> <p><strong>Commercial Management</strong>\\xa0- manage and deliver the store P&amp;L to achieve profit growth and develop store business plans,</p> </li> <li> <p><strong>Core Store Processes\\xa0</strong>- ensuring the delivery of the BIG W customer and sales plan, including day to day store presentation, set up of key events and marketing campaigns, visual merchandising as well as meeting stock management, loss prevention and safety measures</p> </li> </ul><p></p><p><strong>About You</strong></p><p> As Store Manager you will utilise your previous retail management experience to develop a high performing customer-focused leadership team. Your self-motivated nature will allow you to meet deadlines and oversee budgets in a rapidly changing environment. We will also looking for you to be able to demonstrate:\\xa0</p> <p> </p><ul><li> <p>Proven experience as a Leader of a successful large retail store.</p> </li> <li> <p>A deep love for customer with strong analytical skills to turn rich metrics into insights and actions</p> </li> <li> <p>You have a track recording of driving team engagement, including supporting teams through change, developing them in to high performing teams, and building talent for the future.</p> </li> <li> <p>You enjoy working in a fast-paced and ever changing environment.</p> </li> </ul><p> </p><p><strong>Sound like your next opportunity? Apply now or head along to\\xa0www.wowcareers.com.au\\xa0to discover more!</strong></p> \\xa0<p>\\n\\n</p></div>'"
      ]
     },
     "execution_count": 8,
     "metadata": {},
     "output_type": "execute_result"
    }
   ],
   "source": [
    "content"
   ]
  },
  {
   "cell_type": "code",
   "execution_count": 9,
   "metadata": {
    "ExecuteTime": {
     "end_time": "2019-05-13T07:40:06.706886Z",
     "start_time": "2019-05-13T07:40:06.696219Z"
    }
   },
   "outputs": [
    {
     "data": {
      "text/plain": [
       "\"Are you ready to make a BIG difference for families? Are you an inspiring leader who puts your team and our customers first in everything you do? Large trading store with lots of growth What we're like BIG W is one of Australia’s most loved brands and has been part of our families for over 40 years. At BIG W, we put our customer at the heart of everything we do across our network of 183 stores nationally. Our customers can choose everything for their kids, home, themselves, for leisure and for their everyday life, with exclusive BIG W brands that are simply great quality at low prices as well as feature leading international brands. BIG W's best and most valued asset is its team of 18,000 passionate people located in Australia, Hong Kong and Bangladesh. Our core values of caring deeply, listening and learning and always doing the right thing are how we put team and customer first every day. The Role It takes a special kind of individual to run a BIG W store. You are the heart & mind of our shops, ensuring we make a real difference for families, by leading and inspiring a customer and team first mindset in everything we do. You oversee a very big business, leading a team of 80-100+, multi million dollar sales, budgets and P&Ls and supporting the delivery of the BIG W Strategy. Key Accountabilities include: Team - inspiring and driving team engagement by leading by example and living our purpose, values and ways of working. Recruiting and developing a customer first team, including identifying future talent and succession planning Customer - understanding and sharing key customer metrics and insights and using the freedom in our frameworks to identify areas or ways to improve the customers experience. . Commercial Management - manage and deliver the store P&L to achieve profit growth and develop store business plans, Core Store Processes - ensuring the delivery of the BIG W customer and sales plan, including day to day store presentation, set up of key events and marketing campaigns, visual merchandising as well as meeting stock management, loss prevention and safety measures About You As Store Manager you will utilise your previous retail management experience to develop a high performing customer-focused leadership team. Your self-motivated nature will allow you to meet deadlines and oversee budgets in a rapidly changing environment. We will also looking for you to be able to demonstrate: Proven experience as a Leader of a successful large retail store. A deep love for customer with strong analytical skills to turn rich metrics into insights and actions You have a track recording of driving team engagement, including supporting teams through change, developing them in to high performing teams, and building talent for the future. You enjoy working in a fast-paced and ever changing environment. Sound like your next opportunity? Apply now or head along to website to discover more!\""
      ]
     },
     "execution_count": 9,
     "metadata": {},
     "output_type": "execute_result"
    }
   ],
   "source": [
    "content = clean_web_scrap_content(content)\n",
    "content"
   ]
  },
  {
   "cell_type": "code",
   "execution_count": null,
   "metadata": {},
   "outputs": [],
   "source": []
  }
 ],
 "metadata": {
  "kernelspec": {
   "display_name": "Python 3",
   "language": "python",
   "name": "python3"
  },
  "language_info": {
   "codemirror_mode": {
    "name": "ipython",
    "version": 3
   },
   "file_extension": ".py",
   "mimetype": "text/x-python",
   "name": "python",
   "nbconvert_exporter": "python",
   "pygments_lexer": "ipython3",
   "version": "3.6.8"
  },
  "toc": {
   "base_numbering": 1,
   "nav_menu": {},
   "number_sections": true,
   "sideBar": true,
   "skip_h1_title": false,
   "title_cell": "Table of Contents",
   "title_sidebar": "Contents",
   "toc_cell": false,
   "toc_position": {},
   "toc_section_display": true,
   "toc_window_display": false
  }
 },
 "nbformat": 4,
 "nbformat_minor": 2
}
