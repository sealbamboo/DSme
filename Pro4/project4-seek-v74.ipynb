{
 "cells": [
  {
   "cell_type": "code",
   "execution_count": 1,
   "metadata": {
    "ExecuteTime": {
     "end_time": "2019-05-06T13:15:03.486260Z",
     "start_time": "2019-05-06T13:15:00.985690Z"
    }
   },
   "outputs": [],
   "source": [
    "from selenium import webdriver\n",
    "from selenium.webdriver.common.keys import Keys\n",
    "from time import sleep \n",
    "\n",
    "browser = webdriver.Chrome('./chromedriver73')"
   ]
  },
  {
   "cell_type": "code",
   "execution_count": 2,
   "metadata": {
    "ExecuteTime": {
     "end_time": "2019-05-06T13:15:05.761430Z",
     "start_time": "2019-05-06T13:15:03.487259Z"
    }
   },
   "outputs": [],
   "source": [
    "# Navigate to target website\n",
    "website = 'https://www.seek.com.au/'\n",
    "\n",
    "# Controlled Website\n",
    "browser.get(website)\n",
    "\n",
    "# Set Keyword\n",
    "keyword = 'Data analytics'\n",
    "list_keywords = ['Data analytics','Data Science','Data Scientist','business analytics','bussiness intelligent']\n",
    "\n",
    "# Jobs per pages\n",
    "jpp = 20\n",
    "\n",
    "# Jobs in totals\n",
    "total = 0"
   ]
  },
  {
   "cell_type": "code",
   "execution_count": 3,
   "metadata": {
    "ExecuteTime": {
     "end_time": "2019-05-06T13:15:16.531080Z",
     "start_time": "2019-05-06T13:15:05.762429Z"
    }
   },
   "outputs": [],
   "source": [
    "# Start Searching\n",
    "searchBar = browser.find_element_by_id(\"SearchBar__Keywords\")\n",
    "searchBar.send_keys(list_keywords[4])\n",
    "searchBar.send_keys(Keys.ENTER)\n",
    "sleep(10)"
   ]
  },
  {
   "cell_type": "code",
   "execution_count": 4,
   "metadata": {
    "ExecuteTime": {
     "end_time": "2019-05-06T13:15:16.630024Z",
     "start_time": "2019-05-06T13:15:16.538076Z"
    }
   },
   "outputs": [
    {
     "name": "stdout",
     "output_type": "stream",
     "text": [
      "Total found:  0\n"
     ]
    }
   ],
   "source": [
    "# Assign the totals job\n",
    "total = browser.find_element_by_css_selector('span#SearchSummary h1 strong').text\n",
    "print(\"Total found: \", total)\n",
    "total = int(total.replace(',',''))\n",
    "list_urls = []\n",
    "# print(browser.find_element_by_css_selector('article h1 a').get_attribute(\"href\"))"
   ]
  },
  {
   "cell_type": "code",
   "execution_count": 5,
   "metadata": {
    "ExecuteTime": {
     "end_time": "2019-05-06T13:15:16.637020Z",
     "start_time": "2019-05-06T13:15:16.631023Z"
    },
    "scrolled": false
   },
   "outputs": [],
   "source": [
    "# Save links\n",
    "run_range = round(total/jpp)\n",
    "skip_first = False\n",
    "# main_window = browser.current_window_handle\n",
    "\n",
    "for index in range(run_range):\n",
    "    \n",
    "    sleep(5)\n",
    "    \n",
    "#     try:\n",
    "       \n",
    "    \n",
    "    print(\"current [Index]: \", index)\n",
    "    # Query all url accordingly to href    \n",
    "    print(browser.find_element_by_css_selector('article h1 a').get_attribute(\"href\"))\n",
    "    query_links = browser.find_elements_by_css_selector('article h1 a')\n",
    "    # Push to list\n",
    "    print(\"Query length: \", len(query_links))\n",
    "\n",
    "    if skip_first:\n",
    "        print(\"Skip First !!!! \")\n",
    "        navigate_url = website + 'Data-analytics-jobs?page=' + str(index)\n",
    "        browser.get(navigate_url)\n",
    "                   \n",
    "        skip_first = False\n",
    "    else:\n",
    "        # Save the window opener (current window, do not mistaken with tab... not the same)\n",
    "#         browser.switch_to_window(main_window)\n",
    "        for value in query_links:\n",
    "            list_urls.append(value.get_attribute(\"href\"))\n",
    "\n",
    "    print(\"Updated list: \",len(list_urls))\n",
    "\n",
    "\n",
    "    # This url when start\n",
    "#     a_href_contain = '//a[contains(@href, \"/Data-analytics-jobs?page=' + str(index+1) + '\")]'\n",
    "    \n",
    "    # After stop by seek.com.au server,\n",
    "    # Start with this\n",
    "    a_href_contain = '//a[contains(@href, \"/bussiness-intelligent-jobs?page=' + str(index+2) + '\")]'\n",
    "    print(\"Next href: \", a_href_contain)\n",
    "#     pagination = browser.find_element_by_xpath('//a[contains(@href,\"/Data-analytics-jobs?page=2\")')\n",
    "    pagination = browser.find_element_by_xpath(a_href_contain)\n",
    "    pagination.click()\n",
    "\n",
    "#     except:\n",
    "#         pass\n"
   ]
  },
  {
   "cell_type": "code",
   "execution_count": 6,
   "metadata": {
    "ExecuteTime": {
     "end_time": "2019-05-06T13:15:16.657008Z",
     "start_time": "2019-05-06T13:15:16.639018Z"
    }
   },
   "outputs": [
    {
     "data": {
      "text/plain": [
       "[]"
      ]
     },
     "execution_count": 6,
     "metadata": {},
     "output_type": "execute_result"
    }
   ],
   "source": [
    "list_urls"
   ]
  },
  {
   "cell_type": "code",
   "execution_count": 7,
   "metadata": {
    "ExecuteTime": {
     "end_time": "2019-05-06T13:15:17.312632Z",
     "start_time": "2019-05-06T13:15:16.658007Z"
    }
   },
   "outputs": [],
   "source": [
    "import pandas as pd\n",
    "\n",
    "# Create DataFrame object form urls list\n",
    "frame = pd.DataFrame(list_urls, columns=['url'])"
   ]
  },
  {
   "cell_type": "code",
   "execution_count": 8,
   "metadata": {
    "ExecuteTime": {
     "end_time": "2019-05-06T13:15:17.321628Z",
     "start_time": "2019-05-06T13:15:17.313632Z"
    }
   },
   "outputs": [
    {
     "name": "stdout",
     "output_type": "stream",
     "text": [
      "<class 'pandas.core.frame.DataFrame'>\n",
      "Index: 0 entries\n",
      "Data columns (total 1 columns):\n",
      "url    0 non-null object\n",
      "dtypes: object(1)\n",
      "memory usage: 0.0+ bytes\n"
     ]
    }
   ],
   "source": [
    "frame.info()"
   ]
  },
  {
   "cell_type": "code",
   "execution_count": 9,
   "metadata": {
    "ExecuteTime": {
     "end_time": "2019-05-06T13:15:17.340617Z",
     "start_time": "2019-05-06T13:15:17.324626Z"
    }
   },
   "outputs": [],
   "source": [
    "frame.to_csv('./indeed_jobs/frame_bussiness_intelligent_stop.csv', sep='|', encoding='utf-8', index=False)"
   ]
  },
  {
   "cell_type": "code",
   "execution_count": null,
   "metadata": {},
   "outputs": [],
   "source": []
  }
 ],
 "metadata": {
  "kernelspec": {
   "display_name": "Python 3",
   "language": "python",
   "name": "python3"
  },
  "language_info": {
   "codemirror_mode": {
    "name": "ipython",
    "version": 3
   },
   "file_extension": ".py",
   "mimetype": "text/x-python",
   "name": "python",
   "nbconvert_exporter": "python",
   "pygments_lexer": "ipython3",
   "version": "3.6.5"
  },
  "toc": {
   "base_numbering": 1,
   "nav_menu": {},
   "number_sections": true,
   "sideBar": true,
   "skip_h1_title": false,
   "title_cell": "Table of Contents",
   "title_sidebar": "Contents",
   "toc_cell": false,
   "toc_position": {},
   "toc_section_display": true,
   "toc_window_display": false
  }
 },
 "nbformat": 4,
 "nbformat_minor": 2
}
