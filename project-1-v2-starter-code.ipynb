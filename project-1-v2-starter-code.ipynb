{
 "cells": [
  {
   "cell_type": "markdown",
   "metadata": {},
   "source": [
    "<img src=\"http://imgur.com/1ZcRyrc.png\" style=\"float: left; margin: 15px; height: 80px\">\n",
    "\n",
    "# Project 1\n",
    "\n",
    "### Building \"Pokemon Stay\"\n",
    "\n",
    "---\n",
    "You are an analyst at a \"scrappy\" online gaming company that specializes in remakes of last year's fads.\n",
    "\n",
    "Your boss, who runs the product development team, is convinced that Pokemon Go's fatal flaw was that you had to actually move around outside. She has design mock-ups for a new game called Pokemon Stay: in this version players still need to move, but just from website to website. Pokemon gyms are now popular online destinations, and catching Pokemon in the \"wild\" simply requires browsing the internet for hours in the comfort of your home.\n",
    "\n",
    "She wants you to program a prototype version of the game, and analyze the planned content to help the team calibrate the design."
   ]
  },
  {
   "cell_type": "markdown",
   "metadata": {},
   "source": [
    "#### Package imports\n",
    "\n",
    "The pprint package below is the only package imported here, and it's not even strictly required to do any of the project. Printing python variables and objects with pprint can help to format them in a \"prettier\" way."
   ]
  },
  {
   "cell_type": "code",
   "execution_count": 119,
   "metadata": {},
   "outputs": [],
   "source": [
    "from pprint import pprint"
   ]
  },
  {
   "cell_type": "markdown",
   "metadata": {},
   "source": [
    "<img src=\"http://imgur.com/l5NasQj.png\" style=\"float: left; margin: 25px 15px 0px 0px; height: 25px\">\n",
    "\n",
    "## 1. Defining a player\n",
    "\n",
    "---\n",
    "\n",
    "The player variables are:\n",
    "\n",
    "    player_id : id code unique to each player (integer)\n",
    "    player_name : entered name of the player (string)\n",
    "    time_played : number of time played the game in minutes (float)\n",
    "    player_pokemon: the player's captured pokemon (dictionary)\n",
    "    gyms_visited: ids of the gyms that a player has visited (list)\n",
    "    \n",
    "Create the components for a player object by defining each of these variables. The dictionary and list variables should just be defined as empty; you can use any (correctly typed) values for the others."
   ]
  },
  {
   "cell_type": "code",
   "execution_count": 194,
   "metadata": {},
   "outputs": [],
   "source": [
    "class player:\n",
    "    def __init__(self, i=None, n=None, tp=None, pl_pok=None, gyms=None):        \n",
    "        self.player_id      = i or -1                 #: id code unique to each player (integer)\n",
    "        self.player_name    = n or ''                 #: entered name of the player (string)\n",
    "        self.time_played    = float(tp) or 0.0        #: number of time played the game in minutes (float)\n",
    "        self.player_pokemon = {}                      #: the player's captured pokemon (dictionary)\n",
    "        self.gyms_visited   = []                      #: ids of the gyms that a player has visited (list)\n",
    "\n",
    "        \n",
    "    # UPDATE gym visited location list\n",
    "    # arg: list\n",
    "    def update_gym_location(self,new_location):\n",
    "        try:\n",
    "            for i in new_location:\n",
    "                self.gyms_visited.append(i)\n",
    "            print(\"Player, {}, has visited {}\".format(self.player_name, [p for p in self.gyms_visited]))\n",
    "        except: \n",
    "            pprint(\"Something wrong with arg!\")\n",
    "            \n",
    "    # STORE all captured pokemon\n",
    "    # arg: dictionary\n",
    "    def update_player_pokemon(self,new_pokemon):\n",
    "        try:\n",
    "            self.player_pokemon.update(new_pokemon)\n",
    "            print(\"Player, {}, has collected {}\".format(self.player_name, [p for p in self.player_pokemon.items()]))\n",
    "        except:\n",
    "            pprint(\"Something wrong when adding pokemon to dictionary\")\n",
    "        \n",
    "    \n",
    "    # RETURN player_id\n",
    "    def get_player_id(self):\n",
    "        return self.player_id\n",
    "    \n",
    "    # RETURN player_name\n",
    "    def get_player_name(self):\n",
    "        return self.player_name\n",
    "    \n",
    "    # RETURN time played\n",
    "    def get_time_played(self):\n",
    "        return self.time_played\n",
    "    \n",
    "    # RETURN captured pokemon list\n",
    "    def get_player_pokemon(self):\n",
    "        return self.player_pokemon\n",
    "    \n",
    "    # RETURN visited gyms location\n",
    "    def get_gyms_visited(self):\n",
    "        return self.gyms_visited\n",
    "    \n",
    "    # RETURN ALL VARIABLES\n",
    "    def as_dict(self):\n",
    "        result= {\n",
    "            'player_id'      : self.player_id,  \n",
    "            'player_name'    : self.player_name ,                \n",
    "            'time_played'    : self.time_played,\n",
    "            'player_pokemon' : self.player_pokemon,\n",
    "            'gyms_visited'   : self.gyms_visited\n",
    "        }\n",
    "        \n",
    "        return result"
   ]
  },
  {
   "cell_type": "code",
   "execution_count": 121,
   "metadata": {},
   "outputs": [],
   "source": [
    "shayne = player(1,'Shayne',900)\n",
    "# print(shayne.player_id)"
   ]
  },
  {
   "cell_type": "markdown",
   "metadata": {},
   "source": [
    "<img src=\"http://imgur.com/l5NasQj.png\" style=\"float: left; margin: 25px 15px 0px 0px; height: 25px\">\n",
    "\n",
    "## 2. Defining \"gym\" locations\n",
    "\n",
    "---\n",
    "\n",
    "As the sole programmer, Pokemon Stay will have to start small. To begin, there will be 10 different gym location websites on the internet. The gym locations are:\n",
    "\n",
    "    1. 'reddit.com'\n",
    "    2. 'amazon.com'\n",
    "    3. 'twitter.com'\n",
    "    4. 'linkedin.com'\n",
    "    5. 'ebay.com'\n",
    "    6. 'netflix.com'\n",
    "    7. 'amazon.com'\n",
    "    8. 'stackoverflow.com'\n",
    "    9. 'github.com'\n",
    "    10. 'quora.com'\n",
    "\n",
    "1. Set up a list of all the gym locations. This will be a list of strings.\n",
    "2. Append two of these locations to your player's list of visited gyms.\n",
    "3. Print the list."
   ]
  },
  {
   "cell_type": "code",
   "execution_count": 122,
   "metadata": {},
   "outputs": [],
   "source": [
    "# 2.1\n",
    "gyms_list = ['reddit.com','amazon.com','twitter.com','linkedin.com','ebay.com',\n",
    "             'netflix.com','amazon.com','stackoverflow.com','github.com','quora.com']"
   ]
  },
  {
   "cell_type": "code",
   "execution_count": 123,
   "metadata": {},
   "outputs": [],
   "source": [
    "# 2.2\n",
    "import random\n",
    "\n",
    "random.seed(43)\n",
    "visited_location = random.sample(gyms_list,2)\n",
    "# print(visited_location)"
   ]
  },
  {
   "cell_type": "code",
   "execution_count": 124,
   "metadata": {},
   "outputs": [
    {
     "name": "stdout",
     "output_type": "stream",
     "text": [
      "Player, Shayne, has visited ['reddit.com', 'ebay.com']\n"
     ]
    }
   ],
   "source": [
    "# 2.3\n",
    "shayne.update_gym_location(visited_location)"
   ]
  },
  {
   "cell_type": "markdown",
   "metadata": {},
   "source": [
    "<img src=\"http://imgur.com/l5NasQj.png\" style=\"float: left; margin: 25px 15px 0px 0px; height: 25px\">\n",
    "\n",
    "## 3. Create a pokedex\n",
    "\n",
    "---\n",
    "\n",
    "We also need to create some pokemon to catch. Each pokemon will be defined by these variables:\n",
    "\n",
    "    pokemon_id : unique identifier for each pokemon (integer)\n",
    "    name : the name of the pokemon (string)\n",
    "    type : the category of pokemon (string)\n",
    "    hp : base hitpoints (integer)\n",
    "    attack : base attack (integer)\n",
    "    defense : base defense (integer)\n",
    "    special_attack : base special attack (integer)\n",
    "    special_defense : base sepecial defense (integer)\n",
    "    speed : base speed (integer)\n",
    "\n",
    "We are only going to create 3 different pokemon with these `pokemon_id` and `pokemon_name` values:\n",
    "\n",
    "    1 : 'charmander'\n",
    "    2 : 'squirtle'\n",
    "    3 : 'bulbasaur'\n",
    "\n",
    "Create a dictionary that will contain the pokemon. The keys of the dictionary will be the `pokemon_id` and the values will themselves dictionaries that contain the other pokemon variables. The structure of the pokedex dictionary will start like so:\n",
    "     \n",
    "     {\n",
    "         1: {\n",
    "                 'name':'charmander',\n",
    "                 'type':'fire',\n",
    "                 ...\n",
    "                 \n",
    "The `type` of charmander, squirtle, and bulbasaur should be `'fire'`, `'water'`, and `'poison'` respectively. The other values are up to you, make them anything you like!\n",
    "\n",
    "Print (or pretty print) the pokedex dictionary with the 3 pokemon."
   ]
  },
  {
   "cell_type": "code",
   "execution_count": 125,
   "metadata": {},
   "outputs": [],
   "source": [
    "class pokedex():\n",
    "    def __init__(self, i=None, n=None, p_type=None, hp=None, att=None, _def=None, s_att=None, s_def=None, speed=None):\n",
    "        self.id                = i or -1              #: unique identifier for each pokemon (integer)\n",
    "        self.name              = ''.join(n) or ''         #: the name of the pokemon (string)\n",
    "        self.type              = ''.join(p_type) or ''    #: the category of pokemon (string)\n",
    "        self.hp                = hp or 0              #: base hitpoints (integer)\n",
    "        self.attack            = att or 0             #: base attack (integer)\n",
    "        self.defense           = _def or 0            #: base defense (integer)\n",
    "        self.special_attack    = s_att or 0           #: base special attack (integer)\n",
    "        self.special_defense   = s_def or 0           #: base sepecial defense (integer)\n",
    "        self.speed             = speed or 0           #: base speed (integer)\n",
    "        \n",
    "    def get_id(self):\n",
    "        return self.id\n",
    "       \n",
    "    # GET general info without id\n",
    "    def get_all_details_wo_i(self):\n",
    "        result = {\n",
    "            'name': self.name,\n",
    "            'type': self.type,\n",
    "            'hp'  : self.hp,\n",
    "            'attack': self.attack,\n",
    "            'defense': self.defense,\n",
    "            'special_attack': self.special_attack,\n",
    "            'special_defense': self.special_defense,\n",
    "            'speed': self.speed\n",
    "        }\n",
    "        return result\n",
    "    \n",
    "    # GET integer details\n",
    "    # support Q5\n",
    "    def get_all_integers_details(self):\n",
    "        result = {\n",
    "            'hp'  : self.hp,\n",
    "            'attack': self.attack,\n",
    "            'defense': self.defense,\n",
    "            'special_attack': self.special_attack,\n",
    "            'special_defense': self.special_defense,\n",
    "            'speed': self.speed\n",
    "        }\n",
    "        return result\n",
    "    \n",
    "    # SUM pokedex integers\n",
    "    def sum_stats(self):\n",
    "        return self.hp + self.attack + self.defense + self.special_attack + self.special_defense + self.speed\n",
    "\n",
    "    # RETURN pokedex into dictionary\n",
    "    def get_pokedex_as_dict(self):\n",
    "        result = {\n",
    "            self.get_id(): self.get_all_integers_details()\n",
    "        }\n",
    "        return result\n",
    "    \n",
    "    # RETURN full pokedex into dictionary\n",
    "    def get_pokedex_as_dict_full(self):\n",
    "        result = {\n",
    "            self.get_id(): self.get_all_details_wo_i()\n",
    "        }\n",
    "        return result\n"
   ]
  },
  {
   "cell_type": "code",
   "execution_count": 126,
   "metadata": {},
   "outputs": [],
   "source": [
    "# Init Static List\n",
    "pokemon_name_list = ['charmander','squirtle','bulbasaur']\n",
    "pokemon_type_list = ['fire','water','poison']"
   ]
  },
  {
   "cell_type": "code",
   "execution_count": 127,
   "metadata": {},
   "outputs": [],
   "source": [
    "# Init Pokedex Name\n",
    "created_pokedex_name = ['pok001', 'pok002', 'pok003']"
   ]
  },
  {
   "cell_type": "code",
   "execution_count": 128,
   "metadata": {},
   "outputs": [
    {
     "name": "stdout",
     "output_type": "stream",
     "text": [
      "{0: {'attack': 98,\n",
      "     'defense': 98,\n",
      "     'hp': 98,\n",
      "     'name': 'pok001',\n",
      "     'special_attack': 98,\n",
      "     'special_defense': 98,\n",
      "     'speed': 98,\n",
      "     'type': 'water'},\n",
      " 1: {'attack': 56,\n",
      "     'defense': 56,\n",
      "     'hp': 56,\n",
      "     'name': 'pok002',\n",
      "     'special_attack': 56,\n",
      "     'special_defense': 56,\n",
      "     'speed': 56,\n",
      "     'type': 'poison'},\n",
      " 2: {'attack': 22,\n",
      "     'defense': 22,\n",
      "     'hp': 22,\n",
      "     'name': 'pok003',\n",
      "     'special_attack': 22,\n",
      "     'special_defense': 22,\n",
      "     'speed': 22,\n",
      "     'type': 'poison'}}\n"
     ]
    }
   ],
   "source": [
    "# Create Automatic 3 pokedex\n",
    "\n",
    "created_pokedex_list = {}\n",
    "abilities = 6\n",
    "\n",
    "for key,n_ in enumerate(created_pokedex_name):\n",
    "    \n",
    "    # AUTO generating name,type & basic abilities power\n",
    "    i_abilities = random.randrange(10,100,2)\n",
    "    i_name = random.sample(pokemon_name_list,1)\n",
    "    i_type = random.sample(pokemon_type_list,1)\n",
    "    \n",
    "    # CONSTRUCT new pokedex\n",
    "    local_pokedex = pokedex(key,str(created_pokedex_name[key]), i_type, i_abilities, i_abilities, i_abilities, i_abilities, i_abilities, i_abilities, )\n",
    "\n",
    "    # Local object which add to pokedex list\n",
    "    l_obj = {\n",
    "        key: local_pokedex.get_all_details_wo_i()\n",
    "    }\n",
    "    \n",
    "    # PUSH to created_pokedex_list\n",
    "    created_pokedex_list.update(l_obj)\n",
    "\n",
    "pprint(created_pokedex_list)"
   ]
  },
  {
   "cell_type": "markdown",
   "metadata": {},
   "source": [
    "<img src=\"http://imgur.com/l5NasQj.png\" style=\"float: left; margin: 25px 15px 0px 0px; height: 25px\">\n",
    "\n",
    "## 4. Create a data structure for players\n",
    "\n",
    "---\n",
    "\n",
    "### 4.1 \n",
    "\n",
    "In order to maintain a database of multiple players, create a dictionary that keeps track of players indexed by `player_id`. \n",
    "\n",
    "The keys of the dictionary will be `player_id` and values will be dictionaries containing each player's variables (from question 1). \n",
    "\n",
    "Construct the `players` dictionary and insert the player that you defined in question 1, then print `players`."
   ]
  },
  {
   "cell_type": "code",
   "execution_count": 225,
   "metadata": {},
   "outputs": [],
   "source": [
    "class players_dictionary():\n",
    "    def __init__(self,i,n):\n",
    "        self.id = i\n",
    "        self.name = n\n",
    "        self.list_player = {}\n",
    "    \n",
    "    # TURN player's variables into dictionary\n",
    "    def get_player_variables_into_dictionary(self,t_player):\n",
    "        l_var = {\n",
    "            t_player.get_player_id(): {\n",
    "                'player_name' : t_player.get_player_name(),\n",
    "                'time_played': t_player.get_time_played(),\n",
    "                'player_pokemon': t_player.get_player_pokemon(),\n",
    "                'gyms_visited': t_player.get_gyms_visited()\n",
    "            }\n",
    "        }\n",
    "        return l_var\n",
    "    \n",
    "    # INSERT player into dictionary\n",
    "    def insert_player(self,p):\n",
    "        local = self.get_player_variables_into_dictionary(p)\n",
    "        self.list_player.update(local)\n",
    "        \n",
    "    # GET list of player\n",
    "    def get_player_list(self):        \n",
    "        list_temp = []\n",
    "        if len(self.list_player) > 0:\n",
    "            for key,value in self.list_player.items():\n",
    "                print(value)\n",
    "                temp_dict_pok = value['player_pokemon']\n",
    "                temp_dict_gyms = value['gyms_visited']\n",
    "                new_player = player(key,n=value['player_name'], tp=value['time_played'])\n",
    "                new_player.update_player_pokemon(temp_dict_pok)\n",
    "                new_player.update_gym_location(temp_dict_gyms)\n",
    "                list_temp.append(new_player.as_dict())\n",
    "        else:\n",
    "            print(\"No Player on the list\")\n",
    "\n",
    "        list_temp\n",
    "        return list_temp"
   ]
  },
  {
   "cell_type": "code",
   "execution_count": 226,
   "metadata": {},
   "outputs": [],
   "source": [
    "# test_player = player(3,'hello',200)\n",
    "# test_player.player_pokemon = {1:{'name':'sgfagw','type':'edlkhgo'}}\n",
    "# test_player.gyms_visited = ['abds','bsdsb','ewwe']\n",
    "\n",
    "# get_player_variables_into_dictionary(test_player)"
   ]
  },
  {
   "cell_type": "markdown",
   "metadata": {},
   "source": [
    "---\n",
    "\n",
    "### 4.2\n",
    "\n",
    "Create a new player with `player_id = 2` in the `players` dictionary. Leave the `'player_pokemon'` dictionary empty. Append `'alcatraz'` and `'pacific_beach'` to the `'gyms_visited'` list for player 2.\n",
    "\n",
    "The `'player_name'` and `'time_played'` values are up to you, but must be a string and float, respectively.\n",
    "\n",
    "Remember, the player_id is the key for the player in the players dictionary.\n",
    "\n",
    "Print the `players` dictionary with the new player inserted."
   ]
  },
  {
   "cell_type": "code",
   "execution_count": 227,
   "metadata": {},
   "outputs": [
    {
     "name": "stdout",
     "output_type": "stream",
     "text": [
      "Player, p_002, has visited ['alcatraz', 'pacific_beach']\n",
      "--------------\n",
      "{'player_name': 'Shayne', 'time_played': 900.0, 'player_pokemon': {3: {'hp': 12, 'attack': 12, 'defense': 12, 'special_attack': 12, 'special_defense': 12, 'speed': 12}}, 'gyms_visited': ['reddit.com', 'ebay.com']}\n",
      "Player, Shayne, has collected [(3, {'hp': 12, 'attack': 12, 'defense': 12, 'special_attack': 12, 'special_defense': 12, 'speed': 12})]\n",
      "Player, Shayne, has visited ['reddit.com', 'ebay.com']\n",
      "{'player_name': 'p_002', 'time_played': 200.0, 'player_pokemon': {}, 'gyms_visited': ['alcatraz', 'pacific_beach']}\n",
      "Player, p_002, has collected []\n",
      "Player, p_002, has visited ['alcatraz', 'pacific_beach']\n"
     ]
    },
    {
     "data": {
      "text/plain": [
       "[{'player_id': 1,\n",
       "  'player_name': 'Shayne',\n",
       "  'time_played': 900.0,\n",
       "  'player_pokemon': {3: {'hp': 12,\n",
       "    'attack': 12,\n",
       "    'defense': 12,\n",
       "    'special_attack': 12,\n",
       "    'special_defense': 12,\n",
       "    'speed': 12}},\n",
       "  'gyms_visited': ['reddit.com', 'ebay.com']},\n",
       " {'player_id': 2,\n",
       "  'player_name': 'p_002',\n",
       "  'time_played': 200.0,\n",
       "  'player_pokemon': {},\n",
       "  'gyms_visited': ['alcatraz', 'pacific_beach']}]"
      ]
     },
     "execution_count": 227,
     "metadata": {},
     "output_type": "execute_result"
    }
   ],
   "source": [
    "dictionary_1 = players_dictionary(1,'Test Dictionary')\n",
    "\n",
    "player_2 = player(2,'p_002',200)\n",
    "pl_2_gyms = ['alcatraz','pacific_beach']\n",
    "player_2.update_gym_location(pl_2_gyms)\n",
    "# TEST\n",
    "# test_player = player(3,'hello',200)\n",
    "# test_player.player_pokemon = {1:{'name':'sgfagw','type':'edlkhgo'}}\n",
    "# test_player.gyms_visited = ['abds','bsdsb','ewwe']\n",
    "\n",
    "dictionary_1.insert_player(shayne)\n",
    "dictionary_1.insert_player(player_2)\n",
    "print(\"--------------\")\n",
    "dictionary_1.get_player_list()"
   ]
  },
  {
   "cell_type": "markdown",
   "metadata": {},
   "source": [
    "<img src=\"http://imgur.com/l5NasQj.png\" style=\"float: left; margin: 25px 15px 0px 0px; height: 25px\">\n",
    "\n",
    "## 5. Add captured pokemon for each player\n",
    "\n",
    "---\n",
    "\n",
    "The `'player_pokemon'` keyed dictionaries for each player keep track of which of the pokemon each player has.\n",
    "\n",
    "The keys of the `'player_pokemon'` dictionaries are the pokemon ids that correspond to the ids in the `pokedex` dictionary you created earlier. The values are integers specifying the stats for the pokemon.\n",
    "\n",
    "Give player 1 a squirtle. Give player 2 charmander and a bulbasaur.\n",
    "\n",
    "Print the players dictionary after adding the pokemon for each player.\n"
   ]
  },
  {
   "cell_type": "code",
   "execution_count": 228,
   "metadata": {},
   "outputs": [],
   "source": [
    "# Generate random number.\n",
    "i_abilities = random.randrange(10,100,2)\n",
    "i_type = random.sample(pokemon_type_list,1)\n",
    "\n",
    "squirtle_1  = pokedex(3,pokemon_name_list[1], i_type, i_abilities, i_abilities, i_abilities, i_abilities, i_abilities, i_abilities, )\n",
    "charmander_2 = pokedex(4,pokemon_name_list[0], i_type, i_abilities, i_abilities, i_abilities, i_abilities, i_abilities, i_abilities, )\n",
    "bulbasaur_2 = pokedex(5,pokemon_name_list[2], i_type, i_abilities, i_abilities, i_abilities, i_abilities, i_abilities, i_abilities, )\n",
    "\n",
    "# ADD these pokedex abv to list\n",
    "created_pokedex_list.update(squirtle_1.get_pokedex_as_dict_full())\n",
    "created_pokedex_list.update(charmander_2.get_pokedex_as_dict_full())\n",
    "created_pokedex_list.update(bulbasaur_2.get_pokedex_as_dict_full())"
   ]
  },
  {
   "cell_type": "code",
   "execution_count": 229,
   "metadata": {},
   "outputs": [
    {
     "name": "stdout",
     "output_type": "stream",
     "text": [
      "Player, Shayne, has collected [(3, {'hp': 64, 'attack': 64, 'defense': 64, 'special_attack': 64, 'special_defense': 64, 'speed': 64})]\n",
      "None\n",
      "Player, p_002, has collected [(4, {'hp': 64, 'attack': 64, 'defense': 64, 'special_attack': 64, 'special_defense': 64, 'speed': 64}), (5, {'hp': 64, 'attack': 64, 'defense': 64, 'special_attack': 64, 'special_defense': 64, 'speed': 64})]\n"
     ]
    }
   ],
   "source": [
    "# Add pokemon,squirtle_1, to player_1 who is named, Shayne\n",
    "print(shayne.update_player_pokemon(squirtle_1.get_pokedex_as_dict()))\n",
    "\n",
    "# Add pokemon, which are charmander_2 & bulbasaur, to player_2\n",
    "player2_pok2_dict = {}\n",
    "player2_pok2_dict.update(charmander_2.get_pokedex_as_dict())\n",
    "player2_pok2_dict.update(bulbasaur_2.get_pokedex_as_dict())\n",
    "\n",
    "player_2.update_player_pokemon(player2_pok2_dict)"
   ]
  },
  {
   "cell_type": "markdown",
   "metadata": {},
   "source": [
    "\n",
    "\n",
    "## 6. What gyms have players visited?\n",
    "\n",
    "---\n",
    "<img src=\"http://imgur.com/l5NasQj.png\" style=\"float: left; margin: 25px 15px 0px 0px; height: 25px\">\n",
    "### 6.1\n",
    "\n",
    "Write a for-loop that:\n",
    "\n",
    "1. Iterates through the `pokemon_gyms` list of gym locations you defined before.\n",
    "2. For each gym, iterate through each player in the `players` dictionary with a second, internal for-loop.\n",
    "3. If the player has visited the gym, print out \"[player] has visited [gym location].\", filling in [player] and [gym location] with the current player's name and current gym location."
   ]
  },
  {
   "cell_type": "code",
   "execution_count": 230,
   "metadata": {},
   "outputs": [
    {
     "name": "stdout",
     "output_type": "stream",
     "text": [
      "Shayne has visited reddit.com\n",
      "Shayne has visited ebay.com\n",
      "----------------\n"
     ]
    }
   ],
   "source": [
    "# ANSWER\n",
    "def loop_player_gym(player):\n",
    "    p_gym = player.get_gyms_visited()\n",
    "    p_name = player.get_player_name()\n",
    "    for i_ in gyms_list:\n",
    "        for j_ in p_gym:\n",
    "            if i_ == j_:\n",
    "                print(\"{} has visited {}\".format(p_name,j_))\n",
    "                \n",
    "loop_player_gym(shayne)\n",
    "print(\"----------------\")\n",
    "loop_player_gym(player_2)"
   ]
  },
  {
   "cell_type": "markdown",
   "metadata": {},
   "source": [
    "<img src=\"http://imgur.com/xDpSobf.png\" style=\"float: left; margin: 25px 15px 0px 0px; height: 25px\">\n",
    "### 6.2\n",
    "\n",
    "How many times did that loop run? If you have N gyms and also N players, how many times would it run as a function of N?\n",
    "\n",
    "Can you think of a more efficient way to accomplish the same thing? \n",
    "\n",
    "(You can write your answer as Markdown text.)"
   ]
  },
  {
   "cell_type": "code",
   "execution_count": null,
   "metadata": {},
   "outputs": [],
   "source": []
  },
  {
   "cell_type": "markdown",
   "metadata": {},
   "source": [
    "<img src=\"http://imgur.com/l5NasQj.png\" style=\"float: left; margin: 25px 15px 0px 0px; height: 25px\">\n",
    "\n",
    "## 7. Calculate player \"power\".\n",
    "\n",
    "---\n",
    "\n",
    "Define a function that will calculate a player's \"power\". Player power is defined as the sum of the base statistics all of their pokemon.\n",
    "\n",
    "Your function will:\n",
    "\n",
    "1. Accept the `players` dictionary, `pokedex` dictionary, and a player_id as arguments.\n",
    "2. For the specified player_id, look up that player's pokemon and their level(s).\n",
    "3. Find and aggregate the attack and defense values for each of the player's pokemon from the `pokedex` dictionary.\n",
    "4. Print \"[player name]'s power is [player power].\", where the player power is the sum of the base statistics for all of their pokemon.\n",
    "5. Return the player's power value.\n",
    "\n",
    "Print out the pokemon power for each of your players."
   ]
  },
  {
   "cell_type": "code",
   "execution_count": 202,
   "metadata": {},
   "outputs": [
    {
     "name": "stdout",
     "output_type": "stream",
     "text": [
      "{0: {'attack': 98,\n",
      "     'defense': 98,\n",
      "     'hp': 98,\n",
      "     'name': 'pok001',\n",
      "     'special_attack': 98,\n",
      "     'special_defense': 98,\n",
      "     'speed': 98,\n",
      "     'type': 'water'},\n",
      " 1: {'attack': 56,\n",
      "     'defense': 56,\n",
      "     'hp': 56,\n",
      "     'name': 'pok002',\n",
      "     'special_attack': 56,\n",
      "     'special_defense': 56,\n",
      "     'speed': 56,\n",
      "     'type': 'poison'},\n",
      " 2: {'attack': 22,\n",
      "     'defense': 22,\n",
      "     'hp': 22,\n",
      "     'name': 'pok003',\n",
      "     'special_attack': 22,\n",
      "     'special_defense': 22,\n",
      "     'speed': 22,\n",
      "     'type': 'poison'},\n",
      " 3: {'attack': 12,\n",
      "     'defense': 12,\n",
      "     'hp': 12,\n",
      "     'name': 'squirtle',\n",
      "     'special_attack': 12,\n",
      "     'special_defense': 12,\n",
      "     'speed': 12,\n",
      "     'type': 'poison'},\n",
      " 4: {'attack': 12,\n",
      "     'defense': 12,\n",
      "     'hp': 12,\n",
      "     'name': 'charmander',\n",
      "     'special_attack': 12,\n",
      "     'special_defense': 12,\n",
      "     'speed': 12,\n",
      "     'type': 'poison'},\n",
      " 5: {'attack': 12,\n",
      "     'defense': 12,\n",
      "     'hp': 12,\n",
      "     'name': 'bulbasaur',\n",
      "     'special_attack': 12,\n",
      "     'special_defense': 12,\n",
      "     'speed': 12,\n",
      "     'type': 'poison'}}\n",
      "-------------------\n"
     ]
    },
    {
     "data": {
      "text/plain": [
       "{1: {'player_name': 'Shayne',\n",
       "  'time_played': 900.0,\n",
       "  'player_pokemon': {3: {'hp': 12,\n",
       "    'attack': 12,\n",
       "    'defense': 12,\n",
       "    'special_attack': 12,\n",
       "    'special_defense': 12,\n",
       "    'speed': 12}},\n",
       "  'gyms_visited': ['reddit.com', 'ebay.com']},\n",
       " 2: {'player_name': 'p_002',\n",
       "  'time_played': 200.0,\n",
       "  'player_pokemon': {4: {'hp': 12,\n",
       "    'attack': 12,\n",
       "    'defense': 12,\n",
       "    'special_attack': 12,\n",
       "    'special_defense': 12,\n",
       "    'speed': 12},\n",
       "   5: {'hp': 12,\n",
       "    'attack': 12,\n",
       "    'defense': 12,\n",
       "    'special_attack': 12,\n",
       "    'special_defense': 12,\n",
       "    'speed': 12}},\n",
       "  'gyms_visited': ['alcatraz', 'pacific_beach']}}"
      ]
     },
     "execution_count": 202,
     "metadata": {},
     "output_type": "execute_result"
    }
   ],
   "source": [
    "dictionary_1.insert_player(shayne)\n",
    "dictionary_1.insert_player(player_2)\n",
    "\n",
    "pprint(created_pokedex_list)\n",
    "\n",
    "print(\"-------------------\")\n",
    "dictionary_1.list_player"
   ]
  },
  {
   "cell_type": "code",
   "execution_count": 306,
   "metadata": {},
   "outputs": [
    {
     "name": "stdout",
     "output_type": "stream",
     "text": [
      "----------------------\n",
      "--------Question Answer\n",
      "{'player_name': 'Shayne', 'time_played': 900.0, 'player_pokemon': {3: {'hp': 64, 'attack': 64, 'defense': 64, 'special_attack': 64, 'special_defense': 64, 'speed': 64}}, 'gyms_visited': ['reddit.com', 'ebay.com']}\n",
      "Player, Shayne, has collected [(3, {'hp': 64, 'attack': 64, 'defense': 64, 'special_attack': 64, 'special_defense': 64, 'speed': 64})]\n",
      "Player, Shayne, has visited ['reddit.com', 'ebay.com']\n",
      "{'player_name': 'p_002', 'time_played': 200.0, 'player_pokemon': {4: {'hp': 64, 'attack': 64, 'defense': 64, 'special_attack': 64, 'special_defense': 64, 'speed': 64}, 5: {'hp': 64, 'attack': 64, 'defense': 64, 'special_attack': 64, 'special_defense': 64, 'speed': 64}}, 'gyms_visited': ['alcatraz', 'pacific_beach']}\n",
      "Player, p_002, has collected [(4, {'hp': 64, 'attack': 64, 'defense': 64, 'special_attack': 64, 'special_defense': 64, 'speed': 64}), (5, {'hp': 64, 'attack': 64, 'defense': 64, 'special_attack': 64, 'special_defense': 64, 'speed': 64})]\n",
      "Player, p_002, has visited ['alcatraz', 'pacific_beach']\n",
      "\n",
      "\n",
      "\n",
      "\n",
      " + The pokemon (squirtle)'s aggregate value the attack at 128\n",
      " + The pokemon (squirtle)'s aggregate value the defense at 128\n",
      "- Player with id, 2 , has achieved power 384.0\n",
      "- Player with id, 2 , has achieved level 2\n",
      "\n",
      "\n",
      "\n",
      "\n",
      " + The pokemon (charmander)'s aggregate value the attack at 128\n",
      " + The pokemon (charmander)'s aggregate value the defense at 128\n",
      "\n",
      "\n",
      "\n",
      "\n",
      " + The pokemon (bulbasaur)'s aggregate value the attack at 128\n",
      " + The pokemon (bulbasaur)'s aggregate value the defense at 128\n",
      "- Player with id, 2 , has achieved power 1152.0\n"
     ]
    }
   ],
   "source": [
    "# CALCULATE aggregating value\n",
    "# arg: sample_dict, key value is not pokemon_id, and target_string\n",
    "# return: an total number.\n",
    "def aggregate_value(sample_dict, target_string):\n",
    "    sum = 0    \n",
    "    for k,v in sample_dict.items():\n",
    "        if target_string in k:\n",
    "            sum += v\n",
    "    \n",
    "    return sum\n",
    "\n",
    "# CALCULATE player power\n",
    "def cal_power(p_dict, pok_dict, pler_id):\n",
    "    power = 0.0\n",
    "    # Accept the players dictionary, pokedex dictionary, and a player_id as arguments.\n",
    "    \n",
    "    for temp_pler in p_dict.get_player_list():\n",
    "\n",
    "        # For the specified player_id, look up that player's pokemon and their level(s).\n",
    "        if temp_pler['player_id'] == pler_id:   \n",
    "            print(\"- Player with id, {} , has achieved level {}\".format(pler_id, len(temp_pler['player_pokemon'])))\n",
    "            \n",
    "        # Find and aggregate the attack and defense values for each of the player's pokemon \n",
    "        #              from the pokedex dictionary.\n",
    "        dict_captured_pok = temp_pler['player_pokemon']\n",
    "        for key,value in dict_captured_pok.items():\n",
    "            for key_pok, value_pok in pok_dict.items():\n",
    "                if (key == key_pok):\n",
    "                    # Aggregate the attack value\n",
    "                    print(\" + The pokemon ({})'s aggregate value the attack at {}\".format(value_pok['name'],aggregate_value(value_pok,'attack')))\n",
    "                    # Aggregate the defense value\n",
    "                    print(\" + The pokemon ({})'s aggregate value the defense at {}\".format(value_pok['name'],aggregate_value(value_pok,'defense')))\n",
    "                    \n",
    "                     \n",
    "                    # Print \"[player name]'s power is [player power].\", where the player power is \n",
    "                    #              the sum of the base statistics for all of their pokemon.\n",
    "                    sub_temp_base_stat = list(value_pok.values())\n",
    "                    for i in range(2):\n",
    "                        del sub_temp_base_stat[0]\n",
    "                    for i_ in sub_temp_base_stat:\n",
    "                        power += i_       \n",
    "        print(\"- Player with id, {} , has achieved power {}\".format(pler_id, power))\n",
    "\n",
    "\n",
    "\n",
    "print(\"----------------------\")\n",
    "print(\"--------Question Answer\")\n",
    "# print(\"Player power is: \" cal_power(dictionary_1,created_pokedex_list,2))\n",
    "cal_power(dictionary_1,created_pokedex_list,2)\n"
   ]
  },
  {
   "cell_type": "markdown",
   "metadata": {},
   "source": [
    "<img src=\"http://imgur.com/l5NasQj.png\" style=\"float: left; margin: 25px 15px 0px 0px; height: 25px\">\n",
    "\n",
    "## 8. Load a pokedex file containing all the pokemon\n",
    "\n",
    "---\n",
    "\n",
    "### 8.1\n",
    "\n",
    "While you were putting together the prototype code, your colleagues were preparing a dataset of Pokemon and their attributes. (This was a rush job, so they may have picked some crazy values for some...)\n",
    "\n",
    "The code below loads information from a comma separated value (csv) file. You need to parse this string into a more useable format. The format of the string is:\n",
    "\n",
    "- Rows are separated by newline characters: \\n\n",
    "- Columns are separated by commas: ,\n",
    "- All cells in the csv are double quoted. Ex: \"PokedexNumber\" is the first cell of the first row.\n",
    "\n",
    "\n",
    "Using for-loops, create a list of lists where each list within the overall list is a row of the csv/matrix, and each element in that list is a cell in that row. Additional criteria:\n",
    "\n",
    "1. Quotes are removed from each cell item.\n",
    "2. Numeric column values are converted to floats.\n",
    "3. There are some cells that are empty and have no information. For these cells put a -1 value in place.\n",
    "\n",
    "Your end result is effectively a matrix. Each list in the outer list is a row, and the *j*th elements of list together form the *j*th column, which represents a data attribute. The first three lists in your pokedex list should look like this:\n",
    "\n",
    "    ['PokedexNumber', 'Name', 'Type', 'Total', 'HP', 'Attack', 'Defense', 'SpecialAttack', 'SpecialDefense', 'Speed']\n",
    "    [1.0, 'Bulbasaur', 'GrassPoison', 318.0, 45.0, 49.0, 49.0, 65.0, 65.0, 45.0]\n",
    "    [2.0, 'Ivysaur', 'GrassPoison', 405.0, 60.0, 62.0, 63.0, 80.0, 80.0, 60.0]"
   ]
  },
  {
   "cell_type": "code",
   "execution_count": 603,
   "metadata": {},
   "outputs": [],
   "source": [
    "# Code to read in pokedex info\n",
    "raw_pd = ''\n",
    "pokedex_file = 'pokedex_basic.csv'\n",
    "with open(pokedex_file, 'r') as f:\n",
    "    raw_pd = f.read()\n",
    "    \n",
    "    \n",
    "# the pokedex string is assigned to the raw_pd variable"
   ]
  },
  {
   "cell_type": "code",
   "execution_count": 114,
   "metadata": {},
   "outputs": [
    {
     "data": {
      "text/plain": [
       "{'PokedexNumber': 0,\n",
       " 'Name': 0,\n",
       " 'Type': 0,\n",
       " 'Total': 0,\n",
       " 'HP': 0,\n",
       " 'Attack': 0,\n",
       " 'Defense': 0,\n",
       " 'SpecialAttack': 0,\n",
       " 'SpecialDefense': 0,\n",
       " 'Speed': 0}"
      ]
     },
     "execution_count": 114,
     "metadata": {},
     "output_type": "execute_result"
    }
   ],
   "source": [
    "# Import Libraries\n",
    "import pandas as pd\n",
    "\n",
    "# Quotes are removed from each cell item\n",
    "raw_df = pd.read_csv('./pokedex_basic.csv')\n",
    "raw_df.dtypes\n",
    "\n",
    "# Numeric column values are converted to floats.\n",
    "df_w_interest = raw_df.copy()\n",
    "list_df_col_name = df_w_interest.columns\n",
    "\n",
    "df_wo_int64 = df_w_interest.iloc[:,:2]  # Stored first 3 columns ['PokedexNumber','Name','Type']\n",
    "df_w_int64 = df_w_interest.iloc[:,3:]   # Stored the rest columns\n",
    "df_w_int64_col_name = df_w_int64.columns\n",
    "list_temp = []\n",
    "\n",
    "for c_name, series in df_w_int64.iteritems():\n",
    "    series = series.astype('float64')\n",
    "    list_temp.append(series)\n",
    "\n",
    "df_w_int64 = pd.DataFrame(list_temp).T # Turned list into Dataframe\n",
    "\n",
    "df_array_2 = [df_wo_int64, df_w_int64]\n",
    "df_result_2 = pd.concat(df_array_2,axis=1)\n",
    "\n",
    "df_result_2.head()\n",
    "\n",
    "# There are some cells that are empty and have no information.\n",
    "#             For these cells put a -1 value in place.\n",
    "dict_count_null_series = dict(raw_df.isnull().sum(axis=0))\n",
    "\n",
    "for key,value in dict_count_null_series.items():\n",
    "    if value != 0:\n",
    "        for index, row in df_result_2.iterrows():\n",
    "            df_result_2[key]\n"
   ]
  },
  {
   "cell_type": "markdown",
   "metadata": {},
   "source": [
    "<img src=\"http://imgur.com/xDpSobf.png\" style=\"float: left; margin: 25px 15px 0px 0px; height: 25px\">\n",
    "\n",
    "### 8.2 Parse the raw pokedex with list comprehensions\n",
    "\n",
    "---\n",
    "\n",
    "Perform the same parsing as above, but **using only a single list comprehension** instead of for loops. You may have nested list comprehensions within the main list comprehension! The output should be exactly the same."
   ]
  },
  {
   "cell_type": "code",
   "execution_count": null,
   "metadata": {},
   "outputs": [],
   "source": [
    "# Quotes are removed from each cell item\n",
    "raw_df = pd.read_csv('./pokedex_basic.csv')\n",
    "raw_df.dtypes\n",
    "\n",
    "# Numeric column values are converted to floats.\n",
    "df_w_interest = raw_df.copy()\n",
    "list_df_col_name = df_w_interest.columns\n",
    "\n",
    "df_wo_int64 = df_w_interest.iloc[:,:2]  # Stored first 3 columns ['PokedexNumber','Name','Type']\n",
    "df_w_int64 = df_w_interest.iloc[:,3:]   # Stored the rest columns\n",
    "\n",
    "df_w_int64 = [series.astype('float64') for c_name, series in df_w_int64.iteritems()]\n",
    "df_w_int64 = pd.DataFrame(df_w_int64).T # Turned list into Dataframe\n",
    "\n",
    "df_array_2 = [df_wo_int64, df_w_int64]\n",
    "df_result_2 = pd.concat(df_array_2,axis=1)\n",
    "\n",
    "df_result_2.head()\n",
    "\n",
    "# There are some cells that are empty and have no information.\n",
    "#             For these cells put a -1 value in place.\n",
    "raw_df.isna().sum(axis=0)\n",
    "print(\"There are no cells which are empty and have no information\")"
   ]
  },
  {
   "cell_type": "markdown",
   "metadata": {},
   "source": [
    "<img src=\"http://imgur.com/l5NasQj.png\" style=\"float: left; margin: 25px 15px 0px 0px; height: 25px\">\n",
    "\n",
    "## 9. Write a function to generate the full pokedex\n",
    "\n",
    "---\n",
    "\n",
    "Write a function that recreates the pokedex you made before, but with the data read in from the full pokemon file. The `PokedexNumber` should be used as the `pokemon_id` key values for the dictionary of pokemon.\n",
    "\n",
    "Your function should:\n",
    "\n",
    "1. Take the parsed pokedex information you created above as an argument.\n",
    "2. Return a dictionary in the same format as your original pokedex you created before containing the information from the parsed full pokedex file.\n",
    "\n",
    "To test the function, print out the pokemon with id = 100."
   ]
  },
  {
   "cell_type": "code",
   "execution_count": 312,
   "metadata": {
    "scrolled": true
   },
   "outputs": [
    {
     "name": "stdout",
     "output_type": "stream",
     "text": [
      "{0: Name              Bulbasaur\n",
      "Total                   318\n",
      "HP                       45\n",
      "Attack                   49\n",
      "Defense                  49\n",
      "SpecialAttack            65\n",
      "SpecialDefense           65\n",
      "Speed                    45\n",
      "Name: 0, dtype: object,\n",
      " 1: Name              Ivysaur\n",
      "Total                 405\n",
      "HP                     60\n",
      "Attack                 62\n",
      "Defense                63\n",
      "SpecialAttack          80\n",
      "SpecialDefense         80\n",
      "Speed                  60\n",
      "Name: 1, dtype: object,\n",
      " 2: Name              Venusaur\n",
      "Total                  525\n",
      "HP                      80\n",
      "Attack                  82\n",
      "Defense                 83\n",
      "SpecialAttack          100\n",
      "SpecialDefense         100\n",
      "Speed                   80\n",
      "Name: 2, dtype: object,\n",
      " 3: Name              VenusaurMega Venusaur\n",
      "Total                               625\n",
      "HP                                   80\n",
      "Attack                              100\n",
      "Defense                             123\n",
      "SpecialAttack                       122\n",
      "SpecialDefense                      120\n",
      "Speed                                80\n",
      "Name: 3, dtype: object,\n",
      " 4: Name              Charmander\n",
      "Total                    309\n",
      "HP                        39\n",
      "Attack                    52\n",
      "Defense                   43\n",
      "SpecialAttack             60\n",
      "SpecialDefense            50\n",
      "Speed                     65\n",
      "Name: 4, dtype: object,\n",
      " 5: Name              Charmeleon\n",
      "Total                    405\n",
      "HP                        58\n",
      "Attack                    64\n",
      "Defense                   58\n",
      "SpecialAttack             80\n",
      "SpecialDefense            65\n",
      "Speed                     80\n",
      "Name: 5, dtype: object}\n"
     ]
    }
   ],
   "source": [
    "def get_my_matched_pok():\n",
    "    tempo_dict = {}\n",
    "    for key,value in created_pokedex_list.items():\n",
    "        t_dict = {\n",
    "            key: df_result_2.iloc[key][1:]\n",
    "        }\n",
    "        tempo_dict.update(t_dict)\n",
    "        \n",
    "    return tempo_dict\n",
    "    \n",
    "pprint(get_my_matched_pok())\n",
    "# df_result_2.iloc[3]"
   ]
  },
  {
   "cell_type": "markdown",
   "metadata": {},
   "source": [
    "<img src=\"http://i.imgur.com/GCAf1UX.png\" style=\"float: left; margin: 25px 15px 0px 0px; height: 25px\">\n",
    "\n",
    "## 10. Write a function to generate a \"filtered\" pokedex\n",
    "---\n",
    "Your function should:\n",
    "1. Take the parsed pokedex information you created above as an argument.\n",
    "1. Take a dictionary as a parameter with keys matching the features of the Pokedex, filtering by exact match for string type values, and/or filter continuous variables specified value that is greater than or equal to the dictionary key parameter.\n",
    "1. Return multiple elements from the Pokedex\n",
    "\n",
    "Example:\n",
    "\n",
    "```python\n",
    "\n",
    "# Only filter based on parameters passed\n",
    "filter_options = {\n",
    "    'Attack':   25,\n",
    "    'Defense':  30,\n",
    "    'Type':     'Electric'\n",
    "}\n",
    "\n",
    "# Return records with attack >= 24, defense >= 30, and type == \"Electric\"\n",
    "# Also anticipate that other paramters can also be passed such as \"SpecialAttack\", \"Speed\", etc.\n",
    "filtered_pokedex(pokedex_data, filter=filter_options)\n",
    "\n",
    "# Example output:\n",
    "# [{'Attack': 30.0,\n",
    "#  'Defense': 50.0,\n",
    "#  'HP': 40.0,\n",
    "#  'Name': 'Voltorb',\n",
    "#  'SpecialAttack': 55.0,\n",
    "#  'SpecialDefense': 55.0,\n",
    "#  'Speed': 100.0,\n",
    "#  'Total': 330.0,\n",
    "#  'Type': 'Electric'},\n",
    "#  {'Attack': 30.0,\n",
    "#  'Defense': 33.0,\n",
    "#  'HP': 32.0,\n",
    "#  'Name': 'Pikachu',\n",
    "#  'SpecialAttack': 55.0,\n",
    "#  'SpecialDefense': 55.0,\n",
    "#  'Speed': 100.0,\n",
    "#  'Total': 330.0,\n",
    "#  'Type': 'Electric'},\n",
    "#  ... etc\n",
    "#  ]\n",
    "\n",
    "```\n",
    "\n"
   ]
  },
  {
   "cell_type": "code",
   "execution_count": null,
   "metadata": {},
   "outputs": [],
   "source": []
  },
  {
   "cell_type": "markdown",
   "metadata": {},
   "source": [
    "\n",
    "## 9. Descriptive statistics on the prototype pokedex\n",
    "\n",
    "<img src=\"http://imgur.com/l5NasQj.png\" style=\"float: left; margin: 25px 15px 0px 0px; height: 25px\">\n",
    "### 9.1\n",
    "\n",
    "What is the population mean and standard deviation of the \"Total\" attribute for all characters in the Pokedex?\n",
    "\n"
   ]
  },
  {
   "cell_type": "code",
   "execution_count": 90,
   "metadata": {},
   "outputs": [
    {
     "name": "stdout",
     "output_type": "stream",
     "text": [
      "Mean of the Total attribute is: 435.1275\n",
      "Std of the Total attribute is: 119.96202000529179\n"
     ]
    }
   ],
   "source": [
    "import numpy as np\n",
    "\n",
    "print(\"Mean of the Total attribute is: {}\".format(np.mean(df_result_2['Total'])))\n",
    "\n",
    "pok_total_std = np.std(df_result_2['Total'])\n",
    "print(\"Std of the Total attribute is: {}\".format(pok_total_std))\n"
   ]
  },
  {
   "cell_type": "markdown",
   "metadata": {},
   "source": [
    "<img src=\"http://imgur.com/l5NasQj.png\" style=\"float: left; margin: 25px 15px 0px 0px; height: 25px\">\n",
    "### 9.2\n",
    "\n",
    "The game is no fun if the characters are wildly unbalanced! Are any characters \"overpowered\", which we'll define as having a \"Total\" more than three standard deviations from the population mean?"
   ]
  },
  {
   "cell_type": "code",
   "execution_count": 97,
   "metadata": {},
   "outputs": [
    {
     "name": "stdout",
     "output_type": "stream",
     "text": [
      "There are 544 pokemons are overpowered\n"
     ]
    }
   ],
   "source": [
    "df_pok_overpowered = df_result_2[df_result_2['Total'] > 3 * pok_total_std]\n",
    "print(\"There are {} pokemons are overpowered\".format(len(df_pok_overpowered.index)))\n"
   ]
  },
  {
   "cell_type": "markdown",
   "metadata": {},
   "source": [
    "<img src=\"http://imgur.com/xDpSobf.png\" style=\"float: left; margin: 25px 15px 0px 0px; height: 25px\">\n",
    "\n",
    "## 10. Calibrate the frequency of Pokemon\n",
    "\n",
    "The design team wants you to make the powerful Pokemon rare, and the weaklings more common. How would you set the probability $p_i$ of finding Pokemon *i* each time a player visits a gym?\n",
    "\n",
    "Write a function that takes in a Pokedex number and returns a value $p_i$ for that character.\n",
    "\n",
    "Hint: there are many ways you could do this. What do _you_ think makes sense? Start with simplifying assumptions: for example, you could assume that the probabilities of encountering any two Pokemon on one visit to a gym are independent of each other."
   ]
  },
  {
   "cell_type": "code",
   "execution_count": null,
   "metadata": {},
   "outputs": [],
   "source": []
  }
 ],
 "metadata": {
  "anaconda-cloud": {},
  "kernelspec": {
   "display_name": "Python 3",
   "language": "python",
   "name": "python3"
  },
  "language_info": {
   "codemirror_mode": {
    "name": "ipython",
    "version": 3
   },
   "file_extension": ".py",
   "mimetype": "text/x-python",
   "name": "python",
   "nbconvert_exporter": "python",
   "pygments_lexer": "ipython3",
   "version": "3.6.5"
  }
 },
 "nbformat": 4,
 "nbformat_minor": 2
}
